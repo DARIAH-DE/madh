{
 "cells": [
  {
   "cell_type": "markdown",
   "metadata": {},
   "source": [
    "# Kapitel 3 - Weitere Funktionstypen"
   ]
  },
  {
   "cell_type": "code",
   "execution_count": 1,
   "metadata": {},
   "outputs": [
    {
     "data": {
      "text/html": [
       "<style>\n",
       "\n",
       "\n",
       "/* special fields*/\n",
       "\n",
       "div.digression {    \n",
       "    background-color: #f6f6f6;\n",
       "    border-color: #a1c6de;\n",
       "    border-left: 5px solid #a1c6de;\n",
       "    border-right: 5px solid #a1c6de;\n",
       "    border-top: 5px solid #a1c6de;\n",
       "    border-bottom: 5px solid #a1c6de;\n",
       "    padding: 0.5em;\n",
       "}\n",
       "\n",
       "div.note {    \n",
       "    background-color: #f6f6f6;\n",
       "    border-color: #ffb382;\n",
       "    border-left: 5px solid #ffb382;\n",
       "    border-right: 5px solid #ffb382;\n",
       "    border-top: 5px solid #ffb382;\n",
       "    border-bottom: 5px solid #ffb382;\n",
       "    padding: 0.5em;\n",
       "}\n",
       "\n",
       "div.task {    \n",
       "    background-color: #f6f6f6;\n",
       "    border-color: #99b898;\n",
       "    border-left: 5px solid #99b898;\n",
       "    border-right: 5px solid #99b898;\n",
       "    border-top: 5px solid #99b898;\n",
       "    border-bottom: 5px solid #99b898;\n",
       "    padding: 0.5em;\n",
       "}\n",
       "\n",
       "div.warn {    \n",
       "    background-color: #f6f6f6;\n",
       "    border-color: #cc1a32;\n",
       "    border-left: 5px solid #cc1a32;\n",
       "    border-right: 5px solid #cc1a32;\n",
       "    border-top: 5px solid #cc1a32;\n",
       "    border-bottom: 5px solid #cc1a32;\n",
       "    padding: 0.5em;\n",
       "}\n",
       "\n",
       "\n",
       "/* for simple answer / solution*/\n",
       "input.show {\n",
       "  visibility: hidden;\n",
       "}\n",
       "\n",
       "input.hide {\n",
       "  visibility: hidden;\n",
       "}\n",
       "\n",
       "\n",
       "label.answers {\n",
       "  border: 1px solid black;\n",
       "  padding: 1px;\n",
       "}\n",
       "\n",
       "label.show_answer {\n",
       "  background-color: #008CBA;  /* Blue */\n",
       "  border: none;\n",
       "  border-radius: 8px;\n",
       "  color: white;\n",
       "  padding: 3px 10px;\n",
       "  text-align: center;\n",
       "  text-decoration: none;\n",
       "  display: inline-block;\n",
       "  font-size: 12px;\n",
       "}\n",
       "\n",
       "label.hide_answer {\n",
       "  background-color: #b2b2b2; /* Grey */\n",
       "  border: none;\n",
       "  border-radius: 8px;\n",
       "  color: white;\n",
       "  padding: 3px 10px;\n",
       "  text-align: center;\n",
       "  text-decoration: none;\n",
       "  display: inline-block;\n",
       "  font-size: 12px;\n",
       "}\n",
       "\n",
       "\n",
       "span.content {\n",
       "  display:none;\n",
       "}\n",
       "input.show:checked ~ span.content {\n",
       "  display:block;\n",
       "}\n",
       "\n",
       "input.hide:checked ~ span.content {\n",
       "  display:none;\n",
       "}\n",
       "\n",
       "\n",
       "\n",
       "/* Tables & side by side images */\n",
       "\n",
       "/* 2 images side by side */\n",
       ".imgcolumn2 {\n",
       "  float: left;\n",
       "  width: 50.0%;\n",
       "  padding: 5px;\n",
       "}\n",
       "\n",
       "/* 3 images side by side */\n",
       ".imgcolumn3 {\n",
       "  float: left;\n",
       "  width: 33.33%;\n",
       "  padding: 5px;\n",
       "}\n",
       "\n",
       "/* 4 images side by side */\n",
       ".imgcolumn4 {\n",
       "  float: left;\n",
       "  width: 25.0%;\n",
       "  padding: 5px;\n",
       "}\n",
       "\n",
       "\n",
       ".imgrow::after {\n",
       "  content: \"\";\n",
       "  clear: both;\n",
       "  display: table;\n",
       "} \n",
       "\n",
       "figure figcaption {\n",
       "  margin: 3px;\n",
       "  text-align: center;\n",
       "  font-weight: bold;\n",
       "}\n",
       "\n",
       "table {\n",
       "    float: left;\n",
       "    border-style: 1.5px solid black;\n",
       "    border: 1.5px  black solid !important;\n",
       "    color: black !important;\n",
       "}\n",
       "\n",
       "th, td {\n",
       "    text-align: center;\n",
       "    vertical-align: middle;\n",
       "    border: 1.5px  black solid !important;\n",
       "    color: black !important;\n",
       "}\n",
       "\n",
       "#centertable td\n",
       "{\n",
       "    text-align: center; \n",
       "    vertical-align: middle;\n",
       "}\n",
       "\n",
       "#centertable th\n",
       "{\n",
       "    text-align: center; \n",
       "    vertical-align: middle;\n",
       "}\n",
       "\n",
       "\n",
       " </style>\n"
      ],
      "text/plain": [
       "<IPython.core.display.HTML object>"
      ]
     },
     "execution_count": 1,
     "metadata": {},
     "output_type": "execute_result"
    }
   ],
   "source": [
    "import sys\n",
    "sys.path.append(\"../src/\") \n",
    "from quiz import start_quiz\n",
    "from utils import css_styling, hide_code\n",
    "from functionplotter import plt_function\n",
    "css_styling()"
   ]
  },
  {
   "cell_type": "markdown",
   "metadata": {},
   "source": [
    "## 1. Kapitelübersicht <a class=\"anchor\" id=\"1\"/>\n",
    "\n",
    "In diesem Kapitel werden wir uns mit weiteren Funktionstypen befassen, welche im vorherigen Kapitel noch nicht behandelt wurden (siehe Abbildung). Dazu gehört primär die Gruppe der **transzendenten Funktionen**, welcher die Funktionstypen **Exponentialfunktionen**, **Logarithmusfunktionen** und **Trigonometrische Funktionen** untergeordnet ist. Zuletzt bleiben nur noch die **irrationalen Funktionen** übrig, welche neben den rationalen Funktionen aus dem vorherigen Kapitel zu den **algebraischen Funktionen** gehören und am Ende dieses Kapitels behandelt werden.\n",
    "\n",
    "\n",
    "\n",
    "<img src=\"img/elemental_functions3.png\" style=\"width: 1000px\" alt=\"Infos von KEMNITZ, Mathematik zum Studienbeginn, S. 224\"/><br>\n",
    "\n",
    "<b>Abschnittsübersicht</b><br>\n",
    "\n",
    "[1. Kapitelübersicht](#1)<br>\n",
    "[2. Exponentialfunktionen](#2)<br>\n",
    "[3. Logarithmusfunktionen](#3)<br>\n",
    "[4. Trigonometrische Funktionen](#4)<br>\n",
    "[5. Irrationale Funktionen](#4)<br>\n",
    "\n",
    "<b>Quizübersicht</b><br>\n",
    "TODO\n",
    "\n",
    "<b>Behandelte Themen</b><br>\n",
    "- Exponentialfunktion\n",
    "- e-Funktion\n",
    "- TODO\n",
    "- Irrationale Funktionen\n",
    "- Wurzelfunktionen\n",
    "- Umkehrfunktionen\n",
    "\n",
    "<b>Mögliche Anwendungsfelder</b><br>\n",
    "- Gauß- / Normalverteilung (→ e-Funktion)\n",
    "- Sigmoidfunktion (→ e-Funktion)\n",
    "- TODO"
   ]
  },
  {
   "cell_type": "markdown",
   "metadata": {},
   "source": [
    "## 2. Exponentialfunktionen <a class=\"anchor\" id=\"2\"/>\n",
    "\n",
    "Die **Exponentialfunktion** ist daran erkennbar, dass das $x$ im Exponenten steht. Die Formel für die Exponentialfunktion lautet:\n",
    "\n",
    "$f(x) = a^x$"
   ]
  },
  {
   "cell_type": "markdown",
   "metadata": {},
   "source": [
    "<div class=\"task\">\n",
    "    <b>Aufgabe</b>: Exponentialfunktion kennenlernen\n",
    "    <br>\n",
    "    <br>Um die Exponentialfunktion kennen zu lernen, lösen Sie die folgenden Aufgaben mithilfe des Visualisierungstools in der folgenden Code-Zelle. Es kann für die Beantwortung der Fragen hilfreich sein, sich die <a href=\"https://www.mathebibel.de/potenzgesetze\">Potenzgesetze</a> und <a href=\"https://www.mathebibel.de/wurzelgesetze\">Wurzelgesetze</a> in Erinnerung zu rufen.\n",
    "<br>\n",
    "    \n",
    "1. Wenn $a$ einen bestimmten Wert annimmt, wird die Exponentialfunktion zu einer uns bereits bekannten Funktion. Welcher Wert ist das? Welche Funktion stellt die Exponentialfunktion dann dar?\n",
    "2. Für welchen Wertebereich ist die Exponentialfunktion nicht definiert? Können Sie sich denken wieso?\n",
    "3. Bei welchem Wertebereich fällt der Graph?\n",
    "4. Bei welchem Wertebereich steigt der Graph?\n",
    "5. Alle Graphen der Exponentialfunktionen bei jedem definierten Wertebereich haben <u>keinen</u> Schnittpunkt mit der x-Achse. Es gibt noch zwei weitere Gemeinsamkeit, können Sie min. eine erkennen?\n",
    "\n",
    "<br>\n",
    "<label for=\"show1\" class=\"show_answer\">\n",
    "    <span>Antworten zeigen</span>\n",
    "</label>\n",
    "<input type=radio id=\"show1\" class=\"show\" name=\"group\">\n",
    "<input type=radio id=\"hide1\" class=\"hide\" name=\"group\">\n",
    "<span class=\"content\">\n",
    "<span><u>Antwort 1</u>: Wenn $a = 1$ wird die Exponentialfunktion zu einer <b>konstanten Funktion</b>. Das liegt daran, dass $1^x$ jedesmal $1$ ergibt, egal welcher Wert für $x$ eingesetzt wird.<br>\n",
    "    \n",
    "<u>Antwort 2</u>: Wenn $a$ einen negativen Wert annimmt, wird ein Fehler erzeugt. Das liegt daran, dass die Exponentialfunktion für negative Basen nicht definiert ist. Bei Ganzzahlen ist das Problem nicht ersichtlich, gibt man jedoch für $x$ einen Bruch ein, ist dies problematisch. Angenommen, dass $x=\\frac{1}{2}$ und $a = -2$ ist. Die Gleichung der Exponentialfunktion wäre dann $f(x) = (-2)^\\frac{1}{2}$. Laut den <b>Wurzelgesetzen</b>, d.h. den Rechenregeln für Wurzeln, kann dies umgeformt werden zu $f(x) = \\sqrt{-2}$. Eine negative Zahl unter der Wurzel ist jedoch nicht definiert, da es keinen negativen Wert gibt, der quadriert negativ wird (siehe auch diesen <a href=\"https://www.matheretter.de/wiki/negativer-radikand\">Artikel</a>). Somit darf die Basis, also $a$, bei Exponentialfunktionen nicht negativ sein.<br>\n",
    "    \n",
    "<u>Antwort 3</u>: Wenn der Wert für die Basis $a$ im Wertebereich $0 < a < 1$ liegt, fällt der Graph und \"schmiegt\" sich an den positiven Teil der x-Achse an. Man spricht hier auch von der <b><a href=\"https://www.mathebibel.de/exponentielle-abnahme\">exponentiellen Abnahme</a></b>.<br>\n",
    "\n",
    "<u>Antwort 4</u>: Wenn der Wert für die Basis $a$ im Wertebereich $ a > 1$ liegt, steigt der Graph und \"schmiegt\" sich an den negativen Teil der x-Achse an. Man spricht hier auch von de <b><a href=\"https://www.mathebibel.de/exponentielles-wachstum\">exponentiellem Wachstum</a></b>.<br>\n",
    "    \n",
    "<u>Antwort 5</u>: Der Graph der Exponentialfunktion schneidet beim dem definierten Wertebereich $a > 0$ immer die y-Achse im Punkt $(0|1)$. Laut dem Potenzgesetzen, d.h. den Rechenregeln für Potenzen, ist $a^0 = 1$. Egal welcher positive Wert für $a$ eingesetzt wird, das Ergebnis ist immer $1$. Eine weitere Gemeinsamkeit ist, dass die Graphen immer nur oberhalb der x-Achse verlaufen, nie unterhalb.\n",
    "</span>\n",
    "<br><br>\n",
    "<label for=\"hide1\" class=\"hide_answer\">\n",
    "    <span>Antworten verbergen</span> \n",
    "</label> \n",
    "</span>\n",
    "</div>"
   ]
  },
  {
   "cell_type": "code",
   "execution_count": 2,
   "metadata": {},
   "outputs": [
    {
     "data": {
      "application/vnd.jupyter.widget-view+json": {
       "model_id": "7cf1324e10ab47efba52a9a77da34e4f",
       "version_major": 2,
       "version_minor": 0
      },
      "text/plain": [
       "interactive(children=(FloatSlider(value=0.0, continuous_update=False, description='a', max=10.0, min=-10.0, re…"
      ]
     },
     "metadata": {},
     "output_type": "display_data"
    }
   ],
   "source": [
    "plt_function(function=\"exponential\", space=(-10.0, 10.0), slider_step=0.1)"
   ]
  },
  {
   "cell_type": "markdown",
   "metadata": {},
   "source": [
    "### e-Funktion\n",
    "\n",
    "Eine sehr wichtige Exponentialfunktion ist die **e-Funktion** (auch: *Natürliche Exponentialfunktion*). Die Formel für die e-Funktion lautet:\n",
    "\n",
    "$f(x) = e^x$\n",
    "\n",
    "Diese Funktion ist so wichtig, da sie eine einzigartige Eigenschaft besitzt: Die Ableitung der e-Funktion ist **dieselbe Funktion**: $f'(x) = e^x$. In weiteren Kapiteln wird uns die e-Funktion unter anderem aufgrund dieser Eigenschaft noch öfters begegnen."
   ]
  },
  {
   "cell_type": "markdown",
   "metadata": {},
   "source": [
    "<div class=digression>\n",
    "    <b>Exkurs</b>: Die Eulersche Zahl <i>e</i>\n",
    "    <br>\n",
    "    <br>\n",
    "    Die <b>Eulersche Zahl <i>e</i></b> ist eine besondere Zahl in der Mathematik und nimmt den Wert $2.718182...$ an. Wie auch die Zahl $\\pi$ (Pi) ist die Eulersche Zahl eine <b>irrationale Zahl</b>, d.h. es gibt unendlich viele Zahlen nach dem Komma und kann nicht als Bruch dargestellt werden. Sie ist eine der wichtigsten Zahlen in der Mathematik und weiteren Naturwissenschaften und wird zum Beispiel bei natürlichem Wachstum, radioaktiven Zerfall oder der Normalverteilung verwendet.\n",
    "</div>"
   ]
  },
  {
   "cell_type": "markdown",
   "metadata": {},
   "source": [
    "## 3. Logarithmusfunktionen <a class=\"anchor\" id=\"3\"/>\n",
    "\n",
    "Die **Logarithmusfunktion** ist daran erkennbar, dass das $\\log$ im Exponenten steht. Die Formel für die Logarithmusfunktion lautet:\n",
    "\n",
    "$f(x) = \\log_a x$"
   ]
  },
  {
   "cell_type": "markdown",
   "metadata": {},
   "source": [
    "<div class=\"task\">\n",
    "    <b>Aufgabe</b>: Logarithmusfunktion kennenlernen\n",
    "    <br>\n",
    "    <br>Um die Logarithmusfunktion kennen zu lernen, lösen Sie die folgenden Aufgaben mithilfe des Visualisierungstools in der folgenden Code-Zelle. Es ist für die Beantwortung der Fragen hilfreich, sich ins Gedächtnis zu rufen, was der <a href=\"https://www.mathebibel.de/logarithmus\">Logarithmus</a> ist und wie man mit den Logarithmus berechnet.\n",
    "<br>\n",
    "    \n",
    "1. TODO\n",
    "\n",
    "<br>\n",
    "<label for=\"show2\" class=\"show_answer\">\n",
    "    <span>Antworten zeigen</span>\n",
    "</label>\n",
    "<input type=radio id=\"show2\" class=\"show\" name=\"group\">\n",
    "<input type=radio id=\"hide2\" class=\"hide\" name=\"group\">\n",
    "<span class=\"content\">\n",
    "<span><u>Antwort 1</u>: <br>\n",
    "    \n",
    "<u>Antwort 2</u>: <br>\n",
    "    \n",
    "<u>Antwort 3</u>: <br>\n",
    "\n",
    "<u>Antwort 4</u>: <br>\n",
    "    \n",
    "<u>Antwort 5</u>: \n",
    "</span>\n",
    "<br><br>\n",
    "<label for=\"hide2\" class=\"hide_answer\">\n",
    "    <span>Antworten verbergen</span> \n",
    "</label> \n",
    "</span>\n",
    "</div>"
   ]
  },
  {
   "cell_type": "code",
   "execution_count": 4,
   "metadata": {},
   "outputs": [
    {
     "data": {
      "application/vnd.jupyter.widget-view+json": {
       "model_id": "00924ea6febb48309da284e7d0a2e874",
       "version_major": 2,
       "version_minor": 0
      },
      "text/plain": [
       "interactive(children=(FloatSlider(value=0.0, continuous_update=False, description='a', max=10.0, min=-10.0, re…"
      ]
     },
     "metadata": {},
     "output_type": "display_data"
    }
   ],
   "source": [
    "plt_function(function=\"logarithmic\", space=(-10.0, 10.0), slider_step=1.0)"
   ]
  },
  {
   "cell_type": "markdown",
   "metadata": {},
   "source": [
    "## 4. Trigonometrische Funktionen <a class=\"anchor\" id=\"4\"/>\n",
    "\n",
    "TODO"
   ]
  },
  {
   "cell_type": "markdown",
   "metadata": {},
   "source": [
    "## 5. Irrationale Funktionen <a class=\"anchor\" id=\"5\"/>\n",
    "\n",
    "**Irrationale Funktionen** gehören zu den algebraischen Funktionen, sind jedoch nicht rational. Ein wichtige Klasse von irrationalen Funktionen sind die **Wurzelfunktionen**, bei denen das $x$ unter einem Wurzelzeichen steht:\n",
    "\n",
    "$f(x) = \\sqrt[^n]{x}$\n",
    "\n",
    "\n",
    "Wurzelfunktionen sind die Umkehrfunktionen von **Potenzfunktionen**. Dies bedeutet, dass jede Wurzelfunktion auch als Potenzfunktion dargestellt werden kann. Die Funktion $ f(x) = \\sqrt{3x} $ kann als Potenzfunktion $ f(x) = 3x^{\\frac{1}{2}} $ dargestellt werden.[<sup>1</sup>](#fn1) Wie auch bei Potenzfunktionen besitzen die Graphen der Funktionen unterschiedliche Eigenschaften, wenn der Wurzelexponent gerade oder ungerade ist. Mehr dazu in diesem <a href=\"https://www.mathebibel.de/wurzelfunktionen\">Artikel</a>.\n",
    "\n",
    "\n",
    "<hr style=\"border: 0.1px solid black;\"/>\n",
    "<span id=\"fn1\" style=\"font-size:8pt; line-height:1\"><sup style=\"font-size:5pt\">1</sup>&nbsp; Dies ist durch die Wurzelgesetze und Potenzgesetze möglich. Siehe dafür auch den Abschnitt \"Wurzeln in Potenzen umformen\" von diesem <a href=\"https://www.mathebibel.de/wurzelgesetze\">Artikel</a>.</span><br>"
   ]
  },
  {
   "cell_type": "markdown",
   "metadata": {},
   "source": [
    "<div class=digression>\n",
    "    <b>Exkurs</b>: Umkehrfunktionen\n",
    "    <br>\n",
    "    <br>\n",
    "    <b>Umkehrfunktionen</b> sind Funktionen, bei denen die Variablen einer anderen Funktionen vertauscht werden. Man kann für viele Funktionen eine Umkehrfunktion berechnen, jedoch nicht für alle Funktionen. Die Vorgehensweise für die Berechnung ist wie folgt:\n",
    "    <ol type=\"a\">\n",
    "        <li>Funktionsgleichung nach $x$ auflösen.</li>\n",
    "        <li>$x$ und $y$ vertauschen.</li>\n",
    "    </ol>\n",
    "Mehr zur Berechnung von Umkehrfunktionen und zu ihrem Definitionsbereich findet sich in diesem <a href=\"https://www.mathebibel.de/umkehrfunktion\">Artikel</a>.\n",
    "</div>"
   ]
  },
  {
   "cell_type": "code",
   "execution_count": null,
   "metadata": {},
   "outputs": [],
   "source": []
  }
 ],
 "metadata": {
  "kernelspec": {
   "display_name": "Python 3",
   "language": "python",
   "name": "python3"
  },
  "language_info": {
   "codemirror_mode": {
    "name": "ipython",
    "version": 3
   },
   "file_extension": ".py",
   "mimetype": "text/x-python",
   "name": "python",
   "nbconvert_exporter": "python",
   "pygments_lexer": "ipython3",
   "version": "3.7.7"
  }
 },
 "nbformat": 4,
 "nbformat_minor": 4
}
