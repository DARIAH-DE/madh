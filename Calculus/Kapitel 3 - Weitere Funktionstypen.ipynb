{
 "cells": [
  {
   "cell_type": "markdown",
   "metadata": {},
   "source": [
    "# Kapitel 3 - Weitere Funktionstypen"
   ]
  },
  {
   "cell_type": "code",
   "execution_count": 1,
   "metadata": {},
   "outputs": [
    {
     "data": {
      "text/html": [
       "<style>\n",
       "\n",
       "\n",
       "\n",
       "/* special fields*/\n",
       "\n",
       "\n",
       "/* light blue */ \n",
       "div.digression {    \n",
       "    background-color: #f6f6f6;\n",
       "    border-color: #a1c6de;\n",
       "    border-left: 5px solid #a1c6de;\n",
       "    border-right: 5px solid #a1c6de;\n",
       "    border-top: 5px solid #a1c6de;\n",
       "    border-bottom: 5px solid #a1c6de;\n",
       "    padding: 0.5em;\n",
       "}\n",
       "\n",
       "/* orange */\n",
       "div.note {    \n",
       "    background-color: #f6f6f6;\n",
       "    border-color: #ffb382;\n",
       "    border-left: 5px solid #ffb382;\n",
       "    border-right: 5px solid #ffb382;\n",
       "    border-top: 5px solid #ffb382;\n",
       "    border-bottom: 5px solid #ffb382;\n",
       "    padding: 0.5em;\n",
       "}\n",
       "\n",
       "/* light green */\n",
       "div.task {    \n",
       "    background-color: #f6f6f6;\n",
       "    border-color: #99b898;\n",
       "    border-left: 5px solid #99b898;\n",
       "    border-right: 5px solid #99b898;\n",
       "    border-top: 5px solid #99b898;\n",
       "    border-bottom: 5px solid #99b898;\n",
       "    padding: 0.5em;\n",
       "}\n",
       "\n",
       "div.tool {    \n",
       "    background-color: #f6f6f6;\n",
       "    border-color: #f542e0;\n",
       "    border-left: 7px solid #f542e0;\n",
       "    border-right: 7px solid #f542e0;\n",
       "    border-top: 7px solid #f542e0;\n",
       "    border-bottom: 7px solid #f542e0;\n",
       "    border-style: double;\n",
       "    padding: 0.5em;\n",
       "}\n",
       "\n",
       "/* dark red */\n",
       "div.warn {    \n",
       "    background-color: #f6f6f6;\n",
       "    border-color: #cc1a32;\n",
       "    border-left: 5px solid #cc1a32;\n",
       "    border-right: 5px solid #cc1a32;\n",
       "    border-top: 5px solid #cc1a32;\n",
       "    border-bottom: 5px solid #cc1a32;\n",
       "    padding: 0.5em;\n",
       "}\n",
       "\n",
       "img.icon {\n",
       "  width: 15px;\n",
       "  height: 15px;\n",
       "  display: inline-block; \n",
       "  margin-right: 10px;\n",
       "  margin-bottom: 5px;\n",
       "}\n",
       "\n",
       "span.invisible_border {\n",
       "  padding: 0.1em;\n",
       "  font-size: 20px;\n",
       "}\n",
       "\n",
       "div.border {\n",
       "  border-color: #666666;\n",
       "  border-left: 1.5px solid;\n",
       "  border-right: 1.5px solid;\n",
       "  border-top: 1.5px solid;\n",
       "  border-bottom: 1.5px solid;\n",
       "  padding: 0.1em;\n",
       "}\n",
       "\n",
       "\n",
       "/* for simple answer / solution*/\n",
       "input.show {\n",
       "  visibility: hidden;\n",
       "}\n",
       "\n",
       "input.hide {\n",
       "  visibility: hidden;\n",
       "}\n",
       "\n",
       "\n",
       "label.answers {\n",
       "  border: 1px solid black;\n",
       "  padding: 1px;\n",
       "}\n",
       "\n",
       "label.show_answer {\n",
       "  background-color: #008CBA;  /* Blue */\n",
       "  border: none;\n",
       "  border-radius: 8px;\n",
       "  color: white;\n",
       "  padding: 3px 10px;\n",
       "  text-align: center;\n",
       "  text-decoration: none;\n",
       "  display: inline-block;\n",
       "  font-size: 12px;\n",
       "}\n",
       "\n",
       "label.hide_answer {\n",
       "  background-color: #b2b2b2; /* Grey */\n",
       "  border: none;\n",
       "  border-radius: 8px;\n",
       "  color: white;\n",
       "  padding: 3px 10px;\n",
       "  text-align: center;\n",
       "  text-decoration: none;\n",
       "  display: inline-block;\n",
       "  font-size: 12px;\n",
       "}\n",
       "\n",
       "\n",
       "span.content {\n",
       "  display:none;\n",
       "}\n",
       "input.show:checked ~ span.content {\n",
       "  display:block;\n",
       "}\n",
       "\n",
       "input.hide:checked ~ span.content {\n",
       "  display:none;\n",
       "}\n",
       "\n",
       "\n",
       "\n",
       "\n",
       "/* Tables & side by side images */\n",
       "\n",
       "/* 2 images side by side */\n",
       ".imgcolumn2 {\n",
       "  float: left;\n",
       "  width: 50.0%;\n",
       "  padding: 5px;\n",
       "}\n",
       "\n",
       "/* 3 images side by side */\n",
       ".imgcolumn3 {\n",
       "  float: left;\n",
       "  width: 33.33%;\n",
       "  padding: 5px;\n",
       "}\n",
       "\n",
       "/* 4 images side by side */\n",
       ".imgcolumn4 {\n",
       "  float: left;\n",
       "  width: 25.0%;\n",
       "  padding: 5px;\n",
       "}\n",
       "\n",
       "\n",
       ".imgrow::after {\n",
       "  content: \"\";\n",
       "  clear: both;\n",
       "  display: table;\n",
       "} \n",
       "\n",
       "figure figcaption {\n",
       "  margin: 3px;\n",
       "  text-align: center;\n",
       "  font-weight: bold;\n",
       "}\n",
       "\n",
       "table {\n",
       "    float: left;\n",
       "    border-style: 1.5px solid black;\n",
       "    border: 1.5px  black solid !important;\n",
       "    color: black !important;\n",
       "}\n",
       "\n",
       "th, td {\n",
       "    text-align: center;\n",
       "    vertical-align: middle;\n",
       "    border: 1.5px  black solid !important;\n",
       "    color: black !important;\n",
       "}\n",
       "\n",
       "/* todo?: #centertable table hinzufügen?*/\n",
       "\n",
       "#centertable td\n",
       "{\n",
       "    text-align: center; \n",
       "    vertical-align: middle;\n",
       "}\n",
       "\n",
       "#centertable th\n",
       "{\n",
       "    text-align: center; \n",
       "    vertical-align: middle;\n",
       "}\n",
       "\n",
       "\n",
       " </style>\n"
      ],
      "text/plain": [
       "<IPython.core.display.HTML object>"
      ]
     },
     "execution_count": 1,
     "metadata": {},
     "output_type": "execute_result"
    }
   ],
   "source": [
    "import sys\n",
    "sys.path.append(\"../src/\") \n",
    "from quiz import start_quiz\n",
    "from utils import css_styling, hide_code\n",
    "from functionplotter import plt_function\n",
    "css_styling()"
   ]
  },
  {
   "cell_type": "markdown",
   "metadata": {},
   "source": [
    "## 1. Kapitelübersicht <a class=\"anchor\" id=\"1\"/>\n",
    "\n",
    "In diesem Kapitel werden wir uns mit weiteren Funktionstypen befassen, welche im vorherigen Kapitel noch nicht behandelt wurden (siehe Abbildung). Dazu gehört primär die Gruppe der **transzendenten Funktionen**, welcher die Funktionstypen **Exponentialfunktionen**, **Logarithmusfunktionen** und **Trigonometrische Funktionen** untergeordnet ist. Zuletzt bleiben nur noch die **irrationalen Funktionen** übrig, welche neben den rationalen Funktionen aus dem vorherigen Kapitel zu den **algebraischen Funktionen** gehören und am Ende dieses Kapitels behandelt werden. Damit haben wir unsere Übersicht zu den elementaren Funktionen abgeschlossen.\n",
    "\n",
    "\n",
    "\n",
    "<img src=\"img/elemental_functions3.png\" style=\"width: 1000px\" alt=\"Infos von KEMNITZ, Mathematik zum Studienbeginn, S. 224\"/><br>\n",
    "\n",
    "<b>Abschnittsübersicht</b><br>\n",
    "\n",
    "[1. Kapitelübersicht](#1)<br>\n",
    "[2. Exponentialfunktionen](#2)<br>\n",
    "[3. Logarithmusfunktionen](#3)<br>\n",
    "[4. Trigonometrische Funktionen](#4)<br>\n",
    "[5. Irrationale Funktionen](#4)<br>\n",
    "\n",
    "<b>Quizübersicht</b><br>\n",
    "/\n",
    "\n",
    "<b>Behandelte Themen</b><br>\n",
    "- Exponentialfunktion\n",
    "- e-Funktion\n",
    "- Umkehrfunktionen\n",
    "- Logarithmusfunktionen\n",
    "- Natürlicher Logarithmus\n",
    "- Trigonometrische Funktionen\n",
    "- Periodische Funktionen\n",
    "- Irrationale Funktionen\n",
    "- Wurzelfunktionen\n",
    "\n",
    "\n",
    "<b>Mögliche Anwendungsfelder</b><br>\n",
    "- Gauß- / Normalverteilung (→ e-Funktion)\n",
    "- Sigmoidfunktion (→ e-Funktion)\n",
    "- TODO"
   ]
  },
  {
   "cell_type": "markdown",
   "metadata": {},
   "source": [
    "## 2. Exponentialfunktionen <a class=\"anchor\" id=\"2\"/>\n",
    "\n",
    "Die **Exponentialfunktion** ist daran erkennbar, dass das $x$ im Exponenten steht. Die Formel für die Exponentialfunktion lautet:\n",
    "\n",
    "$f(x) = a^x$"
   ]
  },
  {
   "cell_type": "markdown",
   "metadata": {},
   "source": [
    "<div class=\"task\">\n",
    "    <b>Aufgabe</b>: Exponentialfunktion kennenlernen\n",
    "    <br>\n",
    "    <br>Um die Exponentialfunktion kennen zu lernen, lösen Sie die folgenden Aufgaben mithilfe des Visualisierungstools in der folgenden Code-Zelle. Es kann für die Beantwortung der Fragen hilfreich sein, sich die <a href=\"https://www.mathebibel.de/potenzgesetze\">Potenzgesetze</a> und <a href=\"https://www.mathebibel.de/wurzelgesetze\">Wurzelgesetze</a> in Erinnerung zu rufen.\n",
    "<br>\n",
    "    \n",
    "1. Wenn $a$ einen bestimmten Wert annimmt, wird die Exponentialfunktion zu einer uns bereits bekannten Funktion. Welcher Wert ist das? Welche Funktion stellt die Exponentialfunktion dann dar?\n",
    "2. Für welchen Wertebereich ist die Exponentialfunktion nicht definiert? Können Sie sich denken wieso?<br>(<u>Tipp</u>: Potenzen können in Brüche umgeformt werden, siehe den Abschnitt \"Besondere Exponenten\" im Artikel <a href=\"https://www.mathebibel.de/potenzgesetze\">Potenzgesetze</a>)\n",
    "3. Bei welchem Wertebereich fällt der Graph?\n",
    "4. Bei welchem Wertebereich steigt der Graph?\n",
    "5. Alle Graphen der Exponentialfunktionen haben bei jedem definierten Wertebereich <u>keinen</u> Schnittpunkt mit der x-Achse. Es gibt noch zwei weitere Gemeinsamkeiten, die alle Exponentialfunktionsgraph teilen. Können Sie min. eine erkennen?\n",
    "\n",
    "<br>\n",
    "<label for=\"show1\" class=\"show_answer\">\n",
    "    <span>Antworten zeigen</span>\n",
    "</label>\n",
    "<input type=radio id=\"show1\" class=\"show\" name=\"group\">\n",
    "<input type=radio id=\"hide1\" class=\"hide\" name=\"group\">\n",
    "<span class=\"content\">\n",
    "<span><u>Antwort 1</u>: Wenn $a = 1$ ist, wird die Exponentialfunktion zu einer <b>konstanten Funktion</b>. Das liegt daran, dass $1^x$ jedesmal $1$ ergibt, egal welcher Wert für $x$ eingesetzt wird.<br>\n",
    "    \n",
    "<u>Antwort 2</u>: Wenn $a$ einen negativen Wert annimmt, wird keine Funktion geplottet bzw. ein Fehler erzeugt. Das liegt daran, dass die Exponentialfunktion für negative Basen nicht definiert ist. Bei Ganzzahlen ist das Problem nicht ersichtlich, gibt man jedoch für $x$ einen Bruch ein, ist dies problematisch. Angenommen, dass $x=\\frac{1}{2}$ und $a = -2$ sind. Die Gleichung der Exponentialfunktion wäre dann $f(x) = (-2)^\\frac{1}{2}$. Laut den <b>Wurzelgesetzen</b>, d.h. den Rechenregeln für Wurzeln, kann dies umgeformt werden zu $f(x) = \\sqrt{-2}$. Eine negative Zahl unter der Wurzel ist jedoch nicht definiert, da es keinen negativen Wert gibt, der quadriert negativ wird (siehe auch diesen <a href=\"https://www.matheretter.de/wiki/negativer-radikand\">Artikel</a>). Somit darf die Basis, also $a$, bei Exponentialfunktionen nicht negativ sein.<br>\n",
    "    \n",
    "<u>Antwort 3</u>: Wenn der Wert für die Basis $a$ im Wertebereich $0 < a < 1$ liegt, fällt der Graph und \"schmiegt\" sich an den positiven Teil der x-Achse an. Man spricht hier auch von der <b><a href=\"https://www.mathebibel.de/exponentielle-abnahme\">exponentiellen Abnahme</a></b>.<br>\n",
    "\n",
    "<u>Antwort 4</u>: Wenn der Wert für die Basis $a$ im Wertebereich $ a > 1$ liegt, steigt der Graph und \"schmiegt\" sich an den negativen Teil der x-Achse an. Man spricht hier auch von dem <b><a href=\"https://www.mathebibel.de/exponentielles-wachstum\">exponentiellen Wachstum</a></b>.<br>\n",
    "    \n",
    "<u>Antwort 5</u>: Der Graph der Exponentialfunktion schneidet beim definierten Wertebereich $a > 0$ immer die y-Achse im Punkt $(0|1)$. Laut den Potenzgesetzen, d.h. den Rechenregeln für Potenzen, ist $a^0 = 1$. Egal welcher positive Wert für $a$ eingesetzt wird, das Ergebnis ist immer $1$. Eine weitere Gemeinsamkeit ist, dass die Graphen immer nur oberhalb der x-Achse verlaufen, nie unterhalb.\n",
    "</span>\n",
    "<br><br>\n",
    "<label for=\"hide1\" class=\"hide_answer\">\n",
    "    <span>Antworten verbergen</span> \n",
    "</label> \n",
    "</span>\n",
    "</div>"
   ]
  },
  {
   "cell_type": "code",
   "execution_count": 4,
   "metadata": {},
   "outputs": [
    {
     "data": {
      "application/vnd.jupyter.widget-view+json": {
       "model_id": "e197c7d412ae46d88c57c437b4c7a1f2",
       "version_major": 2,
       "version_minor": 0
      },
      "text/plain": [
       "interactive(children=(FloatSlider(value=0.0, continuous_update=False, description='a', max=10.0, min=-10.0, re…"
      ]
     },
     "metadata": {},
     "output_type": "display_data"
    }
   ],
   "source": [
    "plt_function(name=\"exponential\", space=(-10.0, 10.0), slider_step=0.1)"
   ]
  },
  {
   "cell_type": "markdown",
   "metadata": {},
   "source": [
    "### e-Funktion\n",
    "\n",
    "Eine sehr wichtige Exponentialfunktion ist die **e-Funktion** (auch: *Natürliche Exponentialfunktion*). Die Formel für die e-Funktion lautet:\n",
    "\n",
    "$f(x) = e^x$\n",
    "\n",
    "Diese Funktion ist so wichtig, da sie eine einzigartige Eigenschaft besitzt: Die Ableitung der e-Funktion ist **dieselbe Funktion**: $f'(x) = e^x$. In weiteren Kapiteln wird uns die e-Funktion unter anderem aufgrund dieser Eigenschaft noch öfters begegnen."
   ]
  },
  {
   "cell_type": "markdown",
   "metadata": {},
   "source": [
    "<div class=digression>\n",
    "    <b>Exkurs</b>: Die Eulersche Zahl <i>e</i>\n",
    "    <br>\n",
    "    <br>\n",
    "    Die <b>Eulersche Zahl <i>e</i></b> ist eine besondere Zahl in der Mathematik und nimmt den Wert $2.718182...$ an. Wie auch die Zahl $\\pi$ (Pi) ist die Eulersche Zahl eine <b>irrationale Zahl</b>, d.h. es gibt unendlich viele Zahlen nach dem Komma und sie kann nicht als Bruch dargestellt werden. Sie ist eine der wichtigsten Zahlen in der Mathematik sowie weiteren Naturwissenschaften und wird zum Beispiel bei natürlichem Wachstum, radioaktiven Zerfall oder der Normalverteilung verwendet.\n",
    "</div>"
   ]
  },
  {
   "cell_type": "markdown",
   "metadata": {},
   "source": [
    "TODO: e-Funktion als code plot? einfach alten nehmen und 2.7 einsetzen"
   ]
  },
  {
   "cell_type": "markdown",
   "metadata": {},
   "source": [
    "## 3. Logarithmusfunktionen <a class=\"anchor\" id=\"3\"/>\n",
    "\n",
    "Die **Logarithmusfunktion** ist daran erkennbar, dass ein $\\log$ in der Gleichung vorkommt. Die Formel für die Logarithmusfunktion lautet:\n",
    "\n",
    "$f(x) = \\log_a{x}$"
   ]
  },
  {
   "cell_type": "markdown",
   "metadata": {},
   "source": [
    "<div class=digression>\n",
    "    <b>Exkurs</b>: Umkehrfunktionen\n",
    "    <br>\n",
    "    <br>\n",
    "    <b>Umkehrfunktionen</b> sind Funktionen, bei denen die Variablen einer anderen Funktionen vertauscht werden. Man kann für viele Funktionen eine Umkehrfunktion berechnen, jedoch nicht für alle Funktionen. Die Vorgehensweise für die Berechnung ist wie folgt:\n",
    "    <ol type=\"a\">\n",
    "        <li>Funktionsgleichung nach $x$ auflösen.</li>\n",
    "        <li>$x$ und $y$ vertauschen.</li>\n",
    "    </ol>\n",
    "Mehr zur Berechnung von Umkehrfunktionen und zu ihrem Definitionsbereich findet sich in diesem <a href=\"https://www.mathebibel.de/umkehrfunktion\">Artikel</a>.\n",
    "</div>"
   ]
  },
  {
   "cell_type": "markdown",
   "metadata": {},
   "source": [
    "<div class=\"task\">\n",
    "    <b>Aufgabe</b>: Logarithmusfunktion kennenlernen\n",
    "    <br>\n",
    "    <br>Um die Logarithmusfunktion kennen zu lernen, lösen Sie die folgenden Aufgaben mithilfe des Visualisierungstools in der folgenden Code-Zelle. Es ist für die Beantwortung der Fragen hilfreich, sich ins Gedächtnis zu rufen, was der <a href=\"https://www.mathebibel.de/logarithmus\">Logarithmus</a> ist und wie man mit den Logarithmus berechnet.\n",
    "<br>\n",
    "    \n",
    "1. Für welchen Wertebereich ist die Logarithmusfunktion nicht definiert? Können Sie sich denken wieso?\n",
    "2. Bei welchem Wertebereich fällt der Graph?\n",
    "3. Bei welchem Wertebereich steigt der Graph?\n",
    "4. Alle Graphen der Logarithmusfunktionen haben bei jedem definierten Wertebereich <u>keinen</u> Schnittpunkt mit der y-Achse. Es gibt noch zwei weitere Gemeinsamkeiten, die alle Logarithmusfunktionsgraphen teilen. Können Sie min. eine erkennen?\n",
    "5. <u>Bonus</u>: Schauen Sie sich den Exkurs zu <b>Umkehrfunktionen</b> an. Welchen Wert darf $a$ nicht haben, damit die Logarithmusfunktion eine Umkehrfunktion der <b>Exponentialfunktion</b> ist? (<u>Tipp</u>: Was ist der Unterschied der Antwort in Frage 1 dieses Quiz und in Frage 1 des Exponentialfunktionen-Quiz des vorherigen Abschnittes?)\n",
    "    \n",
    "<br>\n",
    "<label for=\"show2\" class=\"show_answer\">\n",
    "    <span>Antworten zeigen</span>\n",
    "</label>\n",
    "<input type=radio id=\"show2\" class=\"show\" name=\"group\">\n",
    "<input type=radio id=\"hide2\" class=\"hide\" name=\"group\">\n",
    "<span class=\"content\">\n",
    "<span><u>Antwort 1</u>: $a < 0$ und $a = 1$. Wenn $a$ einen negativen Wert annimmt, wird keine Funktion geplottet bzw. ein Fehler erzeugt. Das liegt daran, dass der Logarithmus für negative Basen nicht definiert ist: $\\log_{-3} 9$ kann umgeformt werden zu: $(-3)^x = 9$. Dies ist aber nicht lösbar, da es keine Zahl für $x$ gibt, mit der die Gleichung gelöst werden kann. Wenn $a = 1$ ist, wird ebenfalls keine Funktion geplottet bzw. ein Fehler erzeugt. Das liegt daran, dass der Logarithmus für die Basis $1$ nicht definiert ist: $\\log_{1} 9$ kann umgeformt werden zu: $(1)^x = 9$. Dies ist aber nicht lösbar, da $1$ hoch irgendwas immer $1$ ist.<br>\n",
    "    \n",
    "<u>Antwort 2</u>: Wenn der Wert für die Basis $a$ im Wertebereich $0 < a < 1$ liegt, fällt der Graph und \"schmiegt\" sich an den positiven Teil der y-Achse an<br>\n",
    "    \n",
    "<u>Antwort 3</u>: Wenn der Wert für die Basis $a$ im Wertebereich $ a > 1$ liegt, steigt der Graph und \"schmiegt\" sich an den negativen Teil der y-Achse an.<br>\n",
    "\n",
    "<u>Antwort 4</u>: Der Graph der Logarithmusfunktion schneidet beim dem definierten Wertebereich $a > 1; 0 < a < 1$ immer die x-Achse im Punkt $(1|0)$. Dies liegt daran, dass der Logarithmus von $x = 1$ <u>immer</u> $0$ ist, egal welche Basis der Logarithmus hat. Eine weitere Gemeinsamkeit ist, dass die Graphen immer nur rechts von der y-Achse verlaufen, nie links davon.    \n",
    "    \n",
    "<u>Antwort 5</u>: Wenn $a \\neq 1$, dann ist die Logarithmusfunktion eine Umkehrfunktion der Exponentialfunktion. \"Antwort 1\" dieser Aufgabe und der Aufgabe zu Exponentialfunktionen sind identisch, nur das $a = 1$ bei Exponentialfunktionen definiert ist (das Ergebnis ist eine konstante Funktion), bei Logarithmusfunktionen jedoch nicht.\n",
    "\n",
    "</span>\n",
    "<br><br>\n",
    "<label for=\"hide2\" class=\"hide_answer\">\n",
    "    <span>Antworten verbergen</span> \n",
    "</label> \n",
    "</span>\n",
    "</div>"
   ]
  },
  {
   "cell_type": "code",
   "execution_count": 3,
   "metadata": {},
   "outputs": [
    {
     "data": {
      "application/vnd.jupyter.widget-view+json": {
       "model_id": "47d285626bbb4e1faedb0a1a55495887",
       "version_major": 2,
       "version_minor": 0
      },
      "text/plain": [
       "interactive(children=(FloatSlider(value=0.0, continuous_update=False, description='a', max=10.0, min=-10.0, re…"
      ]
     },
     "metadata": {},
     "output_type": "display_data"
    }
   ],
   "source": [
    "plt_function(name=\"logarithmic\", space=(-10.0, 10.0), slider_step=0.1)"
   ]
  },
  {
   "cell_type": "markdown",
   "metadata": {},
   "source": [
    "<div class=\"note\">\n",
    "    <b>Hinweis</b>: Plot der Logarithmusfunktion\n",
    "    <br>\n",
    "    <br>Die Graphen der Logarithmusfunktion wird im Visualisierungstool für die Werte 0.1 bis 0.4 und 2.1 bis 10 nicht ganz richtig angezeigt. Sobald sich der Graph der y-Achse nähert, hört er nicht auf, sondern verläuft weiter asymptotisch zu der y-Achse, d.h. er \"schmiegt\" sich an die y-Achse an. Um das Problem zu beheben, müssten deutlich mehr x-Werte geplottet werden, was die Ausführung des Visualisierungstool jedoch stark verlangsamen würde.\n",
    "</div>"
   ]
  },
  {
   "cell_type": "markdown",
   "metadata": {},
   "source": [
    "### Natürlicher Logarithmus\n",
    "\n",
    "Der **natürliche Logarithmus** ist eine sehr wichtige Logarithmusfunktionen. Wie auch bei der **e-Funktion** aus Abschnitt 2 verwendet der natürliche Logarithmus die eulersche Zahl *e*. Der natürliche Logarithmus ist eine Logarithmusfunktion zur Basis *e*. Die Formel dafür lautet:\n",
    "\n",
    "$f(x) = \\ln{x}$\n",
    "\n",
    "Dabei ist $\\ln{x}$ eine Kurzschreibweise für $\\log_e{x}$. \n",
    "\n",
    "\n",
    "Der natürliche Logarithmus ist die **Umkehrfunktion** der e-Funktion. Dies wird auch durch die folgende Abbildung deutlich, bei der die e-Funktion in schwarz und die natürliche Logarithmusfunktion in blau eingezeichnet ist. Dreht man die e-Funktion um 180° nach rechts und verschiebt sie so, dass sie die x-Achse bei $(1|0)$ schneidet und beinahe die negative y-Achse berührt, erhält man den Graphen einer natürlichen Logarithmusfunktion.\n",
    "\n",
    "\n",
    "<img src=\"https://www.abiweb.de/assets/courses/media/logarithmus-ca.png\" width=\"320px\" align=\"left\" alt=\"Quelle: https://www.abiweb.de/mathematik-analysis-2/funktionsklassen/logarithmusfunktionen.html\"/>"
   ]
  },
  {
   "cell_type": "markdown",
   "metadata": {},
   "source": [
    "## 4. Trigonometrische Funktionen <a class=\"anchor\" id=\"4\"/>\n",
    "\n",
    "**Trigonometrische Funktionen** sind Funktionen, zu denen die **Kosinus-**, **Sinus-** und **Tangens-Funktionen** gehören. Die Formeln für diese lauten:\n",
    "\n",
    "$f(x) = \\cos(x)$ &nbsp; &nbsp; &nbsp; &nbsp; $f(x) = \\sin(x)$ &nbsp; &nbsp; &nbsp; &nbsp; $f(x) = \\tan(x)$<br>\n",
    "\n",
    "Die **Trigonometrie** (deutsch: \"Dreiecksmessung\") ist ein Teilgebiet der *Geometrie* und beschäftigt sich damit, aus den gegebenen Größen eines Dreiecks wie die Winkel oder Seitenlängen andere Größen dieses Dreiecks zu berechnen. Für eine Wiederholung zu Trigonometrie siehe diesen <a href=\"https://www.mathebibel.de/trigonometrie\">Artikel</a>. Für die Dreiecksberechnung werden in der Trigonometrie u.a. die Winkelfunktionen **Kosinus**, **Sinus** und **Tangens** verwendet. Diese finden neben der Trigonometrie auch eine Anwendung im mathematischen Teilgebiet *Analysis*, bei der sie vor allem zur Beschreibung periodischer Vorgänge verwendet werden. Sie sind **periodische Funktionen**, d.h. die Funktionswerte wiederholen sich in regelmäßigen Abständen. Schauen Sie sich dafür die Visualisierung der trigonometrischen Funktionen in der folgenden Code-Zelle an: Bei allen Funktionen wiederholen sich die Funktionswerte in regelmäßigen Abständen. Bei der Kosinus- und Sinusfunktion ähneln die Graphen deshalb Wellen. In späteren Kapiteln werden wir noch weitere interessante Eigenschaften der trigonometrischen Funktionen kennenlernen, vor allem bezüglich der Ableitungen. So ist die erste Ableitung der Sinusfunktion die Kosinusfunktion."
   ]
  },
  {
   "cell_type": "code",
   "execution_count": 5,
   "metadata": {},
   "outputs": [
    {
     "data": {
      "application/vnd.jupyter.widget-view+json": {
       "model_id": "b0de95b37ed2428ea6107d81af017a94",
       "version_major": 2,
       "version_minor": 0
      },
      "text/plain": [
       "interactive(children=(SelectionSlider(continuous_update=False, description='Funktion', options=('Kosinus', 'Si…"
      ]
     },
     "metadata": {},
     "output_type": "display_data"
    }
   ],
   "source": [
    "plt_function(name=\"trigonometric\", space=(-10.0, 10.0))"
   ]
  },
  {
   "cell_type": "markdown",
   "metadata": {},
   "source": [
    "<div class=\"task\">\n",
    "    <b>Aufgabe</b>: Kosinus- und Sinusfunktion\n",
    "    <br>\n",
    "    <br>Die Kosinus- und Sinusfunktionen sehen gleich aus, unterscheiden sich aber in einem Punkt. Welcher ist das?\n",
    "<br>\n",
    "<br>\n",
    "<label for=\"show3\" class=\"show_answer\">\n",
    "    <span>Antwort zeigen</span>\n",
    "</label>\n",
    "<input type=radio id=\"show3\" class=\"show\" name=\"group\">\n",
    "<input type=radio id=\"hide3\" class=\"hide\" name=\"group\">\n",
    "<span class=\"content\">\n",
    "<span>\n",
    "Der Kosinusgraph ist eine Einheit nach links (oder rechts) verschoben. Der Sinusgraph geht durch den Nullpunkt. Für die Kosinusfunktion gilt daher: $\\cos(0) = 1$. Für die Sinusfunktion gilt stattdessen: $\\sin(0) = 0$. Mathematisch kann man die Sinusfunktion auch durch die Kosinusfunktion ausdrücken (und umgekehrt):\n",
    "    \n",
    "$\\sin(x) = \\cos(x - \\frac{\\pi}{2}) $ &nbsp;&nbsp; wobei $\\frac{\\pi}{2}$ die Verschiebung um eine Einheit repräsentiert.\n",
    "    \n",
    "    \n",
    "\n",
    "</span>\n",
    "<br><br>\n",
    "<label for=\"hide3\" class=\"hide_answer\">\n",
    "    <span>Antwort verbergen</span> \n",
    "</label> \n",
    "</span>\n",
    "</div>"
   ]
  },
  {
   "cell_type": "markdown",
   "metadata": {},
   "source": [
    "## 5. Irrationale Funktionen <a class=\"anchor\" id=\"5\"/>\n",
    "\n",
    "**Irrationale Funktionen** gehören zu den algebraischen Funktionen, sind jedoch nicht rational. Ein wichtige Klasse von irrationalen Funktionen sind die **Wurzelfunktionen**, bei denen das $x$ unter einem Wurzelzeichen steht:\n",
    "\n",
    "$f(x) = \\sqrt[^n]{x}$\n",
    "\n",
    "\n",
    "Wurzelfunktionen sind die Umkehrfunktionen von **Potenzfunktionen**. Dies bedeutet, dass jede Wurzelfunktion auch als Potenzfunktion dargestellt werden kann. Die Funktion $ f(x) = \\sqrt{3x} $ kann als Potenzfunktion $ f(x) = 3x^{\\frac{1}{2}} $ dargestellt werden.[<sup>1</sup>](#fn1) Wie auch bei Potenzfunktionen besitzen die Graphen der Funktionen unterschiedliche Eigenschaften, wenn der Wurzelexponent gerade oder ungerade ist. Mehr dazu in diesem <a href=\"https://www.mathebibel.de/wurzelfunktionen\">Artikel</a>.\n",
    "\n",
    "\n",
    "<hr style=\"border: 0.1px solid black;\"/>\n",
    "<span id=\"fn1\" style=\"font-size:8pt; line-height:1\"><sup style=\"font-size:5pt\">1</sup>&nbsp; Dies ist durch die Wurzelgesetze und Potenzgesetze möglich. Siehe dafür auch den Abschnitt \"Wurzeln in Potenzen umformen\" von diesem <a href=\"https://www.mathebibel.de/wurzelgesetze\">Artikel</a>.</span><br>"
   ]
  },
  {
   "cell_type": "code",
   "execution_count": null,
   "metadata": {},
   "outputs": [],
   "source": []
  }
 ],
 "metadata": {
  "kernelspec": {
   "display_name": "Python 3",
   "language": "python",
   "name": "python3"
  },
  "language_info": {
   "codemirror_mode": {
    "name": "ipython",
    "version": 3
   },
   "file_extension": ".py",
   "mimetype": "text/x-python",
   "name": "python",
   "nbconvert_exporter": "python",
   "pygments_lexer": "ipython3",
   "version": "3.7.7"
  }
 },
 "nbformat": 4,
 "nbformat_minor": 4
}
