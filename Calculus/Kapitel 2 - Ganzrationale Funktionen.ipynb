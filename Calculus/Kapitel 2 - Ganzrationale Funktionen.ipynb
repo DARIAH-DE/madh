{
 "cells": [
  {
   "cell_type": "markdown",
   "metadata": {},
   "source": [
    "# Kapitel 2 - Ganzrationale Funktionen"
   ]
  },
  {
   "cell_type": "code",
   "execution_count": 2,
   "metadata": {},
   "outputs": [
    {
     "data": {
      "text/html": [
       "<style>\n",
       "\n",
       "\n",
       "/* special fields*/\n",
       "\n",
       "div.digression {    \n",
       "    background-color: #f6f6f6;\n",
       "    border-color: #a1c6de;\n",
       "    border-left: 5px solid #a1c6de;\n",
       "    border-right: 5px solid #a1c6de;\n",
       "    border-top: 5px solid #a1c6de;\n",
       "    border-bottom: 5px solid #a1c6de;\n",
       "    padding: 0.5em;\n",
       "}\n",
       "\n",
       "div.note {    \n",
       "    background-color: #f6f6f6;\n",
       "    border-color: #ffb382;\n",
       "    border-left: 5px solid #ffb382;\n",
       "    border-right: 5px solid #ffb382;\n",
       "    border-top: 5px solid #ffb382;\n",
       "    border-bottom: 5px solid #ffb382;\n",
       "    padding: 0.5em;\n",
       "}\n",
       "\n",
       "div.task {    \n",
       "    background-color: #f6f6f6;\n",
       "    border-color: #99b898;\n",
       "    border-left: 5px solid #99b898;\n",
       "    border-right: 5px solid #99b898;\n",
       "    border-top: 5px solid #99b898;\n",
       "    border-bottom: 5px solid #99b898;\n",
       "    padding: 0.5em;\n",
       "}\n",
       "\n",
       "div.warn {    \n",
       "    background-color: #f6f6f6;\n",
       "    border-color: #cc1a32;\n",
       "    border-left: 5px solid #cc1a32;\n",
       "    border-right: 5px solid #cc1a32;\n",
       "    border-top: 5px solid #cc1a32;\n",
       "    border-bottom: 5px solid #cc1a32;\n",
       "    padding: 0.5em;\n",
       "}\n",
       "\n",
       "\n",
       "/* for simple answer / solution*/\n",
       "input.show {\n",
       "  visibility: hidden;\n",
       "}\n",
       "\n",
       "input.hide {\n",
       "  visibility: hidden;\n",
       "}\n",
       "\n",
       "label.answers {\n",
       "  border: 1px solid black;\n",
       "  padding: 1px;\n",
       "}\n",
       "\n",
       "label.show_answer {\n",
       "  background-color: #008CBA;  /* Blue */\n",
       "  border: none;\n",
       "  border-radius: 8px;\n",
       "  color: white;\n",
       "  padding: 3px 10px;\n",
       "  text-align: center;\n",
       "  text-decoration: none;\n",
       "  display: inline-block;\n",
       "  font-size: 12px;\n",
       "}\n",
       "\n",
       "label.hide_answer {\n",
       "  background-color: #b2b2b2; /* Grey */\n",
       "  border: none;\n",
       "  border-radius: 8px;\n",
       "  color: white;\n",
       "  padding: 3px 10px;\n",
       "  text-align: center;\n",
       "  text-decoration: none;\n",
       "  display: inline-block;\n",
       "  font-size: 12px;\n",
       "}\n",
       "\n",
       "\n",
       "span.content {\n",
       "  display:none;\n",
       "}\n",
       "input.show:checked ~ span.content {\n",
       "  display:block;\n",
       "}\n",
       "\n",
       "input.hide:checked ~ span.content {\n",
       "  display:none;\n",
       "}\n",
       "\n",
       "\n",
       "/* Tables & side by side images */\n",
       "\n",
       "/* 2 images side by side */\n",
       ".imgcolumn2 {\n",
       "  float: left;\n",
       "  width: 50.0%;\n",
       "  padding: 5px;\n",
       "}\n",
       "\n",
       "/* 3 images side by side */\n",
       ".imgcolumn3 {\n",
       "  float: left;\n",
       "  width: 33.33%;\n",
       "  padding: 5px;\n",
       "}\n",
       "\n",
       "/* 4 images side by side */\n",
       ".imgcolumn4 {\n",
       "  float: left;\n",
       "  width: 25.0%;\n",
       "  padding: 5px;\n",
       "}\n",
       "\n",
       "\n",
       ".imgrow::after {\n",
       "  content: \"\";\n",
       "  clear: both;\n",
       "  display: table;\n",
       "} \n",
       "\n",
       "figure figcaption {\n",
       "  margin: 3px;\n",
       "  text-align: center;\n",
       "  font-weight: bold;\n",
       "}\n",
       "\n",
       "table {\n",
       "    float: left;\n",
       "    border-style: 1.5px solid black;\n",
       "    border: 1.5px  black solid !important;\n",
       "    color: black !important;\n",
       "}\n",
       "\n",
       "th, td {\n",
       "    text-align: center;\n",
       "    vertical-align: middle;\n",
       "    border: 1.5px  black solid !important;\n",
       "    color: black !important;\n",
       "}\n",
       "\n",
       "#centertable td\n",
       "{\n",
       "    text-align: center; \n",
       "    vertical-align: middle;\n",
       "}\n",
       "\n",
       "#centertable th\n",
       "{\n",
       "    text-align: center; \n",
       "    vertical-align: middle;\n",
       "}\n",
       "\n",
       "\n",
       " </style>\n"
      ],
      "text/plain": [
       "<IPython.core.display.HTML object>"
      ]
     },
     "execution_count": 2,
     "metadata": {},
     "output_type": "execute_result"
    }
   ],
   "source": [
    "import sys\n",
    "sys.path.append(\"../src/\") \n",
    "from quiz import start_quiz\n",
    "from utils import css_styling, hide_code\n",
    "from functionplotter import plt_function\n",
    "css_styling()"
   ]
  },
  {
   "cell_type": "markdown",
   "metadata": {},
   "source": [
    "## 1. Kapitelübersicht <a class=\"anchor\" id=\"1\"/>"
   ]
  },
  {
   "cell_type": "markdown",
   "metadata": {},
   "source": [
    "In diesem Kapitel werden wir **konstante**, **lineare**, **quadratische Funktionen** sowie **Potenzfunktionen** behandeln. Wir schauen uns dabei die Gleichungen und Graphen der Funktionen genauer an. Wir werden erkennen, dass alle diese Funktionen Spezialfälle der **Polynomfunktionen** (auch: ganzrationale Funktionen) sind. Wir gucken uns also auch Gemeinsamkeiten der Funktionen an und bilden daraus eine allgemeingültige Definition für alle Polynomfunktionen.\n",
    "\n",
    "<b>Abschnittsübersicht</b><br>\n",
    "\n",
    "[1. Kapitelübersicht](#1)<br>\n",
    "[2. Konstante Funktionen](#2)<br>\n",
    "[3. Lineare Funktionen](#3)<br>\n",
    "[3.1. Die Berechnung der Steigung m und des Schnittpunkts mit der y-Achse b](#3-1)<br>\n",
    "[3.2. Von der Formel zum Graphen](#3-2)<br>\n",
    "[3.3. Weitere Besonderheiten von linearen Funktionen](#3-3)<br>\n",
    "[4. Quadratische Funktionen](#4)<br>\n",
    "[4.1. Normalparabel](#4-1)<br>\n",
    "[4.2. Erweiterung der Normalparabel](#4-2)<br>\n",
    "[5. Polynomfunktionen](#5)<br>\n",
    "[6. Potenzfunktionen](#6)<br>\n",
    "\n",
    "<b>Quizübersicht</b><br>\n",
    "[Lineare Funktionen Quiz](#q1)<br>\n",
    "[Normalparabeln Quiz](#q2)<br>\n",
    "\n",
    "<b>Behandelte Themen</b><br>\n",
    "- Konstante Funktionen\n",
    "- Lineare Funktionen\n",
    "- Steigung\n",
    "- y-Achsenabschnitt\n",
    "- Differenzquotient\n",
    "- Quadratische Funktionen\n",
    "- Normalparabeln\n",
    "- Polynomfunktionen\n",
    "- Grad von Funktionen\n",
    "- TODO\n",
    "\n",
    "<b>Mögliche Anwendungsfelder</b><br>\n",
    "- Lineare Regression (→ Lineare Funktionen)\n",
    "    - Simple Lineare Regression (Machine Learning)\n",
    "    - Simples Neuronales Netz <u>ohne</u> Aktivierungsfunktion (Deep Learning)\n",
    "- Gradientenabstieg (→ Steigung)\n",
    "- TODO"
   ]
  },
  {
   "cell_type": "markdown",
   "metadata": {},
   "source": [
    "## 2. Konstante Funktionen <a class=\"anchor\" id=\"2\"/>"
   ]
  },
  {
   "cell_type": "markdown",
   "metadata": {},
   "source": [
    "Die **konstante Funktion** ist eine der simpleren Funktionstypen. Sie wird durch folgende Gleichung beschrieben:<br>\n",
    "\n",
    "$f(x) = c$\n",
    "\n",
    "$c$ steht dabei für eine Konstante, welche ein beliebige Zahl aus der Menge aller reellen Zahlen sein kann.<br>\n",
    "Das besondere bei konstanten Funktion ist, dass es <u>keinen</u> Zusammenhang zwischen den Variablen $x$ und $c$ gibt, da $x$ gar nicht auf der rechten Seite der Funktion vorkommt. Die Ausgabe der Funktion bleibt **konstant** (daher auch der Name). Anders als andere Funktionen wie z.B. die lineare Funktion modelliert die konstante Funktion also nicht die **Abhängigkeit**, sondern die **Unabhängigkeit zwischen zwei Variablen**."
   ]
  },
  {
   "cell_type": "markdown",
   "metadata": {},
   "source": [
    "<div class=task>\n",
    "    <b>Aufgabe</b>: Konstante Funktionen plotten\n",
    "    <br>\n",
    "    <br> Führen Sie für eine Visualisierung einer <b>konstanten Funktion</b> die folgende Code-Zelle aus und geben Sie mithilfe des Sliders verschiedene Werte für $c$ und $x$ ein. Welchen Einfluss haben $x$ und $c$ auf den Graphen? \n",
    "<br><br>\n",
    "<label for=\"show1\" class=\"show_answer\">\n",
    "    <span>Antwort zeigen</span>\n",
    "</label>\n",
    "<input type=radio id=\"show1\" class=\"show\" name=\"group\">\n",
    "<input type=radio id=\"hide1\" class=\"hide\" name=\"group\">\n",
    "<span class=\"content\">\n",
    "    <span>$c$ kennzeichnet die Stelle, an welcher der Graph die <b>y-Achse</b> schneidet. $x$ hat <u>keinen</u> Einfluss auf den Graphen oder auf $c$.</span>\n",
    "    <br><br>\n",
    "<label for=\"hide1\" class=\"hide_answer\">\n",
    "    <span>Antwort verbergen</span> \n",
    "</label> \n",
    "</span>\n",
    "</div>"
   ]
  },
  {
   "cell_type": "code",
   "execution_count": 3,
   "metadata": {},
   "outputs": [
    {
     "data": {
      "application/vnd.jupyter.widget-view+json": {
       "model_id": "264305f7719a4700bdb109b28a47ae25",
       "version_major": 2,
       "version_minor": 0
      },
      "text/plain": [
       "interactive(children=(FloatSlider(value=0.0, continuous_update=False, description='c', max=10.0, min=-10.0, re…"
      ]
     },
     "metadata": {},
     "output_type": "display_data"
    }
   ],
   "source": [
    "plt_function(function=\"constant\", space=(-10.0, 10.0), slider_step=1.0)"
   ]
  },
  {
   "cell_type": "markdown",
   "metadata": {},
   "source": [
    "#### Beispiel für eine konstante Funktion\n",
    "\n",
    "Bezogen auf unser Beispiel aus dem vorherigen Kapitel wäre eine mögliche konstante Funktion bei der Erstellung eines Online-Shops die Berechnung der Versandkosten. Angenommen, dass unser Online-Shop fixe Versandkosten für alle Produkte hätte, würde die Funktion $f(\\text{Preis}) = \\text{Versandkosten}$ immer die gleichen Versandkosten zurückgeben:<br>\n",
    "\n",
    "$\\text{0.99€} \\mapsto \\text{5 €}$<br>\n",
    "$\\text{4.99€} \\mapsto \\text{5 €}$<br>\n",
    "$\\text{7.50€} \\mapsto \\text{5 €}$<br>\n",
    "$\\text{119.95€} \\mapsto \\text{5 €}$<br>"
   ]
  },
  {
   "cell_type": "markdown",
   "metadata": {},
   "source": [
    "## 3. Lineare Funktionen <a class=\"anchor\" id=\"3\"/>"
   ]
  },
  {
   "cell_type": "markdown",
   "metadata": {},
   "source": [
    "Die **lineare Funktion** ist auch unter dem Begriff *Geradengleichung* bekannt. Aus dieser Bezeichnung wird deutlich, dass die lineare Funktion graphisch eine **Gerade** darstellt. Anders als die konstante Funktion beschreibt die lineare Funktion die **Abhängigkeit zwischen zwei Variablen**. $f(x)$ wird durch die Variable $x$ beeinflusst, sie ist von $x$ **abhängig**. $x$ selbst ist eine **unabhängige** Variable. Dies bedeutet, dass für $x$ beliebige Werte eingegeben werden können. Bei einer abhängigen Variablen wie $f(x)$ ist dies nicht möglich."
   ]
  },
  {
   "cell_type": "markdown",
   "metadata": {},
   "source": [
    "<div class=digression>\n",
    "    <b>Exkurs</b>: Geraden\n",
    "    <br>\n",
    "    <br>\n",
    "    <b>Geraden</b> sind ein Element aus der Geometrie. Sie sind <b>gerade, unendlich lange</b> Linien, die in keine Richtung begrenzt und unendlich lang sind. Sind zwei Geraden <i>parallel</i> zueinander, haben sie nie einen gemeinsamen Schnittpunkt. Zwei <i>gleiche</i> Geraden haben unendlich viele Schnittpunkte und <i>schneidende</i> Geraden haben genau einen Schnittpunkt.  \n",
    "</div>"
   ]
  },
  {
   "cell_type": "markdown",
   "metadata": {},
   "source": [
    "Lineare Funktionen werden durch die folgende Gleichung beschrieben:<br>\n",
    "\n",
    "$f(x) = m \\cdot x  + b$<br>\n",
    "\n",
    "$x$ und $f(x)$ kennen wir bereits, $m$ und $b$ sind neu. $m$ beschreibt die **Steigung** (engl. *slope*) einer Geraden. Diese gibt an, um wie viele Einheiten sich die y-Koordinate eines Punktes verändert, wenn sich die x-Koordinate dieses Punktes um eine Einheit verändert. Die Steigung einer Geraden misst also, wie **steil** sie *ansteigt* (wenn sie positiv ist) oder *abfällt* (wenn sie negativ ist). Mit $b$ wird der **Schnittpunkt** der Geraden mit der **y-Achse** (engl. *y-intercept*) dargestellt. Wie diese Werte berechnet werden können, sehen wir anhand eines Beispiels im nächsten Abschnitt."
   ]
  },
  {
   "cell_type": "markdown",
   "metadata": {},
   "source": [
    "<div class=digression>\n",
    "    <b>Exkurs</b>: Die Relevanz der Steigung\n",
    "    <br>\n",
    "    <br>\n",
    "    Die <b>Steigung</b> ist eine wichtige Eigenschaft von linearen Funktionen. In der realen Welt gibt es viele Anwendungsfälle, bei denen das Ermitteln der Steigung wichtig ist. Möchte man beispielsweise einen Berg mit einem Fahrrad hinauffahren, ist die <i>ansteigende</i> Steigung der Straße relevant dafür, welchen Gang man verwenden muss. Fährt man einen Berg herunter, wirkt sich die <i>abfallende</i> Steigung auf die Geschwindigkeit aus: Je steiler der Berg abfällt, desto schneller wird das Fahrrad.<br>\n",
    "\n",
    "Auch in einigen Anwendungsfällen in Themengebieten, die in der Digital Humanities behandelt werden, nimmt die Steigung eine prominente Rolle ein. Im Themengebiet des Deep Learning etwa ist die Berechnung der Steigung ein wichtiger Schritt bei der Optimierung von Neuronalen Netzen. Dabei wird jedoch nicht die hier behandelte Steigung, die man auch <b>konstante Steigung</b> nennt, verwendet, sondern die sogenannte <b>nicht konstante Steigung</b>. Letztere ist die Steigung von Funktionen, die nicht linear sind. Anders als bei der konstanten Steigung ist die nicht konstante Steigung nicht in jedem Punkt gleich. Eine lineare Funktion (Abbildung 1) besitzt eine konstante Steigung, die Gerade ist immer gleich <i>steil</i>, während bei der Exponentialfunktion (Abbildung 2) die Steigung an verschiedenen Punkten auch <u>verschieden</u> <i>steil</i> ist. Die beiden Arten von Steigungen sind also von der Art der Funktion abhängig. Mit <b>nicht konstanten Steigungen</b> werden wir uns im weiteren Verlauf der Tutorialreihe beschäftigen, wenn wir uns <b>Ableitungen</b> und <b>Differentialgleichungen</b> anschauen.\n",
    "<br><br>\n",
    "\n",
    "<div class=\"imgrow\">\n",
    "  <div class=\"imgcolumn2\">\n",
    "       <figure>\n",
    "          <img src=\"../src/img/calculus/function_examples/linear_function_comp.png\" align=\"center\" style=\"width: 200px;\"/>\n",
    "           <figcaption>Abbildung 1: Lineare Funktion $f(x) = x + 0.2$</figcaption>\n",
    "    </figure> \n",
    "  </div>\n",
    "  <div class=\"imgcolumn2\">\n",
    "       <figure>\n",
    "          <img src=\"../src/img/calculus/function_examples/exponential_function_comp.png\" align=\"center\" style=\"width: 200px;\"/>\n",
    "          <figcaption>Abbildung 2: Exponentiale Funktion $f(x) = 1.2^x$</figcaption>\n",
    "    </figure> \n",
    "  </div>\n",
    "\n",
    "</div>"
   ]
  },
  {
   "cell_type": "markdown",
   "metadata": {},
   "source": [
    "### 3.1. Die Berechnung der Steigung $m$ und des Schnittpunkts mit der y-Achse $b$ <a class=\"anchor\" id=\"3-1\"/>\n",
    "\n",
    "<img src=\"../src/img/calculus/function_types/linear_function_1_empty_graph.png\" align=\"center\"  style=\"width: 300px; height: 300px;\" /><br>\n",
    "\n",
    "Der Graph stellt die Funktion $f(x) = 2 \\cdot x + 2$ dar, wobei $m = 2$ und $b = 2$. Haben wir aber nur den Graphen vorliegen und wollen die Funktion erhalten, müssen wir die Steigung $m$ berechnen. $b$ erhalten wir, indem wir uns einfach den Graphen anschauen und uns notieren, in welchem Punkt die Gerade die y-Achse schneidet. Dies ist hier der Punkt $(0|2)$ (<u>Hinweis</u>: Bei dem Schnittpunkt mit der y-Achse muss die x-Koordinate des Punktes immer $0$ sein). Interessant ist nur die y-Koordinate des Schnittpunktes. Diese ist $2$, weshalb $b =2$ ist. Wir überprüfen das, indem wir für $x$ in unserer Funktion $f(x) = 2 \\cdot x + 2$ eine $0$ eingeben. Wir erhalten $f(x) = 2 \\cdot 0 + 2 = 2$. <br>\n",
    "\n",
    "Für die Berechnung der Steigung brauchen wir den sogenannten **Differenzquotienten**. Die Formel dafür lautet:<br>\n",
    "\n",
    "$ m=\\dfrac{\\Delta y}{\\Delta x}=\\dfrac{y_2-y_1}{x_2- x_1}$<br>\n",
    "\n",
    "Neben der Formel benötigt man noch zwei Punkte $P(x_1,y_1)$ und $Q(x_2,y_2)$, die auf der Geraden liegen. Welche Punkte das sind, ist vollkommen egal, sie müssen sich nur auf der Gerade befinden. Es empfiehlt sich, Ganzzahlen zu verwenden, damit die Rechnung nicht zu kompliziert wird.\n",
    "\n",
    "<img src=\"../src/img/calculus/function_types/linear_function_2_two_labeled_points.png\" align=\"center\"  style=\"width: 300px; height: 300px;\" /><br>\n",
    "\n",
    "Für $P$ wählen wir $(0, 2)$ (= den Schnittpunkt mit der y-Achse) und für $Q$ den Punkt $ (1,4)$. Diese Punkte setzen wir nun in unsere **Differenzquotienten**-Formel ein:<br>\n",
    "\n",
    "$ m=\\dfrac{4-2}{1-0}=\\dfrac{2}{1}=2$<br>\n",
    "\n",
    "Wir erhalten die Steigung $m = 2$."
   ]
  },
  {
   "cell_type": "markdown",
   "metadata": {},
   "source": [
    "<div class=digression>\n",
    "    <b>Exkurs</b>: Steigungsdreieck\n",
    "    <br>\n",
    "    <br>\n",
    "    Die Steigung lässt sich mit der Formel $ m=\\frac{\\Delta y}{\\Delta x}=\\frac{y_2-y_1}{x_2 - x_1} $ berechnen. ${\\Delta y}$ und ${\\Delta x}$ beschreiben dabei die <b>Differenz</b> zwischen den jeweiligen Koordinaten der beiden ausgewählten Punkte. Diese Differenzen können als Linien im Graph eingezeichnet werden:<br>\n",
    "<img src=\"https://upload.wikimedia.org/wikipedia/commons/thumb/c/c1/Wiki_slope_in_2d.svg/800px-Wiki_slope_in_2d.svg.png\" style=\"width: 200px;\"/>\n",
    "    \n",
    "Dadurch ergibt sich ein Dreieck, welches <b>Steigungsdreieck</b> genannt wird. Dieses muss nicht zwangsweise mithilfe der Differenzquotienten-Formel berechnet werden (siehe z.B. den Artikel auf <a href=\"https://www.mathebibel.de/lineare-funktionen-steigung-berechnen\">mathebibel.de</a> für Details zur Berechnung).\n",
    "</div>"
   ]
  },
  {
   "cell_type": "markdown",
   "metadata": {},
   "source": [
    "### 3.2. Von der Formel zum Graphen <a class=\"anchor\" id=\"3-2\"/>"
   ]
  },
  {
   "cell_type": "markdown",
   "metadata": {},
   "source": [
    "Gegeben ist die folgende Gleichung: $f(x) = 3 \\cdot x + 1$\n",
    "\n",
    "Hat man eine lineare Funktionsgleichung vorliegen und möchte einen Graphen zeichnen, sollten folgende Schritte befolgt werden:\n",
    "1. **$b$ als Punkt einzeichnen**. $b$ ist in der vorliegenden Gleichung $1$, d.h. die Punktkoordinate ist $(0|1)$. \n",
    "2. **Steigung $m$ als Bruch $\\frac{m}{n}$ darstellen**. $m$ ist in der vorliegenden Gleichung $3$, der Bruch ist dementsprechend $\\frac{3}{1}$.\n",
    "3. **Vom Schnittpunkt mit der y-Achse $n$ Schritte nach rechts gehen und $m$ Schritte nach oben ($n$ = Nenner des Steigungsbruchs, $m$ = Zähler des Steigungsbruchs)**. Ist der Steigungsbruch negativ, muss $m$ Schritte nach unten gegangen werden. In der vorliegenden Gleichung muss also 1 Schritt nach rechts und drei Schritte nach oben gegangen werden.\n",
    "4. **Endpunkt einzeichnen**. Hier ist das der Punkt $(1|4)$.\n",
    "5. **Gerade durch die beiden eingezeichneten Punkte zeichnen**. Diese sind hier der Schnittpunkt mit der y-Achse $b$ und der Endpunkt aus dem vorherigen Schritt.\n",
    "\n",
    "Für die gegebene Funktion wird die Vorgehensweise im folgenden Gif dargestellt:<br>\n",
    "\n",
    "<img src=\"../src/img/calculus/function_types/linear_function_3_draw_graph.gif\" align=\"center\" style=\"width: 350px;\"/>"
   ]
  },
  {
   "cell_type": "markdown",
   "metadata": {},
   "source": [
    "### 3.3. Weitere Besonderheiten von linearen Funktionen <a class=\"anchor\" id=\"3-3\"/>"
   ]
  },
  {
   "cell_type": "code",
   "execution_count": 4,
   "metadata": {},
   "outputs": [
    {
     "data": {
      "application/vnd.jupyter.widget-view+json": {
       "model_id": "7002820b16fd41fcba3a444230a65755",
       "version_major": 2,
       "version_minor": 0
      },
      "text/plain": [
       "interactive(children=(FloatSlider(value=0.0, continuous_update=False, description='m', max=10.0, min=-10.0, re…"
      ]
     },
     "metadata": {},
     "output_type": "display_data"
    }
   ],
   "source": [
    "plt_function(function=\"linear\", space=(-10.0, 10.0), slider_step=1.0)"
   ]
  },
  {
   "cell_type": "markdown",
   "metadata": {},
   "source": [
    "Schauen wir uns nun eine interaktive Visualisierung von linearen Funktionen an.[<sup>1</sup>](#fn1) Abhängig von unserer Auswahl der Werte $m$ und $b$ können bestimmte Erkenntnisse gewonnen werden:<br>\n",
    "* Wenn wir die Steigung $m = 0$ setzen und nur die Werte für $b$ verändern, verhält sich der Graph wie eine **konstante Funktion**. Einige Mathematiker definieren deshalb die konstante Funktion als einen Spezialfall der linearen Funktion. \n",
    "* Bei positiven Werten für $m$ steigt die Funktion an, bei negativen Werten für $m$ fällt sie.\n",
    "* Die einfachste lineare Funktion ist $f(x) = x$. Diese erhalten wir, indem wir $m = 1$ und $b = 0$ setzen (Rechnung: $f(x) = 1 \\cdot x + 0$). Diese Gerade verläuft durch den Nullpunkt, also $(0|0)$.\n",
    "* Senkrechte Geraden wie im Bild unten sind **keine** lineare Funktionen, da bei diesen Geraden jedem x-Wert nicht nur <u>ein</u> y-Wert, sondern <u>unendlich</u> viele y-Werte zugeordnet sind. Dies lässt sich auch an der Visualisierung prüfen, da es nicht möglich ist, solche Geraden zu erstellen.\n",
    "\n",
    "<img src=\"../src/img/calculus/function_types/vertical_straight_lines.png\" align=\"center\" style=\"width: 250px;\"/>\n",
    "\n",
    "<hr style=\"border: 0.1px solid black;\"/>\n",
    "<span id=\"fn1\" style=\"font-size:8pt; line-height:1\"><sup style=\"font-size:5pt\">1</sup>&nbsp; Es wurde kein Slider für $x$ bereitgestellt, da die $x$-Werte mithilfe von Numpys <a href=\"https://docs.scipy.org/doc/numpy/reference/generated/numpy.linspace.html\">linspace</a> generiert werden. Dabei werden hundert zufällige x-Werte generiert und auf Basis dieser dann der Graph gezeichnet."
   ]
  },
  {
   "cell_type": "markdown",
   "metadata": {},
   "source": [
    "## Lineare Funktionen Quiz <a class=\"anchor\" id=\"q1\"/>"
   ]
  },
  {
   "cell_type": "markdown",
   "metadata": {},
   "source": [
    "<div class=task>\n",
    "    <b>Aufgabe</b>: Lineare Funktionen Quiz\n",
    "    <br>\n",
    "    <br> Lösen Sie das folgende Quiz \"<b>Lineare Funktionen Quiz</b>\". Das Quiz referenziert auf die Abbildungen 1 bis 6.\n",
    "</div>"
   ]
  },
  {
   "cell_type": "markdown",
   "metadata": {},
   "source": [
    "<div class=\"imgrow\">\n",
    "  <div class=\"imgcolumn3\">\n",
    "       <figure>\n",
    "          <img src=\"../src/img/calculus/linear_function_quiz/create_function1.png\" align=\"center\" style=\"width: 300px;\"/>\n",
    "           <figcaption>Abbildung 1: Graph A</figcaption>\n",
    "    </figure> \n",
    "  </div>\n",
    "  <div class=\"imgcolumn3\">\n",
    "       <figure>\n",
    "          <img src=\"../src/img/calculus/linear_function_quiz/create_function2.png\" align=\"center\" style=\"width: 300px;\"/>\n",
    "          <figcaption>Abbildung 2: Graph B</figcaption>\n",
    "    </figure> \n",
    "  </div>\n",
    "  <div class=\"imgcolumn3\">\n",
    "       <figure>\n",
    "          <img src=\"../src/img/calculus/linear_function_quiz/create_function3.png\" align=\"center\" style=\"width: 300px;\"/>\n",
    "          <figcaption>Abbildung 3: Graph C</figcaption>\n",
    "    </figure> \n",
    "  </div>\n",
    "  <div class=\"imgcolumn3\">\n",
    "       <figure>\n",
    "          <img src=\"../src/img/calculus/linear_function_quiz/draw_function1.png\" align=\"center\" style=\"width: 300px;\"/>\n",
    "          <figcaption>Abbildung 4: Graphen D - G</figcaption>\n",
    "    </figure> \n",
    "  </div>\n",
    "    <div class=\"imgcolumn3\">\n",
    "       <figure>\n",
    "          <img src=\"../src/img/calculus/linear_function_quiz/draw_function2.png\" align=\"center\" style=\"width: 300px;\"/>\n",
    "          <figcaption>Abbildung 5: Graphen H - K</figcaption>\n",
    "    </figure> \n",
    "  </div>\n",
    "    <div class=\"imgcolumn3\">\n",
    "       <figure>\n",
    "          <img src=\"../src/img/calculus/linear_function_quiz/draw_function3.png\" align=\"center\" style=\"width: 300px;\"/>\n",
    "          <figcaption>Abbildung 6: Graphen L - O</figcaption>\n",
    "    </figure> \n",
    "  </div>\n",
    "</div> \n",
    "\n"
   ]
  },
  {
   "cell_type": "code",
   "execution_count": 5,
   "metadata": {},
   "outputs": [
    {
     "data": {
      "application/vnd.jupyter.widget-view+json": {
       "model_id": "8cc0d30efe1e4f22ae26323d9c636b29",
       "version_major": 2,
       "version_minor": 0
      },
      "text/plain": [
       "VBox(children=(Output(), RadioButtons(layout=Layout(width='max-content'), options=(('f(x) = 2x + 6', 0), ('f(x…"
      ]
     },
     "metadata": {},
     "output_type": "display_data"
    },
    {
     "data": {
      "application/vnd.jupyter.widget-view+json": {
       "model_id": "1673383024bb4efcb91baebeb1cde9f3",
       "version_major": 2,
       "version_minor": 0
      },
      "text/plain": [
       "VBox(children=(Output(), RadioButtons(layout=Layout(width='max-content'), options=(('f(x) = 1x - 5', 0), ('f(x…"
      ]
     },
     "metadata": {},
     "output_type": "display_data"
    },
    {
     "data": {
      "application/vnd.jupyter.widget-view+json": {
       "model_id": "1215071eded842a081d48a9e66937955",
       "version_major": 2,
       "version_minor": 0
      },
      "text/plain": [
       "VBox(children=(Output(), RadioButtons(layout=Layout(width='max-content'), options=(('f(x) = 3x', 0), ('f(x) = …"
      ]
     },
     "metadata": {},
     "output_type": "display_data"
    },
    {
     "data": {
      "application/vnd.jupyter.widget-view+json": {
       "model_id": "6c3296a2907b4d55ba89c88e4279c3e8",
       "version_major": 2,
       "version_minor": 0
      },
      "text/plain": [
       "VBox(children=(Output(), RadioButtons(layout=Layout(width='max-content'), options=(('Der lilane Graph', 0), ('…"
      ]
     },
     "metadata": {},
     "output_type": "display_data"
    },
    {
     "data": {
      "application/vnd.jupyter.widget-view+json": {
       "model_id": "bbf74ddca9984512a13bd39f5ad1f1d4",
       "version_major": 2,
       "version_minor": 0
      },
      "text/plain": [
       "VBox(children=(Output(), RadioButtons(layout=Layout(width='max-content'), options=(('Der lilane Graph', 0), ('…"
      ]
     },
     "metadata": {},
     "output_type": "display_data"
    },
    {
     "data": {
      "application/vnd.jupyter.widget-view+json": {
       "model_id": "754e260f2f2b4caba295f1547743ea5a",
       "version_major": 2,
       "version_minor": 0
      },
      "text/plain": [
       "VBox(children=(Output(), RadioButtons(layout=Layout(width='max-content'), options=(('Der lilane Graph', 0), ('…"
      ]
     },
     "metadata": {},
     "output_type": "display_data"
    },
    {
     "data": {
      "text/markdown": [
       "---\n",
       "---\n"
      ],
      "text/plain": [
       "<IPython.core.display.Markdown object>"
      ]
     },
     "metadata": {},
     "output_type": "display_data"
    },
    {
     "data": {
      "application/vnd.jupyter.widget-view+json": {
       "model_id": "8129c9a08f7e49ffb8733f8ee0ab2591",
       "version_major": 2,
       "version_minor": 0
      },
      "text/plain": [
       "VBox(children=(Button(description='Ausgewählte Antworten überprüfen', layout=Layout(width='40%'), style=Button…"
      ]
     },
     "metadata": {},
     "output_type": "display_data"
    }
   ],
   "source": [
    "start_quiz(21, \"calculus\")"
   ]
  },
  {
   "cell_type": "markdown",
   "metadata": {},
   "source": [
    "## 4. Quadratische Funktionen <a class=\"anchor\" id=\"4\"/>"
   ]
  },
  {
   "cell_type": "markdown",
   "metadata": {},
   "source": [
    "Ein **quadratische Funktion** wird graphisch durch eine **Parabel** dargestellt. Parabeln sind spezielle geometrische Figuren, deren Form eine nach oben (oder unten) offene Kurve ist.\n",
    "\n",
    "<img src=\"../src/img/calculus/function_types/normal_parabola.png\" align=\"center\" style=\"width: 250px;\"/>\n",
    "\n",
    "Die Gleichung für quadratische Funktionen lautet wie folgt: <br>\n",
    "\n",
    "$f(x) = ax^2 + bx + c$ <br>\n",
    "\n",
    "Charakteristisch für eine quadratische Funktion ist das **Quadrat** (= $x^2$) in der Gleichung (daher auch der Name). Schauen wir uns zunächst die einfachste quadratische Funktion an, die **Normalparabeln**."
   ]
  },
  {
   "cell_type": "markdown",
   "metadata": {},
   "source": [
    "### 4.1. Normalparabel <a class=\"anchor\" id=\"4-1\"/>\n",
    "\n",
    "**Normalparabeln** sind eine spezielle Art von Parabeln. Sie sind symmetrisch zur y-Achse und nach oben offen. Normalparabeln werden durch die folgende Gleichung ausgedrückt:<br>\n",
    "\n",
    "$f(x) = x^2$ <br>\n",
    "\n",
    "Auch wenn es auf dem ersten Blick nicht so aussieht, ist das die selbe Gleichung wie oben. Hier wurde nur für die beiden Variablen $b$ und $c$ eine $0$ und für $a$ eine 1 eingesetzt.[<sup>2</sup>](#fn2) Anhand der Normalparabel kann man sehr schön erkennen, wie man von der Funktion zum Graphen gelangt. Wir setzen zunächst für $x$ verschiedene positive und negative Werte ein und erhalten die die entsprechenden, quadrierten y-Werte in einer **Wertetabelle**:<br>\n",
    "\n",
    "<p>\n",
    "<table style=\"width: 40%\" id=\"centertable\">\n",
    "    <tr>\n",
    "        <th>x</th>\n",
    "        <td>-3</td>\n",
    "        <td>-2</td>\n",
    "        <td>-1</td>\n",
    "        <td>0</td>\n",
    "        <td>1</td>\n",
    "        <td>2</td>\n",
    "        <td>3</td>\n",
    "    </tr>\n",
    "    <tr>\n",
    "        <th>y</th>\n",
    "        <td>9</td>\n",
    "        <td>4</td>\n",
    "        <td>1</td>\n",
    "        <td>0</td>\n",
    "        <td>1</td>\n",
    "        <td>4</td>\n",
    "        <td>9</td>\n",
    "    </tr>\n",
    "</table> \n",
    "</p>\n",
    "<br><br><br><br>\n",
    "\n",
    "\n",
    "\n",
    "<hr style=\"border: 0.1px solid black;\"/>\n",
    "<span id=\"fn2\" style=\"font-size:8pt; line-height:1\"><sup style=\"font-size:5pt\">2</sup>&nbsp; Rechnung: $f(x) = 1 \\cdot x^2 + 0 \\cdot x + 0 = x^2$"
   ]
  },
  {
   "cell_type": "markdown",
   "metadata": {},
   "source": [
    "Die Werte aus der Wertetabelle zeichnen wir nun in einem Koordinatensystem ein und verbinden sie anschließend (<b>Abbildung 1 &amp; 2</b>). \n",
    "Natürlich würde unsere Parabel in Abbildung 2 etwas eckiger aussehen, da wir nur wenige Punkte angegeben haben. Damit unsere Parabel wirklich so rund wie die Parabel in Abbildung 2 aussieht, müssen viel mehr Punkte angegeben werden (<b>Abbildung 3</b>). In den ersten drei Abbildungen befindet sich die Parabel immer oberhalb der x-Achse. Möchte man die Normalparabel spiegelverkehrt darstellen, muss man die Gleichung mit $-1$ multiplizieren (siehe <b> Abbildung 4</b>): $f(x) = -x^2$<br><br>\n",
    "\n",
    "<div class=\"imgrow\">\n",
    "  <div class=\"imgcolumn4\">\n",
    "       <figure>\n",
    "          <img src=\"../src/img/calculus/function_types/normal_parabola_points.png\" align=\"center\" style=\"width: 300px;\"/>\n",
    "           <figcaption>Abbildung 1: Punkte zeichnen</figcaption>\n",
    "    </figure> \n",
    "  </div>\n",
    "  <div class=\"imgcolumn4\">\n",
    "       <figure>\n",
    "          <img src=\"../src/img/calculus/function_types/normal_parabola_points_connected.png\" align=\"center\" style=\"width: 300px;\"/>\n",
    "          <figcaption>Abbildung 2: Punkte verbinden</figcaption>\n",
    "    </figure> \n",
    "  </div>\n",
    "  <div class=\"imgcolumn4\">\n",
    "       <figure>\n",
    "          <img src=\"../src/img/calculus/function_types/normal_parabola_multiple_points.png\" align=\"center\" style=\"width: 300px;\"/>\n",
    "          <figcaption>Abbildung 3: Mehr Punkte zeichnen</figcaption>\n",
    "    </figure> \n",
    "  </div>\n",
    "    <div class=\"imgcolumn4\">\n",
    "       <figure>\n",
    "          <img src=\"../src/img/calculus/function_types/normal_parabola_negative.png\" align=\"center\" style=\"width: 300px;\"/>\n",
    "          <figcaption>Abbildung 4: Negatives Vorzeichen</figcaption>\n",
    "    </figure> \n",
    "  </div>\n",
    "</div>"
   ]
  },
  {
   "cell_type": "markdown",
   "metadata": {},
   "source": [
    "<div class=digression>\n",
    "    <b>Exkurs</b>: Scheitelpunkt, Minimum, Maximum\n",
    "    <br>\n",
    "    <br>\n",
    "    Der <b>Scheitelpunkt</b> beschreibt den höchsten oder tiefsten Punkt einer Funktion. Der tiefste Punkt wird auch <b>Minimum</b> genannt und der höchste Punkt <b>Maximum</b>. Bei Parabeln gibt es nur <u>ein</u> Minimum oder Maximum. Andere Funktionen können aber sowohl ein Minimum als auch ein Maximum haben. Ein Beispiel dafür wäre die <b>Polynomfunktion</b> in <b>Abbildung 1</b>. Diese Funktion hat ein Minimum im Punkt $(1|0)$ und ein Maximum im Punkt $(-2|5)$.<br>\n",
    "    \n",
    "Weiterhin gibt es auch Funktionen, die <b>mehrere</b> Minima und Maxima haben. Ein Beispiel dafür wäre die <b>Sinus-Funktion</b> in <b>Abbildung 2</b>. Bei mehreren Minima/Maxima kann es sein, dass sich diese voneinander unterscheiden. Man unterscheidet zwischen <b>lokalen</b> und <b>globalen</b> Minima/Maxima. <b>Lokale</b> Minima/Maxima sind nur an einer gewissen Stelle minimal/maximal. <b>Globale</b> Minima/Maxima sind im Hinblick auf die gesamte Funktion die minimalsten/maximalsten Punkte. Ein Beispiel dafür wäre die Funktion in <b>Abbildung 3</b>. Sie besitzt ein Maximum und zwei Minima, ein lokales (rechts oben) und ein globales Minimum (links unten).<br><br>\n",
    "\n",
    "    \n",
    "    \n",
    "<div class=\"imgrow\">\n",
    "  <div class=\"imgcolumn3\">\n",
    "       <figure>\n",
    "          <img src=\"../src/img/calculus/function_examples/polynomial_function_example.png\" align=\"center\" style=\"width: 300px;\"/>\n",
    "           <figcaption>Abbildung 1: $f(x)=x^{3}+3 \\cdot x^{2}+1$</figcaption>\n",
    "    </figure> \n",
    "  </div>\n",
    "  <div class=\"imgcolumn3\">\n",
    "       <figure>\n",
    "          <img src=\"../src/img/calculus/function_examples/sinus_function_example.png\" align=\"center\" style=\"width: 300px;\"/>\n",
    "          <figcaption>Abbildung 2: $f(x) = \\sin(x)$</figcaption>\n",
    "    </figure> \n",
    "  </div>\n",
    "  <div class=\"imgcolumn3\">\n",
    "       <figure>\n",
    "          <img src=\"../src/img/calculus/function_types/multiple_minima.png\" align=\"center\" style=\"width: 300px;\"/>\n",
    "          <figcaption>Abbildung 3: $f(x) =x^4 + x^3-2x^2 + 3$</figcaption>\n",
    "    </figure> \n",
    "</div>    \n",
    "</div>"
   ]
  },
  {
   "cell_type": "markdown",
   "metadata": {},
   "source": [
    "### 4.2. Erweiterung der Normalparabel <a class=\"anchor\" id=\"4-2\"/>"
   ]
  },
  {
   "cell_type": "markdown",
   "metadata": {},
   "source": [
    "Die Normalparabel können wir auch erweitern. Dies können wir auf drei Arten machen:<br>\n",
    "* Die Parabel nach oben oder unten verschieben\n",
    "* Die Parabel nach links oder rechts verschieben\n",
    "* Die Parabel stauchen oder strecken\n",
    "\n",
    "#### Die Parabel nach oben oder unten verschieben\n",
    "\n",
    "Bis jetzt ist der **Scheitelpunkt** der Parabel immer der *Ursprung* gewesen, d.h. der Punkt $(0|0)$. Dies können wir ändern, indem wir die Gleichung für die Normalparabel um eine konstante Zahl $c$ erweitern:<br>\n",
    "\n",
    "$f(x) = x^2 + c$<br>\n",
    "\n",
    "Damit können wir den Scheitelpunkt und somit die ganze Parabel <b>nach oben verschieben</b>. Möchten wir den Scheitelpunkt <b>nach unten verschieben</b>, müssen wir die Gleichung leicht abwandeln:<br>\n",
    "\n",
    "$f(x) = x^2 - c$<br>"
   ]
  },
  {
   "cell_type": "markdown",
   "metadata": {},
   "source": [
    "#### Die Parabel nach rechts oder links verschieben\n",
    "\n",
    "Um die Parabel entlang der x-Achse nach <b>rechts</b> oder <b>links</b> zu verschieben zu können, muss die Formel für die Normalparabel erneut erweitert werden:<br>\n",
    "\n",
    "$f(x) = (x-d)^2$<br>\n",
    "\n",
    "Wir können diese Formel auch um die konstante Zahl $c$ erweitern:<br>\n",
    "\n",
    "$f(x) = (x-d)^2 + c$<br>\n",
    "\n",
    "\n",
    "Die Normalparabel wird mithilfe der Variable $d$ nach rechts verschoben, wenn $d$ <b>positiv</b> ist und nach links verschoben, wenn $d$ <b>negativ</b> ist."
   ]
  },
  {
   "cell_type": "markdown",
   "metadata": {},
   "source": [
    "#### Die Parabel strecken oder stauchen\n",
    "\n",
    "Zuletzt können wir die Parabel auch <b>strecken</b> oder <b>stauchen</b>. Dafür benötigen wir folgende Gleichung:<br>\n",
    "\n",
    "$f(x) = a \\cdot x^2$<br>\n",
    "\n",
    "Der Parameter $a$ ist dabei für die Streckung/Stauchung verantwortlich, je nachdem, welcher Wert für $a$ verwendet wird."
   ]
  },
  {
   "cell_type": "markdown",
   "metadata": {},
   "source": [
    "#### Die Scheitelpunktform\n",
    "\n",
    "Die Normalparabel und ihre Erweiterungen verwenden die folgende Gleichung:<br>\n",
    "\n",
    "$f(x) = a(x-d)^2 + c$<br>\n",
    "\n",
    "Diese Gleichung wird **Scheitelpunktform** (auch: Scheitelform) genannt. Das Besondere an dieser Scheitelpunktform ist, dass der Scheitelpunkt direkt abgelesen werden kann: $S(d|c)$. Die Scheitelpunktform ist eine Umformung der allgemeinen quadratischen Funktion $f(x) = ax^2 + bx + c$ mithilfe der <b>quadratischen Ergänzung</b>. Die quadratische Ergänzung ist ein Verfahren zum Umformen von Termen, in denen eine Variable quadratisch vorkommt. Wie eine quadratische Ergänzung berechnet wird, kann <a href=\"https://www.mathebibel.de/quadratische-ergaenzung\">hier</a> nachgelesen werden."
   ]
  },
  {
   "cell_type": "markdown",
   "metadata": {},
   "source": [
    "## Normalparabeln Quiz <a class=\"anchor\" id=\"q2\"/>"
   ]
  },
  {
   "cell_type": "markdown",
   "metadata": {},
   "source": [
    "<div class=task>\n",
    "    <b>Aufgabe</b>: Normalparabel Quiz\n",
    "    <br>\n",
    "    <br> Lösen Sie das folgende Quiz \"<b>Normalparabeln Quiz</b>\". Benutzen Sie zum Lösen der Aufgaben die interaktive Visualisierung der Normalparabel in der folgenden Code-Zelle.\n",
    "</div>"
   ]
  },
  {
   "cell_type": "code",
   "execution_count": 6,
   "metadata": {},
   "outputs": [
    {
     "data": {
      "application/vnd.jupyter.widget-view+json": {
       "model_id": "2762577b72a44166b7d5a96c2bbdc33a",
       "version_major": 2,
       "version_minor": 0
      },
      "text/plain": [
       "interactive(children=(FloatSlider(value=0.0, continuous_update=False, description='a', max=10.0, min=-10.0, re…"
      ]
     },
     "metadata": {},
     "output_type": "display_data"
    }
   ],
   "source": [
    "plt_function(function=\"normal_parabola\", space=(-10.0, 10.0), slider_step=0.1)"
   ]
  },
  {
   "cell_type": "code",
   "execution_count": 7,
   "metadata": {
    "collapsed": true
   },
   "outputs": [
    {
     "data": {
      "application/vnd.jupyter.widget-view+json": {
       "model_id": "e3af27981ee6499ebb8e137c8f7fb1c8",
       "version_major": 2,
       "version_minor": 0
      },
      "text/plain": [
       "VBox(children=(Output(), RadioButtons(layout=Layout(width='max-content'), options=(('a', 0), ('c', 1), ('d', 2…"
      ]
     },
     "metadata": {},
     "output_type": "display_data"
    },
    {
     "data": {
      "application/vnd.jupyter.widget-view+json": {
       "model_id": "9ab82f42bb6c4cf984169f3b5ad1ccfa",
       "version_major": 2,
       "version_minor": 0
      },
      "text/plain": [
       "VBox(children=(Output(), RadioButtons(layout=Layout(width='max-content'), options=(('a', 0), ('c', 1), ('d', 2…"
      ]
     },
     "metadata": {},
     "output_type": "display_data"
    },
    {
     "data": {
      "application/vnd.jupyter.widget-view+json": {
       "model_id": "b892c3602a5341f0bebe6384db3cf080",
       "version_major": 2,
       "version_minor": 0
      },
      "text/plain": [
       "VBox(children=(Output(), RadioButtons(layout=Layout(width='max-content'), options=(('a', 0), ('c', 1), ('d', 2…"
      ]
     },
     "metadata": {},
     "output_type": "display_data"
    },
    {
     "data": {
      "application/vnd.jupyter.widget-view+json": {
       "model_id": "15e4c0045ae943749aedd5f27b8b67f4",
       "version_major": 2,
       "version_minor": 0
      },
      "text/plain": [
       "VBox(children=(Output(), RadioButtons(layout=Layout(width='max-content'), options=(('a > 1', 0), ('a > 0', 1),…"
      ]
     },
     "metadata": {},
     "output_type": "display_data"
    },
    {
     "data": {
      "application/vnd.jupyter.widget-view+json": {
       "model_id": "4fc89aadbbca41f58bbfba26eb710e54",
       "version_major": 2,
       "version_minor": 0
      },
      "text/plain": [
       "VBox(children=(Output(), RadioButtons(layout=Layout(width='max-content'), options=(('a > 1', 0), ('a > 0', 1),…"
      ]
     },
     "metadata": {},
     "output_type": "display_data"
    },
    {
     "data": {
      "application/vnd.jupyter.widget-view+json": {
       "model_id": "b2b615ad72894944932c9a943adb81de",
       "version_major": 2,
       "version_minor": 0
      },
      "text/plain": [
       "VBox(children=(Output(), RadioButtons(layout=Layout(width='max-content'), options=(('1 > a', 0), ('0 > a', 1),…"
      ]
     },
     "metadata": {},
     "output_type": "display_data"
    },
    {
     "data": {
      "application/vnd.jupyter.widget-view+json": {
       "model_id": "09af5cd698ee493a9b5f97e185617fdd",
       "version_major": 2,
       "version_minor": 0
      },
      "text/plain": [
       "VBox(children=(Output(), RadioButtons(layout=Layout(width='max-content'), options=(('a = 1, c = 0, d = 2', 0),…"
      ]
     },
     "metadata": {},
     "output_type": "display_data"
    },
    {
     "data": {
      "text/markdown": [
       "---\n",
       "---\n"
      ],
      "text/plain": [
       "<IPython.core.display.Markdown object>"
      ]
     },
     "metadata": {},
     "output_type": "display_data"
    },
    {
     "data": {
      "application/vnd.jupyter.widget-view+json": {
       "model_id": "6f5997dbc40b40cba62c3f3ebb82456c",
       "version_major": 2,
       "version_minor": 0
      },
      "text/plain": [
       "VBox(children=(Button(description='Ausgewählte Antworten überprüfen', layout=Layout(width='40%'), style=Button…"
      ]
     },
     "metadata": {},
     "output_type": "display_data"
    }
   ],
   "source": [
    "start_quiz(22, \"calculus\")"
   ]
  },
  {
   "cell_type": "markdown",
   "metadata": {},
   "source": [
    "## 5. Polynomfunktionen <a class=\"anchor\" id=\"5\"/> "
   ]
  },
  {
   "cell_type": "markdown",
   "metadata": {},
   "source": [
    "In Kapitel 3.3 ist uns aufgefallen, dass wir die lineare Funktion auch als konstante Funktion ausdrücken können, wenn wir $m = 0$ setzen. Dadurch ergibt sich die folgende Gleichung:<br>\n",
    "\n",
    "$f(x) = 0 \\cdot x + b$<br>\n",
    "\n",
    "Diese Gleichung ist im Grunde dasselbe wie die Gleichung für die konstante Funktion:<br>\n",
    "\n",
    "$f(x) = c$<br>\n",
    "\n",
    "Nun stellt sich die Frage, ob wir auch die quadratische Funktion als konstante Funktion oder sogar als lineare Funktion ausdrücken können. Schauen wir uns dazu die Visualisierung der quadratischen Funktion in der folgenden Code-Zelle an."
   ]
  },
  {
   "cell_type": "code",
   "execution_count": 8,
   "metadata": {},
   "outputs": [
    {
     "data": {
      "application/vnd.jupyter.widget-view+json": {
       "model_id": "4098668247f0482f85ee2479f2da3acf",
       "version_major": 2,
       "version_minor": 0
      },
      "text/plain": [
       "interactive(children=(FloatSlider(value=0.0, continuous_update=False, description='a', max=10.0, min=-10.0, re…"
      ]
     },
     "metadata": {},
     "output_type": "display_data"
    }
   ],
   "source": [
    "plt_function(function=\"quadratic\", space=(-10.0, 10.0), slider_step=0.1)"
   ]
  },
  {
   "cell_type": "markdown",
   "metadata": {},
   "source": [
    "Lassen wir $a = 0$ und  $b = 0$, ist der geplottete Graph eine **konstante Funktion**, deren Schnittpunkt mit der y-Achse wir mit $c$ steuern können. Lassen wir nur $a = 0$, ist der geplottete Graph eine **lineare Funktion**, wobei $b$ die Steigung des Graphen angibt. Schauen wir uns noch einmal die Gleichungen für die verschiedenen Funktionen an (die Parameter $m$ und $b$ wurden bei der linearen Funktion durch $b$ und $c$ ausgetauscht):<br>\n",
    "\n",
    "<p>\n",
    "<table style=\"width: 60%\" id=\"centertable\">\n",
    "    <tr>\n",
    "        <td>Konstante Funktion</td>\n",
    "        <td>$f(x) = c$</td>\n",
    "    </tr>\n",
    "    <tr>\n",
    "        <td>Lineare Funktion</td>\n",
    "        <td>$f(x) = b \\cdot x + c$</td>\n",
    "    </tr>\n",
    "    <tr>\n",
    "        <td>Quadratische Funktion</td>\n",
    "        <td>$f(x) = a \\cdot x^2 + b \\cdot x + c$</td>\n",
    "    </tr>\n",
    "</table> \n",
    "</p>"
   ]
  },
  {
   "cell_type": "markdown",
   "metadata": {},
   "source": [
    "Die Funktionen scheinen immer ähnlich aufgebaut zu sein. Alle Funktionsgleichungen besitzen eine Variable $c$. Weiterhin wird immer ein Summand hinzugefügt, bei dem eine weitere Variable mit $x$ oder $x^n$ multipliziert wird. Diese Gemeinsamkeit zeigt sich auch, wenn man sich die Gleichung der \"Nachfolge\"-Funktion der quadratischen Funktion anschaut, die **kubische Funktion**:<br>\n",
    "\n",
    "$f(x) = ax^3 + bx^2 + cx + d$<br>\n",
    "\n",
    "Alle diese Funktionen sind Spezialfälle der **Polynomfunktion** (auch: **Ganzrationale Funktion**). Die Gleichung für die Polynomfunktion ist folgende:<br>\n",
    "\n",
    "$f(x) = a_n\\cdot x^n + a_{n-1}\\cdot x^{n-1} + … + a_1\\cdot x + a_0$\n",
    "\n",
    "Diese Gleichung ist ein **Polynom**. "
   ]
  },
  {
   "cell_type": "markdown",
   "metadata": {},
   "source": [
    "<div class=digression>\n",
    "    <b>Exkurs</b>: Polynome\n",
    "    <br>\n",
    "    <br>\n",
    "    Ein <b>Polynom</b> ist eine Summe von Termen, die jeweils Produkte einer Zahl mit einer Potenz $x^n$ sind. Ein Beispiel wäre folgende Gleichung:<br>\n",
    "    \n",
    "$2x^4 - 5x^3 + 7x^2 - 11x + 8$ <br>\n",
    "    \n",
    "Ein Polynom besteht aus mehreren Komponenten:<br>\n",
    "- <b>Glieder des Polynoms</b>: die einzelnen Summanden, hier: $2x^4$, $- 5x^3$, $7x^2$, $-11x$, $8$\n",
    "- <b>Variablen</b>: hier: $x$\n",
    "- <b>Grad des Polynoms</b>: höchster auftretender Exponent, hier: $4$ (aus $2x^4$)\n",
    "- <b>Koeffizienten</b>: die Zahlen, die vor den Variablen stehen, hier: $2$, $5$, $7$, $11$\n",
    "- <b>Absolutglied</b> (auch: *konstantes Glied*): Das Glied ohne Variable, hier: $8$\n",
    "    \n",
    "Das Absolutglied können wir tatsächlich auch als Koeffizienten für die Variable $x^0$ auffassen, da dies für jede Zahl, die wir für $x$ eingeben, $1$ ergibt.\n",
    "</div>"
   ]
  },
  {
   "cell_type": "markdown",
   "metadata": {},
   "source": [
    "Mithilfe dieser Gleichung können wir alle bisherige behandelte Funktionen darstellen. Diese sind alles Polynomfunktionen mit verschiedenen **Graden**:<br>\n",
    "\n",
    "<p>\n",
    "<table style=\"width: 100%\" id=\"centertable\">\n",
    "    <tr>\n",
    "        <td></td>\n",
    "        <th width=\"10%\">Grad ($n$)</th>\n",
    "        <th width=\"40%\">Gleichung</th>\n",
    "        <th>bekannte Schreibweise</th>\n",
    "    </tr>\n",
    "    <tr>\n",
    "        <th>Konstante Funktion</th>\n",
    "        <td width=\"10%\">0</td>\n",
    "        <td width=\"40%\">$f(x) = a_n \\cdot x^n$</td>\n",
    "        <td>$f(x) = c$</td>\n",
    "    </tr>\n",
    "    <tr>\n",
    "        <th>Lineare Funktion</th>\n",
    "        <td width=\"10%\">1</td>\n",
    "        <td width=\"40%\">$f(x) = a_n \\cdot x^n + a_{n-1} \\cdot x^{n-1}$</td>\n",
    "        <td>$f(x) = m \\cdot x + b$</td>\n",
    "    </tr>\n",
    "    <tr>\n",
    "        <th>Quadratische Funktion</th>\n",
    "        <td width=\"10%\">2</td>\n",
    "        <td width=\"40%\">$f(x) = a_n \\cdot x^n + a_{n-1} \\cdot x^{n-1} + a_{n-2} \\cdot x^{n-2}$</td>\n",
    "        <td>$f(x) = a \\cdot x^2 + b \\cdot x + c$</td>\n",
    "    </tr>\n",
    "    <tr>\n",
    "        <th>Kubische Funktion</th>\n",
    "        <td width=\"10%\">3</td>\n",
    "        <td width=\"40%\">$f(x) = a_n \\cdot x^n + a_{n-1} \\cdot x^{n-1} + a_{n-2} \\cdot x^{n-2} + a_{n-3} \\cdot x^{n-3}$</td>\n",
    "        <td>$f(x) = a \\cdot x^3 + b \\cdot x^2 + c \\cdot x + d$</td>\n",
    "    </tr>\n",
    "    <tr>\n",
    "        <th>...</th>\n",
    "        <td width=\"10%\">4</td>\n",
    "        <td width=\"40%\">...</td>\n",
    "        <td>...</td>\n",
    "    </tr>\n",
    "</table> \n",
    "</p>"
   ]
  },
  {
   "cell_type": "markdown",
   "metadata": {},
   "source": [
    "## 6. Potenzfunktionen <a class=\"anchor\" id=\"6\"/> "
   ]
  },
  {
   "cell_type": "markdown",
   "metadata": {},
   "source": [
    "**Potzenzfunktionen** sind Funktionen, bei denen die Variable $x$ in der Basis einer Potenz steht. Die Gleichung für Potenzfunktionen ist folgende:<br>\n",
    "\n",
    "$f(x) = a \\cdot x^n$"
   ]
  },
  {
   "cell_type": "markdown",
   "metadata": {},
   "source": [
    "#### Verwandschaft mit Polynomfunktionen\n",
    "\n",
    "Diese Gleichung scheint die selbe Gleichung wie die Gleichung für **konstante Funktionen** zu sein. Tatsächlich ist die konstante Funktion ein Spezialfall der Potenzfunktion, wenn $n = 0$. Wie auch die **Polynomfunktionen** hat eine Potenzfunktion **Grade**, die durch $n$ bestimmt werden. Der Unterschied zu Polynomfunktionen ist das Fehlen des Absolutglieds (= die Zahl ohne $x$ am Ende jeder Funktionsgleichung) und der Summanden, die ein $x$ mit einem verringerten Grad enthalten. \n",
    "\n",
    "Mithilfe der Potenzfunktion erhalten wir einen anderen Blick auf die Polynomfunktionen: Diese setzen sich aus mehreren Potzenfunktionen sowie einem Absolutglied zusammen. Das Absolutglied könnten wir wiederum als Potenzfunktion mit $n = 0$ auffassen. Nach dieser Auffassung besteht eine Polynomfunktion aus Potenzfunktionen mit absteigenden Graden, wobei der Grad nicht kleiner als $0$ sein darf. "
   ]
  },
  {
   "cell_type": "markdown",
   "metadata": {},
   "source": [
    "<div class=task>\n",
    "    <b>Aufgabe</b>: Polynomfunktionen und Potenzfunktionen\n",
    "    <br>\n",
    "    <br> Schauen Sie sich die folgende Gleichung für eine Polynomfunktion an:<br>\n",
    "    \n",
    "$f(x) = a_n \\cdot x^n + a_{n-1} \\cdot x^{n-1} + a_{n-2} \\cdot x^{n-2} + a_{n-3} \\cdot x^{n-3} + a_{n-4} \\cdot x^{n-4} + a_{n-5} \\cdot x^{n-5}$<br>\n",
    "    \n",
    "Aus wievielen <b>Potenzfunktionen</b> ist diese Gleichung zusammengesetzt? Welchen <b>Grad</b> hat die Funktion?\n",
    "<br><br>\n",
    "<label for=\"show2\" class=\"show_answer\">\n",
    "    <span>Antwort zeigen</span>\n",
    "</label>\n",
    "<input type=radio id=\"show2\" class=\"show\" name=\"group\">\n",
    "<input type=radio id=\"hide2\" class=\"hide\" name=\"group\">\n",
    "<span class=\"content\">\n",
    "    <span>Die Gleichung ist aus $6$ Potenzfunktionen zusammengesetzt. Dazu muss einfach die Anzahl der Summanden gezählt werden. Sie hat den Grad $5$, was an der letzten Potenzfunktion erkennbar ist. Diese stellt das Absolutglied dar, der Faktor mit dem $x$ muss also $1$ sein. Dies erreichen wir, indem der Exponent $0$ ist, da $x^0 = 1$. Der Faktor mit dem $x$ in der letzten Potenzfunktion ist $x^{n-5}$, also muss $n = 5$ sein, da  $x^{5-5} = x^0 = 1$.</span>\n",
    "    <br><br>\n",
    "<label for=\"hide2\" class=\"hide_answer\">\n",
    "    <span>Antwort verbergen</span> \n",
    "</label> \n",
    "</span>\n",
    "</div>"
   ]
  },
  {
   "cell_type": "markdown",
   "metadata": {},
   "source": [
    "<div class=warn>\n",
    "    <b>Achtung</b>: Reglerschritte bei der Visualisierung der Potenzfunktion.\n",
    "    <br>\n",
    "    <br>\n",
    "    TODO: float Zahlen geben Fehler aus, warum?\n",
    "</div>"
   ]
  },
  {
   "cell_type": "markdown",
   "metadata": {},
   "source": [
    "### Die Visualisierung von Potenzfunktionen"
   ]
  },
  {
   "cell_type": "code",
   "execution_count": 12,
   "metadata": {},
   "outputs": [
    {
     "data": {
      "application/vnd.jupyter.widget-view+json": {
       "model_id": "9994354c689c4dac806ebefc9283d59b",
       "version_major": 2,
       "version_minor": 0
      },
      "text/plain": [
       "interactive(children=(FloatSlider(value=0.0, continuous_update=False, description='a', max=10.0, min=-10.0, re…"
      ]
     },
     "metadata": {},
     "output_type": "display_data"
    }
   ],
   "source": [
    "plt_function(function=\"power\", space=(-10.0, 10.0), slider_step=1.0)"
   ]
  },
  {
   "cell_type": "markdown",
   "metadata": {},
   "source": [
    "Das Aussehen der Graphen von Potenzfunktionen ist je nach Wahl von $n$ sehr unterschiedlich. Dies wird durch das folgende Visualisierungstool deutlich. Für die folgenden Beispiele setzen Sie bitte $a = 1$.\n",
    "\n",
    "<p>\n",
    "<table style=\"width: 100%\" id=\"centertable\">\n",
    "    <tr>\n",
    "        <td width=\"10%\"></td>\n",
    "        <th width=\"10%\">$n$</th>\n",
    "        <th width=\"40%\">Beschreibung</th>\n",
    "    </tr>\n",
    "    <tr>\n",
    "        <td><b>Spezialfall 1</b></td>\n",
    "        <td>$n=0$</td>\n",
    "        <td>Setzen wir $n=0$, wird unsere Potenzfunktion zu einer <b>konstanten Funktion</b>.</td>\n",
    "    </tr>\n",
    "    <tr>\n",
    "        <td><b>Spezialfall 2</b></td>\n",
    "        <td>$n=1$</td>\n",
    "        <td>Setzen wir $n=1$, erhalten wir neben $n=0$ einen zweiten Sonderfall und unser Graph wird zu einer <b>linearen Funktion</b>, welche durch den Ursprung $(0|0)$ geht. Dies gilt jedoch nur für $n=1$ und <u>nicht</u> für $n=-1$.</td>\n",
    "    </tr>\n",
    "    <tr>\n",
    "        <td><b>gerade Exponenten</b></td>\n",
    "        <td>$n=2, \\\\ n=4, \\\\ n=6, \\\\... $</td>\n",
    "        <td></td>\n",
    "    </tr>\n",
    "    <tr>\n",
    "        <td><b></b></td>\n",
    "        <td></td>\n",
    "        <td></td>\n",
    "    </tr>\n",
    "</table> \n",
    "</p>"
   ]
  },
  {
   "cell_type": "markdown",
   "metadata": {},
   "source": []
  },
  {
   "cell_type": "markdown",
   "metadata": {},
   "source": [
    "TODO: mehr zu Potenzfunktionen\n",
    "- Visualisierung\n",
    "- Rechnung\n",
    "- ..."
   ]
  },
  {
   "cell_type": "code",
   "execution_count": null,
   "metadata": {},
   "outputs": [],
   "source": []
  }
 ],
 "metadata": {
  "kernelspec": {
   "display_name": "Python 3",
   "language": "python",
   "name": "python3"
  },
  "language_info": {
   "codemirror_mode": {
    "name": "ipython",
    "version": 3
   },
   "file_extension": ".py",
   "mimetype": "text/x-python",
   "name": "python",
   "nbconvert_exporter": "python",
   "pygments_lexer": "ipython3",
   "version": "3.7.4"
  }
 },
 "nbformat": 4,
 "nbformat_minor": 4
}
