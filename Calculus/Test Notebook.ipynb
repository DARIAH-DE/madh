{
 "cells": [
  {
   "cell_type": "markdown",
   "metadata": {},
   "source": [
    "# Testnotebook"
   ]
  },
  {
   "cell_type": "markdown",
   "metadata": {},
   "source": [
    "Hier probiere ich Ideen und Techniken aus."
   ]
  },
  {
   "cell_type": "code",
   "execution_count": 1,
   "metadata": {},
   "outputs": [
    {
     "data": {
      "text/html": [
       "<style>\n",
       "\n",
       "/* colors (outdated)\n",
       "\n",
       "- very pale blue: #e5f6ff (= note block)\n",
       "\n",
       "- dark lime green: #28a428 (= right answer of quiz)\n",
       "\n",
       "- moderate red: #d23838 (= wrong answer of quiz)\n",
       "- light grayish red: #fcf2f2 (= warning block)\n",
       "\n",
       "*/\n",
       "\n",
       "\n",
       "div.digression {    \n",
       "    background-color: #e5f6ff;\n",
       "    border-color: #a1c6de;\n",
       "    border-left: 5px solid #a1c6de;\n",
       "    border-right: 5px solid #a1c6de;\n",
       "    border-top: 5px solid #a1c6de;\n",
       "    border-bottom: 5px solid #a1c6de;\n",
       "    padding: 0.5em;\n",
       "}\n",
       "\n",
       "div.note {    \n",
       "    background-color: #e5f6ff;\n",
       "    border-color: #ffb382;\n",
       "    border-left: 5px solid #ffb382;\n",
       "    border-right: 5px solid #ffb382;\n",
       "    border-top: 5px solid #ffb382;\n",
       "    border-bottom: 5px solid #ffb382;\n",
       "    padding: 0.5em;\n",
       "}\n",
       "\n",
       "div.task {    \n",
       "    background-color: #e5f6ff;\n",
       "    border-color: #99b898;\n",
       "    border-left: 5px solid #99b898;\n",
       "    border-right: 5px solid #99b898;\n",
       "    border-top: 5px solid #99b898;\n",
       "    border-bottom: 5px solid #99b898;\n",
       "    padding: 0.5em;\n",
       "}\n",
       "\n",
       "/* for simple answer / solution*/\n",
       "input#show, input#hide {\n",
       "    display:none;\n",
       "}\n",
       "\n",
       "label#answers {\n",
       "  border: 1px solid black;\n",
       "  padding: 1px;\n",
       "}\n",
       "\n",
       "label#show_answer {\n",
       "  background-color: #008CBA;  /* Blue */\n",
       "  border: none;\n",
       "  border-radius: 8px;\n",
       "  color: white;\n",
       "  padding: 3px 10px;\n",
       "  text-align: center;\n",
       "  text-decoration: none;\n",
       "  display: inline-block;\n",
       "  font-size: 12px;\n",
       "}\n",
       "\n",
       "label#hide_answer {\n",
       "  background-color: #b2b2b2; /* Grey */\n",
       "  border: none;\n",
       "  border-radius: 8px;\n",
       "  color: white;\n",
       "  padding: 1px 5px;\n",
       "  text-align: center;\n",
       "  text-decoration: none;\n",
       "  display: inline-block;\n",
       "  font-size: 12px;\n",
       "}\n",
       "\n",
       "\n",
       "\n",
       "\n",
       "span#content {\n",
       "    display:none;\n",
       "}\n",
       "input#show:checked ~ span#content {\n",
       "  display:block;\n",
       "}\n",
       "\n",
       "input#hide:checked ~ span#content {\n",
       "    display:none;\n",
       "}\n",
       "\n",
       "/* special fields*/\n",
       "div.warn {    \n",
       "    background-color: #e5f6ff;\n",
       "    border-color: #cc1a32;\n",
       "    border-left: 5px solid #cc1a32;\n",
       "    border-right: 5px solid #cc1a32;\n",
       "    border-top: 5px solid #cc1a32;\n",
       "    border-bottom: 5px solid #cc1a32;\n",
       "    padding: 0.5em;\n",
       "}\n",
       "\n",
       "table {\n",
       "    float: left;\n",
       "    border-style: 1.5px solid black;\n",
       "    border: 1.5px  black solid !important;\n",
       "    color: black !important;\n",
       "}\n",
       "\n",
       "th, td {\n",
       "    text-align: center;\n",
       "    vertical-align: middle;\n",
       "    border: 1.5px  black solid !important;\n",
       "    color: black !important;\n",
       "}\n",
       "\n",
       "#centertable td\n",
       "{\n",
       "    text-align: center; \n",
       "    vertical-align: middle;\n",
       "}\n",
       "\n",
       "#centertable th\n",
       "{\n",
       "    text-align: center; \n",
       "    vertical-align: middle;\n",
       "}\n",
       "\n",
       "\n",
       "\n",
       " </style>\n"
      ],
      "text/plain": [
       "<IPython.core.display.HTML object>"
      ]
     },
     "execution_count": 1,
     "metadata": {},
     "output_type": "execute_result"
    }
   ],
   "source": [
    "import sys\n",
    "sys.path.append(\"../src/\") \n",
    "from quiz import start_quiz\n",
    "from utils import css_styling, hide_code\n",
    "from functionplotter import plt_function\n",
    "css_styling()"
   ]
  },
  {
   "cell_type": "code",
   "execution_count": 2,
   "metadata": {},
   "outputs": [
    {
     "data": {
      "application/vnd.jupyter.widget-view+json": {
       "model_id": "6034de91df1a48a39b8519ca07b447cb",
       "version_major": 2,
       "version_minor": 0
      },
      "text/plain": [
       "interactive(children=(FloatSlider(value=0.0, continuous_update=False, description='m', max=10.0, min=-10.0, re…"
      ]
     },
     "metadata": {},
     "output_type": "display_data"
    }
   ],
   "source": [
    "plt_function(function=\"linear\", space=(-10.0, 10), slider_step=1.0)"
   ]
  },
  {
   "cell_type": "markdown",
   "metadata": {},
   "source": [
    "<label for=\"show\" id=\"show_answer\">\n",
    "    <span>Antwort zeigen</span>\n",
    "</label>\n",
    "<input type=radio id=\"show\" name=\"group\">\n",
    "   \n",
    "<input type=radio id=\"hide\" name=\"group\">\n",
    "<span id=\"content\">Hier kommt die Antwort<br><br>\n",
    "<label for=\"hide\" id=\"hide_answer\">\n",
    "    <span>Antwort verbergen</span> \n",
    "</label> \n",
    "</span>"
   ]
  },
  {
   "cell_type": "code",
   "execution_count": 1,
   "metadata": {},
   "outputs": [
    {
     "ename": "NameError",
     "evalue": "name 'plt_function' is not defined",
     "output_type": "error",
     "traceback": [
      "\u001b[0;31m---------------------------------------------------------------------------\u001b[0m",
      "\u001b[0;31mNameError\u001b[0m                                 Traceback (most recent call last)",
      "\u001b[0;32m<ipython-input-1-8adef2dc2a58>\u001b[0m in \u001b[0;36m<module>\u001b[0;34m\u001b[0m\n\u001b[1;32m      1\u001b[0m \u001b[0mget_ipython\u001b[0m\u001b[0;34m(\u001b[0m\u001b[0;34m)\u001b[0m\u001b[0;34m.\u001b[0m\u001b[0mrun_line_magic\u001b[0m\u001b[0;34m(\u001b[0m\u001b[0;34m'matplotlib'\u001b[0m\u001b[0;34m,\u001b[0m \u001b[0;34m'inline'\u001b[0m\u001b[0;34m)\u001b[0m\u001b[0;34m\u001b[0m\u001b[0;34m\u001b[0m\u001b[0m\n\u001b[0;32m----> 2\u001b[0;31m \u001b[0mplt_function\u001b[0m\u001b[0;34m(\u001b[0m\u001b[0mfunction\u001b[0m\u001b[0;34m=\u001b[0m\u001b[0;34m\"constant\"\u001b[0m\u001b[0;34m)\u001b[0m\u001b[0;34m\u001b[0m\u001b[0;34m\u001b[0m\u001b[0m\n\u001b[0m",
      "\u001b[0;31mNameError\u001b[0m: name 'plt_function' is not defined"
     ]
    }
   ],
   "source": [
    "%matplotlib inline\n",
    "plt_function(function=\"constant\")"
   ]
  },
  {
   "cell_type": "code",
   "execution_count": 2,
   "metadata": {
    "scrolled": true
   },
   "outputs": [
    {
     "ename": "NameError",
     "evalue": "name 'hide_code' is not defined",
     "output_type": "error",
     "traceback": [
      "\u001b[0;31m---------------------------------------------------------------------------\u001b[0m",
      "\u001b[0;31mNameError\u001b[0m                                 Traceback (most recent call last)",
      "\u001b[0;32m<ipython-input-2-5daa1642f8e2>\u001b[0m in \u001b[0;36m<module>\u001b[0;34m\u001b[0m\n\u001b[1;32m      3\u001b[0m     \u001b[0;32mreturn\u001b[0m \u001b[0mx\u001b[0m\u001b[0;34m**\u001b[0m\u001b[0;36m2\u001b[0m\u001b[0;34m\u001b[0m\u001b[0;34m\u001b[0m\u001b[0m\n\u001b[1;32m      4\u001b[0m \u001b[0mc\u001b[0m \u001b[0;34m=\u001b[0m \u001b[0mb\u001b[0m\u001b[0;34m(\u001b[0m\u001b[0ma\u001b[0m\u001b[0;34m)\u001b[0m\u001b[0;34m\u001b[0m\u001b[0;34m\u001b[0m\u001b[0m\n\u001b[0;32m----> 5\u001b[0;31m \u001b[0mhide_code\u001b[0m\u001b[0;34m(\u001b[0m\u001b[0;34m)\u001b[0m\u001b[0;34m\u001b[0m\u001b[0;34m\u001b[0m\u001b[0m\n\u001b[0m",
      "\u001b[0;31mNameError\u001b[0m: name 'hide_code' is not defined"
     ]
    }
   ],
   "source": [
    "a = 4\n",
    "def b(x):\n",
    "    return x**2\n",
    "c = b(a)\n",
    "hide_code()"
   ]
  },
  {
   "cell_type": "markdown",
   "metadata": {},
   "source": [
    "<div class=warn>\n",
    "    <b>Achtung</b>: Dies ist ein Achtung-Feld.\n",
    "    <br>\n",
    "    <br>\n",
    "</div>"
   ]
  },
  {
   "cell_type": "markdown",
   "metadata": {},
   "source": [
    "<div class=task>\n",
    "    <b>Aufgabe</b>: Dies ist ein Aufgaben-Feld.\n",
    "    <br>\n",
    "    <br>\n",
    "</div>"
   ]
  },
  {
   "cell_type": "markdown",
   "metadata": {},
   "source": [
    "<div class=digression>\n",
    "    <b>Exkurs</b>: Dies ist ein Exkurs-Feld.\n",
    "    <br>\n",
    "    <br>\n",
    "</div>"
   ]
  },
  {
   "cell_type": "markdown",
   "metadata": {},
   "source": [
    "<div class=note>\n",
    "    <b>Hinweis</b> : Dies ist ein Hinweis-Feld.\n",
    "    <br>\n",
    "    <br>\n",
    "</div>"
   ]
  },
  {
   "cell_type": "markdown",
   "metadata": {},
   "source": [
    "## testing interactive graph visualization"
   ]
  },
  {
   "cell_type": "code",
   "execution_count": 1,
   "metadata": {},
   "outputs": [
    {
     "name": "stderr",
     "output_type": "stream",
     "text": [
      "/home/janpaulus/.local/share/virtualenvs/madh-JU2eo5wt/lib/python3.8/site-packages/IPython/html.py:12: ShimWarning: The `IPython.html` package has been deprecated since IPython 4.0. You should import from `notebook` instead. `IPython.html.widgets` has moved to `ipywidgets`.\n",
      "  warn(\"The `IPython.html` package has been deprecated since IPython 4.0. \"\n"
     ]
    }
   ],
   "source": [
    "import jp_proxy_widget\n",
    "\n",
    "from IPython.html.widgets import *\n",
    "import numpy as np\n",
    "import matplotlib.pyplot as plt\n",
    "import math\n",
    "from matplotlib.ticker import MaxNLocator\n",
    "\n",
    "\n",
    "def coordinate_system(ax, neg_dim, pos_dim):\n",
    "\n",
    "    ax.spines['left'].set_position('center')\n",
    "    ax.spines['bottom'].set_position('zero')\n",
    "    ax.spines['right'].set_color('none')\n",
    "    ax.spines['top'].set_color('none')\n",
    "    ax.xaxis.set_ticks_position('bottom')\n",
    "    ax.yaxis.set_ticks_position('left')\n",
    "    ax.set_xlim([neg_dim,pos_dim])\n",
    "    ax.set_ylim([neg_dim,pos_dim])\n",
    "    ax.xaxis.set_major_locator(MaxNLocator(integer=True))\n",
    "    ax.yaxis.set_major_locator(MaxNLocator(integer=True))"
   ]
  },
  {
   "cell_type": "code",
   "execution_count": 41,
   "metadata": {},
   "outputs": [],
   "source": [
    "@np.vectorize\n",
    "def constant_function(c, x):\n",
    "    return c\n",
    "\n",
    "def get_function(function = \"constant\", space=(-10.0, 10.0), **kwargs):\n",
    "    if function == \"constant\" and len(kwargs) > 0:\n",
    "        x = np.linspace(space[0],space[1],num=100)\n",
    "        \n",
    "        y = constant_function(kwargs[\"v1\"], x)\n",
    "        fig = plt.figure()\n",
    "        ax = fig.add_subplot(1, 1, 1)\n",
    "        coordinate_system(ax, space[0],space[1]) \n",
    "        plt.plot(x, y)\n",
    "        plt.grid()\n",
    "        plt.show()\n",
    "        \n",
    "def get_slider(value_names = [\"x\", \"w\"], \n",
    "               space = (-10.0, 10.0), \n",
    "               slider_step = 1.0):\n",
    "    \n",
    "    if len(value_names) == 1:\n",
    "        sliders = [widgets.FloatSlider(value=0, \n",
    "                                       min=space[0], \n",
    "                                       max=space[1],\n",
    "                                       step=slider_step,\n",
    "                                       description=f'{value_names[0]}',\n",
    "                                       disabled=False,\n",
    "                                       continuous_update=False,\n",
    "                                       orientation='horizontal',\n",
    "                                       readout=True,\n",
    "                                       readout_format='.1f',) \n",
    "                   for i in range(len(value_names))]\n",
    "    else:\n",
    "        sliders = [widgets.FloatSlider(value=0, \n",
    "                                       min=space[0], \n",
    "                                       max=space[1],\n",
    "                                       step=slider_step,\n",
    "                                       description=f'{value_names[i]}',\n",
    "                                       disabled=False,\n",
    "                                       continuous_update=False,\n",
    "                                       orientation='horizontal',\n",
    "                                       readout=True,\n",
    "                                       readout_format='.1f',) \n",
    "                   for i in range(len(value_names))]\n",
    "        \n",
    "    return sliders\n",
    "def plt_function(function = \"constant\", \n",
    "                 space=(-10.0, 10.0), \n",
    "                 slider_step = 1.0):\n",
    "    if function == \"constant\":\n",
    "        value_names = [\"c\", \"x\"]\n",
    "        sliders = get_slider(value_names, space=space, slider_step=slider_step)\n",
    "    \n",
    "    kwargs = {'v{}'.format(i+1):slider for i, slider in enumerate(sliders)}\n",
    "    interact(get_function, function=fixed(function), space=fixed(space), **kwargs)"
   ]
  },
  {
   "cell_type": "code",
   "execution_count": 42,
   "metadata": {},
   "outputs": [
    {
     "data": {
      "application/vnd.jupyter.widget-view+json": {
       "model_id": "f94f753b0dce42edb786888ea82be4a4",
       "version_major": 2,
       "version_minor": 0
      },
      "text/plain": [
       "interactive(children=(FloatSlider(value=0.0, continuous_update=False, description='c', max=20.0, min=-20.0, re…"
      ]
     },
     "metadata": {},
     "output_type": "display_data"
    }
   ],
   "source": [
    "plt_function(function=\"constant\", space=(-20, 20, 1))"
   ]
  },
  {
   "cell_type": "code",
   "execution_count": 363,
   "metadata": {},
   "outputs": [],
   "source": [
    "n_weights=10\n"
   ]
  },
  {
   "cell_type": "code",
   "execution_count": 354,
   "metadata": {},
   "outputs": [
    {
     "data": {
      "text/plain": [
       "dict_values([FloatSlider(value=0.0, continuous_update=False, description='w0', max=10.0, min=-10.0, readout_format='.1f'), FloatSlider(value=0.0, continuous_update=False, description='w1', max=10.0, min=-10.0, readout_format='.1f'), FloatSlider(value=0.0, continuous_update=False, description='w2', max=10.0, min=-10.0, readout_format='.1f'), FloatSlider(value=0.0, continuous_update=False, description='w3', max=10.0, min=-10.0, readout_format='.1f'), FloatSlider(value=0.0, continuous_update=False, description='w4', max=10.0, min=-10.0, readout_format='.1f'), FloatSlider(value=0.0, continuous_update=False, description='w5', max=10.0, min=-10.0, readout_format='.1f'), FloatSlider(value=0.0, continuous_update=False, description='w6', max=10.0, min=-10.0, readout_format='.1f'), FloatSlider(value=0.0, continuous_update=False, description='w7', max=10.0, min=-10.0, readout_format='.1f'), FloatSlider(value=0.0, continuous_update=False, description='w8', max=10.0, min=-10.0, readout_format='.1f'), FloatSlider(value=0.0, continuous_update=False, description='w9', max=10.0, min=-10.0, readout_format='.1f')])"
      ]
     },
     "execution_count": 354,
     "metadata": {},
     "output_type": "execute_result"
    }
   ],
   "source": [
    "kwargs.values()"
   ]
  },
  {
   "cell_type": "code",
   "execution_count": null,
   "metadata": {},
   "outputs": [],
   "source": []
  },
  {
   "cell_type": "code",
   "execution_count": 263,
   "metadata": {},
   "outputs": [],
   "source": [
    "a = (1, 2)\n",
    "kwargs = {'v{}'.format(i) for i in a}"
   ]
  },
  {
   "cell_type": "code",
   "execution_count": 264,
   "metadata": {},
   "outputs": [
    {
     "data": {
      "text/plain": [
       "{'v1', 'v2'}"
      ]
     },
     "execution_count": 264,
     "metadata": {},
     "output_type": "execute_result"
    }
   ],
   "source": [
    "kwargs"
   ]
  },
  {
   "cell_type": "code",
   "execution_count": 261,
   "metadata": {},
   "outputs": [
    {
     "name": "stdout",
     "output_type": "stream",
     "text": [
      "{'w0': FloatSlider(value=0.0, continuous_update=False, description='w0', max=10.0, min=-10.0, readout_format='.1f'), 'w1': FloatSlider(value=0.0, continuous_update=False, description='w1', max=10.0, min=-10.0, readout_format='.1f')}\n"
     ]
    },
    {
     "data": {
      "application/vnd.jupyter.widget-view+json": {
       "model_id": "c2e387b87f244f01ac19e818921a17e6",
       "version_major": 2,
       "version_minor": 0
      },
      "text/plain": [
       "interactive(children=(FloatSlider(value=0.0, continuous_update=False, description='w0', max=10.0, min=-10.0, r…"
      ]
     },
     "metadata": {},
     "output_type": "display_data"
    },
    {
     "data": {
      "text/plain": [
       "<function __main__.PlotSuperposition(**kwargs)>"
      ]
     },
     "execution_count": 261,
     "metadata": {},
     "output_type": "execute_result"
    }
   ],
   "source": [
    "def PlotSuperposition(**kwargs):\n",
    "    def f(x):\n",
    "        y = 0\n",
    "        for i, weight in enumerate(kwargs.values()):\n",
    "            if i==0:\n",
    "                y+=weight\n",
    "            else:\n",
    "                y += weight*math.sin(x*i)\n",
    "        return y\n",
    "    vf = np.vectorize(f)\n",
    "    xx = np.arange(0,6,0.1)\n",
    "    plt.plot(xx, vf(xx))\n",
    "    plt.gca().set_ylim(-5,5)\n",
    "    \n",
    "    \n",
    "n_weights=2\n",
    "weight_sliders = [widgets.FloatSlider(\n",
    "        value=0,\n",
    "        min=-10.0,\n",
    "        max=10.0,\n",
    "        step=0.1,\n",
    "        description='w%d' % i,\n",
    "        disabled=False,\n",
    "        continuous_update=False,\n",
    "        orientation='horizontal',\n",
    "        readout=True,\n",
    "        readout_format='.1f',\n",
    "    ) for i in range(n_weights)]\n",
    "\n",
    "\n",
    "kwargs = {'w{}'.format(i):slider for i, slider in enumerate(weight_sliders)}\n",
    "print(kwargs)\n",
    "\n",
    "interact(PlotSuperposition, **kwargs)"
   ]
  },
  {
   "cell_type": "code",
   "execution_count": null,
   "metadata": {},
   "outputs": [],
   "source": []
  },
  {
   "cell_type": "code",
   "execution_count": null,
   "metadata": {},
   "outputs": [],
   "source": []
  },
  {
   "cell_type": "code",
   "execution_count": null,
   "metadata": {},
   "outputs": [],
   "source": []
  },
  {
   "cell_type": "code",
   "execution_count": 235,
   "metadata": {},
   "outputs": [],
   "source": [
    "#\n",
    "#%matplotlib inline\n",
    "\n",
    "def linear_function(w,x,b):\n",
    "    return w*x + b\n",
    "\n",
    "\n",
    "\n",
    "\n",
    "\n",
    "def constant_function(c):\n",
    "    space=(-10, 10)\n",
    "    x = np.linspace(space[0],space[1],num=100)\n",
    "    y = c \n",
    "    fig = plt.figure()\n",
    "    ax = fig.add_subplot(1, 1, 1)\n",
    "    coordinate_system(ax, space[0],space[1]) \n",
    "    plt.plot(x, y)\n",
    "    plt.grid()\n",
    "    plt.show()\n",
    "\n"
   ]
  },
  {
   "cell_type": "code",
   "execution_count": 236,
   "metadata": {
    "collapsed": true
   },
   "outputs": [
    {
     "ename": "AttributeError",
     "evalue": "'vectorize' object has no attribute '__name__'",
     "output_type": "error",
     "traceback": [
      "\u001b[0;31m---------------------------------------------------------------------------\u001b[0m",
      "\u001b[0;31mAttributeError\u001b[0m                            Traceback (most recent call last)",
      "\u001b[0;32m<ipython-input-236-cf42364c5a97>\u001b[0m in \u001b[0;36m<module>\u001b[0;34m\u001b[0m\n\u001b[0;32m----> 1\u001b[0;31m \u001b[0mplt_function\u001b[0m\u001b[0;34m(\u001b[0m\u001b[0;34m)\u001b[0m\u001b[0;34m\u001b[0m\u001b[0;34m\u001b[0m\u001b[0m\n\u001b[0m",
      "\u001b[0;32m<ipython-input-235-c6d1b615c436>\u001b[0m in \u001b[0;36mplt_function\u001b[0;34m(function, space)\u001b[0m\n\u001b[1;32m     24\u001b[0m \u001b[0;32mdef\u001b[0m \u001b[0mplt_function\u001b[0m\u001b[0;34m(\u001b[0m\u001b[0mfunction\u001b[0m \u001b[0;34m=\u001b[0m \u001b[0;34m\"constant\"\u001b[0m\u001b[0;34m,\u001b[0m \u001b[0mspace\u001b[0m\u001b[0;34m=\u001b[0m\u001b[0;34m(\u001b[0m\u001b[0;34m-\u001b[0m\u001b[0;36m10\u001b[0m\u001b[0;34m,\u001b[0m \u001b[0;36m10\u001b[0m\u001b[0;34m)\u001b[0m\u001b[0;34m)\u001b[0m\u001b[0;34m:\u001b[0m\u001b[0;34m\u001b[0m\u001b[0;34m\u001b[0m\u001b[0m\n\u001b[1;32m     25\u001b[0m     \u001b[0;32mif\u001b[0m \u001b[0mfunction\u001b[0m \u001b[0;34m==\u001b[0m \u001b[0;34m\"constant\"\u001b[0m\u001b[0;34m:\u001b[0m\u001b[0;34m\u001b[0m\u001b[0;34m\u001b[0m\u001b[0m\n\u001b[0;32m---> 26\u001b[0;31m         \u001b[0minteract\u001b[0m\u001b[0;34m(\u001b[0m\u001b[0mconstant_function\u001b[0m\u001b[0;34m,\u001b[0m \u001b[0mc\u001b[0m \u001b[0;34m=\u001b[0m \u001b[0;34m(\u001b[0m\u001b[0;34m-\u001b[0m\u001b[0;36m10\u001b[0m\u001b[0;34m,\u001b[0m \u001b[0;36m10\u001b[0m\u001b[0;34m,\u001b[0m \u001b[0;36m0.1\u001b[0m\u001b[0;34m)\u001b[0m\u001b[0;34m,\u001b[0m \u001b[0mspace\u001b[0m\u001b[0;34m=\u001b[0m\u001b[0mspace\u001b[0m\u001b[0;34m)\u001b[0m\u001b[0;34m\u001b[0m\u001b[0;34m\u001b[0m\u001b[0m\n\u001b[0m",
      "\u001b[0;32m~/.local/share/virtualenvs/madh-JU2eo5wt/lib/python3.8/site-packages/ipywidgets/widgets/interaction.py\u001b[0m in \u001b[0;36m__call__\u001b[0;34m(self, _InteractFactory__interact_f, **kwargs)\u001b[0m\n\u001b[1;32m    526\u001b[0m         \u001b[0;31m#    def f(*args, **kwargs):\u001b[0m\u001b[0;34m\u001b[0m\u001b[0;34m\u001b[0m\u001b[0;34m\u001b[0m\u001b[0m\n\u001b[1;32m    527\u001b[0m         \u001b[0;31m#        ...\u001b[0m\u001b[0;34m\u001b[0m\u001b[0;34m\u001b[0m\u001b[0;34m\u001b[0m\u001b[0m\n\u001b[0;32m--> 528\u001b[0;31m         \u001b[0mw\u001b[0m \u001b[0;34m=\u001b[0m \u001b[0mself\u001b[0m\u001b[0;34m.\u001b[0m\u001b[0mwidget\u001b[0m\u001b[0;34m(\u001b[0m\u001b[0mf\u001b[0m\u001b[0;34m)\u001b[0m\u001b[0;34m\u001b[0m\u001b[0;34m\u001b[0m\u001b[0m\n\u001b[0m\u001b[1;32m    529\u001b[0m         \u001b[0;32mtry\u001b[0m\u001b[0;34m:\u001b[0m\u001b[0;34m\u001b[0m\u001b[0;34m\u001b[0m\u001b[0m\n\u001b[1;32m    530\u001b[0m             \u001b[0mf\u001b[0m\u001b[0;34m.\u001b[0m\u001b[0mwidget\u001b[0m \u001b[0;34m=\u001b[0m \u001b[0mw\u001b[0m\u001b[0;34m\u001b[0m\u001b[0;34m\u001b[0m\u001b[0m\n",
      "\u001b[0;32m~/.local/share/virtualenvs/madh-JU2eo5wt/lib/python3.8/site-packages/ipywidgets/widgets/interaction.py\u001b[0m in \u001b[0;36mwidget\u001b[0;34m(self, f)\u001b[0m\n\u001b[1;32m    442\u001b[0m             \u001b[0mThe\u001b[0m \u001b[0mfunction\u001b[0m \u001b[0mto\u001b[0m \u001b[0mwhich\u001b[0m \u001b[0mthe\u001b[0m \u001b[0minteractive\u001b[0m \u001b[0mwidgets\u001b[0m \u001b[0mare\u001b[0m \u001b[0mtied\u001b[0m\u001b[0;34m.\u001b[0m\u001b[0;34m\u001b[0m\u001b[0;34m\u001b[0m\u001b[0m\n\u001b[1;32m    443\u001b[0m         \"\"\"\n\u001b[0;32m--> 444\u001b[0;31m         \u001b[0;32mreturn\u001b[0m \u001b[0mself\u001b[0m\u001b[0;34m.\u001b[0m\u001b[0mcls\u001b[0m\u001b[0;34m(\u001b[0m\u001b[0mf\u001b[0m\u001b[0;34m,\u001b[0m \u001b[0mself\u001b[0m\u001b[0;34m.\u001b[0m\u001b[0mopts\u001b[0m\u001b[0;34m,\u001b[0m \u001b[0;34m**\u001b[0m\u001b[0mself\u001b[0m\u001b[0;34m.\u001b[0m\u001b[0mkwargs\u001b[0m\u001b[0;34m)\u001b[0m\u001b[0;34m\u001b[0m\u001b[0;34m\u001b[0m\u001b[0m\n\u001b[0m\u001b[1;32m    445\u001b[0m \u001b[0;34m\u001b[0m\u001b[0m\n\u001b[1;32m    446\u001b[0m     \u001b[0;32mdef\u001b[0m \u001b[0m__call__\u001b[0m\u001b[0;34m(\u001b[0m\u001b[0mself\u001b[0m\u001b[0;34m,\u001b[0m \u001b[0m__interact_f\u001b[0m\u001b[0;34m=\u001b[0m\u001b[0;32mNone\u001b[0m\u001b[0;34m,\u001b[0m \u001b[0;34m**\u001b[0m\u001b[0mkwargs\u001b[0m\u001b[0;34m)\u001b[0m\u001b[0;34m:\u001b[0m\u001b[0;34m\u001b[0m\u001b[0;34m\u001b[0m\u001b[0m\n",
      "\u001b[0;32m~/.local/share/virtualenvs/madh-JU2eo5wt/lib/python3.8/site-packages/ipywidgets/widgets/interaction.py\u001b[0m in \u001b[0;36m__init__\u001b[0;34m(self, _interactive__interact_f, _interactive__options, **kwargs)\u001b[0m\n\u001b[1;32m    196\u001b[0m             \u001b[0;32mpass\u001b[0m\u001b[0;34m\u001b[0m\u001b[0;34m\u001b[0m\u001b[0m\n\u001b[1;32m    197\u001b[0m         \u001b[0;32melse\u001b[0m\u001b[0;34m:\u001b[0m\u001b[0;34m\u001b[0m\u001b[0;34m\u001b[0m\u001b[0m\n\u001b[0;32m--> 198\u001b[0;31m             \u001b[0mgetcallargs\u001b[0m\u001b[0;34m(\u001b[0m\u001b[0mf\u001b[0m\u001b[0;34m,\u001b[0m \u001b[0;34m**\u001b[0m\u001b[0;34m{\u001b[0m\u001b[0mn\u001b[0m\u001b[0;34m:\u001b[0m\u001b[0mv\u001b[0m \u001b[0;32mfor\u001b[0m \u001b[0mn\u001b[0m\u001b[0;34m,\u001b[0m\u001b[0mv\u001b[0m\u001b[0;34m,\u001b[0m\u001b[0m_\u001b[0m \u001b[0;32min\u001b[0m \u001b[0mnew_kwargs\u001b[0m\u001b[0;34m}\u001b[0m\u001b[0;34m)\u001b[0m\u001b[0;34m\u001b[0m\u001b[0;34m\u001b[0m\u001b[0m\n\u001b[0m\u001b[1;32m    199\u001b[0m         \u001b[0;31m# Now build the widgets from the abbreviations.\u001b[0m\u001b[0;34m\u001b[0m\u001b[0;34m\u001b[0m\u001b[0;34m\u001b[0m\u001b[0m\n\u001b[1;32m    200\u001b[0m         \u001b[0mself\u001b[0m\u001b[0;34m.\u001b[0m\u001b[0mkwargs_widgets\u001b[0m \u001b[0;34m=\u001b[0m \u001b[0mself\u001b[0m\u001b[0;34m.\u001b[0m\u001b[0mwidgets_from_abbreviations\u001b[0m\u001b[0;34m(\u001b[0m\u001b[0mnew_kwargs\u001b[0m\u001b[0;34m)\u001b[0m\u001b[0;34m\u001b[0m\u001b[0;34m\u001b[0m\u001b[0m\n",
      "\u001b[0;32m/usr/lib/python3.8/inspect.py\u001b[0m in \u001b[0;36mgetcallargs\u001b[0;34m(func, *positional, **named)\u001b[0m\n\u001b[1;32m   1334\u001b[0m     \u001b[0mspec\u001b[0m \u001b[0;34m=\u001b[0m \u001b[0mgetfullargspec\u001b[0m\u001b[0;34m(\u001b[0m\u001b[0mfunc\u001b[0m\u001b[0;34m)\u001b[0m\u001b[0;34m\u001b[0m\u001b[0;34m\u001b[0m\u001b[0m\n\u001b[1;32m   1335\u001b[0m     \u001b[0margs\u001b[0m\u001b[0;34m,\u001b[0m \u001b[0mvarargs\u001b[0m\u001b[0;34m,\u001b[0m \u001b[0mvarkw\u001b[0m\u001b[0;34m,\u001b[0m \u001b[0mdefaults\u001b[0m\u001b[0;34m,\u001b[0m \u001b[0mkwonlyargs\u001b[0m\u001b[0;34m,\u001b[0m \u001b[0mkwonlydefaults\u001b[0m\u001b[0;34m,\u001b[0m \u001b[0mann\u001b[0m \u001b[0;34m=\u001b[0m \u001b[0mspec\u001b[0m\u001b[0;34m\u001b[0m\u001b[0;34m\u001b[0m\u001b[0m\n\u001b[0;32m-> 1336\u001b[0;31m     \u001b[0mf_name\u001b[0m \u001b[0;34m=\u001b[0m \u001b[0mfunc\u001b[0m\u001b[0;34m.\u001b[0m\u001b[0m__name__\u001b[0m\u001b[0;34m\u001b[0m\u001b[0;34m\u001b[0m\u001b[0m\n\u001b[0m\u001b[1;32m   1337\u001b[0m     \u001b[0marg2value\u001b[0m \u001b[0;34m=\u001b[0m \u001b[0;34m{\u001b[0m\u001b[0;34m}\u001b[0m\u001b[0;34m\u001b[0m\u001b[0;34m\u001b[0m\u001b[0m\n\u001b[1;32m   1338\u001b[0m \u001b[0;34m\u001b[0m\u001b[0m\n",
      "\u001b[0;31mAttributeError\u001b[0m: 'vectorize' object has no attribute '__name__'"
     ]
    }
   ],
   "source": [
    "plt_function()"
   ]
  },
  {
   "cell_type": "code",
   "execution_count": 216,
   "metadata": {},
   "outputs": [
    {
     "data": {
      "image/png": "[encoded data removed]",
      "text/plain": [
       "<Figure size 432x288 with 1 Axes>"
      ]
     },
     "metadata": {
      "needs_background": "light"
     },
     "output_type": "display_data"
    }
   ],
   "source": [
    "plt_function(5, function = \"constant\", space=(-20, 20))"
   ]
  },
  {
   "cell_type": "markdown",
   "metadata": {},
   "source": [
    "https://stackoverflow.com/questions/33860207/ipython-jupyter-notebook-how-to-embed-interactive-graph-using-desmos-api"
   ]
  },
  {
   "cell_type": "code",
   "execution_count": null,
   "metadata": {},
   "outputs": [],
   "source": []
  }
 ],
 "metadata": {
  "kernelspec": {
   "display_name": "Python 3",
   "language": "python",
   "name": "python3"
  },
  "language_info": {
   "codemirror_mode": {
    "name": "ipython",
    "version": 3
   },
   "file_extension": ".py",
   "mimetype": "text/x-python",
   "name": "python",
   "nbconvert_exporter": "python",
   "pygments_lexer": "ipython3",
   "version": "3.7.4"
  }
 },
 "nbformat": 4,
 "nbformat_minor": 2
}
