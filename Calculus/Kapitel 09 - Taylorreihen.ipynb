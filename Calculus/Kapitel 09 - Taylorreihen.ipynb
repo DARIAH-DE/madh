{
 "cells": [
  {
   "cell_type": "markdown",
   "metadata": {},
   "source": [
    "# Kapitel 9 - Taylorreihen"
   ]
  },
  {
   "cell_type": "code",
   "execution_count": 1,
   "metadata": {},
   "outputs": [
    {
     "data": {
      "text/html": [
       "<style>\n",
       "\n",
       "/* special fields*/\n",
       "\n",
       "\n",
       "/* light blue */ \n",
       "div.digression {    \n",
       "    background-color: #f6f6f6;\n",
       "    border-color: #a1c6de;\n",
       "    border-left: 5px solid #a1c6de;\n",
       "    border-right: 5px solid #a1c6de;\n",
       "    border-top: 5px solid #a1c6de;\n",
       "    border-bottom: 5px solid #a1c6de;\n",
       "    padding: 0.5em;\n",
       "}\n",
       "\n",
       "/* orange */\n",
       "div.note {    \n",
       "    background-color: #f6f6f6;\n",
       "    border-color: #ffb382;\n",
       "    border-left: 5px solid #ffb382;\n",
       "    border-right: 5px solid #ffb382;\n",
       "    border-top: 5px solid #ffb382;\n",
       "    border-bottom: 5px solid #ffb382;\n",
       "    padding: 0.5em;\n",
       "}\n",
       "\n",
       "/* light green */\n",
       "div.task {    \n",
       "    background-color: #f6f6f6;\n",
       "    border-color: #99b898;\n",
       "    border-left: 5px solid #99b898;\n",
       "    border-right: 5px solid #99b898;\n",
       "    border-top: 5px solid #99b898;\n",
       "    border-bottom: 5px solid #99b898;\n",
       "    padding: 0.5em;\n",
       "}\n",
       "\n",
       "div.tool {    \n",
       "    background-color: #f6f6f6;\n",
       "    border-color: #f542e0;\n",
       "    border-left: 7px solid #f542e0;\n",
       "    border-right: 7px solid #f542e0;\n",
       "    border-top: 7px solid #f542e0;\n",
       "    border-bottom: 7px solid #f542e0;\n",
       "    border-style: double;\n",
       "    padding: 0.5em;\n",
       "}\n",
       "\n",
       "/* dark red */\n",
       "div.warn {    \n",
       "    background-color: #f6f6f6;\n",
       "    border-color: #cc1a32;\n",
       "    border-left: 5px solid #cc1a32;\n",
       "    border-right: 5px solid #cc1a32;\n",
       "    border-top: 5px solid #cc1a32;\n",
       "    border-bottom: 5px solid #cc1a32;\n",
       "    padding: 0.5em;\n",
       "}\n",
       "\n",
       "/* icons */\n",
       "\n",
       "img.icon {\n",
       "  display: inline-block; \n",
       "  width: 18px;\n",
       "  height: 18px;\n",
       "  margin-right: 7px;\n",
       "  margin-bottom: 3px;\n",
       "}\n",
       "\n",
       "img.iconbig {\n",
       "  display: inline-block; \n",
       "  width: 21px;\n",
       "  height: 21px;\n",
       "  margin-right: 7px;\n",
       "  margin-bottom: 3px;\n",
       "}\n",
       "\n",
       "span.invisible_border {\n",
       "  padding: 0.1em;\n",
       "  font-size: 20px;\n",
       "}\n",
       "\n",
       "div.border {\n",
       "  border-color: #666666;\n",
       "  border-left: 1.5px solid;\n",
       "  border-right: 1.5px solid;\n",
       "  border-top: 1.5px solid;\n",
       "  border-bottom: 1.5px solid;\n",
       "  padding: 0.1em;\n",
       "}\n",
       "\n",
       "\n",
       "/* for simple answer / solution*/\n",
       "input.show {\n",
       "  visibility: hidden;\n",
       "}\n",
       "\n",
       "input.hide {\n",
       "  visibility: hidden;\n",
       "}\n",
       "\n",
       "\n",
       "label.answers {\n",
       "  border: 1px solid black;\n",
       "  padding: 1px;\n",
       "}\n",
       "\n",
       "label.show_answer {\n",
       "  background-color: #008CBA;  /* Blue */\n",
       "  border: none;\n",
       "  border-radius: 8px;\n",
       "  color: white;\n",
       "  padding: 3px 10px;\n",
       "  text-align: center;\n",
       "  text-decoration: none;\n",
       "  display: inline-block;\n",
       "  font-size: 12px;\n",
       "}\n",
       "\n",
       "label.hide_answer {\n",
       "  background-color: #b2b2b2; /* Grey */\n",
       "  border: none;\n",
       "  border-radius: 8px;\n",
       "  color: white;\n",
       "  padding: 3px 10px;\n",
       "  text-align: center;\n",
       "  text-decoration: none;\n",
       "  display: inline-block;\n",
       "  font-size: 12px;\n",
       "}\n",
       "\n",
       "\n",
       "span.content {\n",
       "  display:none;\n",
       "}\n",
       "input.show:checked ~ span.content {\n",
       "  display:block;\n",
       "}\n",
       "\n",
       "input.hide:checked ~ span.content {\n",
       "  display:none;\n",
       "}\n",
       "\n",
       "\n",
       "\n",
       "\n",
       "/* Tables & side by side images */\n",
       "\n",
       "/* 2 images side by side */\n",
       ".imgcolumn2 {\n",
       "  float: left;\n",
       "  width: 50.0%;\n",
       "  padding: 5px;\n",
       "}\n",
       "\n",
       "/* 3 images side by side */\n",
       ".imgcolumn3 {\n",
       "  float: left;\n",
       "  width: 33.33%;\n",
       "  padding: 5px;\n",
       "}\n",
       "\n",
       "/* 4 images side by side */\n",
       ".imgcolumn4 {\n",
       "  float: left;\n",
       "  width: 25.0%;\n",
       "  padding: 5px;\n",
       "}\n",
       "\n",
       "\n",
       ".imgrow::after {\n",
       "  content: \"\";\n",
       "  clear: both;\n",
       "  display: table;\n",
       "} \n",
       "\n",
       "figure figcaption {\n",
       "  margin: 3px;\n",
       "  text-align: center;\n",
       "  font-weight: bold;\n",
       "}\n",
       "\n",
       "table {\n",
       "    float: left;\n",
       "    border-style: 1.5px solid black;\n",
       "    border: 1.5px  black solid !important;\n",
       "    color: black !important;\n",
       "}\n",
       "\n",
       "th, td {\n",
       "    text-align: center;\n",
       "    vertical-align: middle;\n",
       "    border: 1.5px  black solid !important;\n",
       "    color: black !important;\n",
       "}\n",
       "\n",
       "/* todo?: #centertable table hinzufügen?*/\n",
       "\n",
       "#centertable td\n",
       "{\n",
       "    text-align: center; \n",
       "    vertical-align: middle;\n",
       "}\n",
       "\n",
       "#centertable th\n",
       "{\n",
       "    text-align: center; \n",
       "    vertical-align: middle;\n",
       "}\n",
       "\n",
       "\n",
       " </style>\n"
      ],
      "text/plain": [
       "<IPython.core.display.HTML object>"
      ]
     },
     "execution_count": 1,
     "metadata": {},
     "output_type": "execute_result"
    }
   ],
   "source": [
    "import sys\n",
    "sys.path.append(\"../src/\") \n",
    "from quiz import start_quiz\n",
    "from utils import css_styling, hide_code\n",
    "from functionplotter import plt_function\n",
    "css_styling()"
   ]
  },
  {
   "cell_type": "markdown",
   "metadata": {},
   "source": [
    "## 1. Kapitelübersicht <a class=\"anchor\" id=\"1\"/>\n",
    "\n",
    "In diesem Kapitel schauen wir uns an, wie wir sehr komplexe Funktionieren **approximieren**/ annähern können, indem wir eine Reihe simplerer Funktion zur Approximation verwenden.\n",
    "\n",
    "TODO\n",
    "\n",
    "<b>Abschnittsübersicht</b><br>\n",
    "\n",
    "[1. Kapitelübersicht](#1)<br>\n",
    "TODO\n",
    "\n",
    "<b>Quizübersicht</b><br>\n",
    "TODO\n",
    "\n",
    "<b>Behandelte Themen</b><br>\n",
    "- TODO"
   ]
  },
  {
   "cell_type": "markdown",
   "metadata": {},
   "source": [
    "TODO: Einstiegsbeispiel: Warum approximation?\n",
    "\n",
    "TODO: anfangen mit problemen:\n",
    "- Coursera, Woche 2: \"reality is hard\"\n",
    "    - diskontinuität in funktionen\n",
    "    - komplexe funktionen\n",
    "    - noisy funktionen"
   ]
  },
  {
   "cell_type": "markdown",
   "metadata": {},
   "source": [
    "## 2. Approximationen von Funktionen <a class=\"anchor\" id=\"2\"/>"
   ]
  },
  {
   "cell_type": "code",
   "execution_count": null,
   "metadata": {},
   "outputs": [],
   "source": []
  },
  {
   "cell_type": "markdown",
   "metadata": {},
   "source": [
    "## 3. Taylorreihen <a class=\"anchor\" id=\"3\"/>\n",
    "\n",
    "Nachdem wir gesehen haben, was die Grundidee der Approximation von Funktionen ist, werden wir uns nun die <b>Taylorreihe</b> anschauen. Taylorreihen werden verwendet, um eine Funktion in der Umgebung einer Stelle durch eine <b>Potenzreihe</b> darzustellen. Diese Funktion muss dabei eine <b>glatte Funktion</b> sein, d.h. sie muss *unendlich oft differenzierbar* sein. Eine Funktion wie $f(x) = x^2$ ist <u>keine</u> glatte Funktion, da bereits die dritte Ableitung gleich Null ist: $f^{3} = 0$. Eine glatte Funktion wäre zum Beispiel die **Sinus-Funktion**, da wir diese unendlich oft ableiten können."
   ]
  },
  {
   "cell_type": "markdown",
   "metadata": {},
   "source": [
    "### 3.1. Potenzreihen <a class=\"anchor\" id=\"3-1\"/>\n",
    "\n",
    "Bevor wir uns die Taylorreihe anschauen, müssen wir erst einmal verstehen, was eine **Potenzreihe** ist. Die Formel für die Potenzreihe ist:<br>\n",
    "\n",
    "$P(x) = \\sum\\limits_{n=0}^{\\infty} a_n (x - x_0)^n$<br>\n",
    "\n",
    "Schauen wir uns die Formel etwas genauer an. In der Formel wird etwas <u>aufsummiert</u>. Die untere Grenze für die Summe ist $n$, dass heißt, dass $n$ bei jedem Summand um $1$ erhöht wird. Die obere Grenze ist $\\infty$, d.h. wir machen dies unendlich oft. Um ein Verständnis zu entwickeln, was die Potenzreihe macht, setzen wir nun die obere Grenze für die Formel auf $3$ und schreiben die Summe aus:<br>\n",
    "\n",
    "$P(x) = \\sum\\limits_{n=0}^{3} a_n (x - x_0)^n = a_0 (x - x_0)^0 + a_1 (x - x_0)^1 + a_2 (x - x_0)^2 + a_3 (x - x_0)^3$<br>\n",
    "\n",
    "\n",
    "Nun haben wir die Formel etwas vereinfacht, jedoch sind immer noch mindestens zwei Dinge unklar: Was ist $a$ und was ist $x_0$? $a$ ist einfach nur ein **Koeeffizient**. $x_0$ ist ein sogenannter **Entwicklungspunkt** (auch: **Entwicklungsstelle**), mit dem wir angeben, an welcher Stelle wir die Potenzreihe bilden wollen. Im Grunde ist das aber eine fixe Zahl, die zu Beginn der Berechnung der Potenzreihe gegeben ist und den wir einfach in die Formel einsetzen. Um die Formel nun also noch etwas zu vereinfachen, setzen wir $x_0 = 0$ und wir erhalten in vereinfachter Form:<br>\n",
    "\n",
    "$P(x) =  a_0 x^0 + a_1 x^1 + a_2 x^2 + a_3 x^3$<br>\n",
    "\n",
    "Ohne zu wissen was $a$ ist, können wir diese Gleichung noch weiter vereinfachen, da wir wissen, dass $x^0 = 1$:<br>\n",
    "\n",
    "$P(x) =  a_0 + a_1 x + a_2 x^2 + a_3 x^3$<br>\n",
    "\n",
    "Dieser Aufbau der Gleichung sollte Ihnen nicht ganz unbekannt vorkommen. Wenn Sie sich an Kapitel 2 zurückerinnern, werden Sie feststellen, dass wir dort sogenannte **Polynomfunktionen** eingeführt hatten (Kapitel 2.5). Polynomfunktionen bestehen aus den namensgebenden **Polynomen**, d.h. einer Summe von Termen, die jeweils ein Produkt einer Zahl mit einer Potenz $x^n$ sind. $n$ stand hier für den **Grad** des Polynoms, also den höchsten auftretenden Exponenten. Die Formel für die Polynomfunktionen war:<br>\n",
    "\n",
    "$f(x) = a_n\\cdot x^n + a_{n-1}\\cdot x^{n-1} + … + a_1\\cdot x + a_0$<br>\n",
    "\n",
    "Stellen wir diese Funktion um und setzen wir $n = 3$, erhalten wir die folgende Formel:<br>\n",
    "\n",
    "$f(x) =  a_0 + a_1 x + a_2 x^2 + a_3 x^3$<br>\n",
    "\n",
    "Dies ist die gleiche Formel wie die vereinfachte Form der Potenzreihe. Jede **Polynomfunktion** lässt sich also als **Potenzreihe** auffassen. Im Zuge der Erklärung von Polynomfunktionen in Kapitel 2 hatten wir auch festgestellt, dass wir viele Funktionen wie *Konstante Funktionen*, *Lineare Funktionen*, *Quadratische Funktionen* und *Kubische Funktionen* als Polynomfunktionen auffassen können. Im Umkehrschluss können wir diese also auch als Potenzreihen darstellen. Doch wir können nicht nur Polynomfunktionen mit der Potenzreihe darstellen, auch andere Funktion sind so darstellbar. Im Folgenden werden einige Beispiele genannt, die vor allem Funktionen aus Kapitel 3 behandeln und etwas spezieller sind:<br>\n",
    "\n",
    "$e^x = \\sum\\limits_{n=0}^{\\infty} \\dfrac{x^n}{n!} = \\frac{x^0}{0!}+ \\frac{x^1}{1!} + \\frac{x^2}{2!} + \\dots$<br>\n",
    "\n",
    "$\\sin(x) = \\sum\\limits_{n=0}^{\\infty} (-1)^n \\frac{x^{2n+1}}{(2n+1)!} = \\frac{x}{1!} - \\frac{x^3}{3!} + \\frac{x^5}{5!} \\pm \\dots$<br>\n",
    "\n",
    "$\\cos(x) = \\sum\\limits_{n=0}^{\\infty} (-1)^n \\frac{x^{2n}}{(2n)!} = \\frac{x^0}{0!} - \\frac{x^2}{2!} + \\frac{x^4}{4!} \\pm \\dots$<br>\n",
    "\n",
    "Weitere Beispiele können Sie auf der entsprechenden <a href=\"https://de.wikipedia.org/wiki/Potenzreihe\">Wikipedia-Seite</a> finden."
   ]
  },
  {
   "cell_type": "code",
   "execution_count": null,
   "metadata": {},
   "outputs": [],
   "source": []
  },
  {
   "cell_type": "markdown",
   "metadata": {},
   "source": [
    "TODO: warum das?"
   ]
  },
  {
   "cell_type": "code",
   "execution_count": 8,
   "metadata": {},
   "outputs": [],
   "source": [
    "w = 2045\n",
    "h = 619\n",
    "\n",
    "x = w/100"
   ]
  },
  {
   "cell_type": "code",
   "execution_count": 9,
   "metadata": {},
   "outputs": [
    {
     "data": {
      "text/plain": [
       "30.268948655256725"
      ]
     },
     "execution_count": 9,
     "metadata": {},
     "output_type": "execute_result"
    }
   ],
   "source": [
    "h/x"
   ]
  },
  {
   "cell_type": "code",
   "execution_count": null,
   "metadata": {},
   "outputs": [],
   "source": []
  },
  {
   "cell_type": "markdown",
   "metadata": {},
   "source": [
    "### 3.2. Taylorpolynome <a class=\"anchor\" id=\"3-2\"/>"
   ]
  },
  {
   "cell_type": "markdown",
   "metadata": {},
   "source": [
    "<div class=task>\n",
    "    <b>Aufgabe</b>: Taylorpolynome/Taylorreihen berechnen\n",
    "    <br>\n",
    "    <br>In diesem <a href=\"https://www.youtube.com/watch?v=ELPvMyhNrz8&t=53s\">Video</a> wird erklärt, wie man <b>Taylorpolynome</b> und <b>Taylorreihen</b> berechnet. Auch das folgende <a href=\"https://www.youtube.com/watch?v=ybFpBd_BT74&t=11s\">Video</a> sollte hierbei behilflich sein.\n",
    "</div>"
   ]
  },
  {
   "cell_type": "code",
   "execution_count": null,
   "metadata": {},
   "outputs": [],
   "source": []
  },
  {
   "cell_type": "code",
   "execution_count": null,
   "metadata": {},
   "outputs": [],
   "source": []
  },
  {
   "cell_type": "code",
   "execution_count": null,
   "metadata": {},
   "outputs": [],
   "source": []
  },
  {
   "cell_type": "markdown",
   "metadata": {},
   "source": [
    "## ?. Maclaurinsche Reihe <a class=\"anchor\" id=\"?\"/>\n",
    "\n",
    "ICH: Überhaupt interessant?"
   ]
  },
  {
   "cell_type": "code",
   "execution_count": null,
   "metadata": {},
   "outputs": [],
   "source": []
  }
 ],
 "metadata": {
  "kernelspec": {
   "display_name": "Python 3",
   "language": "python",
   "name": "python3"
  },
  "language_info": {
   "codemirror_mode": {
    "name": "ipython",
    "version": 3
   },
   "file_extension": ".py",
   "mimetype": "text/x-python",
   "name": "python",
   "nbconvert_exporter": "python",
   "pygments_lexer": "ipython3",
   "version": "3.7.7"
  }
 },
 "nbformat": 4,
 "nbformat_minor": 4
}
