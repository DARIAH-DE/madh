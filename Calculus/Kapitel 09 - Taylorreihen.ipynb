{
 "cells": [
  {
   "cell_type": "markdown",
   "metadata": {},
   "source": [
    "# Kapitel 9 - Taylorreihen"
   ]
  },
  {
   "cell_type": "code",
   "execution_count": 1,
   "metadata": {},
   "outputs": [
    {
     "data": {
      "text/html": [
       "<style>\n",
       "\n",
       "/* special fields*/\n",
       "\n",
       "\n",
       "/* light blue */ \n",
       "div.digression {    \n",
       "    background-color: #f6f6f6;\n",
       "    border-color: #a1c6de;\n",
       "    border-left: 5px solid #a1c6de;\n",
       "    border-right: 5px solid #a1c6de;\n",
       "    border-top: 5px solid #a1c6de;\n",
       "    border-bottom: 5px solid #a1c6de;\n",
       "    padding: 0.5em;\n",
       "}\n",
       "\n",
       "/* orange */\n",
       "div.note {    \n",
       "    background-color: #f6f6f6;\n",
       "    border-color: #ffb382;\n",
       "    border-left: 5px solid #ffb382;\n",
       "    border-right: 5px solid #ffb382;\n",
       "    border-top: 5px solid #ffb382;\n",
       "    border-bottom: 5px solid #ffb382;\n",
       "    padding: 0.5em;\n",
       "}\n",
       "\n",
       "/* light green */\n",
       "div.task {    \n",
       "    background-color: #f6f6f6;\n",
       "    border-color: #99b898;\n",
       "    border-left: 5px solid #99b898;\n",
       "    border-right: 5px solid #99b898;\n",
       "    border-top: 5px solid #99b898;\n",
       "    border-bottom: 5px solid #99b898;\n",
       "    padding: 0.5em;\n",
       "}\n",
       "\n",
       "div.tool {    \n",
       "    background-color: #f6f6f6;\n",
       "    border-color: #f542e0;\n",
       "    border-left: 7px solid #f542e0;\n",
       "    border-right: 7px solid #f542e0;\n",
       "    border-top: 7px solid #f542e0;\n",
       "    border-bottom: 7px solid #f542e0;\n",
       "    border-style: double;\n",
       "    padding: 0.5em;\n",
       "}\n",
       "\n",
       "/* dark red */\n",
       "div.warn {    \n",
       "    background-color: #f6f6f6;\n",
       "    border-color: #cc1a32;\n",
       "    border-left: 5px solid #cc1a32;\n",
       "    border-right: 5px solid #cc1a32;\n",
       "    border-top: 5px solid #cc1a32;\n",
       "    border-bottom: 5px solid #cc1a32;\n",
       "    padding: 0.5em;\n",
       "}\n",
       "\n",
       "/* icons */\n",
       "\n",
       "img.icon {\n",
       "  display: inline-block; \n",
       "  width: 18px;\n",
       "  height: 18px;\n",
       "  margin-right: 7px;\n",
       "  margin-bottom: 3px;\n",
       "}\n",
       "\n",
       "img.iconbig {\n",
       "  display: inline-block; \n",
       "  width: 21px;\n",
       "  height: 21px;\n",
       "  margin-right: 7px;\n",
       "  margin-bottom: 3px;\n",
       "}\n",
       "\n",
       "span.invisible_border {\n",
       "  padding: 0.1em;\n",
       "  font-size: 20px;\n",
       "}\n",
       "\n",
       "div.border {\n",
       "  border-color: #666666;\n",
       "  border-left: 1.5px solid;\n",
       "  border-right: 1.5px solid;\n",
       "  border-top: 1.5px solid;\n",
       "  border-bottom: 1.5px solid;\n",
       "  padding: 0.1em;\n",
       "}\n",
       "\n",
       "\n",
       "/* for simple answer / solution*/\n",
       "input.show {\n",
       "  visibility: hidden;\n",
       "}\n",
       "\n",
       "input.hide {\n",
       "  visibility: hidden;\n",
       "}\n",
       "\n",
       "\n",
       "label.answers {\n",
       "  border: 1px solid black;\n",
       "  padding: 1px;\n",
       "}\n",
       "\n",
       "label.show_answer {\n",
       "  background-color: #008CBA;  /* Blue */\n",
       "  border: none;\n",
       "  border-radius: 8px;\n",
       "  color: white;\n",
       "  padding: 3px 10px;\n",
       "  text-align: center;\n",
       "  text-decoration: none;\n",
       "  display: inline-block;\n",
       "  font-size: 12px;\n",
       "}\n",
       "\n",
       "label.hide_answer {\n",
       "  background-color: #b2b2b2; /* Grey */\n",
       "  border: none;\n",
       "  border-radius: 8px;\n",
       "  color: white;\n",
       "  padding: 3px 10px;\n",
       "  text-align: center;\n",
       "  text-decoration: none;\n",
       "  display: inline-block;\n",
       "  font-size: 12px;\n",
       "}\n",
       "\n",
       "\n",
       "span.content {\n",
       "  display:none;\n",
       "}\n",
       "input.show:checked ~ span.content {\n",
       "  display:block;\n",
       "}\n",
       "\n",
       "input.hide:checked ~ span.content {\n",
       "  display:none;\n",
       "}\n",
       "\n",
       "\n",
       "\n",
       "\n",
       "/* Tables & side by side images */\n",
       "\n",
       "/* 2 images side by side */\n",
       ".imgcolumn2 {\n",
       "  float: left;\n",
       "  width: 50.0%;\n",
       "  padding: 5px;\n",
       "}\n",
       "\n",
       "/* 3 images side by side */\n",
       ".imgcolumn3 {\n",
       "  float: left;\n",
       "  width: 33.33%;\n",
       "  padding: 5px;\n",
       "}\n",
       "\n",
       "/* 4 images side by side */\n",
       ".imgcolumn4 {\n",
       "  float: left;\n",
       "  width: 25.0%;\n",
       "  padding: 5px;\n",
       "}\n",
       "\n",
       "\n",
       ".imgrow::after {\n",
       "  content: \"\";\n",
       "  clear: both;\n",
       "  display: table;\n",
       "} \n",
       "\n",
       "figure figcaption {\n",
       "  margin: 3px;\n",
       "  text-align: center;\n",
       "  font-weight: bold;\n",
       "}\n",
       "\n",
       "table {\n",
       "    float: left;\n",
       "    border-style: 1.5px solid black;\n",
       "    border: 1.5px  black solid !important;\n",
       "    color: black !important;\n",
       "}\n",
       "\n",
       "th, td {\n",
       "    text-align: center;\n",
       "    vertical-align: middle;\n",
       "    border: 1.5px  black solid !important;\n",
       "    color: black !important;\n",
       "}\n",
       "\n",
       "/* todo?: #centertable table hinzufügen?*/\n",
       "\n",
       "#centertable td\n",
       "{\n",
       "    text-align: center; \n",
       "    vertical-align: middle;\n",
       "}\n",
       "\n",
       "#centertable th\n",
       "{\n",
       "    text-align: center; \n",
       "    vertical-align: middle;\n",
       "}\n",
       "\n",
       "\n",
       " </style>\n"
      ],
      "text/plain": [
       "<IPython.core.display.HTML object>"
      ]
     },
     "execution_count": 1,
     "metadata": {},
     "output_type": "execute_result"
    }
   ],
   "source": [
    "import sys\n",
    "sys.path.append(\"../src/\") \n",
    "from quiz import start_quiz\n",
    "from utils import css_styling, hide_code\n",
    "from IPython.display import IFrame\n",
    "from functionplotter import plt_function\n",
    "css_styling()"
   ]
  },
  {
   "cell_type": "markdown",
   "metadata": {},
   "source": [
    "## 1. Kapitelübersicht <a class=\"anchor\" id=\"1\"/>\n",
    "\n",
    "In diesem Kapitel schauen wir uns an, wie wir sehr komplexe Funktionieren **approximieren**/ annähern können, indem wir eine Reihe simplerer Funktion zur Approximation verwenden. Dazu führen wir die **Taylorreihen** ein. Um diese aber besser verstehen zu können, gucken wir uns vorher die allgemeineren **Potenzfunktionen** an. Zuletzt schauen wir uns Taylorreihen für multivariate Funktionen an.\n",
    "\n",
    "\n",
    "<b>Abschnittsübersicht</b><br>\n",
    "\n",
    "[1. Kapitelübersicht](#1)<br>\n",
    "[2. Approximationen von Funktionen](#2)<br>\n",
    "[3. Potenzreihen](#3)<br>\n",
    "[3.1. Die Formel im Detail](#3-1)<br>\n",
    "[3.2. Abgeschnittene Potenzreihen](#3-2)<br>\n",
    "[4. Taylorreihen](#4)<br>\n",
    "[5. Multivaribale Taylorreihen](#5)<br>\n",
    "\n",
    "<b>Quizübersicht</b><br>\n",
    "[Taylorreihen Quiz](#q1)<br>\n",
    "\n",
    "<b>Behandelte Themen</b><br>\n",
    "- Approximation von Funktionen\n",
    "- Analytische und numerische Ableitungen\n",
    "- Potenzreihen\n",
    "- Abgeschnittene Potenzreihen\n",
    "- Taylorreihen\n",
    "- Multivariable Taylorreihen\n",
    "- Linearisierung"
   ]
  },
  {
   "cell_type": "markdown",
   "metadata": {},
   "source": [
    "## 2. Approximationen von Funktionen <a class=\"anchor\" id=\"2\"/>"
   ]
  },
  {
   "cell_type": "markdown",
   "metadata": {},
   "source": [
    "Der Begriff **\"Approximation\"** bedeutet im mathematischen Sinne \"**Näherung**\" oder \"**Annäherung**\". Wir werden Approximationen verwenden, um Funktionen anzunähern. Tatsächlich sind alle Ableitungsfunktionen, die wir bis jetzt verwendet haben, im Grunde Annäherungen. In Kapitel 5 hatten wir gelernt, wie wir Funktionen einfach ableiten können. Doch ein Kapitel zuvor hatten wir uns die, den Ableitungsregeln aus Kapitel 5 zugrunde liegende, **h-Methode** angeguckt, die Formel dafür war:<br>\n",
    "\n",
    "$ f'(x) = \\lim \\limits_{h \\to 0} \\dfrac{f(x + h) - f(x)}{h}$<br>\n",
    "\n",
    "Die h-Methode enthält den namensgebenden Platzhalterwert $h$, der für den **Abstand** zweier Werte steht:<br>\n",
    "\n",
    "$h = x_1 - x_0$<br>\n",
    "\n",
    "Diesen Abstand minimieren wir, sodass dieser eine unendlich kleine Zahl wird und somit gegen $0$ tendiert. Dadurch können wir in der eigentlichen Ableitung diesen Wert weglassen, da er so gut wie keine Auswirkung auf die Ableitungsfunktion hat. Bei den vereinfachten Ableitungsregeln in Kapitel 5 wird dieser Wert deshalb immer weggelassen. Die beiden verschiedenen Arten der Ableitungsbildung werden **analytische Ableitungen** und **numerische Ableitungen** genannt:<br>\n",
    "\n",
    "- **Analytische Ableitungen**: Exakte Ableitung, die <u>keine</u> Annäherung verwendet. Wird in der Praxis angewendet, da sie simpler und schneller zu berechnen ist (wurde ab Kapitel 5 verwendet).\n",
    "- **Numerische Ableitungen**: Annäherende Ableitung, die eine Annäherung verwendet. Wird in der Praxis weniger häufig angewendet, da sie komplizierter und länger zu berechnen ist (wurde in Kapitel 4 gezeigt).\n",
    "\n",
    "Doch wieso sollte uns die numerischen Ableitungen interessieren, wenn die analytischen Ableitungen exakter, simpler und schneller zu berechnen sind? Dafür gibt es mehrere Gründe, auf die wir aber nicht alle im Detail eingehen, da diese den Rahmen dieser Tutorialreihe sprengen würden.[<sup>1</sup>](#fn1) Ein Grund ist jedoch, dass die der analytische Ansatz der Berechnung einer Ableitung einer gegebenen Funktion unterschiedlich kompliziert werden kann, während der numerische Ansatz nie komplizierter wird. \n",
    "\n",
    "Die numerischen Ableitungen beinhalten aufgrund der Verwendung des Platzhalterwerts $h$ einen Fehler, auch wenn dieser sehr gering ist. Diese Idee, dass man einen geringen Fehler in Kauf nimmt, um so Probleme lösen zu können, wird auch bei der **Approximation von Funktionen** verwendet. Mithilfe dieser Technik können wir Funktionen durch eine Reihe anderer Funktion annähern, also mit einem gewissen Fehler/Unterschied darstellen. Doch wieso sollten wir das machen, vor allem wenn wir die Funktion bereits kennen? Die Funktionen, die wir bis jetzt betrachtet haben, waren nicht sonderlich komplex, es war eigentlich immer möglich, Ableitungen zu bilden oder andere Dinge zu bestimmen. Doch wie Sie sich sicher vorstellen können, können Funktionen sehr komplex werden. Einige Probleme können bei diesen Funktion gar nicht oder nur sehr schwer gelöst werden. Approximationen können in solchen Fällen hilfreich sein, da sie ein Problem einfacher oder teilweise überhaupt erst lösbar machen. Dieses <a href=\"https://www.youtube.com/watch?v=ZL8rbGD8WAk\">Video</a> nennt dafür ein paar konkrete Beispiele.\n",
    "\n",
    "\n",
    "\n",
    "<hr style=\"border: 0.1px solid black;\"/>\n",
    "<span id=\"fn1\" style=\"font-size:8pt; line-height:1\"><sup style=\"font-size:5pt\">1</sup>&nbsp; Das mathematische Teilgebiet, welches sich damit beschäftigt, nennt sich <a href=\"https://de.wikipedia.org/wiki/Numerische_Mathematik#:~:text=Die%20numerische%20Mathematik%2C%20auch%20kurz,Approximationsalgorithmen%20mit%20Hilfe%20von%20Computern\">Numerische Mathematik</a>.</span><br> "
   ]
  },
  {
   "cell_type": "markdown",
   "metadata": {},
   "source": [
    "## 3. Potenzreihen <a class=\"anchor\" id=\"3\"/>\n",
    "\n",
    "Bevor wir uns die Taylorreihe anschauen, müssen wir erst einmal verstehen, wie eine **Potenzreihe** aufgebaut, da diese eine Verallgemeinerung der Taylorreihe ist. Die Formel für die Potenzreihe ist:<br>\n",
    "\n",
    "$P(x) = \\sum\\limits_{n=0}^{\\infty} a_n (x - p)^n$<br>"
   ]
  },
  {
   "cell_type": "markdown",
   "metadata": {},
   "source": [
    "### 3.1. Die Formel im Detail <a class=\"anchor\" id=\"3-1\"/>\n",
    "\n",
    "Schauen wir uns die Formel etwas genauer an. In der Formel wird etwas <u>aufsummiert</u>. Die untere Grenze für die Summe ist $n$, dass heißt, dass $n$ bei jedem Summand um $1$ erhöht wird. Die obere Grenze ist $\\infty$, d.h. wir machen dies unendlich oft. Um ein besseres Verständnis dafür zu entwickeln, was die Potenzreihe im Grunde macht, setzen wir nun die obere Grenze für die Formel auf $3$ und schreiben die Summe aus:<br>\n",
    "\n",
    "$P(x) = \\sum\\limits_{n=0}^{3} a_n (x - p)^n = a_0 (x - p)^0 + a_1 (x - p)^1 + a_2 (x - p)^2 + a_3 (x - p)^3$<br>\n",
    "\n",
    "\n",
    "Nun haben wir die Formel etwas vereinfacht, jedoch sind immer noch mindestens zwei Dinge unklar: Was ist $a_n$ und was ist $p$? $a_n$ ist einfach nur ein **Koeffizient**. In der **Taylorreihe** wird dieser Koeffizient noch genauer definiert, aktuell definieren wir diesen nicht weiter. $p$ ist ein sogenannter **Entwicklungspunkt** (auch: **Entwicklungsstelle**), mit dem wir angeben, an welcher Stelle wir die Potenzreihe bilden wollen. Im Grunde ist das aber eine fixe Zahl, die zu Beginn der Berechnung der Potenzreihe gegeben ist und den wir einfach in die Formel einsetzen. Um die Formel nun also noch etwas zu vereinfachen, setzen wir $p = 0$ und wir erhalten:<br>\n",
    "\n",
    "$P(x) =  a_0 x^0 + a_1 x^1 + a_2 x^2 + a_3 x^3$<br>\n",
    "\n",
    "Ohne zu wissen was $a$ ist, können wir diese Gleichung noch weiter vereinfachen, da wir wissen, dass $x^0 = 1$ ist:<br>\n",
    "\n",
    "$P(x) =  a_0 + a_1 x + a_2 x^2 + a_3 x^3$<br>\n",
    "\n",
    "Dieser Aufbau der Gleichung sollte Ihnen nicht ganz unbekannt vorkommen. Wenn Sie sich an Kapitel 2 zurückerinnern, werden Sie feststellen, dass wir dort sogenannte **Polynomfunktionen** eingeführt hatten (Kapitel 2.5). Polynomfunktionen bestehen aus den namensgebenden **Polynomen**, d.h. einer Summe von Termen, die jeweils ein Produkt eines Koeffizienten mit einer Potenz $x^n$ sind. $n$ stand hier für den **Grad** des Polynoms, also den höchsten auftretenden Exponenten. Die Formel für die Polynomfunktionen war:<br>\n",
    "\n",
    "$f(x) = a_n\\cdot x^n + a_{n-1}\\cdot x^{n-1} + … + a_1\\cdot x + a_0$<br>\n",
    "\n",
    "Stellen wir diese Funktion um und setzen wir $n = 3$, erhalten wir die folgende Formel:<br>\n",
    "\n",
    "$f(x) =  a_0 + a_1 x + a_2 x^2 + a_3 x^3$<br>\n",
    "\n",
    "Dies ist die gleiche Formel wie die vereinfachte Form der Potenzreihe! Jede **Polynomfunktion** lässt sich also als **Potenzreihe** auffassen. Im Zuge der Erklärung von Polynomfunktionen in Kapitel 2 hatten wir auch festgestellt, dass wir viele Funktionen wie *Konstante Funktionen*, *Lineare Funktionen*, *Quadratische Funktionen* und *Kubische Funktionen* als Sonderformen der Polynomfunktionen auffassen können. Im Umkehrschluss können wir diese also auch als Potenzreihen darstellen. Doch wir können nicht nur Polynomfunktionen mit der Potenzreihe darstellen, auch andere Funktion sind so darstellbar. Im Folgenden werden einige Beispiele genannt, die vor allem Funktionen aus Kapitel 3 behandeln und etwas spezieller sind:<br>\n",
    "\n",
    "$e^x = \\sum\\limits_{n=0}^{\\infty} \\dfrac{x^n}{n!} = \\frac{x^0}{0!}+ \\frac{x^1}{1!} + \\frac{x^2}{2!} + \\dots$<br>\n",
    "\n",
    "$\\sin(x) = \\sum\\limits_{n=0}^{\\infty} (-1)^n \\frac{x^{2n+1}}{(2n+1)!} = \\frac{x}{1!} - \\frac{x^3}{3!} + \\frac{x^5}{5!} \\pm \\dots$<br>\n",
    "\n",
    "$\\cos(x) = \\sum\\limits_{n=0}^{\\infty} (-1)^n \\frac{x^{2n}}{(2n)!} = \\frac{x^0}{0!} - \\frac{x^2}{2!} + \\frac{x^4}{4!} \\pm \\dots$<br>\n",
    "\n",
    "Weitere Beispiele können Sie auf der <a href=\"https://de.wikipedia.org/wiki/Potenzreihe\">Wikipedia-Seite zu Potenzreihen</a> finden."
   ]
  },
  {
   "cell_type": "markdown",
   "metadata": {},
   "source": [
    "### 3.2. Abgeschnittene Potenzreihen <a class=\"anchor\" id=\"3-2\"/>\n",
    "\n",
    "Schauen wir uns noch eine andere Darstellung der oben aufgestellten Potenzreihe an, in der wir $a_0$, $a_1$, $a_2$ und $a_3$ durch $a$, $b$, $c$ und $d$ ersetzen:<br>\n",
    "\n",
    "$f(x) = a + bx + cx^2 + dx^3$<br>\n",
    "\n",
    "Damit wird etwas deutlicher, dass $a_0$, $a_1$, $a_2$ und $a_3$ <u>unterschiedliche</u> Koeffizienten sind. Da wir die Potenzreihen für die Erläuterung der Taylorreihen benötigen, führen wir nun ein paar Begriffe ein. Wie Ihnen sicherlich aufgefallen ist, scheint es in der Formel ein Muster zu geben. Bei jedem Summanden wird der Exponent von $x$ um $1$ erhöht, wobei wir bei $0$ anfangen zu zählen (der erste Summand ist eigentlich $ax^0$). Die Taylorreihen werden wir Koeffizient für Koeffizient aufbauen, bei der jeder Term, den wir der Taylorreihe hinzufügen, die Approximation verbessert. Bei den meisten Anwendungen der Taylorreihe brauchen wir jedoch nur die ersten paar Terme, in der Hoffnung, dass diese Approximation für unsere Zwecke ausreicht. Diese Terme können wir auch aus der Potenzreihe ablesen und wir benennen diese folgendermaßen:<br>\n",
    "\n",
    "$f_0(x) = a$ &nbsp; &rarr; &nbsp; **Approximation Nullter Ordnung**<br>\n",
    "$f_1(x) = a + bx$ &nbsp; &rarr; &nbsp; **Approximation Erster Ordnung**<br>\n",
    "$f_2(x) = a + bx + cx^2$ &nbsp; &rarr; &nbsp; **Approximation Zweiter Ordnung**<br>\n",
    "$f_3(x) = a + bx + cx^2 + dx^3$ &nbsp; &rarr; &nbsp; **Approximation Dritter Ordnung**<br>\n",
    "\n",
    "Diese Kurzschreibweisen der Potenzreihe werden **abgeschnittene Potenzreihen** (englisch: **truncated power series**) genannt. Eine abgeschnittene Potenzreihe, welche bei $n$ abgeschnitten wird, also eine **Approximation $n$-ter Ordnung** ist, beinhaltet alle Polynome der Approximationen davor sowie das Polynom, dessen Exponent von $x$ gleich $n$ ist. Dies klingt etwas kompliziert, ist aber im Grunde recht einfach, wie man oben sehen kann. Wenn wir also eine Approximation fünfter Ordnung ($n = 5$) darstellen wollen, besteht diese aus den folgenden Polynomen, die dann nur noch aufsummiert werden:<br>\n",
    "\n",
    "$a_5 x^5$<br>\n",
    "$a_4 x^4$<br>\n",
    "$a_3 x^3$<br>\n",
    "$a_2 x^2$<br>\n",
    "$a_1 x^1$<br>\n",
    "$a_0 x^0$<br>\n",
    "\n",
    "Zusammengefasst sieht die Formel dann folgendermaßen aus:<br>\n",
    "\n",
    "$f(x) = a_0 + a_1 x^1 + a_2 x^2 + a_3 x^3 + a_4 x^4 + a_5 x^5$\n",
    "\n",
    "Wir werden nun wieder zu der Schreibweise mit $a_n$ wechseln, da diese allgemeingültiger ist. Da unsere obere Grenze $\\infty$ ist (wir hatten diese nur für Demonstrationszwecke auf $3$ gesetzt), gehen uns irgendwann die Buchstaben des Alphabets aus. Wenn Sie zum Beispiel die Approximation fünfzigster Ordnung ($n = 50$) darstellen wollen, haben Sie keine Buchstaben mehr übrig, während Sie mit der anderen Schreibweise einfach $a_{50}x^{50}$ schreiben können. "
   ]
  },
  {
   "cell_type": "markdown",
   "metadata": {},
   "source": [
    "## 4. Taylorreihen <a class=\"anchor\" id=\"4\"/>\n",
    "\n",
    "Nachdem wir gesehen haben, was die Grundidee der Approximation von Funktionen ist und wie Potenzreihen funktionieren, werden wir uns nun die <b>Taylorreihe</b> anschauen. Taylorreihen werden verwendet, um eine Funktion in der Umgebung einer Stelle durch eine <b>Potenzreihe</b> darzustellen. Taylorreihen erlauben uns also, eine Funktion durch eine Reihe anderer Funktionen als **Approximation** darzustellen. Wir haben oben bereits ein paar Beispiele für die Approximation einer Funktion mithilfe mehrerer Teilfunktionen gesehen, hier noch einmal die $e$-Funktion:<br>\n",
    "\n",
    "$e^x = \\sum\\limits_{n=0}^{\\infty} \\dfrac{x^n}{n!} = \\frac{x^0}{0!}+ \\frac{x^1}{1!} + \\frac{x^2}{2!} + \\dots$<br>\n",
    "\n",
    "\n",
    "Die Funktion, die wir mithilfe der Taylorreihe approximieren wollen, muss dabei eine <b>glatte Funktion</b> sein, d.h. sie muss *unendlich oft differenzierbar* sein. Eine Funktion wie $f(x) = x^2$ ist <u>keine</u> glatte Funktion, da bereits die dritte Ableitung gleich Null ist: $f^{3}(x) = 0$. Eine glatte Funktion wäre zum Beispiel die **Sinus-Funktion**, da wir diese unendlich oft ableiten können.\n",
    "\n",
    "Taylorreihen sind eine untergeordnete Reihe der **Potenzreihe**. Sie haben die besondere Eigenschaft, dass ihre Koeffizienten, also $a_0$, $a_1$, $a_2$ usw. **Ableitungen** einer gegebenen Funktion sind. Bei der Potenzreihe ist dieser Koeffizient weniger genau definiert. Die Formel für die Taylorreihe ist:<br>\n",
    "\n",
    "$f(x) = \\sum\\limits_{n=0}^{\\infty} \\dfrac{f^{(n)}(p)}{n!} (x - p)^n$<br>\n",
    "\n",
    "Bis auf den Koeffizienten ist diese Formel identisch mit der Formel der Potenzreihe. Der Koeffizient wird hier also folgendermaßen dargestellt:<br>\n",
    "\n",
    "$a_n = \\dfrac{f^{(n)}(p)}{n!}$<br>\n",
    "\n",
    "Wenn bei der Formel $p$ gleich $0$ gesetzt wird (also wie im Beispiel bei der Potenzreihe oben auch), dann heißt die Taylorreihe <a href=\"https://de.wikipedia.org/wiki/Maclaurinsche_Reihe\">Maclaurinsche Reihe</a>. Oft ist es sinnvoll, die Maclaurinsche Reihe anstatt der Taylorreihe zu verwenden, da die Berechnungen weniger komplex sind. Jedoch kann die Maclaurinsche Reihe nicht für alle Funktionen verwendet werden. Setzen Sie in der folgenden Code-Zelle die Variablen $a$, $b$ und $m$ auf $1$. Sie sehen nun die Funktion $f(x) = \\frac{1}{x}$. Diese hat keine Nullstelle, d.h. wir können für $x$ nicht $0$ verwenden. Hier müssen wir für die Approximation die Taylorreihe verwenden."
   ]
  },
  {
   "cell_type": "code",
   "execution_count": 6,
   "metadata": {},
   "outputs": [
    {
     "data": {
      "application/vnd.jupyter.widget-view+json": {
       "model_id": "a7fe2964db874d8f909c732c645066e2",
       "version_major": 2,
       "version_minor": 0
      },
      "text/plain": [
       "interactive(children=(FloatSlider(value=0.0, continuous_update=False, description='a', max=10.0, min=-10.0, re…"
      ]
     },
     "metadata": {},
     "output_type": "display_data"
    }
   ],
   "source": [
    "plt_function(name=\"broken_rational\", space=(-10.0, 10.0), startvalue=0, slider_step=1)"
   ]
  },
  {
   "cell_type": "markdown",
   "metadata": {},
   "source": [
    "<div class=task>\n",
    "    <b>Aufgabe</b>: Herleitung des Koeffizienten\n",
    "    <br>\n",
    "    <br>Um zu verstehen, wie der Koeffizient $\\frac{f^{(n)}(p)}{n!}$ innerhalb der Taylorreihe zustande kommt, schauen Sie sich die folgenden beiden Videos aus dem Coursera-Kurs \"Math for Machine Learning: Multivariate Calculus\" an:<br>\n",
    "    \n",
    "<a href=\"https://coursera.org/share/aba67c7a2a7e5e02e352845b5b486254\">Video 1: Power series derivation</a><br>\n",
    "    \n",
    "<a href=\"https://coursera.org/share/0edb107197401cec6b17fab2c55f6cba\">Video 2: Power series details</a>\n",
    "</div>"
   ]
  },
  {
   "cell_type": "markdown",
   "metadata": {},
   "source": [
    "<div class=note>\n",
    "    <b>Hinweis</b>: Fakultät\n",
    "    <br>\n",
    "    <br>Für die Berechnung der Taylorreihe ist die Berechnung der <b>Fakultät</b> (in der Formel $n!$) essentiell. Sollten Sie nicht wissen, was die Fakultät ist und wie sie berechnet wird, schauen Sie sich diesen <a href=\"https://de.serlo.org/mathe/1765/fakult%C3%A4t\">Artikel</a> an.\n",
    "</div>"
   ]
  },
  {
   "cell_type": "markdown",
   "metadata": {},
   "source": [
    "### Visualisierung von Taylorreihen\n",
    "\n",
    "Bevor wir uns nun aber der Berechnung der Taylorreihe widmen, versuchen wir, ein visuelles Verständnis davon zu entwickeln, wie wir mithilfe der Taylorreihe eine Funktion **approximieren** können. Um die Komplexität etwas zu verringern, greifen wir noch einmal auf die allgemeinere Darstellung der Taylorreihe als **Potenzreihe** zurück, d.h. die Koeffizienten werden durch $a_n$ dargestellt. \n",
    "\n",
    "Betrachten Sie nun das Tool in der folgenden Code-Zelle. Wählen Sie als Funktion `Polynomial (6th Order)` aus und setzen Sie die Ordnung (`Order`) auf $0$. Sie sehen folgendes:<br>\n",
    "\n",
    "- Die Funktion $f(x)$ in <span style=\"background-color: lightgreen;\">Grün</span>. Dies ist eine Polynomfunktion mit Grad 6, d.h. die Funktionsgleichung enthält mindestens ein $x^6$. \n",
    "- Die **Approximation $n$-ter Ordnung**, dargestellt in <span style=\"background-color: orange;\">Orange</span>. Sie können Approximationen der Ordnung $0$, $1$, $2$ und $3$ auswählen.\n",
    "- Einen Punkt $P$ in <span style=\"background-color: pink\">Pink</span>, dessen $x$-Koordinate Sie durch Verschiebung des Punktes bestimmen können.\n",
    "\n",
    "Es wird nun für die Funktion die **Approximation nullter Ordnung** (in <span style=\"background-color: orange;\">Orange</span>) geplottet. Diese lautet:<br>\n",
    "\n",
    "$f_0(x) = a_0$<br>\n",
    "\n",
    "Diese Approximation ist eine **konstante Funktion**, also eine waagerechte Linie, was wir auch im Tool sehen können. Diese nähert unsere Funktion sehr schlecht an, weshalb wir uns nun die **Approximation erster Ordnung** anschauen (`Order` auf $1$ setzen):<br>\n",
    "\n",
    "$f_1(x) = a_0 + a_1x$<br>\n",
    "\n",
    "Diese Approximation ist eine **lineare Funktion**. In wenigen Stellen der Funktion (wenn man z.B. den Punkt sehr weit nach rechts schiebt) bildet diese Approximation die Funktion schon besser ab, an den meisten Stellen ist sie jedoch auch zu unterschiedlich. Wir erhöhen die Ordnung nun auf $2$ und erhalten die **Approximation zweiter Ordnung**:<br>\n",
    "\n",
    "$f_2(x) = a_0 + a_1x + a_2x^2$<br>\n",
    "\n",
    "Diese Approximation ist eine **quadratische Funktion**. Schieben wir unseren Punkt an das rechte Maximum oder so, dass die $y$-Koordinate des Punktes $0$ ist, können wir sehen, dass die Approximation es schafft, die Funktion leicht anzunähern, da sie die Kurvenform in diesen Stellen nachahmt. Zuletzt erhöhen wir die Ordnung auf $3$ und erhalten die **Approximation dritter Ordnung**:<br>\n",
    "\n",
    "$f_2(x) = a_0 + a_1x + a_2x^2 + a_3x^3$<br>\n",
    "\n",
    "Diese Approximation ist eine **kubische Funktion**. Auch hier gab es wieder ein kleine Verbesserung hinsichtlich der Annäherung. Wie Sie sich vorstellen können, können Approximationen mit steigender Ordnung die Funktion $f(x)$ immer besser annähern."
   ]
  },
  {
   "cell_type": "code",
   "execution_count": 2,
   "metadata": {},
   "outputs": [
    {
     "data": {
      "text/html": [
       "\n",
       "        <iframe\n",
       "            width=\"700\"\n",
       "            height=\"500\"\n",
       "            src=\"https://fourier.space/assets/taylor/index.html\"\n",
       "            frameborder=\"0\"\n",
       "            allowfullscreen\n",
       "        ></iframe>\n",
       "        "
      ],
      "text/plain": [
       "<IPython.lib.display.IFrame at 0x7fc848da0bd0>"
      ]
     },
     "execution_count": 2,
     "metadata": {},
     "output_type": "execute_result"
    }
   ],
   "source": [
    "IFrame('https://fourier.space/assets/taylor/index.html', width=700, height=500)"
   ]
  },
  {
   "cell_type": "markdown",
   "metadata": {},
   "source": [
    "<div class=task>\n",
    "    <b>Aufgabe</b>: Funktionen approximieren\n",
    "    <br>\n",
    "    <br>Nutzen Sie das Visualisierungstool und nennen Sie die Funktion, welche bereits ab der zweiten Ordnung perfekt approximiert.<br><br>\n",
    "    \n",
    "<label for=\"show1\" class=\"show_answer\">\n",
    "    <span>Antwort zeigen</span>\n",
    "</label>\n",
    "<input type=radio id=\"show1\" class=\"show\" name=\"group\">\n",
    "<input type=radio id=\"hide1\" class=\"hide\" name=\"group\">\n",
    "<span class=\"content\">\n",
    "    <span><i>Parabola (2nd Order Polynomial)</i>, da diese einfach eine quadratische Funktion ist.</span>\n",
    "    <br><br>\n",
    "<label for=\"hide1\" class=\"hide_answer\">\n",
    "    <span>Antwort verbergen</span> \n",
    "</label> \n",
    "</span>    \n",
    "</div>"
   ]
  },
  {
   "cell_type": "markdown",
   "metadata": {},
   "source": [
    "Im folgenden GIF wird die Funktion $\\ln(1+x)$ an der Stelle $x = 0$ approximiert. Sie können sehen, dass selbst nach 100 Appproximationen die Taylorreihe die Funktion nicht perfekt annähern kann."
   ]
  },
  {
   "cell_type": "markdown",
   "metadata": {},
   "source": [
    "<img src=\"https://upload.wikimedia.org/wikipedia/commons/2/27/Logarithm_GIF.gif\" width=\"500px\" align=\"left\">"
   ]
  },
  {
   "cell_type": "markdown",
   "metadata": {},
   "source": [
    "### Die Berechnung der Taylorreihe\n",
    "\n",
    "Schauen wir uns nun die Formel der **Taylorreihe** nochmal an.\n",
    "\n",
    "$f(x) = \\sum\\limits_{n=0}^{\\infty} \\dfrac{f^{(n)}(p)}{n!} (x - p)^n$<br>\n",
    "\n",
    "Bereits bei der Potenzreihe hatten wir die Formel ausführlicher behandelt, weshalb wir uns hier nur auf die Unterschiede, also den **Koeffizienten** konzentrieren. Die Berechnung von diesem ist aber nicht sonderlich schwer. In diesem <a href=\"https://www.youtube.com/watch?v=ELPvMyhNrz8&t=53s\">Video</a> wird erklärt, wie man <b>Taylorpolynome</b> und <b>Taylorreihen</b> berechnet. Auch das folgende <a href=\"https://www.youtube.com/watch?v=ybFpBd_BT74&t=11s\">Video</a> sollte hierbei behilflich sein."
   ]
  },
  {
   "cell_type": "markdown",
   "metadata": {},
   "source": [
    "<div class=\"tool\">\n",
    "<span class=\"invisible_border\"><img src=\"img/icons/tools.svg\" class=\"icon\"/><b>Werkzeugkasten: <u>Taylorreihen</u></b></span>\n",
    "    <br>\n",
    "    <br>Die <b>Taylorreihe</b> ist eine spezielle Form der <b>Potenzreihe</b>. Mithilfe von Taylorreihen ist es möglich, beinahe jede beliebige Funktion mithilfe eines <b>Taylorpolynoms</b> darzustellen. Um Funktionen durch die Taylorreihe darstellen zu können, muss diese <i>unendlich oft differenzierbar</i> sein (= glatte Funktion).\n",
    "    \n",
    "Die Formel für die <b>Taylorreihe</b> lautet:<br>\n",
    "    \n",
    "$f(x) = \\sum\\limits_{n=0}^{\\infty} \\dfrac{f^{(n)}(p)}{n!} (x - p)^n$<br>\n",
    "</div>"
   ]
  },
  {
   "cell_type": "markdown",
   "metadata": {},
   "source": [
    "## 5. Multivariable Taylorreihen <a class=\"anchor\" id=\"5\"/>\n",
    "\n",
    "Bis jetzt hatten wir uns die Approximationen nur für eindimensionale Funktionen angeguckt, also Funktionen, die nur eine Variable (z.B. $x$) als Eingabe erhalten. Die Taylorreihe gibt es jedoch auch als **multivariable Taylorreihe**, wodurch **multivariate Funktionen** angenähert werden können. Dies ist etwas komplizierter, weshalb es in diesem Abschnitt nur darum geht, die Inuition hier der multivariablen Taylorreihe zu verstehen und nicht, diese auch händisch zu berechnen. Dafür lösen Sie bitte die folgende Aufgaben."
   ]
  },
  {
   "cell_type": "markdown",
   "metadata": {},
   "source": [
    "<div class=task>\n",
    "    <b>Aufgabe</b>: Linearisierung und multivariable Taylorreihen\n",
    "    <br>\n",
    "    <br>Um ein Verständnis für die multivariablen Taylorreihen zu entwickeln, müssen wir zunächst klären, was die <b>Linearisierung</b> ist. Schauen Sie sich deshalb die genannten Videos des Coursera-Kurs \"Math for Machine Learning: Multivariate Calculus\" an und lösen Sie dann die folgenden Aufgaben. Im Video wird der Begriff <b>Rise over Run</b> verwendet; damit ist das <b>Steigungsdreieck</b> aus Kapitel 4 gemeint. Zudem wird im Video die <b>Jacobi-Matrix</b> durch den <b>Gradienten</b> dargestellt, lassen Sie sich davon nicht verwirren, gemeint ist unsere Definition des Gradienten aus Kapitel 7.<br>    \n",
    "\n",
    "<a href=\"https://coursera.org/share/91e366aa1dcb2add1f4889542e0946b6\">Video 3: Linearisation</a><br>\n",
    "<a href=\"https://www.coursera.org/learn/multivariate-calculus-machine-learning/lecture/dcp1h/multivariate-taylor\">Video 4: Multivariate Taylor</a><br><br>\n",
    "    \n",
    "1. Was sind die Unterschiede zwischen der bisherigen Taylorreihen-Formel und der nun neu eingeführten Formel?<br>\n",
    "2. Wie könnten Sie in ein bis zwei Sätzen beschreiben, was die <b>Linearisierung</b> (im Kontext der Taylorreihe) ist?<br>\n",
    "3. Wenn wir die Funktion $f(x + \\Delta x, y + \\Delta y)$ approximieren, wie sieht dann die <b>Approximation Nullter Ordnung</b> aus?<br>\n",
    "4. Wenn wir die Funktion $f(x + \\Delta x, y + \\Delta y)$ approximieren, wie sieht dann die <b>Approximation Erster Ordnung</b> aus?<br>\n",
    "5. Wenn wir die Funktion $f(x + \\Delta x, y + \\Delta y)$ approximieren, wie sieht dann die <b>Approximation Zweiter Ordnung</b> aus?<br>\n",
    "    \n",
    "<br>\n",
    "    <label for=\"show2\" class=\"show_answer\">\n",
    "    <span>Antworten zeigen</span>\n",
    "</label>\n",
    "<input type=radio id=\"show2\" class=\"show\" name=\"group\">\n",
    "<input type=radio id=\"hide2\" class=\"hide\" name=\"group\">\n",
    "<span class=\"content\">\n",
    "    <span>\n",
    "    1. $f(x + \\Delta x) = \\sum\\limits_{n=0}^{\\infty} \\frac{f^{(n)}(x)}{n!} \\Delta x^n$ &nbsp; Der Punkt $p$ wird nicht mehr verwendet, sondern durch $x$ und die Distanz zwischen $x$ und $p$ wird durch den Term $\\Delta x$ ausgedrückt. Diese Schreibweise hatten wir auch schon in Kapitel 4 verwendet.<br>\n",
    "    2. <b>Linearisierung</b> ist der Prozess, in der eine Funktion genommen wird und alle Terme oberhalb von $\\Delta x$ ignoriert werden. Im Video wurde eine komplexe Funktion verwendet und mit einer Geraden, also einer linearen Funktion (deshalb auch der Begriff \"Linearisierung\"), approximiert.<br>\n",
    "    3. Wie eine flache Oberfläche mit der gleichen Höhe wie der eingesetzte Punkt. Diese flache Oberfläche ist einfach die zweidimensionale Darstellung einer <b>konstanten Funktion</b>, die ja auch \"flach\" ist, da ihre Steigung gleich Null ist.<br>\n",
    "    4. Sie ist dann ein <b>Gradient</b>. Die Formel wäre: $\\nabla_f \\cdot \\Delta \\mathbf{x}$, wobei $\\mathbf{x}$ ein Vektor ist. Im Video wurde hier die Jacobi-Matrix in der Formel verwendet, gemeint ist nach unseren Definition aus Kapitel 7 der Gradient.<br>\n",
    "    5. Sie ist dann eine <b>Hesse-Matrix</b>. Die Formel wäre: $\\frac{1}{2} \\Delta \\mathbf{x}^T \\cdot H_f \\cdot \\Delta \\mathbf{x}$, wobei mit $T$ eine transponierte Matrix bzw. Vektor ausgedrückt wird.\n",
    "    </span>\n",
    "    <br><br>\n",
    "<label for=\"hide2\" class=\"hide_answer\">\n",
    "    <span>Antworten verbergen</span> \n",
    "</label> \n",
    "</span> \n",
    "</div>"
   ]
  },
  {
   "cell_type": "markdown",
   "metadata": {},
   "source": [
    "## Taylorreihen Quiz <a class=\"anchor\" id=\"q1\"/><br>"
   ]
  },
  {
   "cell_type": "markdown",
   "metadata": {},
   "source": [
    "<div class=\"imgrow\">\n",
    "  <div class=\"imgcolumn2\">\n",
    "       <figure>\n",
    "          <img src=\"https://d3c33hcgiwev3.cloudfront.net/imageAssetProxy.v1/0NyD_AX8Eeiu6g4-2AcSqA_ebec026f13ec95ab245ab74cfca0c460_Q1a_BZ.gif?expiry=1616544000000&hmac=q8leq4yW9UD8vMnc6FTX_gSjxNrwq_-QWXlJBYLP4GM\" align=\"center\" alt=\"Entnommen aus dem Coursera Kurs 'Math for Machine Learning: Multivariate Calculus' aus dem Quiz '2D Taylor Series' aus Woche 4.\" width=\"500\"/>\n",
    "           <figcaption>Abbildung 1</figcaption>\n",
    "    </figure> \n",
    "  </div>\n",
    "  <div class=\"imgcolumn2\">\n",
    "       <figure>\n",
    "          <img src=\"https://d3c33hcgiwev3.cloudfront.net/imageAssetProxy.v1/5gM_3QX8Eeiu6g4-2AcSqA_2a2e2378db89e0a37800735c02242a22_Q2a_BZ.gif?expiry=1616544000000&hmac=-Pal8RKwsWFIen2AstfI7DGjZE7Fc7Ob6igQF3G66_Y\" align=\"center\" alt=\"Entnommen aus dem Coursera Kurs 'Math for Machine Learning: Multivariate Calculus' aus dem Quiz '2D Taylor Series' aus Woche 4.\" width=\"500\"/>\n",
    "          <figcaption>Abbildung 2</figcaption>\n",
    "    </figure> \n",
    "  </div>\n",
    "</div>"
   ]
  },
  {
   "cell_type": "markdown",
   "metadata": {},
   "source": [
    "<div class=\"task\">\n",
    "    <b>Aufgabe</b>: Taylorreihen Quiz \n",
    "    <br>\n",
    "    <br> Lösen Sie das folgende Quiz \"<b>Taylorreihen Quiz</b>\". Hier finden Sie die jeweiligen Antwortmöglichkeiten zu jeder Frage, geben Sie im Quiz dann den entsprechenden Buchstaben an. Es wird empfohlen, die Aufgaben auf einem Blatt/Tablet/o.ä. zu rechnen und dann erst die Lösungen mit den Antwortmöglichkeiten abzugleichen. Die letzten beiden Aufgaben referenzieren auf die Abbildungen 1 und 2 über dieser Antwortbox.\n",
    "    \n",
    "    \n",
    "<u>Antwortmöglichkeiten zu Frage 1</u>:\n",
    "<ol style=\"list-style-type:lower-alpha\">\n",
    "    <li>$f(x) = 1 + \\frac{1}{2}x^2$</li>\n",
    "    <li>$f(x) = \\frac{1}{2}x^2$</li>\n",
    "    <li>$f(x) = x^2$</li>\n",
    "    <li>$f(x) = 1 + x^2$</li>\n",
    "</ol>\n",
    "    \n",
    "<u>Antwortmöglichkeiten zu Frage 2</u>:\n",
    "<ol style=\"list-style-type:lower-alpha\">\n",
    "    <li>$f(x) = 1 + 3x + \\frac{x^2}{2} + \\frac{x^4}{6}$</li>\n",
    "    <li>$f(x) = 1 + 3x - \\frac{x^2}{2} + \\frac{x^4}{6}$</li>\n",
    "    <li>$f(x) = 1 + 3x - \\frac{x^2}{2} + \\frac{x^4}{24}$</li>\n",
    "    <li>$f(x) = 1 + 3x + \\frac{x^2}{2} + \\frac{x^4}{24}$</li>\n",
    "</ol>\n",
    "    \n",
    "    \n",
    "<u>Antwortmöglichkeiten zu Frage 3</u>:\n",
    "<ol style=\"list-style-type:lower-alpha\">\n",
    "    <li>Nullte Ordnung</li>\n",
    "    <li>Erste Ordnung</li>\n",
    "    <li>Zweite Ordnung</li>\n",
    "    <li>Es ist keine gültige Approximation der Funktion.</li>\n",
    "</ol>\n",
    "    \n",
    "<u>Antwortmöglichkeiten zu Frage 4</u>:\n",
    "<ol style=\"list-style-type:lower-alpha\">\n",
    "    <li>Nullte Ordnung</li>\n",
    "    <li>Erste Ordnung</li>\n",
    "    <li>Zweite Ordnung</li>\n",
    "    <li>Es ist keine gültige Approximation der Funktion.</li>\n",
    "</ol>\n",
    "    \n",
    "</div>"
   ]
  },
  {
   "cell_type": "code",
   "execution_count": 13,
   "metadata": {},
   "outputs": [
    {
     "data": {
      "application/vnd.jupyter.widget-view+json": {
       "model_id": "3e9d38840da945b99d000e49b6004d5c",
       "version_major": 2,
       "version_minor": 0
      },
      "text/plain": [
       "VBox(children=(Output(), RadioButtons(layout=Layout(width='max-content'), options=(('a', 0), ('b', 1), ('c', 2…"
      ]
     },
     "metadata": {},
     "output_type": "display_data"
    },
    {
     "data": {
      "application/vnd.jupyter.widget-view+json": {
       "model_id": "32e26bbe5b8e4f0ab9c5cadd5b19fc7f",
       "version_major": 2,
       "version_minor": 0
      },
      "text/plain": [
       "VBox(children=(Output(), RadioButtons(layout=Layout(width='max-content'), options=(('a', 0), ('b', 1), ('c', 2…"
      ]
     },
     "metadata": {},
     "output_type": "display_data"
    },
    {
     "data": {
      "application/vnd.jupyter.widget-view+json": {
       "model_id": "79de33538d72433784c82a69067d8946",
       "version_major": 2,
       "version_minor": 0
      },
      "text/plain": [
       "VBox(children=(Output(), RadioButtons(layout=Layout(width='max-content'), options=(('a', 0), ('b', 1), ('c', 2…"
      ]
     },
     "metadata": {},
     "output_type": "display_data"
    },
    {
     "data": {
      "application/vnd.jupyter.widget-view+json": {
       "model_id": "329f975208704aad90ce5bd895c613f5",
       "version_major": 2,
       "version_minor": 0
      },
      "text/plain": [
       "VBox(children=(Output(), RadioButtons(layout=Layout(width='max-content'), options=(('a', 0), ('b', 1), ('c', 2…"
      ]
     },
     "metadata": {},
     "output_type": "display_data"
    },
    {
     "data": {
      "text/markdown": [
       "---\n",
       "---\n"
      ],
      "text/plain": [
       "<IPython.core.display.Markdown object>"
      ]
     },
     "metadata": {},
     "output_type": "display_data"
    },
    {
     "data": {
      "application/vnd.jupyter.widget-view+json": {
       "model_id": "05f138b50d8c457c80d3ab4db0755d53",
       "version_major": 2,
       "version_minor": 0
      },
      "text/plain": [
       "VBox(children=(Button(description='Ausgewählte Antworten überprüfen', layout=Layout(width='40%'), style=Button…"
      ]
     },
     "metadata": {},
     "output_type": "display_data"
    }
   ],
   "source": [
    "start_quiz(91, \"calculus\")"
   ]
  },
  {
   "cell_type": "code",
   "execution_count": null,
   "metadata": {},
   "outputs": [],
   "source": []
  }
 ],
 "metadata": {
  "kernelspec": {
   "display_name": "Python 3",
   "language": "python",
   "name": "python3"
  },
  "language_info": {
   "codemirror_mode": {
    "name": "ipython",
    "version": 3
   },
   "file_extension": ".py",
   "mimetype": "text/x-python",
   "name": "python",
   "nbconvert_exporter": "python",
   "pygments_lexer": "ipython3",
   "version": "3.7.7"
  }
 },
 "nbformat": 4,
 "nbformat_minor": 4
}
