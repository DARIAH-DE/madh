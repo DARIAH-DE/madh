{
 "cells": [
  {
   "cell_type": "markdown",
   "metadata": {},
   "source": [
    "# Kapitel x - Funktionen"
   ]
  },
  {
   "cell_type": "code",
   "execution_count": 1,
   "metadata": {},
   "outputs": [
    {
     "data": {
      "text/html": [
       "<style>\n",
       "\n",
       "\n",
       "/* special fields*/\n",
       "\n",
       "div.digression {    \n",
       "    background-color: #e5f6ff;\n",
       "    border-color: #a1c6de;\n",
       "    border-left: 5px solid #a1c6de;\n",
       "    border-right: 5px solid #a1c6de;\n",
       "    border-top: 5px solid #a1c6de;\n",
       "    border-bottom: 5px solid #a1c6de;\n",
       "    padding: 0.5em;\n",
       "}\n",
       "\n",
       "div.note {    \n",
       "    background-color: #e5f6ff;\n",
       "    border-color: #ffb382;\n",
       "    border-left: 5px solid #ffb382;\n",
       "    border-right: 5px solid #ffb382;\n",
       "    border-top: 5px solid #ffb382;\n",
       "    border-bottom: 5px solid #ffb382;\n",
       "    padding: 0.5em;\n",
       "}\n",
       "\n",
       "div.task {    \n",
       "    background-color: #e5f6ff;\n",
       "    border-color: #99b898;\n",
       "    border-left: 5px solid #99b898;\n",
       "    border-right: 5px solid #99b898;\n",
       "    border-top: 5px solid #99b898;\n",
       "    border-bottom: 5px solid #99b898;\n",
       "    padding: 0.5em;\n",
       "}\n",
       "\n",
       "div.warn {    \n",
       "    background-color: #e5f6ff;\n",
       "    border-color: #cc1a32;\n",
       "    border-left: 5px solid #cc1a32;\n",
       "    border-right: 5px solid #cc1a32;\n",
       "    border-top: 5px solid #cc1a32;\n",
       "    border-bottom: 5px solid #cc1a32;\n",
       "    padding: 0.5em;\n",
       "}\n",
       "\n",
       "\n",
       "/* for simple answer / solution*/\n",
       "input.show {\n",
       "  visibility: hidden;\n",
       "}\n",
       "\n",
       "input.hide {\n",
       "  visibility: hidden;\n",
       "}\n",
       "\n",
       "label.answers {\n",
       "  border: 1px solid black;\n",
       "  padding: 1px;\n",
       "}\n",
       "\n",
       "label.show_answer {\n",
       "  background-color: #008CBA;  /* Blue */\n",
       "  border: none;\n",
       "  border-radius: 8px;\n",
       "  color: white;\n",
       "  padding: 3px 10px;\n",
       "  text-align: center;\n",
       "  text-decoration: none;\n",
       "  display: inline-block;\n",
       "  font-size: 12px;\n",
       "}\n",
       "\n",
       "label.hide_answer {\n",
       "  background-color: #b2b2b2; /* Grey */\n",
       "  border: none;\n",
       "  border-radius: 8px;\n",
       "  color: white;\n",
       "  padding: 3px 10px;\n",
       "  text-align: center;\n",
       "  text-decoration: none;\n",
       "  display: inline-block;\n",
       "  font-size: 12px;\n",
       "}\n",
       "\n",
       "\n",
       "span.content {\n",
       "  display:none;\n",
       "}\n",
       "input.show:checked ~ span.content {\n",
       "  display:block;\n",
       "}\n",
       "\n",
       "input.hide:checked ~ span.content {\n",
       "  display:none;\n",
       "}\n",
       "\n",
       "\n",
       "\n",
       "\n",
       "\n",
       "\n",
       "/* Tables & side by side images */\n",
       "\n",
       "/* 3 images side by side */\n",
       ".imgcolumn3 {\n",
       "  float: left;\n",
       "  width: 33.33%;\n",
       "  padding: 5px;\n",
       "}\n",
       "\n",
       "/* 4 images side by side */\n",
       ".imgcolumn4 {\n",
       "  float: left;\n",
       "  width: 25.0%;\n",
       "  padding: 5px;\n",
       "}\n",
       "\n",
       "\n",
       ".imgrow::after {\n",
       "  content: \"\";\n",
       "  clear: both;\n",
       "  display: table;\n",
       "} \n",
       "\n",
       "figure figcaption {\n",
       "  margin: 3px;\n",
       "  text-align: center;\n",
       "  font-weight: bold;\n",
       "}\n",
       "\n",
       "table {\n",
       "    float: left;\n",
       "    border-style: 1.5px solid black;\n",
       "    border: 1.5px  black solid !important;\n",
       "    color: black !important;\n",
       "}\n",
       "\n",
       "th, td {\n",
       "    text-align: center;\n",
       "    vertical-align: middle;\n",
       "    border: 1.5px  black solid !important;\n",
       "    color: black !important;\n",
       "}\n",
       "\n",
       "#centertable td\n",
       "{\n",
       "    text-align: center; \n",
       "    vertical-align: middle;\n",
       "}\n",
       "\n",
       "#centertable th\n",
       "{\n",
       "    text-align: center; \n",
       "    vertical-align: middle;\n",
       "}\n",
       "\n",
       "\n",
       " </style>\n"
      ],
      "text/plain": [
       "<IPython.core.display.HTML object>"
      ]
     },
     "execution_count": 1,
     "metadata": {},
     "output_type": "execute_result"
    }
   ],
   "source": [
    "import sys\n",
    "sys.path.append(\"../src/\") \n",
    "from quiz import start_quiz\n",
    "from utils import css_styling, hide_code\n",
    "from functionplotter import plt_function\n",
    "css_styling()"
   ]
  },
  {
   "cell_type": "markdown",
   "metadata": {},
   "source": [
    "## 1. Kapitelübersicht <a class=\"anchor\" id=\"1\"/>"
   ]
  },
  {
   "cell_type": "markdown",
   "metadata": {},
   "source": [
    "In diesem Kapitel wird ein erster Einblick in das Thema \"Funktionen\" gegeben. Wir gucken uns an, was Funktionen sind und wie wir sie graphisch darstellen können. Weiterhin werden wir uns einen Überblick über die häufigsten Funktionstypen verschaffen. Dann werden wir uns in diesem Kapitel näher mit **konstanten** und **linearen Funktionen** auseinandersetzen.\n",
    "\n",
    "\n",
    "TODO\n",
    "\n",
    "\n",
    "<b>Abschnittsübersicht</b><br>\n",
    "\n",
    "[1. Kapitelübersicht](#1)<br>\n",
    "[2. Einführung zu Funktionen](#2)<br>\n",
    "[3. Konstante Funktionen](#3)<br>\n",
    "[4. Lineare Funktionen](#4)<br>\n",
    "[4.1. Die Berechnung der Steigung $m$ und des Schnittpunkts mit der y-Achse $b$](#4-1)<br>\n",
    "[4.2. Von der Formel zum Graphen](#4-2)<br>\n",
    "[4.3. Weitere Besonderheiten von linearen Funktionen](#4-3)<br>\n",
    "[5. Quadratische Funktionen](#5)<br>\n",
    "\n",
    "TODO\n",
    "\n",
    "<b>Quizübersicht</b><br>\n",
    "[Funktionsdefinitionen Quiz](#q1)<br>\n",
    "[Lineare Funktionen Quiz](#q2)<br>\n",
    "\n",
    "TODO\n",
    "\n",
    "<b>Behandelte Themen</b><br>\n",
    "- Funktionsdefinition\n",
    "- Konstante Funktionen\n",
    "- Lineare Funktionen\n",
    "- TODO\n",
    "\n",
    "<b>Mögliche Anwendungsfelder</b><br>\n",
    "- Lineare Regression (→ Lineare Funktionen)\n",
    "    - Simple Lineare Regression (Machine Learning)\n",
    "    - Simples Neuronales Netz <u>ohne</u> Aktivierungsfunktion (Deep Learning)\n",
    "- TODO"
   ]
  },
  {
   "cell_type": "markdown",
   "metadata": {},
   "source": [
    "## 2. Einführung zu Funktionen <a class=\"anchor\" id=\"2\"/>"
   ]
  },
  {
   "cell_type": "markdown",
   "metadata": {},
   "source": [
    "Im Wesentlichen modelliert eine Funktion eine Beziehung zwischen einigen Eingabewerten und einem Ausgabewert.\n",
    "\n",
    "<img src=\"https://upload.wikimedia.org/wikipedia/commons/thumb/3/3b/Function_machine2.svg/800px-Function_machine2.svg.png\" align=\"center\" style=\"width: 200px;\"/>\n",
    "\n",
    "Wir werden zu Beginn dieser Tutorialreihe erst einmal mit Funktionen arbeiten, die nur einen Eingabewert erlauben. Im weiteren Verlauf der Tutorialreihe werden wir Funktionen kennenlernen, die mehr als einen Eingabewert übergeben bekommen.  "
   ]
  },
  {
   "cell_type": "markdown",
   "metadata": {},
   "source": [
    "<div class=task>\n",
    "    <b>Aufgabe</b>: Mehr zur Funktionen\n",
    "    <br><br>\n",
    "    Lesen das Kapitel \"Funktionen\" von der Mathe-Lernplattform <a href=\"https://www.mathebibel.de/funktionen\">Mathebibel</a>. Dieses bietet ausführlichere Informationen zur Definition und Erläuterung vom Funktionsbegriff. Beantworten Sie nach dem Lesen des Kapitels das <b>Funktionen Quiz</b>.\n",
    "</div>"
   ]
  },
  {
   "cell_type": "markdown",
   "metadata": {},
   "source": [
    "### Funktionsdefinitionen Quiz <a class=\"anchor\" id=\"q1\"/>"
   ]
  },
  {
   "cell_type": "code",
   "execution_count": 2,
   "metadata": {},
   "outputs": [
    {
     "data": {
      "application/vnd.jupyter.widget-view+json": {
       "model_id": "3dc7100891ff46a9afd11521e4cd7b8f",
       "version_major": 2,
       "version_minor": 0
      },
      "text/plain": [
       "VBox(children=(Output(), RadioButtons(layout=Layout(width='max-content'), options=(('Nichts, sie beschreiben e…"
      ]
     },
     "metadata": {},
     "output_type": "display_data"
    },
    {
     "data": {
      "application/vnd.jupyter.widget-view+json": {
       "model_id": "901b340cfadf47099ec8d1cb318619ac",
       "version_major": 2,
       "version_minor": 0
      },
      "text/plain": [
       "VBox(children=(Output(), RadioButtons(layout=Layout(width='max-content'), options=(('x-Werte: Definitionsmenge…"
      ]
     },
     "metadata": {},
     "output_type": "display_data"
    },
    {
     "data": {
      "application/vnd.jupyter.widget-view+json": {
       "model_id": "264adaffefec47df96b59fc904eb1c76",
       "version_major": 2,
       "version_minor": 0
      },
      "text/plain": [
       "VBox(children=(Output(), RadioButtons(layout=Layout(width='max-content'), options=(('Wenn sie in der Funktions…"
      ]
     },
     "metadata": {},
     "output_type": "display_data"
    },
    {
     "data": {
      "text/markdown": [
       "---\n",
       "---\n"
      ],
      "text/plain": [
       "<IPython.core.display.Markdown object>"
      ]
     },
     "metadata": {},
     "output_type": "display_data"
    },
    {
     "data": {
      "application/vnd.jupyter.widget-view+json": {
       "model_id": "0da336b681454b079167eacc785dd31d",
       "version_major": 2,
       "version_minor": 0
      },
      "text/plain": [
       "VBox(children=(Button(description='Ausgewählte Antworten überprüfen', layout=Layout(width='40%'), style=Button…"
      ]
     },
     "metadata": {},
     "output_type": "display_data"
    }
   ],
   "source": [
    "start_quiz(1, \"calculus\")"
   ]
  },
  {
   "cell_type": "markdown",
   "metadata": {},
   "source": [
    "#### Einsteigsbeispiel zu Funktionen\n",
    "\n",
    "Wir möchten eine Funktion erstellen, bei der wir für ein Produkt in einem Online-Shop die Menge eingeben können und den zu bezahlenden Gesamtpreis erhalten. Die Menge ist der Eingabewert $x$ und der Gesamtpreis der Ausgabewert $y$. Eine einfache Funktion für ein Produkt, welches 50€ kostet, wäre folgende Funktion:\n",
    "\n",
    "$y = x \\cdot 50$<br>\n",
    "\n",
    "Wir möchten das Produkt vier Mal kaufen, wir geben also für die Menge $x$ 4 ein und erhalten für den Preis $y$ 200. Nun können wir diese Funktion beliebig erweitern, damit sie die Situation in unserem Online-Shop besser repräsentiert. Da wir die Produkte versenden, möchten wir nun Versandkosten von 5€ für jede Bestellung erheben. Die Funktion für unser Beispielprodukt könnte dann so aussehen:\n",
    "\n",
    "$y = x \\cdot 50 + 5$<br>\n",
    "\n",
    "Nun stellt die Funktion jedoch nur ein Produkt dar, welches 50€ kostet. Wir könnten nun den Preis wie die Menge ebenfalls als Eingabewert betrachten:\n",
    "\n",
    "$y = x \\cdot p + 5$<br>\n",
    "\n",
    "Diese Funktion könnten wir nun beliebig erweitern, um sie unseren Bedürfnissen immer besser anpassen zu können."
   ]
  },
  {
   "cell_type": "markdown",
   "metadata": {},
   "source": [
    "#### Mögliche Schreibweisen für Funktionen\n",
    "\n",
    "Es gibt mehrere mögliche Schreibweisen für Funktionen. In dieser Tutorialreihe werden nur die letzten beiden Schreibweisen verwendet.\n",
    "\n",
    "$f: x \\to 4x+2$<br>\n",
    "$f(x) = 4x+2$<br>\n",
    "$y = 4x+2$<br>\n",
    "\n",
    "Was bedeutet aber $f(x)$? $f(x)$ ist der **Funktionswert** von $x$, wenn etwas für $x$ eingesetzt wird. Dieser Funktionswert kann auch als $y$ bezeichnet werden. Einem $x$-Wert wird in der Beispielfunktion $4x+2$ einem $y$-Wert zugeordnet. Setzen wir bestimmte Werte für $x$ ein, können wir eine Wertetabelle erstellen, um die entsprechenden y-Werte zu erhalten.\n",
    "<p>\n",
    "<table style=\"width: 20%\" id=\"centertable\">\n",
    "    <tr>\n",
    "        <th>x</th>\n",
    "        <th>1</th>\n",
    "        <th>2</th>\n",
    "        <th>4</th>\n",
    "        <th>5</th>\n",
    "    </tr>\n",
    "    <tr>\n",
    "        <td>y</td>\n",
    "        <td>6</td>\n",
    "        <td>10</td>\n",
    "        <td>18</td>\n",
    "        <td>22</td>\n",
    "    </tr>\n",
    "</table> \n",
    "</p>\n",
    "<br><br><br><br>\n",
    "\n",
    "Wir können also sehen, dass $y$ von den $x$-Werten **abhängig** ist."
   ]
  },
  {
   "cell_type": "markdown",
   "metadata": {},
   "source": [
    "#### Funktionstypen\n",
    "\n",
    "Es gibt verschiedene Arten von Funktionen. Wir werden im Verlauf dieser Tutorialreihe verschiedene Funktionstypen und ihre Besonderheiten kennenlernen. In der folgenden Tabelle werden einige Funktionstypen mit dazugehörigen Formeln und einem Graphenbeispiel aufgelistet (alphabetisch sortiert).\n",
    "\n",
    "\n",
    "<p>\n",
    "<table style=\"width: 100%\" id=\"centertable\">\n",
    "    <col width=\"80\">\n",
    "    <col width=\"80\">\n",
    "    <col width=\"80\">\n",
    "    <col width=\"80\">\n",
    "    <tr>\n",
    "        <th>Funktionstypen</th>\n",
    "        <th>Formel</th>\n",
    "        <th colspan=\"2\">Beispielgraph(en)</th>\n",
    "    </tr>\n",
    "    <tr>\n",
    "        <td>Exponentialfunktion</td>\n",
    "        <td>$f(x) = a^x$<br>\n",
    "            $f(x) = e^x$\n",
    "        </td>\n",
    "        <td>\n",
    "            <img src=\"../src/img/calculus/function_examples/exponential_function_example.png\" style=\"width: 200px\"/>$f(x) = 3^x$\n",
    "        </td>\n",
    "        <td>\n",
    "            <img src=\"../src/img/calculus/function_examples/exponential_e_function_example.png\" style=\"width: 200px\"/>$f(x) = e^x$\n",
    "        </td>\n",
    "    </tr>\n",
    "    <tr>\n",
    "        <td>Konstante Funktion</td>\n",
    "        <td>$f(x) = c$</td>\n",
    "        <td>\n",
    "            <img src=\"../src/img/calculus/function_examples/constant_function_example.png\" style=\"width: 200px\"/>$f(x) = 3$\n",
    "        </td>\n",
    "        <td></td>\n",
    "    </tr>\n",
    "    <tr>\n",
    "        <td>Lineare Funktion</td>\n",
    "        <td>$f(x) = m \\cdot x + b$</td>\n",
    "        <td>\n",
    "            <img src=\"../src/img/calculus/function_examples/linear_function_example.png\" style=\"width: 200px\"/>$f(x)=2x\\ +2$\n",
    "        </td>\n",
    "        <td></td>\n",
    "    </tr>\n",
    "    <tr>\n",
    "        <td>Logarithmusfunktion</td>\n",
    "        <td>$f(x) = \\log_{a}x$</td>\n",
    "        <td><img src=\"../src/img/calculus/function_examples/logarithm_function_example.png\" style=\"width: 200px\"/>$f(x) = \\log_{2}x$\n",
    "        </td>\n",
    "        <td></td>\n",
    "    </tr>\n",
    "    <tr>\n",
    "        <td>Polynomfunktion<br>\n",
    "            (auch: Ganzrationale Funktion)\n",
    "        </td>\n",
    "        <td>$f(x) = a_n\\cdot x^n + a_{n-1}\\cdot x^{n-1}+ … +a_1\\cdot x + a_0$</td>\n",
    "        <td><img src=\"../src/img/calculus/function_examples/polynomial_function_example.png\" style=\"width: 200px\"/>$f(x)=x^{3}+3 \\cdot x^{2}+1$\n",
    "        </td>\n",
    "        <td></td>\n",
    "    </tr>\n",
    "    <tr>\n",
    "        <td>Potenzfunktion</td>\n",
    "        <td>$f(x) = a \\cdot x^n$</td>\n",
    "        <td><img src=\"../src/img/calculus/function_examples/power_function_example.png\" style=\"width: 200px\"/>$f(x) = 2 \\cdot x^{3}$</td>\n",
    "        <td></td>\n",
    "    </tr>\n",
    "    <tr>\n",
    "        <td>Rationale Funktion<br>\n",
    "            (auch: Gebrochenrationale Funktion)\n",
    "        </td>\n",
    "        <td>$f(x) = \\frac{a_n x^n + a_{n-1} x^{n-1} + \\dots + a_1 x + a_ 0}{b_m x^m + b_{m-1} x^{m-1} + \\dots + b_1 x + b_ 0}$</td>\n",
    "        <td>\n",
    "            <img src=\"../src/img/calculus/function_examples/rational_function_example.png\" style=\"width: 200px\"/>$f(x)=\\frac{1}{x}$<br>\n",
    "        </td>\n",
    "        <td>\n",
    "            <img src=\"../src/img/calculus/function_examples/broken_rational_function_example.png\" style=\"width: 200px\"/>$f(x)=\\frac{x^{2}-2x+3}{x^{2}+1x-6}$\n",
    "        </td>\n",
    "    </tr>\n",
    "    <tr>\n",
    "        <td>Sigmoidfunktion</td>\n",
    "        <td>$f(x) = \\frac{1}{1 + e^{-x}}$</td>\n",
    "        <td><img src=\"../src/img/calculus/function_examples/sigmoid_function_example.png\" style=\"width: 200px\"/>$f(x) = \\frac{1}{1 + e^{-x}}$</td>\n",
    "        <td></td>\n",
    "    </tr>\n",
    "    <tr>\n",
    "        <td>Trigonometrische Funktion<br><br>\n",
    "            Sinusfunktions<br>\n",
    "            Kosinusfunktion<br>\n",
    "            Tangensfunktion<br>\n",
    "        </td>\n",
    "        <td>$f(x) = \\sin(x)$<br>\n",
    "            $f(x) = \\cos(x)$<br>\n",
    "            $f(x) = \\tan(x)$<br>\n",
    "        </td>\n",
    "        <td>\n",
    "            <img src=\"../src/img/calculus/function_examples/sinus_function_example.png\" style=\"width: 200px\"/>$f(x) = \\sin(x)$<br>\n",
    "            <img src=\"../src/img/calculus/function_examples/tangens_function_example.png\" style=\"width: 200px\"/>$f(x) = \\tan(x)$<br>\n",
    "        </td>\n",
    "        <td>\n",
    "            <img src=\"../src/img/calculus/function_examples/cosinus_function_example.png\" style=\"width: 200px\"/>$f(x) = \\cos(x)$<br>\n",
    "        </td>\n",
    "    </tr>\n",
    "    <tr>\n",
    "        <td>Quadratische Funktion</td>\n",
    "        <td>$f(x) = a \\cdot x^2 + b \\cdot x + c$</td>\n",
    "        <td><img src=\"../src/img/calculus/function_examples/quadratic_function_example.png\" style=\"width: 200px\"/>$f(x) = x^2 + x + 1$</td>\n",
    "        <td></td>\n",
    "    </tr>\n",
    "</table> \n",
    "</p>\n",
    "<br><br><br><br><br>"
   ]
  },
  {
   "cell_type": "markdown",
   "metadata": {},
   "source": [
    "## 3. Konstante Funktionen <a class=\"anchor\" id=\"3\"/>"
   ]
  },
  {
   "cell_type": "markdown",
   "metadata": {},
   "source": [
    "Die **konstante Funktion** ist eine der simpleren Funktionstypen. Sie wird durch folgende Gleichung beschrieben:<br>\n",
    "\n",
    "$f(x) = c$\n",
    "\n",
    "$c$ steht dabei für eine Konstante, welche ein beliebige Zahl aus der Menge aller reellen Zahlen sein kann.<br>\n",
    "Das besondere bei konstanten Funktion ist, dass es keinen Zusammenhang zwischen den Variablen $x$ und $c$ gibt, da $x$ gar nicht auf der rechten Seite der Funktion vorkommt. Die Ausgabe der Funktion bleibt **konstant** (daher auch der Name). Anders als andere Funktionen wie z.B. die lineare Funktion modelliert die konstante Funktion also nicht die **Abhängigkeit zwischen zwei Variablen**, sondern die **Unabhängigkeit zwischen zwei Variablen**."
   ]
  },
  {
   "cell_type": "markdown",
   "metadata": {},
   "source": [
    "<div class=task>\n",
    "    <b>Aufgabe</b>: Konstante Funktionen plotten\n",
    "    <br>\n",
    "    <br> Führen Sie für eine Visualisierung einer <b>konstanten Funktion</b> die folgende Code-Zelle aus und geben Sie mithilfe des Sliders verschiedene Werte für $c$ und $x$ ein. Welchen Einfluss haben $x$ und $c$ auf den Graphen? \n",
    "<br><br>\n",
    "<label for=\"show1\" class=\"show_answer\">\n",
    "    <span>Antwort zeigen</span>\n",
    "</label>\n",
    "<input type=radio id=\"show1\" class=\"show\" name=\"group\">\n",
    "<input type=radio id=\"hide1\" class=\"hide\" name=\"group\">\n",
    "<span class=\"content\">\n",
    "    <span>$c$ kennzeichnet die Stelle, an welcher der Graph die <b>y-Achse</b> schneidet. $x$ hat keinen Einfluss auf den Graphen oder auf $c$.</span>\n",
    "    <br><br>\n",
    "<label for=\"hide1\" class=\"hide_answer\">\n",
    "    <span>Antwort verbergen</span> \n",
    "</label> \n",
    "</span>\n",
    "</div>"
   ]
  },
  {
   "cell_type": "code",
   "execution_count": 3,
   "metadata": {},
   "outputs": [
    {
     "data": {
      "application/vnd.jupyter.widget-view+json": {
       "model_id": "15d74145347e4989bc8050f0150674e8",
       "version_major": 2,
       "version_minor": 0
      },
      "text/plain": [
       "interactive(children=(FloatSlider(value=0.0, continuous_update=False, description='c', max=10.0, min=-10.0, re…"
      ]
     },
     "metadata": {},
     "output_type": "display_data"
    }
   ],
   "source": [
    "plt_function(function=\"constant\", space=(-10.0, 10.0), slider_step=1.0)"
   ]
  },
  {
   "cell_type": "markdown",
   "metadata": {},
   "source": [
    "#### Beispiel für eine konstante Funktion\n",
    "\n",
    "Bezogen auf unser Beispiel aus dem vorherigen Kapitel wäre eine mögliche konstante Funktion bei der Erstellung eines Online-Shops die Berechnung der Versandkosten. Angenommen, dass unser Online-Shop fixe Versandkosten für alle Produkte hätte, würde die Funktion $f(\\text{Preis}) = \\text{Versandkosten}$ immer die gleichen Versandkosten zurückgeben:<br>\n",
    "\n",
    "$\\text{0.99€} \\mapsto \\text{5 €}$<br>\n",
    "$\\text{4.99€} \\mapsto \\text{5 €}$<br>\n",
    "$\\text{7.50€} \\mapsto \\text{5 €}$<br>\n",
    "$\\text{119.95€} \\mapsto \\text{5 €}$<br>"
   ]
  },
  {
   "cell_type": "markdown",
   "metadata": {},
   "source": [
    "## 4. Lineare Funktionen <a class=\"anchor\" id=\"4\"/>"
   ]
  },
  {
   "cell_type": "markdown",
   "metadata": {},
   "source": [
    "Die **lineare Funktion** ist auch unter dem Begriff *Geradengleichung* bekannt. Aus dieser Bezeichnung wird deutlich, dass die lineare Funktion graphisch eine **Gerade** darstellt. Anders als die konstante Funktion beschreibt die lineare Funktion die **Abhängigkeit zwischen zwei Variablen**: $f(x)$ wird durch die Variable $x$ beeinflusst, sie ist von $x$ **abhängig**. $x$ selbst ist eine **unabhängige** Variable. Dies bedeutet, dass für $x$ beliebige Werte eingegeben werden können. Bei einer abhängigen Variablen wie $f(x)$ ist dies nicht möglich."
   ]
  },
  {
   "cell_type": "markdown",
   "metadata": {},
   "source": [
    "<div class=digression>\n",
    "    <b>Exkurs</b>: Geraden\n",
    "    <br>\n",
    "    <br>\n",
    "    <b>Geraden</b> sind ein Element aus der Geometrie. Sie sind <b>gerade, unendlich lange</b> Linien, die in keine Richtung begrenzt und unendlich lang sind. Sind zwei Geraden <i>parallel</i> zueinander, haben sie nie einen gemeinsamen Schnittpunkt. Zwei <i>gleiche</i> Geraden haben unendlich viele Schnittpunkte und <i>schneidende</i> Geraden haben genau einen Schnittpunkt.  \n",
    "</div>"
   ]
  },
  {
   "cell_type": "markdown",
   "metadata": {},
   "source": [
    "Lineare Funktionen werden durch die folgende Gleichung beschrieben:<br>\n",
    "\n",
    "$f(x) = m \\cdot x  + b$<br>\n",
    "\n",
    "$x$ und $f(x)$ kennen wir bereits, $m$ und $b$ sind neu. $m$ beschreibt die **Steigung** (engl. *slope*) einer Geraden. Diese gibt an, um wie viele Einheiten sich die y-Koordinate eines Punktes verändert, wenn sich die x-Koordinate dieses Punktes um eine Einheit verändert. Die Steigung einer Geraden misst also, wie **steil** sie *ansteigt* (wenn sie positiv ist) oder *abfällt* (wenn sie negativ ist). Mit $b$ wird der **Schnittpunkt** der Geraden mit der **y-Achse** (engl. *y-intercept*) dargestellt. Wie diese Werte berechnet werden können, sehen wir anhand eines Beispiels im nächsten Abschnitt."
   ]
  },
  {
   "cell_type": "markdown",
   "metadata": {},
   "source": [
    "### 4.1. Die Berechnung der Steigung $m$ und des Schnittpunkts mit der y-Achse $b$ <a class=\"anchor\" id=\"4-1\"/>\n",
    "\n",
    "<img src=\"../src/img/calculus/function_types/linear_function_1_empty_graph.png\" align=\"center\"  style=\"width: 300px; height: 300px;\" /><br>\n",
    "\n",
    "Der Graph stellt die Funktion $f(x) = 2 \\cdot x + 2$ dar, wobei $m = 2$ und $b = 2$. Haben wir aber nur den Graphen vorliegen und wollen die Funktion erhalten, müssen wir die Steigung $m$ berechnen. $b$ erhalten wir, indem wir uns einfach den Graphen anschauen und uns notieren, in welchem Punkt die Gerade die y-Achse schneidet. Dies ist hier der Punkt $(0|2)$. Bei dem Schnittpunkt mit der y-Achse muss die x-Koordinate des Punktes immer $0$ sein. Interessant ist also nur die y-Koordinate des Schnittpunktes. Diese ist $2$, weshalb $b =2$. Wir überprüfen das, indem wir für $x$ in unserer Funktion $f(x) = 2 \\cdot x + 2$ eine $0$ eingeben. Wir erhalten $f(x) = 2 \\cdot 0 + 2 = 2$. <br>\n",
    "\n",
    "Für die Berechnung der Steigung brauchen wir den sogenannten **Differenzquotienten**. Die Formel dafür lautet:<br>\n",
    "\n",
    "$ m=\\frac{\\Delta y}{\\Delta x}=\\frac{y_2-y_1}{x_2- x_1}$<br>\n",
    "\n",
    "Neben der Formel benötigt man noch zwei Punkte $P(x_1,y_1)$ und $Q(x_2,y_2)$, die auf der Geraden liegen. Welche Punkte das sind, ist vollkommen egal, sie müssen sich nur auf der Gerade befinden. Es empfiehlt sich, Ganzzahlen zu verwenden, damit die Rechnung nicht zu kompliziert wird.\n",
    "\n",
    "<img src=\"../src/img/calculus/function_types/linear_function_2_two_labeled_points.png\" align=\"center\"  style=\"width: 300px; height: 300px;\" /><br>\n",
    "\n",
    "Für $P$ wählen wir $(0, 2)$ (= den Schnittpunkt mit der y-Achse) und für $Q$ den Punkt $ (1,4)$. Diese Punkte setzen wir nun in unsere **Differenzquotienten**-Formel ein:<br>\n",
    "\n",
    "$ m=\\frac{4-2}{1-0}=\\frac{2}{1}=2$<br>\n",
    "\n",
    "Wir erhalten die Steigung $m = 2$."
   ]
  },
  {
   "cell_type": "markdown",
   "metadata": {},
   "source": [
    "<div class=digression>\n",
    "    <b>Exkurs</b>: Steigungsdreieck\n",
    "    <br>\n",
    "    <br>\n",
    "    Die Steigung lässt sich mit der Formel $ m=\\frac{\\Delta y}{\\Delta x}=\\frac{y_2-y_1}{x_2 - x_1} $ berechnen. ${\\Delta y}$ und ${\\Delta x}$ beschreiben dabei die <b>Differenz</b> zwischen den jeweiligen Koordinaten der beiden ausgewählten Punkte. Diese Differenzen können als Linien im Graph eingezeichnet werden:<br>\n",
    "<img src=\"https://upload.wikimedia.org/wikipedia/commons/thumb/c/c1/Wiki_slope_in_2d.svg/800px-Wiki_slope_in_2d.svg.png\" style=\"width: 200px;\"/>\n",
    "    \n",
    "Dadurch ergibt sich ein Dreieck, welches <b>Steigungsdreieck</b> genannt wird. Dieses muss nicht zwangsweise mithilfe der Differenzquotienten-Formel berechnet werden (siehe z.B. diese <a href=\"https://www.mathebibel.de/lineare-funktionen-steigung-berechnen\">Webseite</a> für Details zur Berechnung).\n",
    "</div>"
   ]
  },
  {
   "cell_type": "markdown",
   "metadata": {},
   "source": [
    "### 4.2. Von der Formel zum Graphen <a class=\"anchor\" id=\"4-2\"/>"
   ]
  },
  {
   "cell_type": "markdown",
   "metadata": {},
   "source": [
    "Gegeben: $f(x) = 3 \\cdot x + 1$\n",
    "\n",
    "Hat man eine lineare Funktionsgleichung vorliegen und möchte einen Graphen zeichnen, sollten folgende Schritte befolgt werden:\n",
    "1. **$b$ einzeichnen**. $b$ ist in der vorliegenden Gleichung $1$, d.h. die Punktkoordinate ist $(0|1)$. \n",
    "2. **Steigung $m$ als Bruch $\\frac{m}{n}$ darstellen**. $m$ ist in der vorliegenden Gleichung $3$, der Bruch ist dementsprechend $\\frac{3}{1}$.\n",
    "3. **Vom Schnittpunkt mit der y-Achse $n$ Schritte nach rechts gehen und $m$ Schritte nach oben ($n$ = Nenner des Steigungsbruchs, $m$ = Zähler des Steigungsbruchs)**. Ist der Steigungsbruch negativ, muss $m$ Schritte nach unten gegangen werden. In der vorliegenden Gleichung muss also 1 Schritt nach rechts und drei Schritte nach oben gegangen werden.\n",
    "4. **Endpunkt einzeichnen**. Hier ist das der Punkt $(1|4)$.\n",
    "5. **Gerade durch die beiden eingezeichneten Punkte zeichnen**. Diese sind hier der Schnittpunkt mit der y-Achse $b$ und der Endpunkt aus dem vorherigen Schritt.\n",
    "\n",
    "Für die gegebene Funktion wird die Vorgehensweise im folgenden Gif dargestellt:<br>\n",
    "\n",
    "<img src=\"../src/img/calculus/function_types/linear_function_3_draw_graph.gif\" align=\"center\" style=\"width: 350px;\"/>"
   ]
  },
  {
   "cell_type": "markdown",
   "metadata": {},
   "source": [
    "### 4.3. Weitere Besonderheiten von linearen Funktionen <a class=\"anchor\" id=\"4-3\"/>"
   ]
  },
  {
   "cell_type": "code",
   "execution_count": 4,
   "metadata": {},
   "outputs": [
    {
     "data": {
      "application/vnd.jupyter.widget-view+json": {
       "model_id": "d49d10ad6fae4d099a2c15715f998993",
       "version_major": 2,
       "version_minor": 0
      },
      "text/plain": [
       "interactive(children=(FloatSlider(value=0.0, continuous_update=False, description='m', max=10.0, min=-10.0, re…"
      ]
     },
     "metadata": {},
     "output_type": "display_data"
    }
   ],
   "source": [
    "plt_function(function=\"linear\", space=(-10.0, 10.0), slider_step=1.0)"
   ]
  },
  {
   "cell_type": "markdown",
   "metadata": {},
   "source": [
    "Schauen wir uns nun eine interaktive Visualisierung von linearen Funktionen an.[<sup>1</sup>](#fn1) Abhängig von unserer Auswahl der Werte $m$ und $b$ können bestimmte Erkenntnisse gewonnen werden:<br>\n",
    "* Wenn wir die Steigung $m = 0$ setzen und nur die Werte für $b$ verändern, verhält sich der Graph wie eine **konstante Funktion**. Einige Mathematiker definieren deshalb die konstante Funktion als einen Spezialfall der linearen Funktion. \n",
    "* Bei positiven Werten für $m$ steigt die Funktion an, bei negativen Werten für $m$ fällt sie.\n",
    "* Die einfachste lineare Funktion ist $f(x) = x$. Diese erhalten wir, indem wir $m = 1$ und $b = 0$ setzen (Rechnung: $f(x) = 1 \\cdot x + 0$). Diese Gerade verläuft durch den Nullpunkt.\n",
    "* Senkrechte Geraden wie im Bild unten sind **keine** lineare Funktionen, da bei diesen Geraden jedem x-Wert nicht nur <u>ein</u> y-Wert, sondern <u>unendlich</u> viele y-Werte zugeordnet sind. Dies lässt sich auch an der Visualisierung prüfen, da es nicht möglich ist, solche Geraden zu erstellen.\n",
    "\n",
    "<img src=\"../src/img/calculus/function_types/vertical_straight_lines.png\" align=\"center\" style=\"width: 250px;\"/>\n",
    "\n",
    "<hr style=\"border: 0.1px solid black;\"/>\n",
    "<span id=\"fn1\" style=\"font-size:8pt; line-height:1\"><sup style=\"font-size:5pt\">1</sup>&nbsp; Es wurde kein Slider für $x$ bereitgestellt, da die $x$-Werte mithilfe von Numpys <a href=\"https://docs.scipy.org/doc/numpy/reference/generated/numpy.linspace.html\">linspace</a> generiert werden. Dabei werden hundert zufällige x-Werte generiert und auf Basis dieser dann der Graph gezeichnet."
   ]
  },
  {
   "cell_type": "markdown",
   "metadata": {},
   "source": [
    "## Lineare Funktionen Quiz <a class=\"anchor\" id=\"q2\"/>"
   ]
  },
  {
   "cell_type": "markdown",
   "metadata": {},
   "source": [
    "<div class=\"imgrow\">\n",
    "  <div class=\"imgcolumn3\">\n",
    "       <figure>\n",
    "          <img src=\"../src/img/calculus/linear_function_quiz/create_function1.png\" align=\"center\" style=\"width: 300px;\"/>\n",
    "           <figcaption>Abbildung 1: Graph A</figcaption>\n",
    "    </figure> \n",
    "  </div>\n",
    "  <div class=\"imgcolumn3\">\n",
    "       <figure>\n",
    "          <img src=\"../src/img/calculus/linear_function_quiz/create_function2.png\" align=\"center\" style=\"width: 300px;\"/>\n",
    "          <figcaption>Abbildung 2: Graph B</figcaption>\n",
    "    </figure> \n",
    "  </div>\n",
    "  <div class=\"imgcolumn3\">\n",
    "       <figure>\n",
    "          <img src=\"../src/img/calculus/linear_function_quiz/create_function3.png\" align=\"center\" style=\"width: 300px;\"/>\n",
    "          <figcaption>Abbildung 3: Graph C</figcaption>\n",
    "    </figure> \n",
    "  </div>\n",
    "  <div class=\"imgcolumn3\">\n",
    "       <figure>\n",
    "          <img src=\"../src/img/calculus/linear_function_quiz/draw_function1.png\" align=\"center\" style=\"width: 300px;\"/>\n",
    "          <figcaption>Abbildung 4: Graphen D - G</figcaption>\n",
    "    </figure> \n",
    "  </div>\n",
    "    <div class=\"imgcolumn3\">\n",
    "       <figure>\n",
    "          <img src=\"../src/img/calculus/linear_function_quiz/draw_function2.png\" align=\"center\" style=\"width: 300px;\"/>\n",
    "          <figcaption>Abbildung 5: Graphen H - K</figcaption>\n",
    "    </figure> \n",
    "  </div>\n",
    "    <div class=\"imgcolumn3\">\n",
    "       <figure>\n",
    "          <img src=\"../src/img/calculus/linear_function_quiz/draw_function3.png\" align=\"center\" style=\"width: 300px;\"/>\n",
    "          <figcaption>Abbildung 6: Graphen L - O</figcaption>\n",
    "    </figure> \n",
    "  </div>\n",
    "</div> \n",
    "\n"
   ]
  },
  {
   "cell_type": "code",
   "execution_count": 5,
   "metadata": {},
   "outputs": [
    {
     "data": {
      "application/vnd.jupyter.widget-view+json": {
       "model_id": "70149ec7dcdb400bbd74a4c4bdbe03ad",
       "version_major": 2,
       "version_minor": 0
      },
      "text/plain": [
       "VBox(children=(Output(), RadioButtons(layout=Layout(width='max-content'), options=(('f(x) = 2x + 6', 0), ('f(x…"
      ]
     },
     "metadata": {},
     "output_type": "display_data"
    },
    {
     "data": {
      "application/vnd.jupyter.widget-view+json": {
       "model_id": "8e18a41023b44ddebef8bb3205c3c7f1",
       "version_major": 2,
       "version_minor": 0
      },
      "text/plain": [
       "VBox(children=(Output(), RadioButtons(layout=Layout(width='max-content'), options=(('f(x) = 1x - 5', 0), ('f(x…"
      ]
     },
     "metadata": {},
     "output_type": "display_data"
    },
    {
     "data": {
      "application/vnd.jupyter.widget-view+json": {
       "model_id": "57ea76b8384c493eb5274970e1c7e93f",
       "version_major": 2,
       "version_minor": 0
      },
      "text/plain": [
       "VBox(children=(Output(), RadioButtons(layout=Layout(width='max-content'), options=(('f(x) = 3x', 0), ('f(x) = …"
      ]
     },
     "metadata": {},
     "output_type": "display_data"
    },
    {
     "data": {
      "application/vnd.jupyter.widget-view+json": {
       "model_id": "ffdbc2584e6142af8f49f8d35e7547a5",
       "version_major": 2,
       "version_minor": 0
      },
      "text/plain": [
       "VBox(children=(Output(), RadioButtons(layout=Layout(width='max-content'), options=(('Der lilane Graph', 0), ('…"
      ]
     },
     "metadata": {},
     "output_type": "display_data"
    },
    {
     "data": {
      "application/vnd.jupyter.widget-view+json": {
       "model_id": "17a317c94e2a48fcb194ce97f492f1d4",
       "version_major": 2,
       "version_minor": 0
      },
      "text/plain": [
       "VBox(children=(Output(), RadioButtons(layout=Layout(width='max-content'), options=(('Der lilane Graph', 0), ('…"
      ]
     },
     "metadata": {},
     "output_type": "display_data"
    },
    {
     "data": {
      "application/vnd.jupyter.widget-view+json": {
       "model_id": "cca0ad9c11a64646ad0e13332622656d",
       "version_major": 2,
       "version_minor": 0
      },
      "text/plain": [
       "VBox(children=(Output(), RadioButtons(layout=Layout(width='max-content'), options=(('Der lilane Graph', 0), ('…"
      ]
     },
     "metadata": {},
     "output_type": "display_data"
    },
    {
     "data": {
      "text/markdown": [
       "---\n",
       "---\n"
      ],
      "text/plain": [
       "<IPython.core.display.Markdown object>"
      ]
     },
     "metadata": {},
     "output_type": "display_data"
    },
    {
     "data": {
      "application/vnd.jupyter.widget-view+json": {
       "model_id": "d29f9bdafbd443f1a5df274aa763ccb3",
       "version_major": 2,
       "version_minor": 0
      },
      "text/plain": [
       "VBox(children=(Button(description='Ausgewählte Antworten überprüfen', layout=Layout(width='40%'), style=Button…"
      ]
     },
     "metadata": {},
     "output_type": "display_data"
    }
   ],
   "source": [
    "start_quiz(2, \"calculus\")"
   ]
  },
  {
   "cell_type": "markdown",
   "metadata": {},
   "source": [
    "## 5. Quadratische Funktionen <a class=\"anchor\" id=\"5\"/>"
   ]
  },
  {
   "cell_type": "markdown",
   "metadata": {},
   "source": [
    "Ein **quadratische Funktion** wird graphisch durch eine **Parabel** dargestellt. Parabeln sind spezielle geometrische Figuren, deren Form eine nach oben offene Kurve ist.\n",
    "\n",
    "<img src=\"../src/img/calculus/function_types/normal_parabola.png\" align=\"center\" style=\"width: 250px;\"/>\n",
    "\n",
    "Die Gleichung für quadratische Funktionen lautet wie folgt: <br>\n",
    "\n",
    "$f(x) = ax^2 + bx + c$ <br>\n",
    "\n",
    "Charakteristisch für eine quadratische Funktion ist das **Quadrat** (= $^2$) in der Gleichung (daher auch der Name). Schauen wir uns zunächst die einfachste quadratische Funktion an."
   ]
  },
  {
   "cell_type": "markdown",
   "metadata": {},
   "source": [
    "### 5.1. Normalparabel <a class=\"anchor\" id=\"5-1\"/>\n",
    "\n",
    "**Normalparabeln** ist eine spezielle Art von Parabeln. Sie ist symmetrisch zur y-Achse und nach oben offen. Normalparabeln werden durch die folgende Gleichung ausgedrückt:<br>\n",
    "\n",
    "$f(x) = x^2$ <br>\n",
    "\n",
    "Auch wenn es auf dem ersten Blick nicht so aussieht, ist das die selbe Gleichung wie oben. Hier wurde nur für die beiden Variablen $b$ und $c$ eine $0$ und für $a$ eine 1 eingesetzt. Anhand der Normalparabel kann man sehr schön erkennen, wie man von der Funktion zum Graphen gelangt. Dafür setzen wir für $x$ verschiedene positive und negative Werte ein. Dies können wir anhand der folgenden Wertetabelle sehen:<br>\n",
    "\n",
    "<p>\n",
    "<table style=\"width: 20%\" id=\"centertable\">\n",
    "    <tr>\n",
    "        <th>x</th>\n",
    "        <td>-3</td>\n",
    "        <td>-2</td>\n",
    "        <td>-1</td>\n",
    "        <td>0</td>\n",
    "        <td>1</td>\n",
    "        <td>2</td>\n",
    "        <td>3</td>\n",
    "    </tr>\n",
    "    <tr>\n",
    "        <th>y</th>\n",
    "        <td>9</td>\n",
    "        <td>4</td>\n",
    "        <td>1</td>\n",
    "        <td>0</td>\n",
    "        <td>1</td>\n",
    "        <td>4</td>\n",
    "        <td>9</td>\n",
    "    </tr>\n",
    "</table> \n",
    "</p>\n",
    "<br><br><br><br>\n",
    "Diese Werte zeichnen wir nun in einem Koordinatensystem ein und verbinden sie anschließend (<b>Abbildung 1 &amp; 2</b>). \n",
    "Natürlich würde unsere Parabel in Abbildung 2 etwas eckiger aussehen, da wir nur wenige Punkte angegeben haben. Damit unsere Parabel wirklich so rund wie die Parabel in Abbildung 2 aussieht, müssen viel mehr Punkte angegeben werden (<b>Abbildung 3</b>). In den ersten drei Abbildungen befindet sich die Parabel immer oberhalb der x-Achse. Möchte man die Normalparabel spiegelverkehrt darstellen, muss man die Gleichung mit $-1$ multiplizieren (siehe <b> Abbildung 4</b>):<br>\n",
    "\n",
    "$f(x) = -x^2$<br><br>\n",
    "\n",
    "<div class=\"imgrow\">\n",
    "  <div class=\"imgcolumn4\">\n",
    "       <figure>\n",
    "          <img src=\"../src/img/calculus/function_types/normal_parabola_points.png\" align=\"center\" style=\"width: 300px;\"/>\n",
    "           <figcaption>Abbildung 1: Punkte zeichnen</figcaption>\n",
    "    </figure> \n",
    "  </div>\n",
    "  <div class=\"imgcolumn4\">\n",
    "       <figure>\n",
    "          <img src=\"../src/img/calculus/function_types/normal_parabola_points_connected.png\" align=\"center\" style=\"width: 300px;\"/>\n",
    "          <figcaption>Abbildung 2: Punkte verbinden</figcaption>\n",
    "    </figure> \n",
    "  </div>\n",
    "  <div class=\"imgcolumn4\">\n",
    "       <figure>\n",
    "          <img src=\"../src/img/calculus/function_types/normal_parabola_multiple_points.png\" align=\"center\" style=\"width: 300px;\"/>\n",
    "          <figcaption>Abbildung 3: Mehr Punkte zeichnen</figcaption>\n",
    "    </figure> \n",
    "  </div>\n",
    "    <div class=\"imgcolumn4\">\n",
    "       <figure>\n",
    "          <img src=\"../src/img/calculus/function_types/normal_parabola_negative.png\" align=\"center\" style=\"width: 300px;\"/>\n",
    "          <figcaption>Abbildung 4: Negatives Vorzeichen</figcaption>\n",
    "    </figure> \n",
    "  </div>\n",
    "</div>"
   ]
  },
  {
   "cell_type": "markdown",
   "metadata": {},
   "source": [
    "<div class=digression>\n",
    "    <b>Exkurs</b>: Scheitelpunkt, Minimum, Maximum\n",
    "    <br>\n",
    "    <br>\n",
    "    Der <b>Scheitelpunkt</b> beschreibt den höchsten oder tiefsten Punkt einer Funktion. Der tiefste Punkt wird auch <b>Minimum</b> genannt und der höchste Punkt <b>Maximum</b>. Bei Parabeln gibt es nur <u>ein</u> Minimum oder Maximum. Andere Funktionen können aber sowohl ein Minimum als auch ein Maximum haben. Ein Beispiel dafür wäre die <b>Polynomfunktion</b> in <b>Abbildung 1</b>. Sie hat ein Minimum im Punkt $(1|0)$ und ein Maximum im Punkt $(-2|5)$. Weiterhin gibt es auch Funktionen, die <b>mehrere</b> Minima und Maxima haben. Ein Beispiel dafür wäre die <b>Sinus-Funktion</b> in <b>Abbildung 2</b>. Bei mehreren Minima/Maxima kann es sein, dass sich diese voneinander unterscheiden. Man unterscheidet zwischen <b>lokalen</b> und <b>globalen</b> Minima/Maxima. <b>Lokale</b> Minima/Maxima sind nur an einer gewissen Stelle minimal/maximal. <b>Globale</b> Minima/Maxima sind im Hinblick auf die gesamte Funktion die minimalsten/maximalsten Punkte. Ein Beispiel dafür wäre die Funktion in <b>Abbildung 3</b>. Sie besitzt ein Maximum und zwei Minima, ein lokales und ein globales Minimum.<br><br>\n",
    "\n",
    "    \n",
    "    \n",
    "<div class=\"imgrow\">\n",
    "  <div class=\"imgcolumn3\">\n",
    "       <figure>\n",
    "          <img src=\"../src/img/calculus/function_examples/polynomial_function_example.png\" align=\"center\" style=\"width: 300px;\"/>\n",
    "           <figcaption>Abbildung 1: $f(x)=x^{3}+3 \\cdot x^{2}+1$</figcaption>\n",
    "    </figure> \n",
    "  </div>\n",
    "  <div class=\"imgcolumn3\">\n",
    "       <figure>\n",
    "          <img src=\"../src/img/calculus/function_examples/sinus_function_example.png\" align=\"center\" style=\"width: 300px;\"/>\n",
    "          <figcaption>Abbildung 2: $f(x) = \\sin(x)$</figcaption>\n",
    "    </figure> \n",
    "  </div>\n",
    "  <div class=\"imgcolumn3\">\n",
    "       <figure>\n",
    "          <img src=\"../src/img/calculus/function_types/multiple_minima.png\" align=\"center\" style=\"width: 300px;\"/>\n",
    "          <figcaption>Abbildung 3: $f(x) =x^4 + x^3-2x^2 + 3$</figcaption>\n",
    "    </figure> \n",
    "</div>    \n",
    "</div>"
   ]
  },
  {
   "cell_type": "markdown",
   "metadata": {},
   "source": [
    "### 5.2. Erweiterung der Normalparabel <a class=\"anchor\" id=\"5-2\"/>"
   ]
  },
  {
   "cell_type": "markdown",
   "metadata": {},
   "source": [
    "Die Normalparabel können wir auch erweitern. Dies können wir auf drei Arten machen:<br>\n",
    "* Die Parabel nach oben oder unten verschieben\n",
    "* Die Parabel nach links oder rechts verschieben\n",
    "* Die Parabel stauchen oder strecken\n",
    "\n",
    "#### Die Parabel nach oben oder unten verschieben\n",
    "\n",
    "Bis jetzt ist der **Scheitelpunkt** der Parabel immer der *Ursprung* gewesen, d.h. der Punkt $(0|0)$. Dies können wir ändern, indem wir die Gleichung für die Normalparabel um eine konstante Zahl $c$ erweitern:<br>\n",
    "\n",
    "$f(x) = x^2 + c$<br>\n",
    "\n",
    "Damit können wir den Scheitelpunkt und somit die ganze Parabel <b>nach oben verschieben</b>. Möchten wir den Scheitelpunkt <b>nach unten verschieben</b>, müssen wir die Gleichung leicht abwandeln:<br>\n",
    "\n",
    "$f(x) = x^2 - c$<br>"
   ]
  },
  {
   "cell_type": "markdown",
   "metadata": {},
   "source": [
    "<div class=task>\n",
    "    <b>Aufgabe</b>: Die Normalparabel nach oben oder unten verschieben\n",
    "    <br>\n",
    "    <br> Führen Sie für eine Visualisierung einer Verschiebung der Normalparabel nach <b>oben</b> oder <b>unten</b> die folgende Code-Zelle aus. Welche(r) Parameter darf dabei nicht $0$ sein? Welche(r) Parameter muss $0$ sein, damit die x-Koordinate des Parabelscheitelpunkts $0$ ist? \n",
    "<br><br>\n",
    "<label for=\"show2\" class=\"show_answer\">\n",
    "    <span>Antwort zeigen</span>\n",
    "</label>\n",
    "<input type=radio id=\"show2\" class=\"show\" name=\"group2\">\n",
    "<input type=radio id=\"hide2\" class=\"hide\" name=\"group2\">\n",
    "<span class=\"content\">\n",
    "    <span>$a$ und $c$ dürfen beide nicht $0$ sein. Ist $a = 0$, wird eine konstante Funktion geplottet. $c$ verschiebt die Parabel nach oben oder unten. $b$ muss $0$ sein, damit die x-Koordinate des Parabelscheitelpunkts $0$ ist.</span>\n",
    "    <br><br>\n",
    "<label for=\"hide2\" class=\"hide_answer\">\n",
    "    <span>Antwort verbergen</span> \n",
    "</label> \n",
    "</span>\n",
    "</div>"
   ]
  },
  {
   "cell_type": "code",
   "execution_count": 6,
   "metadata": {},
   "outputs": [
    {
     "data": {
      "application/vnd.jupyter.widget-view+json": {
       "model_id": "da64dac5cba04f7598f0f685a090512c",
       "version_major": 2,
       "version_minor": 0
      },
      "text/plain": [
       "interactive(children=(FloatSlider(value=0.0, continuous_update=False, description='a', max=10.0, min=-10.0, re…"
      ]
     },
     "metadata": {},
     "output_type": "display_data"
    }
   ],
   "source": [
    "plt_function(function=\"quadratic\", space=(-10.0, 10.0), slider_step=1.0)"
   ]
  },
  {
   "cell_type": "code",
   "execution_count": null,
   "metadata": {},
   "outputs": [],
   "source": []
  },
  {
   "cell_type": "code",
   "execution_count": null,
   "metadata": {},
   "outputs": [],
   "source": []
  },
  {
   "cell_type": "code",
   "execution_count": null,
   "metadata": {},
   "outputs": [],
   "source": []
  },
  {
   "cell_type": "code",
   "execution_count": null,
   "metadata": {},
   "outputs": [],
   "source": []
  },
  {
   "cell_type": "markdown",
   "metadata": {},
   "source": [
    "TODO:\n",
    "- was ist Parabel?\n",
    "- was ist Polynom?\n",
    "- wie hängt alles zusammen (da ja immer die folgende Funktion durch die davor dargestellt werden können)? ICH: das als anschließendes Kapitel machen!\n",
    "    - nächster Schritt: kubische Funktion!\n",
    "- https://www.mathebibel.de/quadratische-funktionen\n",
    "- https://www.youtube.com/watch?v=_WQjzrN9cLk\n",
    "- Normalparabel erklären!\n",
    "\n",
    "\n",
    "\n",
    "TODO: \n",
    "* Der Graph ist die Parabel mit der Gleichung y = a x 2 + b x + c {\\displaystyle y=ax^{2}+bx+c} y=ax^{2}+bx+c. Für a = 0 {\\displaystyle a=0} a=0 ergibt sich eine lineare Funktion. \n",
    "* a und b = 0, dann konstant\n",
    "* a = 0, dann lineare"
   ]
  },
  {
   "cell_type": "markdown",
   "metadata": {},
   "source": [
    "TODO:\n",
    "- kubische funktion\n",
    "- grad von funktionen"
   ]
  },
  {
   "cell_type": "code",
   "execution_count": null,
   "metadata": {},
   "outputs": [],
   "source": []
  }
 ],
 "metadata": {
  "kernelspec": {
   "display_name": "Python 3",
   "language": "python",
   "name": "python3"
  },
  "language_info": {
   "codemirror_mode": {
    "name": "ipython",
    "version": 3
   },
   "file_extension": ".py",
   "mimetype": "text/x-python",
   "name": "python",
   "nbconvert_exporter": "python",
   "pygments_lexer": "ipython3",
   "version": "3.8.2"
  }
 },
 "nbformat": 4,
 "nbformat_minor": 4
}
