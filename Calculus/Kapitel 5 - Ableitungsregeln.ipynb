{
 "cells": [
  {
   "cell_type": "markdown",
   "metadata": {},
   "source": [
    "# Kapitel 5 - Ableitungsregeln"
   ]
  },
  {
   "cell_type": "code",
   "execution_count": 1,
   "metadata": {},
   "outputs": [
    {
     "data": {
      "text/html": [
       "<style>\n",
       "\n",
       "\n",
       "\n",
       "/* special fields*/\n",
       "\n",
       "\n",
       "/* light blue */ \n",
       "div.digression {    \n",
       "    background-color: #f6f6f6;\n",
       "    border-color: #a1c6de;\n",
       "    border-left: 5px solid #a1c6de;\n",
       "    border-right: 5px solid #a1c6de;\n",
       "    border-top: 5px solid #a1c6de;\n",
       "    border-bottom: 5px solid #a1c6de;\n",
       "    padding: 0.5em;\n",
       "}\n",
       "\n",
       "/* orange */\n",
       "div.note {    \n",
       "    background-color: #f6f6f6;\n",
       "    border-color: #ffb382;\n",
       "    border-left: 5px solid #ffb382;\n",
       "    border-right: 5px solid #ffb382;\n",
       "    border-top: 5px solid #ffb382;\n",
       "    border-bottom: 5px solid #ffb382;\n",
       "    padding: 0.5em;\n",
       "}\n",
       "\n",
       "/* light green */\n",
       "div.task {    \n",
       "    background-color: #f6f6f6;\n",
       "    border-color: #99b898;\n",
       "    border-left: 5px solid #99b898;\n",
       "    border-right: 5px solid #99b898;\n",
       "    border-top: 5px solid #99b898;\n",
       "    border-bottom: 5px solid #99b898;\n",
       "    padding: 0.5em;\n",
       "}\n",
       "\n",
       "div.tool {    \n",
       "    background-color: #f6f6f6;\n",
       "    border-color: #f542e0;\n",
       "    border-left: 7px solid #f542e0;\n",
       "    border-right: 7px solid #f542e0;\n",
       "    border-top: 7px solid #f542e0;\n",
       "    border-bottom: 7px solid #f542e0;\n",
       "    border-style: double;\n",
       "    padding: 0.5em;\n",
       "}\n",
       "\n",
       "/* dark red */\n",
       "div.warn {    \n",
       "    background-color: #f6f6f6;\n",
       "    border-color: #cc1a32;\n",
       "    border-left: 5px solid #cc1a32;\n",
       "    border-right: 5px solid #cc1a32;\n",
       "    border-top: 5px solid #cc1a32;\n",
       "    border-bottom: 5px solid #cc1a32;\n",
       "    padding: 0.5em;\n",
       "}\n",
       "\n",
       "img.icon {\n",
       "  width: 15px;\n",
       "  height: 15px;\n",
       "  display: inline-block; \n",
       "  margin-right: 10px;\n",
       "  margin-bottom: 5px;\n",
       "}\n",
       "\n",
       "span.invisible_border {\n",
       "  padding: 0.1em;\n",
       "  font-size: 20px;\n",
       "}\n",
       "\n",
       "div.border {\n",
       "  border-color: #666666;\n",
       "  border-left: 1.5px solid;\n",
       "  border-right: 1.5px solid;\n",
       "  border-top: 1.5px solid;\n",
       "  border-bottom: 1.5px solid;\n",
       "  padding: 0.1em;\n",
       "}\n",
       "\n",
       "\n",
       "/* for simple answer / solution*/\n",
       "input.show {\n",
       "  visibility: hidden;\n",
       "}\n",
       "\n",
       "input.hide {\n",
       "  visibility: hidden;\n",
       "}\n",
       "\n",
       "\n",
       "label.answers {\n",
       "  border: 1px solid black;\n",
       "  padding: 1px;\n",
       "}\n",
       "\n",
       "label.show_answer {\n",
       "  background-color: #008CBA;  /* Blue */\n",
       "  border: none;\n",
       "  border-radius: 8px;\n",
       "  color: white;\n",
       "  padding: 3px 10px;\n",
       "  text-align: center;\n",
       "  text-decoration: none;\n",
       "  display: inline-block;\n",
       "  font-size: 12px;\n",
       "}\n",
       "\n",
       "label.hide_answer {\n",
       "  background-color: #b2b2b2; /* Grey */\n",
       "  border: none;\n",
       "  border-radius: 8px;\n",
       "  color: white;\n",
       "  padding: 3px 10px;\n",
       "  text-align: center;\n",
       "  text-decoration: none;\n",
       "  display: inline-block;\n",
       "  font-size: 12px;\n",
       "}\n",
       "\n",
       "\n",
       "span.content {\n",
       "  display:none;\n",
       "}\n",
       "input.show:checked ~ span.content {\n",
       "  display:block;\n",
       "}\n",
       "\n",
       "input.hide:checked ~ span.content {\n",
       "  display:none;\n",
       "}\n",
       "\n",
       "\n",
       "\n",
       "\n",
       "/* Tables & side by side images */\n",
       "\n",
       "/* 2 images side by side */\n",
       ".imgcolumn2 {\n",
       "  float: left;\n",
       "  width: 50.0%;\n",
       "  padding: 5px;\n",
       "}\n",
       "\n",
       "/* 3 images side by side */\n",
       ".imgcolumn3 {\n",
       "  float: left;\n",
       "  width: 33.33%;\n",
       "  padding: 5px;\n",
       "}\n",
       "\n",
       "/* 4 images side by side */\n",
       ".imgcolumn4 {\n",
       "  float: left;\n",
       "  width: 25.0%;\n",
       "  padding: 5px;\n",
       "}\n",
       "\n",
       "\n",
       ".imgrow::after {\n",
       "  content: \"\";\n",
       "  clear: both;\n",
       "  display: table;\n",
       "} \n",
       "\n",
       "figure figcaption {\n",
       "  margin: 3px;\n",
       "  text-align: center;\n",
       "  font-weight: bold;\n",
       "}\n",
       "\n",
       "table {\n",
       "    float: left;\n",
       "    border-style: 1.5px solid black;\n",
       "    border: 1.5px  black solid !important;\n",
       "    color: black !important;\n",
       "}\n",
       "\n",
       "th, td {\n",
       "    text-align: center;\n",
       "    vertical-align: middle;\n",
       "    border: 1.5px  black solid !important;\n",
       "    color: black !important;\n",
       "}\n",
       "\n",
       "/* todo?: #centertable table hinzufügen?*/\n",
       "\n",
       "#centertable td\n",
       "{\n",
       "    text-align: center; \n",
       "    vertical-align: middle;\n",
       "}\n",
       "\n",
       "#centertable th\n",
       "{\n",
       "    text-align: center; \n",
       "    vertical-align: middle;\n",
       "}\n",
       "\n",
       "\n",
       " </style>\n"
      ],
      "text/plain": [
       "<IPython.core.display.HTML object>"
      ]
     },
     "execution_count": 1,
     "metadata": {},
     "output_type": "execute_result"
    }
   ],
   "source": [
    "import sys\n",
    "sys.path.append(\"../src/\") \n",
    "from quiz import start_quiz\n",
    "from utils import css_styling, hide_code\n",
    "from functionplotter import plt_function\n",
    "css_styling()"
   ]
  },
  {
   "cell_type": "markdown",
   "metadata": {},
   "source": [
    "## 1. Kapitelübersicht <a class=\"anchor\" id=\"1\"/>\n",
    "\n",
    "TODO\n",
    "\n",
    "<b>Abschnittsübersicht</b><br>\n",
    "\n",
    "[1. Kapitelübersicht](#1)<br>\n",
    "[2. Definition & Notation](#2)<br>\n",
    "[3. Werkzeugkästen](#3)<br>\n",
    "[4. Ableitungsregeln I](#4)<br>\n",
    "\n",
    "<b>Quizübersicht</b><br>\n",
    "[Ableitungsregeln I Quiz](#q1)<br>\n",
    "\n",
    "<b>Behandelte Themen</b><br>\n",
    "- TODO\n",
    "\n",
    "<b>Mögliche Anwendungsfelder</b><br>\n",
    "/"
   ]
  },
  {
   "cell_type": "markdown",
   "metadata": {},
   "source": [
    "TODO_\n",
    "- https://www.mathebibel.de/ableitungsregeln\n",
    "- hier sind die \"Werkzeuge\" aus coursera, nur auf deutsch\n",
    "- neue box a la hinweisbox einführen, die werkzeugbox heißt!\n",
    "    - da so was kettenregel, potenzregel und so weiter einfügen\n",
    "    - dafür auch nochmal coursera angucken"
   ]
  },
  {
   "cell_type": "markdown",
   "metadata": {},
   "source": [
    "TODO: hier vllt nochmal Intuition von Ableitungen? oder reicht das in einführung?"
   ]
  },
  {
   "cell_type": "markdown",
   "metadata": {},
   "source": [
    "## 2. Definition & Notation <a class=\"anchor\" id=\"2\"/>\n",
    "\n",
    "Im letzten Kapitel hatten wir **Ableitungsfunktionen**, die einfachheitshalber auch nur **Ableitungen** genannt werden, kennen gelernt. Eine Ableitung ist eine Funktion, die jedem $x$-Wert einer Funktion $f(x)$ ihren Differentialquotienten zuordnet. Eine Ableitung hilft uns also, die Steigung der Funktion an einer beliebigen $x$-Koordinate zu bestimmen. Dies ist vor allem für kurvenförmige Funktionen wichtig, da diese an verschiedenen Stellen des Graphen verschiedene Steigungen besitzen. \n",
    "\n",
    "Die Ableitungsfunktion ist, wie der Name schon sagt, ebenfalls eine Funktion und so können wir auch von dieser eine Ableitungsfunktion erstellen. Die erste Ableitung der Ableitungsfunktion der ursprünglichen Funktion $f(x)$ nennt man auch **zweite Ableitung**. Dies können wir noch weiter führen, d.h. wir können auch dritte, vierte usw. Ableitungen der ursprünglichen Funktion $f(x)$ bilden, die immer die Ableitungsfunktionen der vorherigen Ableitungsfunktion sind. Die 305. Ableitung ist also die Ableitungsfunktion der 304. Ableitung von $f(x)$. \n",
    "\n",
    "#### Anwendungsfelder\n",
    "\n",
    "Neben der ersten Ableitung werden vor allem die zweite und dritte Ableitung im Rahmen der **Kurvendiskussion**, also der Untersuchung der Graphen einer Funktion auf ihre geometrische Eigenschaften, verwendet. Wie wir bereits wissen, wird die erste Ableitung verwendet, um die Steigung eines beliebigen Punkts $x$ berechnen zu können. Mithilfe der zweiten Ableitung wird das **Krümmungsverhalten** (= Änderung der Steigung) einer Funktion untersucht und mit der dritten Ableitung können die **notwendigen Bedingungen für Wendestellen** ermittelt werden. Aufgrund der Bedeutungen im Rahmen der Kurvendikussion wurden die ersten drei Ableitungen einer Funktion in der Schulmathematik verwendet. Ab der vierten Ableitung sind die Ableitungsfunktionen für die Kurvendiskussion weniger interessant und haben daher in der Schulmathematik kaum einen Nutzen. Wir werden uns jedoch den vierten und höheren Ableitungsfunktionen im Rahmen der **Taylorreihen** in Kapitel TODO widmen, wo sie zusammen mit den ersten drei Ableitungen zur Approximation von Funktionen verwendet werden. Dafür wird die  Verwendung von Ableitungen zur Kurvendikussion in dieser Tutorialreihe weniger ausführlich als in der Schulmathematik behandelt.[<sup>1</sup>](#fn1)\n",
    "\n",
    "#### Notationen\n",
    "\n",
    "Eine Ableitung von einer Funktion $f(x)$ wird mit einem Strich (= ') nach dem $f$ gekennzeichnet. Die erste Ableitung der Funktion $f(x)$ ist also $f'(x)$, die erste Ableitung von $g(x)$ ist $g'(x)$. Möchten wir die zweite, dritte, vierte, ... Ableitung einer Funktion aufschreiben, zeigen wir das durch den **Grad** der Funktion an, d.h. durch die Anzahl der Striche. Die dritte Ableitung von $f(x)$ wäre demnach $f'''(x)$. Wird der Grad jedoch sehr hoch, kann diese Schreibweise schnell unübersichtlich werden: Die zehnte Ableitung von $f(x)$ wäre $f''''''''''(x)$. Deshalb findet man oft ab etwa dem vierten Grad einer Ableitung die folgende Schreibweise: $f^{(4)}(x)$, wobei die Höhe des Grades durch eine hochgestellte Zahl innerhalb von Klammern nach dem $f$ dargestellt wird.\n",
    "\n",
    "Wie so oft in der Mathematik gibt es für die <a href=\"https://de.wikipedia.org/wiki/Differentialrechnung#Notationen\">Notationen</a> von Ableitungen verschiedene Varianten, welches meistens historische Gründe hat (siehe Abbildung). Wir werden in dieser Tutorialreihe vorwiegend die Notation von *Lagrange* verwenden. In späteren Kapiteln werden wir zusätzlich noch die Notation von *Leibniz* einführen, da Sie dieser Notation häufig in wissenschaftlichen Papern oder anderen Tutorials begegnen werden und es daher sinnvoll ist, dass Sie diese Notation kennen und verwenden können.\n",
    "\n",
    "<hr style=\"border: 0.1px solid black;\"/>\n",
    "<span id=\"fn1\" style=\"font-size:8pt; line-height:1\"><sup style=\"font-size:5pt\">1</sup>&nbsp; Wenn Sie die das Thema der Kurvendiskussion interessiert, werfen Sie einen Blick auf diese Übersicht: <a href=\"https://www.mathebibel.de/kurvendiskussion\">Kurvendiskussion von mathebibel.de</a>.</span><br>"
   ]
  },
  {
   "cell_type": "markdown",
   "metadata": {},
   "source": [
    "<br>\n",
    "<img src=\"img/notation_derivative.png\" alt=\"Entnommen vom Coursera Kurs 'Mathematics for Machine Learning: Multivariate Calculus', Woche 1, Video: Functions\" align=\"left\" width=\"700\"/>"
   ]
  },
  {
   "cell_type": "markdown",
   "metadata": {},
   "source": [
    "## 3. Werkzeugkästen <a class=\"anchor\" id=\"3\"/>\n",
    "\n",
    "Die Berechnungen von Ableitungen sind für die folgenden Themen dieser Tutorialreihe essenziell. Dies bedeutet, dass Sie in vielen Aufgaben die Ableitungen von Funktionen bilden müssen. Mit der im vorherigen Kapitel eingeführten **h-Methode** ist die Berechnung der Ableitung einer Funktion zwar möglich, aber sehr aufwendig. Es gibt daher **Ableitungsregeln**, welche die Ableitungsberechnungen vereinfachen. Eine Herleitung dieser Regeln wird es in diesem Kapitel nicht geben, es werden lediglich die Regeln aufgestellt. Diese <u>müssen</u> bekannt sein, d.h. Sie müssen diese Regeln **auswendig** lernen bzw. anwenden können. Aber keine Sorge, diese Regeln sind nicht sonderlich schwer und behandeln im Grunde nur Schulstoff. Im weiteren Verlauf wird es immer mehr Rechenregeln geben, die Sie auswendig kennen und vor allem auch anwenden können müssen. Diese Regeln werden in sogenannten **Werkzeugkästen** kurz zusammengefasst, auf welche Sie bei Bedarf immer wieder zurückgreifen können. Diese Werkzeugkästen erfüllen mehrere Zwecke: Zum einen wissen Sie so immer sofort, welche Regeln Sie im Gedächtnis behalten sollen. Damit Sie nicht immer zu den Notebooks mit den entsprechenden Werkzeugkästen springen müssen, liegt dieser Tutorialreihe ein **Cheatsheet** (dt.: Spickzettel) bei, in dem Sie diese Regeln zusammengefasst finden können, um Ihr Gedächtnis auffrischen zu können. Zum anderen ist die Idee dieses Werkzeugkasten, dass Sie die in ihm enthaltenen Regeln als eine Reihe von mathematischen **Werkzeugen** ansehen. Diese Werkzeuge sollen Ihnen Rechenschritte erleichtern, so wie ein Hammer dabei hilft, einen Nagel in die Wand zu schlagen; ein Vorgang, welcher ohne den Hammer unpraktisch, ineffizient und oft auch unmöglich ist. \n",
    "\n",
    "In diesem Kapitel werden wir mehrere Werkzeugkästen kennen lernen. Damit diese nicht zu unübersichtlich werden, werden in diesen Werkzeugkästen die Regeln nur in kurzer Form dargestellt, die Erläuterungen dieser Regeln und Rechenbeispiele folgen außerhalb der Kästen. "
   ]
  },
  {
   "cell_type": "markdown",
   "metadata": {},
   "source": [
    "## 4. Ableitungsregeln I <a class=\"anchor\" id=\"4\"/>"
   ]
  },
  {
   "cell_type": "markdown",
   "metadata": {},
   "source": [
    "<div class=\"tool\">\n",
    "<span class=\"invisible_border\"><img src=\"img/gear.png\" class=\"icon\"/><b>Werkzeugkasten: <u>Ableitungsregeln I - Konstanten, x, Produktregel, Faktorregel</u></b></span>\n",
    "    <br>\n",
    "    <br>\n",
    "1. <b>Ableitung einer Konstanten</b>: Die Ableitung einer Konstanten ist $0$.<br><br>\n",
    "<div style=\"text-indent:20px;\"> $f(x) = c$ &nbsp; &rarr; &nbsp; $f'(x) = 0$</div><br>    \n",
    "2. <b>Ableitung von $x$</b>: Die Ableitung von $x$ ist $1$.<br><br>\n",
    "<div style=\"text-indent:20px;\"> $f(x) = x$ &nbsp; &rarr; &nbsp; $f'(x) = 1$</div><br>    \n",
    "<div class=\"border\">3. <b>Potenzregel</b>: Die Ableitung von $x^n$ ist $n \\cdot x^{n-1}$.<br><br>\n",
    "<div style=\"text-indent:20px;\"> $f(x) = x^n$ &nbsp; &rarr; &nbsp; $f'(x) = n \\cdot x^{n-1}$</div></div><br>\n",
    "4. <b>Faktorregel</b>: Beim Ableiten bleibt der konstante Faktor unverändert erhalten.<br><br>\n",
    "<div style=\"text-indent:20px;\"> $f(x) = c \\cdot g(x)$ &nbsp; &rarr; &nbsp; $f'(x) = c \\cdot g'(x)$</div><br>\n",
    "<div class=\"border\">5. <b>Summenregel / Differenzregel</b>: Eine Summe/Differenz wird abgeleitet, indem man jeden Summanden/Minuend/Subtrahend für sich ableitet und die Ableitungen addiert. <u>Achtung</u>: Beim Subtrahenden bleibt das negative Vorzeichen bestehen.<br><br>\n",
    "<div style=\"text-indent:20px;\"> $f(x) = g(x) + h(x)$ &nbsp; &rarr; &nbsp; $f'(x) = g'(x) + h'(x)$</div>\n",
    "<div style=\"text-indent:20px;\"> $f(x) = g(x) - h(x)$ &nbsp; &rarr; &nbsp; $f'(x) = g'(x) - h'(x)$</div></div><br>\n",
    "</div>"
   ]
  },
  {
   "cell_type": "markdown",
   "metadata": {},
   "source": [
    "### Regel 1: Ableitung einer Konstanten\n",
    "\n",
    "Die Ableitung einer Konstanten ist $0$. Die erste Ableitung der Funktion $f(x) = 5$ ist $f'(x) = 0$.\n",
    "\n",
    "<u>Beispiele</u>:<br>\n",
    "\n",
    "$f(x) = 10$ &nbsp; &rarr; &nbsp; $f'(x) = 0$<br>\n",
    "$f(x) = -3$ &nbsp; &rarr; &nbsp; $f'(x) = 0$<br>\n",
    "$f(x) = 0.66666$ &nbsp; &rarr; &nbsp; $f'(x) = 0$<br>\n",
    "$f(x) = 100023320032323233232321$ &nbsp; &rarr; &nbsp; $f'(x) = 0$<br>\n",
    "$f(x) = 7 + 3$ &nbsp; &rarr; &nbsp; $f'(x) = 0$<br>\n",
    "$f(x) = 0$ &nbsp; &rarr; &nbsp; $f'(x) = 0$<br>\n",
    "\n",
    "In Kapitel 2 haben wir gelernt, dass eine Funktion, die kein $x$ beinhaltet, sondern nur eine Konstante, d.h. eine Zahl, **konstante Funktion** genannt wird. Das Besondere an konstanten Funktionen ist, dass ihre Steigung in jedem Punkt $0$ ist. Da wir durch die Ableitungsfunktion die Steigung der Funktion an einer beliebigen $x$-Koordinate bestimmen, ist es nur logisch, dass die Ableitungsfunktion immer $0$ ergibt, zumal wir auch gar keine Möglichkeit haben, eine $x$-Koordinate anzugeben, da eine konstante Funktion kein $x$ enthält.\n",
    "\n",
    "Diese Regel wenden wir auch an, wenn konstante Terme in einer Funktion vorkommen. Die erste Ableitung der Funktion $f(x) = x^2 + 5x + 3$ ist $f'(x) = 2x + 5 + 0 = 2x + 5$. Die Konstante $3$ wird in der ersten Ableitung zu einer $0$, d.h. sie verschwindet und wir müssen sie nicht mehr aufschreiben.\n",
    "\n",
    "Setzen Sie in der folgenden Code-Zelle die Variable `first_derivative` auf `True`. Damit wird die erste Ableitung der konstanten Funktion in Orange geplottet. Sie können sehen, dass diese immer auf der x-Achse liegt (also $x$ = 0), egal welchen Wert Sie für $c$ angeben."
   ]
  },
  {
   "cell_type": "code",
   "execution_count": 2,
   "metadata": {},
   "outputs": [
    {
     "data": {
      "application/vnd.jupyter.widget-view+json": {
       "model_id": "0d9e4f3133ae42a8b4c4a11182d1e57a",
       "version_major": 2,
       "version_minor": 0
      },
      "text/plain": [
       "interactive(children=(FloatSlider(value=3.0, continuous_update=False, description='c', max=10.0, min=-10.0, re…"
      ]
     },
     "metadata": {},
     "output_type": "display_data"
    }
   ],
   "source": [
    "first_derivative = True\n",
    "plt_function(name=\"constant\", space=(-10.0, 10.0), slider_step=1.0, startvalue=3, d1=first_derivative)"
   ]
  },
  {
   "cell_type": "markdown",
   "metadata": {},
   "source": [
    "### Regel 2: Ableitung von $x$\n",
    "\n",
    "Die Ableitung von $x$ ist $1$. Die erste Ableitung der Funktion $f(x) = 5x$ ist $f'(x) = 5 \\cdot 1 = 5$.\n",
    "\n",
    "<u>Beispiele</u>:<br>\n",
    "\n",
    "$f(x) = 5x$ &nbsp; &rarr; &nbsp; $f'(x) = 5$<br>\n",
    "$f(x) = -3x$ &nbsp; &rarr; &nbsp; $f'(x) = -3$<br>\n",
    "$f(x) = 0x$ &nbsp; &rarr; &nbsp; $f'(x) = 0$<br>\n",
    "$f(x) = 1123456x$ &nbsp; &rarr; &nbsp; $f'(x) = 1123456$<br>\n",
    "$f(x) = 8x + 3$ &nbsp; &rarr; &nbsp; $f'(x) = 8$<br>\n",
    "\n",
    "\n",
    "In Kapitel 2 hatten wir gelernt, dass eine Funktion, die nur ein einfaches $x$ enthält, **lineare Funktion** genannt wird. Tatsächlich können wir bei linearen Funktion die Steigung jedes Punktes anhand der Funktionsgleichung $f(x) = m \\cdot x + b$ selbst ablesen, wobei $m$ die Steigung ist. Das Besondere an linearen Funktionen ist, dass die Steigung für jeden Punkt gleich ist (siehe folgende Code-Zelle). Dies bedeutet, dass Ableitungsfunktionen für lineare Funktionen eigentlich überflüssig sind, da immer nur ein Steigungswert übrig bleibt: Die erste Ableitung der Funktion $f(x) = 3x + 2$ ist $f'(x) = 3 \\cdot 1 + 0 = 3$. Egal welchen Punkt wir in die erste Ableitung einsetzen, es kommt immer $3$ heraus. Die erste Ableitung einer linearen Funktion ist also eine **konstante Funktion**. In der folgenden Code-Zelle können Sie sehen, dass der y-Achsenabschnitt der ersten Ableitung (in Orange) immer gleich der Steigung der linearen Funktion ist. "
   ]
  },
  {
   "cell_type": "code",
   "execution_count": 3,
   "metadata": {},
   "outputs": [
    {
     "data": {
      "application/vnd.jupyter.widget-view+json": {
       "model_id": "576dcad1b4a44aa2ae8c582a74bbaa9a",
       "version_major": 2,
       "version_minor": 0
      },
      "text/plain": [
       "interactive(children=(FloatSlider(value=2.0, continuous_update=False, description='m', max=10.0, min=-10.0, re…"
      ]
     },
     "metadata": {},
     "output_type": "display_data"
    }
   ],
   "source": [
    "plt_function(name=\"linear\", space=(-10.0, 10.0), slider_step=1.0, startvalue=2, d1=True)"
   ]
  },
  {
   "cell_type": "markdown",
   "metadata": {},
   "source": [
    "### Regel 3: Potenzregel\n",
    "\n",
    "Die Ableitung von $x^n$ ist $n \\cdot x^{n-1}$. Die erste Ableitung der Funktion $f(x) = x^3$ ist $f'(x) = 3 \\cdot x^{3-1} = 3x^2$.\n",
    "\n",
    "<u>Beispiele</u>:<br>\n",
    "\n",
    "$f(x) = x^5$ &nbsp; &rarr; &nbsp; $f'(x) = 5x^4$<br>\n",
    "$f(x) = x^0$ &nbsp; &rarr; &nbsp; $f'(x) = 0 \\cdot x^{-1} = 0$<br>\n",
    "$f(x) = x^{-3}$ &nbsp; &rarr; &nbsp; $f'(x) = -3x^{-4}$<br>\n",
    "$f(x) = -x^9$ &nbsp; &rarr; &nbsp; $f'(x) = -9x^8$<br>\n",
    "$f(x) = x^7 + 3$ &nbsp; &rarr; &nbsp; $f'(x) = 7x^6$<br>\n",
    "$f(x) = x^{1129977}$ &nbsp; &rarr; &nbsp; $f'(x) = 1129977x^{1129976}$<br>\n",
    "$f(x) = x^z$ &nbsp; &rarr; &nbsp; $f'(x) = z \\cdot x^{z-1}$<br>\n",
    "$f(x) = x^1$ &nbsp; &rarr; &nbsp; $f'(x) = 1 \\cdot x^0 = 1$ <br>\n",
    "$f(x) = x^0 + 4$ &nbsp; &rarr; &nbsp; $f'(x) = 0 \\cdot x^{-1} = 0$<br>\n",
    "\n",
    "Die Potenzregel wird immer dann angewendet, wenn etwas (eine Zahl, eine Variable, etc.) im Exponenten von $x$ steht. Die Ableitung mithilfe der Potenzregel erfolgt in zwei Schritten (vereinfacht):\n",
    "1. Den Exponenten des $x$ der Funktion vor das $x$ in der Ableitung schreiben.\n",
    "2. Den Exponenten des $x$ der Ableitung um $1$ verringern.\n",
    "\n",
    "Durch die Potenzregel werden die beiden vorherigen Regeln eigentlich überflüssig, da diese Spezialfälle der Potenzregel sind (siehe die letzten beiden Beispiele).\n",
    "\n",
    "TODO: mehr? Code-Beispiele?"
   ]
  },
  {
   "cell_type": "markdown",
   "metadata": {},
   "source": [
    "### Regel 4: Faktorregel\n",
    "\n",
    "Beim Ableiten bleibt der konstante Faktor unverändert erhalten: $f(x) = c \\cdot g(x)$ &nbsp; &rarr; &nbsp; $f'(x) = c \\cdot g'(x)$. Die erste Ableitung der Funktion $f(x) = 3 \\cdot x^2$ ist $f'(x) = 3 \\cdot 2 \\cdot x^1 = 6x$.\n",
    "\n",
    "<u>Beispiele</u>:<br>\n",
    "\n",
    "$f(x) = 4 \\cdot x^5$ &nbsp; &rarr; &nbsp; $f'(x) = 20x^4$<br>\n",
    "$f(x) = 7 \\cdot x^0$ &nbsp; &rarr; &nbsp; $f'(x) = 7 \\cdot 0 \\cdot x^{-1} = 0$<br>\n",
    "$f(x) = 6 \\cdot x^{-3}$ &nbsp; &rarr; &nbsp; $f'(x) = -3 \\cdot 6 x^{-4} = -18x^{-4}$<br>\n",
    "$f(x) = -2x^9$ &nbsp; &rarr; &nbsp; $f'(x) = -18x^8$<br>\n",
    "$f(x) = 333x^{111}$ &nbsp; &rarr; &nbsp; $f'(x) = 36963x^{110}$<br>\n",
    "$f(x) = \\frac{1}{7}x^7 + 3$ &nbsp; &rarr; &nbsp; $f'(x) = x^6$<br>\n",
    "$f(x) = \\frac{1}{10}x^5 -4$ &nbsp; &rarr; &nbsp; $f'(x) = \\frac{1}{2}x^4$<br>\n",
    "$f(x) = 5x^1$ &nbsp; &rarr; &nbsp; $f'(x) = 5 \\cdot x^0 = 5$ <br>\n",
    "\n",
    "Wundern Sie sich nicht, dass bei dieser Regel eine weitere Funktion $g(x)$ in der Definition enthalten ist. Dies soll nur verdeutlichen, dass der konstante Faktor $c$ <u>nicht</u> zu $g(x)$ gehört, weshalb er anders als in Regel 1 nicht abgeleitet wird, sondern in der Ableitung bestehen bleibt. Ein konstanter Faktor ist dadurch zu erkennen, dass er vor einem $x$ (egal welchen Grades) steht und mit diesem multipliziert wird. Die $3$ in Beispiel 6 ist kein konstanter Faktor, da sie nicht vor einem $x$ steht, sie ist ein Absolutglied. Das gleiche gilt für die $-4$ in Beispiel 7. Einzelne Glieder von Funktionen werden mithilfe der **Summenregel/Differenzregel** (Regel 5) abgeleitet."
   ]
  },
  {
   "cell_type": "markdown",
   "metadata": {},
   "source": [
    "### Regel 5: Summenregel / Differenzregel\n",
    "\n",
    "Eine Summe/Differenz wird abgeleitet, indem man jeden Summanden/Minuenden/Subtrahenden für sich ableitet und die Ableitungen addiert. <u>Achtung</u>: Beim Subtrahenden bleibt das negative Vorzeichen bestehen.<br><br>\n",
    "\n",
    "<div style=\"text-indent:20px;\"> $f(x) = g(x) + h(x)$ &nbsp; &rarr; &nbsp; $f'(x) = g'(x) + h'(x)$</div>\n",
    "<div style=\"text-indent:20px;\"> $f(x) = g(x) - h(x)$ &nbsp; &rarr; &nbsp; $f'(x) = g'(x) - h'(x)$</div><br>\n",
    "\n",
    "<u>Beispiele</u>:<br>\n",
    "\n",
    "$f(x) = x + 7$ &nbsp; &rarr; &nbsp; $f'(x) = 1$<br>\n",
    "$f(x) = 3 + x^2$ &nbsp; &rarr; &nbsp; $f'(x) = 2x$<br>\n",
    "$f(x) = x + x^3$ &nbsp; &rarr; &nbsp; $f'(x) = 1 + 3x^2$<br>\n",
    "$f(x) = x - 6x^6$ &nbsp; &rarr; &nbsp; $f'(x) = 1 - 36x^5$<br>\n",
    "$f(x) = 2 - 4$ &nbsp; &rarr; &nbsp; $f'(x) = 0$<br>\n",
    "$f(x) = 4x^5 - 4x^3 - 10x + 5$ &nbsp; &rarr; &nbsp; $f'(x) = 20x^4 - 12x^2 - 10$<br>\n",
    "$f(x) = 10x^{10} + 7x^8 - 30x^6 + 3x^5 - 4x^4 + 7x^3 + 8x^2 + 8$ &nbsp; &rarr; &nbsp; $f'(x) = 100x^9 + 56x^7 -180x^5 +15x^4 - 16x^3 + 21x^2 + 16x$<br>\n",
    "\n",
    "Die Anwendung dieser Regel haben wir schon in Beispielen vorheriger Regeln gesehen. Hier ist es wichtig, dass beim Ableiten jeder Summanden/Minuenden/Subtrahenden als einzelnes Glied betrachtet wird. Jedes Glied wird für sich selbst betrachtet und abgeleitet. Dadurch können auch komplizierte Funktionen wie Beispiel 6 und 7 leicht abgeleitet werden."
   ]
  },
  {
   "cell_type": "markdown",
   "metadata": {},
   "source": [
    "## Ableitungsregeln I Quiz <a class=\"anchor\" id=\"q1\"/><br>\n",
    "\n",
    "<div class=\"task\">\n",
    "    <b>Aufgabe</b>: Ableitungsregeln I Quiz\n",
    "    <br>\n",
    "    <br> Lösen Sie das folgende Quiz \"<b>Ableitungsregeln I Quiz</b>\". Dabei werden die fünf vorgestellten Regeln abgefragt. Hier finden Sie die jeweiligen Antwortmöglichkeiten zu jeder Frage, geben Sie im Quiz dann den entsprechenden Buchstaben an. Es wird empfohlen, die Aufgaben auf einem Blatt/Tablet/o.ä. zu rechnen und dann erst die Lösungen mit den Antwortmöglichkeiten abzugleichen.\n",
    "    \n",
    "<u>Antwortmöglichkeiten zu Frage 1</u>:\n",
    "<ol style=\"list-style-type:lower-alpha\">\n",
    "    <li>$f'(x) = 32x^3 + 2x^{-3}$</li>\n",
    "    <li>$f'(x) = 32x^3 - 2x^{-1}$</li>\n",
    "    <li>$f'(x) = 32x^3 - 2x^{-3}$</li>\n",
    "    <li>$f'(x) = 32x^3 - 2x^{-3}-3$</li>\n",
    "    <li>$f'(x) = 32x^3 + 2x^{-1}$</li>\n",
    "</ol>\n",
    "    \n",
    "<u>Antwortmöglichkeiten zu Frage 2</u>:\n",
    "<ol style=\"list-style-type:lower-alpha\">\n",
    "    <li>$f''(x) = 5x^4 -x^{-4} +2x^{-3}$</li>\n",
    "    <li>$f''(x) = 20x^4 + 4x^{-5} - 6x^{-4}$</li>\n",
    "    <li>$f''(x) = 20x^3 + 4x^{-5} -x^{-2}$</li>\n",
    "    <li>$f''(x) = 20x^3 + 2x^{-1} - 6x^{-4}$</li>\n",
    "    <li>$f''(x) = 20x^3 + 4x^{-5} + 6x^{-4}$</li>\n",
    "</ol>\n",
    "    \n",
    "<u>Antwortmöglichkeiten zu Frage 3</u>:\n",
    "<ol style=\"list-style-type:lower-alpha\">\n",
    "    <li>$f'''(x) = 36x^{-7}$</li>\n",
    "    <li>$f'''(x) = 6x^{-6}$</li>\n",
    "    <li>$f'''(x) = -6x^{6}$</li>\n",
    "    <li>$f'''(x) = -6x^{-6}$</li>\n",
    "</ol>\n",
    "    \n",
    "<u>Antwortmöglichkeiten zu Frage 4</u>:\n",
    "<ol style=\"list-style-type:lower-alpha\">\n",
    "    <li>$f^{10}(x) = 0$</li>\n",
    "    <li>$f^{10}(x) = 1$</li>\n",
    "    <li>$f^{10}(x) = -1$</li>\n",
    "    <li>Es gibt keine Lösung.</li>\n",
    "</ol>\n",
    "\n",
    "<u>Antwortmöglichkeiten zu Frage 5</u>:\n",
    "<ol style=\"list-style-type:lower-alpha\">\n",
    "    <li>$f(x) = 0.4x^5 - \\frac{1}{3}x^3$</li>\n",
    "    <li>$f(x) = 0.4x^5 + \\frac{1}{3}x^3$</li>\n",
    "    <li>$f(x) = 0.4x^5 + \\frac{1}{3}x^{-3}$</li>\n",
    "    <li>$f(x) = 0.4x^4 + \\frac{1}{3}x^2$</li>\n",
    "    <li>$f(x) = 0.4x^4 - \\frac{1}{3}x^2$</li>\n",
    "</ol>\n",
    "    \n",
    "</div>"
   ]
  },
  {
   "cell_type": "code",
   "execution_count": 36,
   "metadata": {
    "collapsed": true
   },
   "outputs": [
    {
     "data": {
      "application/vnd.jupyter.widget-view+json": {
       "model_id": "bf1f5f4464e549bfad33d5c61b942594",
       "version_major": 2,
       "version_minor": 0
      },
      "text/plain": [
       "VBox(children=(Output(), RadioButtons(layout=Layout(width='max-content'), options=(('a', 0), ('b', 1), ('c', 2…"
      ]
     },
     "metadata": {},
     "output_type": "display_data"
    },
    {
     "data": {
      "application/vnd.jupyter.widget-view+json": {
       "model_id": "73f421ff98a84eac990c3f2b6d78cf84",
       "version_major": 2,
       "version_minor": 0
      },
      "text/plain": [
       "VBox(children=(Output(), RadioButtons(layout=Layout(width='max-content'), options=(('a', 0), ('b', 1), ('c', 2…"
      ]
     },
     "metadata": {},
     "output_type": "display_data"
    },
    {
     "data": {
      "application/vnd.jupyter.widget-view+json": {
       "model_id": "61d2c552a10e4aa28ae00854a49a5890",
       "version_major": 2,
       "version_minor": 0
      },
      "text/plain": [
       "VBox(children=(Output(), RadioButtons(layout=Layout(width='max-content'), options=(('a', 0), ('b', 1), ('c', 2…"
      ]
     },
     "metadata": {},
     "output_type": "display_data"
    },
    {
     "data": {
      "application/vnd.jupyter.widget-view+json": {
       "model_id": "e9b5d96692a34122adfe3abbb6520b49",
       "version_major": 2,
       "version_minor": 0
      },
      "text/plain": [
       "VBox(children=(Output(), RadioButtons(layout=Layout(width='max-content'), options=(('a', 0), ('b', 1), ('c', 2…"
      ]
     },
     "metadata": {},
     "output_type": "display_data"
    },
    {
     "data": {
      "application/vnd.jupyter.widget-view+json": {
       "model_id": "e2ec6a441b564faaaf1510bbf167276f",
       "version_major": 2,
       "version_minor": 0
      },
      "text/plain": [
       "VBox(children=(Output(), RadioButtons(layout=Layout(width='max-content'), options=(('a', 0), ('b', 1), ('c', 2…"
      ]
     },
     "metadata": {},
     "output_type": "display_data"
    },
    {
     "data": {
      "text/markdown": [
       "---\n",
       "---\n"
      ],
      "text/plain": [
       "<IPython.core.display.Markdown object>"
      ]
     },
     "metadata": {},
     "output_type": "display_data"
    },
    {
     "data": {
      "application/vnd.jupyter.widget-view+json": {
       "model_id": "dd071405ad4247848766e44af0ec864b",
       "version_major": 2,
       "version_minor": 0
      },
      "text/plain": [
       "VBox(children=(Button(description='Ausgewählte Antworten überprüfen', layout=Layout(width='40%'), style=Button…"
      ]
     },
     "metadata": {},
     "output_type": "display_data"
    }
   ],
   "source": [
    "start_quiz(51, \"calculus\")"
   ]
  },
  {
   "cell_type": "markdown",
   "metadata": {},
   "source": [
    "## 5. Ableitungsregeln II <a class=\"anchor\" id=\"5\"/>\n",
    "\n",
    "TODO"
   ]
  },
  {
   "cell_type": "markdown",
   "metadata": {},
   "source": [
    "<div class=\"tool\">\n",
    "<span class=\"invisible_border\"><img src=\"img/gear.png\" class=\"icon\"/><b>Werkzeugkasten: <u>Ableitungsregeln II - ...</u></b></span>\n",
    "    <br>\n",
    "    <br>\n",
    "\n",
    "    \n",
    "- produktregel\n",
    "- quotientenregel\n",
    "- kettenregel\n",
    "</div>"
   ]
  },
  {
   "cell_type": "markdown",
   "metadata": {},
   "source": [
    "## 6. Ableitungsregeln Spezialfälle <a class=\"anchor\" id=\"6\"/>"
   ]
  },
  {
   "cell_type": "markdown",
   "metadata": {},
   "source": [
    "<div class=\"tool\">\n",
    "<span class=\"invisible_border\"><img src=\"img/gear.png\" class=\"icon\"/><b>Werkzeugkasten: <u>Ableitungsregeln Spezialfälle - x als Nenner, x in einer Wurzel, $e^x$</u></b></span>\n",
    "    <br>\n",
    "    <br>\n",
    "    \n",
    "S1. <b>$x$ im Nenner eines Bruchs</b>: $f(x) = \\frac{1}{x}$ &nbsp; &rarr; &nbsp; $f'(x) = - \\frac{1}{x^2}$<br><br> \n",
    "S2. <b>$x$ in einer Wurzel</b>: $f(x) = \\sqrt{x}$ &nbsp; &rarr; &nbsp; $f'(x) = \\frac{1}{2\\sqrt{x}}$<br><br>\n",
    "S3. <b>$x$ als Exponent von $e$</b>: $f(x) = e^x$ &nbsp; &rarr; &nbsp; $f'(x) = e^x$<br><br> \n",
    "S4. <b>$x$ im natürlichen Logarithmus</b>: $f(x) = ln(x)$ &nbsp; &rarr; &nbsp; $f'(x) = \\frac{1}{x}$<br><br> \n",
    "S5. <b>$x$ im Logarithmus zur Basis $a$</b>: $f(x) = \\log_a(x)$ &nbsp; &rarr; &nbsp; $f'(x) = \\frac{1}{ln(a) \\cdot x}$<br><br>\n",
    "S6. <b>Ableitung vom Sinus</b>: $f(x) = \\sin(x)$ &nbsp; &rarr; &nbsp; $f'(x) = \\cos(x)$<br><br> \n",
    "S7. <b>Ableitung vom Cosinus</b>: $f(x) = \\cos(x)$ &nbsp; &rarr; &nbsp; $f'(x) = -\\sin(x)$<br><br> \n",
    "S8. <b>Ableitung vom Tangens</b>: $f(x) = \\tan(x)$ &nbsp; &rarr; &nbsp; $f'(x) = \\frac{1}{\\cos^2(x)}$<br><br> \n",
    "<br>\n",
    "</div>"
   ]
  },
  {
   "cell_type": "code",
   "execution_count": null,
   "metadata": {},
   "outputs": [],
   "source": []
  },
  {
   "cell_type": "markdown",
   "metadata": {},
   "source": [
    "6. <b>1 dur</b>: Die Ableitung einer Konstanten ist $0$.<br><br>\n",
    "<div style=\"text-indent:20px;\"> $f(x) = c$ &nbsp; &rarr; &nbsp; $f'(x) = 0$</div><br>    \n",
    "7. <b>Ableitung von $x$</b>: Die Ableitung von $x$ ist $1$.<br><br>\n",
    "<div style=\"text-indent:20px;\"> $f(x) = x$ &nbsp; &rarr; &nbsp; $f'(x) = 1$</div><br>    \n",
    "<div class=\"border\">8. <b>Potenzregel</b>: Die Ableitung von $x^n$ ist $n \\cdot x^{n-1}$.<br><br>\n",
    "<div style=\"text-indent:20px;\"> $f(x) = x^n$ &nbsp; &rarr; &nbsp; $f'(x) = n \\cdot x^{n-1}$</div></div><br>\n",
    "9. <b>Faktorregel</b>: Beim Ableiten bleibt der konstante Faktor unverändert erhalten.<br><br>\n",
    "<div style=\"text-indent:20px;\"> $f(x) = c \\cdot g(x)$ &nbsp; &rarr; &nbsp; $f'(x) = c \\cdot g'(x)$</div><br>\n",
    "<div class=\"border\">10. <b>Summenregel / Differenzregel</b>: Eine Summe/Differenz wird abgeleitet, indem man jeden Summanden/Minuend/Subtrahend für sich ableitet und die Ableitungen addiert. <u>Achtung</u>: Beim Subtrahenden bleibt das negative Vorzeichen bestehen.<br><br>\n",
    "<div style=\"text-indent:20px;\"> $f(x) = g(x) + h(x)$ &nbsp; &rarr; &nbsp; $f'(x) = g'(x) + h'(x)$</div>\n",
    "<div style=\"text-indent:20px;\"> $f(x) = g(x) - h(x)$ &nbsp; &rarr; &nbsp; $f'(x) = g'(x) - h'(x)$</div></div>"
   ]
  },
  {
   "cell_type": "code",
   "execution_count": null,
   "metadata": {},
   "outputs": [],
   "source": []
  },
  {
   "cell_type": "code",
   "execution_count": null,
   "metadata": {},
   "outputs": [],
   "source": []
  },
  {
   "cell_type": "code",
   "execution_count": null,
   "metadata": {},
   "outputs": [],
   "source": []
  },
  {
   "cell_type": "code",
   "execution_count": 5,
   "metadata": {},
   "outputs": [
    {
     "data": {
      "application/vnd.jupyter.widget-view+json": {
       "model_id": "926680b94c494285a5944844e2534d42",
       "version_major": 2,
       "version_minor": 0
      },
      "text/plain": [
       "interactive(children=(FloatSlider(value=0.0, continuous_update=False, description='a', max=5.0, min=-5.0, read…"
      ]
     },
     "metadata": {},
     "output_type": "display_data"
    }
   ],
   "source": [
    "plt_function(name=\"quadratic\", space=(-5.0, 5.0), slider_step=1.0, startvalue=0, d1=True)"
   ]
  },
  {
   "cell_type": "code",
   "execution_count": null,
   "metadata": {},
   "outputs": [],
   "source": []
  },
  {
   "cell_type": "code",
   "execution_count": null,
   "metadata": {},
   "outputs": [],
   "source": []
  },
  {
   "cell_type": "markdown",
   "metadata": {},
   "source": [
    "TODO:\n",
    "- Sonderfälle (siehe Zettel): 1/x, cos(x), e^x\n",
    "- ableitung wurzel: https://www.mathebibel.de/ableitung-wurzel\n",
    "- Symbole für potenzregel, summenregel, \n",
    "- graphisches ableiten: https://www.youtube.com/watch?v=cCJrZa3AKBc"
   ]
  },
  {
   "cell_type": "code",
   "execution_count": null,
   "metadata": {},
   "outputs": [],
   "source": []
  }
 ],
 "metadata": {
  "kernelspec": {
   "display_name": "Python 3",
   "language": "python",
   "name": "python3"
  },
  "language_info": {
   "codemirror_mode": {
    "name": "ipython",
    "version": 3
   },
   "file_extension": ".py",
   "mimetype": "text/x-python",
   "name": "python",
   "nbconvert_exporter": "python",
   "pygments_lexer": "ipython3",
   "version": "3.7.7"
  }
 },
 "nbformat": 4,
 "nbformat_minor": 4
}
