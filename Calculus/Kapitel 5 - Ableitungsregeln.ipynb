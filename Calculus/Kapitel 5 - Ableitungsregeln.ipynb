{
 "cells": [
  {
   "cell_type": "markdown",
   "metadata": {},
   "source": [
    "# Kapitel 5 - Ableitungsregeln"
   ]
  },
  {
   "cell_type": "code",
   "execution_count": 1,
   "metadata": {},
   "outputs": [
    {
     "data": {
      "text/html": [
       "<style>\n",
       "\n",
       "\n",
       "\n",
       "/* special fields*/\n",
       "\n",
       "\n",
       "/* light blue */ \n",
       "div.digression {    \n",
       "    background-color: #f6f6f6;\n",
       "    border-color: #a1c6de;\n",
       "    border-left: 5px solid #a1c6de;\n",
       "    border-right: 5px solid #a1c6de;\n",
       "    border-top: 5px solid #a1c6de;\n",
       "    border-bottom: 5px solid #a1c6de;\n",
       "    padding: 0.5em;\n",
       "}\n",
       "\n",
       "/* orange */\n",
       "div.note {    \n",
       "    background-color: #f6f6f6;\n",
       "    border-color: #ffb382;\n",
       "    border-left: 5px solid #ffb382;\n",
       "    border-right: 5px solid #ffb382;\n",
       "    border-top: 5px solid #ffb382;\n",
       "    border-bottom: 5px solid #ffb382;\n",
       "    padding: 0.5em;\n",
       "}\n",
       "\n",
       "/* light green */\n",
       "div.task {    \n",
       "    background-color: #f6f6f6;\n",
       "    border-color: #99b898;\n",
       "    border-left: 5px solid #99b898;\n",
       "    border-right: 5px solid #99b898;\n",
       "    border-top: 5px solid #99b898;\n",
       "    border-bottom: 5px solid #99b898;\n",
       "    padding: 0.5em;\n",
       "}\n",
       "\n",
       "div.tool {    \n",
       "    background-color: #f6f6f6;\n",
       "    border-color: #f542e0;\n",
       "    border-left: 7px solid #f542e0;\n",
       "    border-right: 7px solid #f542e0;\n",
       "    border-top: 7px solid #f542e0;\n",
       "    border-bottom: 7px solid #f542e0;\n",
       "    border-style: double;\n",
       "    padding: 0.5em;\n",
       "}\n",
       "\n",
       "/* dark red */\n",
       "div.warn {    \n",
       "    background-color: #f6f6f6;\n",
       "    border-color: #cc1a32;\n",
       "    border-left: 5px solid #cc1a32;\n",
       "    border-right: 5px solid #cc1a32;\n",
       "    border-top: 5px solid #cc1a32;\n",
       "    border-bottom: 5px solid #cc1a32;\n",
       "    padding: 0.5em;\n",
       "}\n",
       "\n",
       "img.icon {\n",
       "  width: 15px;\n",
       "  height: 15px;\n",
       "  display: inline-block; \n",
       "  margin-right: 10px;\n",
       "  margin-bottom: 5px;\n",
       "}\n",
       "\n",
       "span.invisible_border {\n",
       "  padding: 0.1em;\n",
       "  font-size: 20px;\n",
       "}\n",
       "\n",
       "div.border {\n",
       "  border-color: #666666;\n",
       "  border-left: 1.5px solid;\n",
       "  border-right: 1.5px solid;\n",
       "  border-top: 1.5px solid;\n",
       "  border-bottom: 1.5px solid;\n",
       "  padding: 0.1em;\n",
       "}\n",
       "\n",
       "\n",
       "/* for simple answer / solution*/\n",
       "input.show {\n",
       "  visibility: hidden;\n",
       "}\n",
       "\n",
       "input.hide {\n",
       "  visibility: hidden;\n",
       "}\n",
       "\n",
       "\n",
       "label.answers {\n",
       "  border: 1px solid black;\n",
       "  padding: 1px;\n",
       "}\n",
       "\n",
       "label.show_answer {\n",
       "  background-color: #008CBA;  /* Blue */\n",
       "  border: none;\n",
       "  border-radius: 8px;\n",
       "  color: white;\n",
       "  padding: 3px 10px;\n",
       "  text-align: center;\n",
       "  text-decoration: none;\n",
       "  display: inline-block;\n",
       "  font-size: 12px;\n",
       "}\n",
       "\n",
       "label.hide_answer {\n",
       "  background-color: #b2b2b2; /* Grey */\n",
       "  border: none;\n",
       "  border-radius: 8px;\n",
       "  color: white;\n",
       "  padding: 3px 10px;\n",
       "  text-align: center;\n",
       "  text-decoration: none;\n",
       "  display: inline-block;\n",
       "  font-size: 12px;\n",
       "}\n",
       "\n",
       "\n",
       "span.content {\n",
       "  display:none;\n",
       "}\n",
       "input.show:checked ~ span.content {\n",
       "  display:block;\n",
       "}\n",
       "\n",
       "input.hide:checked ~ span.content {\n",
       "  display:none;\n",
       "}\n",
       "\n",
       "\n",
       "\n",
       "\n",
       "/* Tables & side by side images */\n",
       "\n",
       "/* 2 images side by side */\n",
       ".imgcolumn2 {\n",
       "  float: left;\n",
       "  width: 50.0%;\n",
       "  padding: 5px;\n",
       "}\n",
       "\n",
       "/* 3 images side by side */\n",
       ".imgcolumn3 {\n",
       "  float: left;\n",
       "  width: 33.33%;\n",
       "  padding: 5px;\n",
       "}\n",
       "\n",
       "/* 4 images side by side */\n",
       ".imgcolumn4 {\n",
       "  float: left;\n",
       "  width: 25.0%;\n",
       "  padding: 5px;\n",
       "}\n",
       "\n",
       "\n",
       ".imgrow::after {\n",
       "  content: \"\";\n",
       "  clear: both;\n",
       "  display: table;\n",
       "} \n",
       "\n",
       "figure figcaption {\n",
       "  margin: 3px;\n",
       "  text-align: center;\n",
       "  font-weight: bold;\n",
       "}\n",
       "\n",
       "table {\n",
       "    float: left;\n",
       "    border-style: 1.5px solid black;\n",
       "    border: 1.5px  black solid !important;\n",
       "    color: black !important;\n",
       "}\n",
       "\n",
       "th, td {\n",
       "    text-align: center;\n",
       "    vertical-align: middle;\n",
       "    border: 1.5px  black solid !important;\n",
       "    color: black !important;\n",
       "}\n",
       "\n",
       "#centertable td\n",
       "{\n",
       "    text-align: center; \n",
       "    vertical-align: middle;\n",
       "}\n",
       "\n",
       "#centertable th\n",
       "{\n",
       "    text-align: center; \n",
       "    vertical-align: middle;\n",
       "}\n",
       "\n",
       "\n",
       " </style>\n"
      ],
      "text/plain": [
       "<IPython.core.display.HTML object>"
      ]
     },
     "execution_count": 1,
     "metadata": {},
     "output_type": "execute_result"
    }
   ],
   "source": [
    "import sys\n",
    "sys.path.append(\"../src/\") \n",
    "from quiz import start_quiz\n",
    "from utils import css_styling, hide_code\n",
    "from functionplotter import plt_function\n",
    "css_styling()"
   ]
  },
  {
   "cell_type": "markdown",
   "metadata": {},
   "source": [
    "## 1. Kapitelübersicht <a class=\"anchor\" id=\"1\"/>\n",
    "\n",
    "TODO\n",
    "\n",
    "<b>Abschnittsübersicht</b><br>\n",
    "\n",
    "[1. Kapitelübersicht](#1)<br>\n",
    "[2. Definition & Notation](#2)<br>\n",
    "[3. Werkzeugkästen](#3)<br>\n",
    "[4. Ableitungsregeln I](#4)<br>\n",
    "\n",
    "<b>Quizübersicht</b><br>\n",
    "TODO\n",
    "\n",
    "<b>Behandelte Themen</b><br>\n",
    "- TODO\n",
    "\n",
    "<b>Mögliche Anwendungsfelder</b><br>\n",
    "/"
   ]
  },
  {
   "cell_type": "markdown",
   "metadata": {},
   "source": [
    "TODO_\n",
    "- https://www.mathebibel.de/ableitungsregeln\n",
    "- hier sind die \"Werkzeuge\" aus coursera, nur auf deutsch\n",
    "- neue box a la hinweisbox einführen, die werkzeugbox heißt!\n",
    "    - da so was kettenregel, potenzregel und so weiter einfügen\n",
    "    - dafür auch nochmal coursera angucken"
   ]
  },
  {
   "cell_type": "markdown",
   "metadata": {},
   "source": [
    "TODO: hier vllt nochmal Intuition von Ableitungen? oder reicht das in einführung?"
   ]
  },
  {
   "cell_type": "markdown",
   "metadata": {},
   "source": [
    "## 2. Definition & Notation <a class=\"anchor\" id=\"2\"/>\n",
    "\n",
    "Im letzten Kapitel hatten wir **Ableitungsfunktionen**, die einfachheitshalber auch nur **Ableitungen** genannt werden, kennen gelernt. Eine Ableitung ist eine Funktion, die jedem $x$-Wert einer Funktion $f(x)$ ihren Differentialquotienten zuordnet. Eine Ableitung hilft uns also, die Steigung der Funktion an einer beliebigen $x$-Koordinate zu bestimmen. Dies ist vor allem für kurvenförmige Funktionen wichtig, da diese an verschiedenen Stellen des Graphen verschiedene Steigungen besitzen. \n",
    "\n",
    "TODO: mehr?\n",
    "- was sind erste, zweite, dritte usw. ableitungen?\n",
    "\n",
    "#### Notationen\n",
    "\n",
    "Eine Ableitung von einer Funktion $f(x)$ wird mit einem Strich (= ') nach dem $f$ gekennzeichnet. Die erste Ableitung der Funktion $f(x)$ ist also $f'(x)$, die erste Ableitung von $g(x)$ ist $g'(x)$. Wir werden im weiteren Verlauf dieses Kapitels sehen, dass eine Funktion mehr als eine Ableitung haben kann. Möchten wir also die zweite, dritte, vierte, ... Ableitung einer Funktion aufschreiben, zeigen wir das durch den **Grad** der Funktion an, d.h. durch die Anzahl der Striche. Die dritte Ableitung von $f(x)$ wäre demnach $f'''(x)$. Wird der Grad jedoch sehr hoch, kann diese Schreibweise schnell unübersichtlich werden: Die zehnte Ableitung von $f(x)$ wäre $f''''''''''(x)$. Deshalb findet man oft ab etwa dem vierten Grad einer Ableitung die folgende Schreibweise: $f^{(4)}(x)$, wobei die Höhe des Grades durch eine hochgestellte Zahl innerhalb von Klammern nach dem $f$ dargestellt wird.\n",
    "\n",
    "Wie so oft in der Mathematik gibt es für die <a href=\"https://de.wikipedia.org/wiki/Differentialrechnung#Notationen\">Notationen</a> von Ableitungen verschiedene Varianten, welches meistens historische Gründe hat (siehe Abbildung). Wir werden in dieser Tutorialreihe vorwiegend die Notation von *Lagrange* verwenden. In späteren Kapiteln werden wir zusätzlich noch die Notation von *Leibniz* einführen, da Sie dieser Notation häufig in wissenschaftlichen Papern oder Tutorials begegnen werden.\n",
    "\n",
    "<br>\n",
    "<img src=\"img/notation_derivative.png\" alt=\"Entnommen vom Coursera Kurs 'Mathematics for Machine Learning: Multivariate Calculus', Woche 1, Video: Functions\" align=\"left\" width=\"700\"/>"
   ]
  },
  {
   "cell_type": "markdown",
   "metadata": {},
   "source": [
    "## 3. Werkzeugkästen <a class=\"anchor\" id=\"3\"/>\n",
    "\n",
    "Die Berechnungen von Ableitungen sind für die folgenden Themen dieser Tutorialreihe essenziell. Dies bedeutet, dass Sie in vielen Aufgaben die Ableitungen von Funktionen bilden müssen. Mit der im vorherigen Kapitel eingeführten **h-Methode** ist die Berechnung der Ableitung einer Funktion zwar möglich, aber sehr aufwendig. Es gibt daher **Ableitungsregeln**, welche die Ableitungsberechnungen vereinfachen. Eine Herleitung dieser Regeln wird es in diesem Kapitel nicht geben, es werden lediglich die Regeln aufgestellt. Diese <u>müssen</u> bekannt sein, d.h. Sie müssen diese Regeln **auswendig** lernen bzw. anwenden können. Aber keine Sorge, diese Regeln sind nicht sonderlich schwer und behandeln im Grunde nur Schulstoff. Im weiteren Verlauf wird es immer mehr Rechenregeln geben, die Sie auswendig kennen und vor allem auch anwenden können müssen. Diese Regeln werden in einem sogenannten **Werkzeugkasten** kurz zusammengefasst, auf welchen Sie bei Bedarf immer wieder zurückgreifen können. Dieser Werkzeugkasten erfüllt mehrere Zwecke: Zum einen wissen Sie so immer sofort, welche Regeln Sie im Gedächtnis behalten sollen. Damit Sie nicht immer zu den Notebooks mit den entsprechenden Werkzeugkästen springen müssen, liegt dieser Tutorialreihe ein **Cheatsheet** (dt.: Spickzettel) bei, in dem Sie diese Regeln zusammengefasst finden können, um Ihr Gedächtnis auffrischen zu können. Zum anderen ist die Idee dieses Werkzeugkasten, dass Sie die in ihm enthaltenen Regeln als eine Reihe von mathematischen **Werkzeugen** ansehen. Diese Werkzeuge sollen Ihnen Rechenschritte erleichtern, so wie ein Hammer dabei hilft, einen Nagel in die Wand zu schlagen; ein Vorgang, welcher ohne den Hammer unpraktisch, ineffizient und oft auch unmöglich ist. \n",
    "\n",
    "In diesem Kapitel werden wir mehrere Werkzeugkästen kennen lernen. Bei diesen Werkzeugkästen werden nur die Regeln in kurzer Form dargestellt, die Erläuterungen dieser Regeln und Rechenbeispiele folgen dann. "
   ]
  },
  {
   "cell_type": "markdown",
   "metadata": {},
   "source": [
    "## 4. Ableitungsregeln I <a class=\"anchor\" id=\"4\"/>"
   ]
  },
  {
   "cell_type": "markdown",
   "metadata": {},
   "source": [
    "<div class=\"tool\">\n",
    "<span class=\"invisible_border\"><img src=\"img/gear.png\" class=\"icon\"/><b>Werkzeugkasten: <u>Ableitungsregeln I - Konstanten, x, Produktregel, Faktorregel</u></b></span>\n",
    "    <br>\n",
    "    <br>\n",
    "1. <b>Ableitung einer Konstanten</b>: Die Ableitung einer Konstanten ist $0$.<br><br>\n",
    "<div style=\"text-indent:20px;\"> $f(x) = c$ &nbsp; &rarr; &nbsp; $f'(x) = 0$</div><br>    \n",
    "2. <b>Ableitung von $x$</b>: Die Ableitung von $x$ ist $1$.<br><br>\n",
    "<div style=\"text-indent:20px;\"> $f(x) = x$ &nbsp; &rarr; &nbsp; $f'(x) = 1$</div><br>    \n",
    "<div class=\"border\">3. <b>Potenzregel</b>: Die Ableitung von $x^n$ ist $n \\cdot x^{n-1}$.<br><br>\n",
    "<div style=\"text-indent:20px;\"> $f(x) = x^n$ &nbsp; &rarr; &nbsp; $f'(x) = n \\cdot x^{n-1}$</div></div><br>\n",
    "4. <b>Faktorregel</b>: Beim Ableiten bleibt der konstante Faktor unverändert erhalten.<br><br>\n",
    "<div style=\"text-indent:20px;\"> $f(x) = c \\cdot g(x)$ &nbsp; &rarr; &nbsp; $f'(x) = c \\cdot g'(x)$</div><br>\n",
    "<div class=\"border\">5. <b>Summenregel / Differenzregel</b>: Eine Summe/Differenz wird abgeleitet, indem man jeden Summanden/Minuend/Subtrahend für sich ableitet und die Ableitungen addiert. Beim Subtrahenden bleibt das negative Vorzeichen bestehen.<br><br>\n",
    "<div style=\"text-indent:20px;\"> $f(x) = g(x) + h(x)$ &nbsp; &rarr; &nbsp; $f'(x) = g'(x) + h'(x)$</div>\n",
    "<div style=\"text-indent:20px;\"> $f(x) = g(x) - h(x)$ &nbsp; &rarr; &nbsp; $f'(x) = g'(x) - h'(x)$</div></div><br>\n",
    "</div>"
   ]
  },
  {
   "cell_type": "markdown",
   "metadata": {},
   "source": [
    "### Regel 1: Ableitung einer Konstanten\n",
    "\n",
    "Die Ableitung einer Konstanten ist $0$. Die erste Ableitung der Funktion $f(x) = 5$ ist $f'(x) = 0$.\n",
    "\n",
    "<u>Beispiele</u>:<br>\n",
    "\n",
    "$f(x) = 10$ &nbsp; &rarr; &nbsp; $f'(x) = 0$<br>\n",
    "$f(x) = -3$ &nbsp; &rarr; &nbsp; $f'(x) = 0$<br>\n",
    "$f(x) = 0.66666$ &nbsp; &rarr; &nbsp; $f'(x) = 0$<br>\n",
    "$f(x) = 100023320032323233232321$ &nbsp; &rarr; &nbsp; $f'(x) = 0$<br>\n",
    "$f(x) = 7 + 3$ &nbsp; &rarr; &nbsp; $f'(x) = 0$<br>\n",
    "$f(x) = 0$ &nbsp; &rarr; &nbsp; $f'(x) = 0$<br>\n",
    "\n",
    "In Kapitel 2 haben wir gelernt, dass eine Funktion, die kein $x$ beinhaltet, sondern nur eine Konstante, d.h. eine Zahl, **konstante Funktion** genannt wird. Das Besondere an konstanten Funktionen ist, dass ihre Steigung in jedem Punkt $0$ ist. Da wir durch die Ableitungsfunktion die Steigung der Funktion an einer beliebigen $x$-Koordinate bestimmen, ist es nur logisch, dass die Ableitungsfunktion immer $0$ ergibt, zumal wir auch gar keine Möglichkeit haben, eine $x$-Koordinate anzugeben, da eine konstante Funktion kein $x$ enthält.\n",
    "\n",
    "Diese Regel wenden wir auch an, wenn konstante Terme in einer Funktion vorkommen. Die erste Ableitung der Funktion $f(x) = x^2 + 5x + 3$ ist $f'(x) = 2x + 5 + 0 = 2x + 5$. Die Konstante $3$ wird in der ersten Ableitung zu einer $0$, d.h. sie verschwindet und wir müssen sie nicht mehr aufschreiben."
   ]
  },
  {
   "cell_type": "code",
   "execution_count": 3,
   "metadata": {},
   "outputs": [
    {
     "data": {
      "application/vnd.jupyter.widget-view+json": {
       "model_id": "7c28108d675a4be58b1de2a93d06d48e",
       "version_major": 2,
       "version_minor": 0
      },
      "text/plain": [
       "interactive(children=(FloatSlider(value=3.0, continuous_update=False, description='c', max=10.0, min=-10.0, re…"
      ]
     },
     "metadata": {},
     "output_type": "display_data"
    }
   ],
   "source": [
    "plt_function(function=\"constant\", space=(-10.0, 10.0), slider_step=1.0, startvalue=3)"
   ]
  },
  {
   "cell_type": "markdown",
   "metadata": {},
   "source": [
    "### Regel 2: Ableitung von $x$\n",
    "\n",
    "Die Ableitung von $x$ ist $1$. Die erste Ableitung der Funktion $f(x) = 5x$ ist $f'(x) = 5 \\cdot 1 = 5$.\n",
    "\n",
    "<u>Beispiele</u>:<br>\n",
    "\n",
    "$f(x) = 5x$ &nbsp; &rarr; &nbsp; $f'(x) = 5$<br>\n",
    "$f(x) = -3x$ &nbsp; &rarr; &nbsp; $f'(x) = -3$<br>\n",
    "$f(x) = 0x$ &nbsp; &rarr; &nbsp; $f'(x) = 0$<br>\n",
    "$f(x) = 1123456x$ &nbsp; &rarr; &nbsp; $f'(x) = 1123456$<br>\n",
    "$f(x) = 8x + 3$ &nbsp; &rarr; &nbsp; $f'(x) = 8$<br>\n",
    "\n",
    "\n",
    "In Kapitel 2 hatten wir gelernt, dass eine Funktion, die nur ein einfaches $x$ enthält, **lineare Funktion** genannt wird. Tatsächlich können wir bei linearen Funktion die Steigung jedes Punktes an der Funktionsgleichung $f(x) = m \\cdot x + b$ selbst ablesen, wobei $m$ die Steigung ist. Das Besondere an linearen Funktionen ist, dass die Steigung für jeden Punkt gleich ist (siehe folgende Code-Zelle). Dies bedeutet, dass Ableitungsfunktionen für lineare Funktionen eigentlich überflüssig sind, da immer nur ein Steigungswert übrig bleibt: Die erste Ableitung der Funktion $f(x) = 3x + 2$ ist $f'(x) = 3 \\cdot 1 + 0 = 3$. Egal welchen Punkt wir in die erste Ableitung einsetzen, es kommt immer $3$ heraus. Die erste Ableitung einer linearen Funktion ist also eine **konstante Funktion**."
   ]
  },
  {
   "cell_type": "code",
   "execution_count": 7,
   "metadata": {},
   "outputs": [
    {
     "data": {
      "application/vnd.jupyter.widget-view+json": {
       "model_id": "462cccb9818a4b5b9d1ca62c2d5af5ac",
       "version_major": 2,
       "version_minor": 0
      },
      "text/plain": [
       "interactive(children=(FloatSlider(value=2.0, continuous_update=False, description='m', max=10.0, min=-10.0, re…"
      ]
     },
     "metadata": {},
     "output_type": "display_data"
    }
   ],
   "source": [
    "plt_function(function=\"linear\", space=(-10.0, 10.0), slider_step=1.0, startvalue=2)"
   ]
  },
  {
   "cell_type": "code",
   "execution_count": null,
   "metadata": {},
   "outputs": [],
   "source": []
  },
  {
   "cell_type": "code",
   "execution_count": null,
   "metadata": {},
   "outputs": [],
   "source": []
  },
  {
   "cell_type": "code",
   "execution_count": null,
   "metadata": {},
   "outputs": [],
   "source": []
  },
  {
   "cell_type": "code",
   "execution_count": null,
   "metadata": {},
   "outputs": [],
   "source": []
  },
  {
   "cell_type": "markdown",
   "metadata": {},
   "source": [
    "<div class=\"tool\">\n",
    "<span class=\"invisible_border\"><img src=\"img/gear.png\" class=\"icon\"/><b>Werkzeugkasten: <u>Ableitungsregeln II - ...</u></b></span>\n",
    "    <br>\n",
    "    <br>\n",
    "\n",
    "    \n",
    "    - produktregel\n",
    "    - quotientenregel\n",
    "</div>"
   ]
  },
  {
   "cell_type": "markdown",
   "metadata": {},
   "source": [
    "TODO:\n",
    "- Symbole für potenzregel, summenregel, "
   ]
  },
  {
   "cell_type": "code",
   "execution_count": null,
   "metadata": {},
   "outputs": [],
   "source": []
  }
 ],
 "metadata": {
  "kernelspec": {
   "display_name": "Python 3",
   "language": "python",
   "name": "python3"
  },
  "language_info": {
   "codemirror_mode": {
    "name": "ipython",
    "version": 3
   },
   "file_extension": ".py",
   "mimetype": "text/x-python",
   "name": "python",
   "nbconvert_exporter": "python",
   "pygments_lexer": "ipython3",
   "version": "3.7.7"
  }
 },
 "nbformat": 4,
 "nbformat_minor": 4
}
