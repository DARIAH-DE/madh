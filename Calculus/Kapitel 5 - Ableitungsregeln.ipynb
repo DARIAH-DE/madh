{
 "cells": [
  {
   "cell_type": "markdown",
   "metadata": {},
   "source": [
    "# Kapitel 5 - Ableitungsregeln"
   ]
  },
  {
   "cell_type": "code",
   "execution_count": 24,
   "metadata": {},
   "outputs": [
    {
     "data": {
      "text/html": [
       "<style>\n",
       "\n",
       "/* special fields*/\n",
       "\n",
       "\n",
       "/* light blue */ \n",
       "div.digression {    \n",
       "    background-color: #f6f6f6;\n",
       "    border-color: #a1c6de;\n",
       "    border-left: 5px solid #a1c6de;\n",
       "    border-right: 5px solid #a1c6de;\n",
       "    border-top: 5px solid #a1c6de;\n",
       "    border-bottom: 5px solid #a1c6de;\n",
       "    padding: 0.5em;\n",
       "}\n",
       "\n",
       "/* orange */\n",
       "div.note {    \n",
       "    background-color: #f6f6f6;\n",
       "    border-color: #ffb382;\n",
       "    border-left: 5px solid #ffb382;\n",
       "    border-right: 5px solid #ffb382;\n",
       "    border-top: 5px solid #ffb382;\n",
       "    border-bottom: 5px solid #ffb382;\n",
       "    padding: 0.5em;\n",
       "}\n",
       "\n",
       "/* light green */\n",
       "div.task {    \n",
       "    background-color: #f6f6f6;\n",
       "    border-color: #99b898;\n",
       "    border-left: 5px solid #99b898;\n",
       "    border-right: 5px solid #99b898;\n",
       "    border-top: 5px solid #99b898;\n",
       "    border-bottom: 5px solid #99b898;\n",
       "    padding: 0.5em;\n",
       "}\n",
       "\n",
       "div.tool {    \n",
       "    background-color: #f6f6f6;\n",
       "    border-color: #f542e0;\n",
       "    border-left: 7px solid #f542e0;\n",
       "    border-right: 7px solid #f542e0;\n",
       "    border-top: 7px solid #f542e0;\n",
       "    border-bottom: 7px solid #f542e0;\n",
       "    border-style: double;\n",
       "    padding: 0.5em;\n",
       "}\n",
       "\n",
       "/* dark red */\n",
       "div.warn {    \n",
       "    background-color: #f6f6f6;\n",
       "    border-color: #cc1a32;\n",
       "    border-left: 5px solid #cc1a32;\n",
       "    border-right: 5px solid #cc1a32;\n",
       "    border-top: 5px solid #cc1a32;\n",
       "    border-bottom: 5px solid #cc1a32;\n",
       "    padding: 0.5em;\n",
       "}\n",
       "\n",
       "/* icons */\n",
       "\n",
       "img.icon {\n",
       "  display: inline-block; \n",
       "  width: 18px;\n",
       "  height: 18px;\n",
       "  margin-right: 7px;\n",
       "  margin-bottom: 3px;\n",
       "}\n",
       "\n",
       "img.iconbig {\n",
       "  display: inline-block; \n",
       "  width: 21px;\n",
       "  height: 21px;\n",
       "  margin-right: 7px;\n",
       "  margin-bottom: 3px;\n",
       "}\n",
       "\n",
       "span.invisible_border {\n",
       "  padding: 0.1em;\n",
       "  font-size: 20px;\n",
       "}\n",
       "\n",
       "div.border {\n",
       "  border-color: #666666;\n",
       "  border-left: 1.5px solid;\n",
       "  border-right: 1.5px solid;\n",
       "  border-top: 1.5px solid;\n",
       "  border-bottom: 1.5px solid;\n",
       "  padding: 0.1em;\n",
       "}\n",
       "\n",
       "\n",
       "/* for simple answer / solution*/\n",
       "input.show {\n",
       "  visibility: hidden;\n",
       "}\n",
       "\n",
       "input.hide {\n",
       "  visibility: hidden;\n",
       "}\n",
       "\n",
       "\n",
       "label.answers {\n",
       "  border: 1px solid black;\n",
       "  padding: 1px;\n",
       "}\n",
       "\n",
       "label.show_answer {\n",
       "  background-color: #008CBA;  /* Blue */\n",
       "  border: none;\n",
       "  border-radius: 8px;\n",
       "  color: white;\n",
       "  padding: 3px 10px;\n",
       "  text-align: center;\n",
       "  text-decoration: none;\n",
       "  display: inline-block;\n",
       "  font-size: 12px;\n",
       "}\n",
       "\n",
       "label.hide_answer {\n",
       "  background-color: #b2b2b2; /* Grey */\n",
       "  border: none;\n",
       "  border-radius: 8px;\n",
       "  color: white;\n",
       "  padding: 3px 10px;\n",
       "  text-align: center;\n",
       "  text-decoration: none;\n",
       "  display: inline-block;\n",
       "  font-size: 12px;\n",
       "}\n",
       "\n",
       "\n",
       "span.content {\n",
       "  display:none;\n",
       "}\n",
       "input.show:checked ~ span.content {\n",
       "  display:block;\n",
       "}\n",
       "\n",
       "input.hide:checked ~ span.content {\n",
       "  display:none;\n",
       "}\n",
       "\n",
       "\n",
       "\n",
       "\n",
       "/* Tables & side by side images */\n",
       "\n",
       "/* 2 images side by side */\n",
       ".imgcolumn2 {\n",
       "  float: left;\n",
       "  width: 50.0%;\n",
       "  padding: 5px;\n",
       "}\n",
       "\n",
       "/* 3 images side by side */\n",
       ".imgcolumn3 {\n",
       "  float: left;\n",
       "  width: 33.33%;\n",
       "  padding: 5px;\n",
       "}\n",
       "\n",
       "/* 4 images side by side */\n",
       ".imgcolumn4 {\n",
       "  float: left;\n",
       "  width: 25.0%;\n",
       "  padding: 5px;\n",
       "}\n",
       "\n",
       "\n",
       ".imgrow::after {\n",
       "  content: \"\";\n",
       "  clear: both;\n",
       "  display: table;\n",
       "} \n",
       "\n",
       "figure figcaption {\n",
       "  margin: 3px;\n",
       "  text-align: center;\n",
       "  font-weight: bold;\n",
       "}\n",
       "\n",
       "table {\n",
       "    float: left;\n",
       "    border-style: 1.5px solid black;\n",
       "    border: 1.5px  black solid !important;\n",
       "    color: black !important;\n",
       "}\n",
       "\n",
       "th, td {\n",
       "    text-align: center;\n",
       "    vertical-align: middle;\n",
       "    border: 1.5px  black solid !important;\n",
       "    color: black !important;\n",
       "}\n",
       "\n",
       "/* todo?: #centertable table hinzufügen?*/\n",
       "\n",
       "#centertable td\n",
       "{\n",
       "    text-align: center; \n",
       "    vertical-align: middle;\n",
       "}\n",
       "\n",
       "#centertable th\n",
       "{\n",
       "    text-align: center; \n",
       "    vertical-align: middle;\n",
       "}\n",
       "\n",
       "\n",
       " </style>\n"
      ],
      "text/plain": [
       "<IPython.core.display.HTML object>"
      ]
     },
     "execution_count": 24,
     "metadata": {},
     "output_type": "execute_result"
    }
   ],
   "source": [
    "import sys\n",
    "sys.path.append(\"../src/\") \n",
    "from quiz import start_quiz\n",
    "from utils import css_styling, hide_code\n",
    "from functionplotter import plt_function\n",
    "from IPython.display import YouTubeVideo\n",
    "css_styling()"
   ]
  },
  {
   "cell_type": "markdown",
   "metadata": {},
   "source": [
    "## 1. Kapitelübersicht <a class=\"anchor\" id=\"1\"/>\n",
    "\n",
    "In diesem Kapitel werden wir uns die verschiedenen Regeln anschauen, die verwendet werden, um die uns bekannten Funktionsgleichungen aus den vorherigen Kapiteln **abzuleiten**. Dieses Kapitel mag auf den ersten Blick etwas umfangreich wirken, behandelt jedoch im Großen und Ganzen nur die Ableitungsregeln, die bereits im Mathe-Unterricht in der Schule eingeführt wurden. Vieles wird Ihnen deshalb bekannt vorkommen und ihr Ableitungswissen sollte mit diesem Kapitel aufgefrischt werden. Da die hier behandelten Regeln die Grundlage für die weiteren Kapitel sind, wird es eine Menge an Rechenaufgaben geben, um die Anwendung der Ableitungsregeln zu üben. Dadurch sollten Sie die Aufgaben der folgenden Kapitel gut bewältigen können. Sollten Ihnen jedoch einer der Ableitungsregeln entfallen, können Sie diese entweder in diesem Kapitel oder dem dieser Tutorialreihe beigelegtem **Cheatsheet** (dt.: Spickzettel) entnehmen.\n",
    "\n",
    "\n",
    "<b>Abschnittsübersicht</b><br>\n",
    "\n",
    "[1. Kapitelübersicht](#1)<br>\n",
    "[2. Definition & Notation](#2)<br>\n",
    "[3. Werkzeugkästen](#3)<br>\n",
    "[4. Ableitungsregeln I - Konstanten, x, Produktregel, Faktorregel](#4)<br>\n",
    "&nbsp;&nbsp; [Regel 1: Ableitung einer Konstanten](#r1)<br>\n",
    "&nbsp;&nbsp; [Regel 2: Ableitung von $x$](#r2)<br>\n",
    "&nbsp;&nbsp; [Regel 3: Potenzregel](#r3) <br>\n",
    "&nbsp;&nbsp; [Regel 4: Faktorregel](#r4)<br>\n",
    "&nbsp;&nbsp; [Regel 5: Summenregel / Differenzregel](#r5)<br>\n",
    "[5. Ableitungsregeln II - Produkte, Quotienten, Ketten](#5)<br>\n",
    "&nbsp;&nbsp; [Regel 6: Produktregel](#r6)<br>\n",
    "&nbsp;&nbsp; [Regel 7: Quotientenregel](#r7)<br>\n",
    "&nbsp;&nbsp; [Regel 8: Kettenregel](#r8) <br>\n",
    "[6. Ableitungsregeln III - Transzendente Funktionen](#6)<br>\n",
    "&nbsp;&nbsp; [Regel 9: Ableitung der $e$-Funktion](#r9)<br>\n",
    "&nbsp;&nbsp; [Regel 10: Ableitung des natürlichen Logarithmus](#r10)<br>\n",
    "&nbsp;&nbsp; [Regel 11: Ableitung des Logarithmus zu Basis $a$](#r11) <br>\n",
    "&nbsp;&nbsp; [Regel 12: Ableitung vom Sinus](#r12)<br>\n",
    "&nbsp;&nbsp; [Regel 13: Ableitung vom Cosinus](#r13)<br>\n",
    "&nbsp;&nbsp; [Regel 14: Ableitung vom Tangens](#r14) <br>\n",
    "[7. Ableitungsregeln IV - Spezialfälle](#7)<br>\n",
    "&nbsp;&nbsp; [Regel 15: Spezialfall der Quotientenregel ($x$ im Nenner eines Bruchs und Zähler = 1)](#r15)<br>\n",
    "&nbsp;&nbsp; [Regel 16: Ableitung von Wurzelfunktionen](#r16) <br>\n",
    "\n",
    "<b>Quizübersicht</b><br>\n",
    "[Ableitungsregeln I Quiz](#q1)<br>\n",
    "\n",
    "<b>Behandelte Themen</b><br>\n",
    "- Ableitungsdefinition\n",
    "    - erste Ableitung\n",
    "    - zweite Ableitung\n",
    "    - n-te Ableitung\n",
    "- Ableitungsnotationen ($f(x)$, $\\frac{dy}{dx}$, ...)\n",
    "- Ableitungsregeln: (TODO: Namen überarbeiten)\n",
    "    - Ableitung einer Konstanten\n",
    "    - Ableitung von $x$\n",
    "    - Potenzregel\n",
    "    - Faktorregel\n",
    "    - Summenregel / Differenzregel\n",
    "    - Produktregel\n",
    "    - Quotientenregel\n",
    "    - Kettenregel\n",
    "    - $x$ im Nenner eines Bruchs\n",
    "    - $x$ in einer Wurzel\n",
    "    - $x$ als Exponent von $e$\n",
    "    - $x$ im Logarithmus zur Basis $a$\n",
    "    - Ableitung von trigonometrischen Funktionen:\n",
    "        - Ableitung von Sinus\n",
    "        - Ableitung von Cosinus\n",
    "        - Ableitung von Tangens\n",
    "- TODO: wars das?\n",
    "\n",
    "<b>Mögliche Anwendungsfelder</b><br>\n",
    "/"
   ]
  },
  {
   "cell_type": "markdown",
   "metadata": {},
   "source": [
    "## 2. Definition & Notation <a class=\"anchor\" id=\"2\"/>\n",
    "\n",
    "Im letzten Kapitel hatten wir **Ableitungsfunktionen**, die einfachheitshalber auch nur **Ableitungen** genannt werden, kennen gelernt. Eine Ableitung ist eine Funktion, die jedem $x$-Wert einer Funktion $f(x)$ ihren Differentialquotienten zuordnet. Eine Ableitung hilft uns also, die Steigung der Funktion an einer beliebigen $x$-Koordinate zu bestimmen. Dies ist vor allem für kurvenförmige Funktionen wichtig, da diese an verschiedenen Stellen des Graphen verschiedene Steigungen besitzen. \n",
    "\n",
    "**Ableitungsfunktionen** sind wichtige Werkzeuge der Mathematik, welche für die unterschiedlichsten Anwendungsfälle benutzt werden. Wenn beispielsweise ein Wert von der Zeit $t$ abhängt, können Ableitungen dazu verwendet werden, um zu bestimmen, wie schnell sich dieser Wert zu einem bestimmten Zeitpunkt ändert. Dieser Anwendungsfall kommt zum Beispiel in der Physik, der Biologie oder der Ökonomie vor. Ableitungen können auch dazu verwendet werden, um die Stärke der Steigung, die Minima oder die Maxima einer Funktion zu ermitteln. Diese Anwendungsfälle werden zum Beispiel für Optimierungsverfahren in der Mathematik und Informatik verwendet. In einem späteren Kapitel (Kapitel TODO) werden wir eines dieser Optimierungverfahren, das **Gradient Descent** Verfahren, kennen lernen, welches für das Training von **Neuronalen Netzen** verwendet wird.\n",
    "\n",
    "Die Ableitungsfunktion ist, wie der Name schon sagt, ebenfalls eine Funktion und so können wir auch von dieser eine Ableitungsfunktion erstellen. Die erste Ableitung der Ableitungsfunktion der ursprünglichen Funktion $f(x)$ nennt man auch **zweite Ableitung**. Dies können wir noch weiter führen, d.h. wir können auch dritte, vierte usw. Ableitungen der ursprünglichen Funktion $f(x)$ bilden, die immer die Ableitungsfunktionen der vorherigen Ableitungsfunktion sind. Die 305. Ableitung ist also die Ableitungsfunktion der 304. Ableitung von $f(x)$. \n",
    "\n",
    "#### Anwendungsfelder\n",
    "\n",
    "Neben der ersten Ableitung werden vor allem die zweite und dritte Ableitung im Rahmen der **Kurvendiskussion**, also der Untersuchung der Graphen einer Funktion auf ihre geometrische Eigenschaften, verwendet. Wie wir bereits wissen, wird die erste Ableitung verwendet, um die Steigung eines beliebigen Punkts $x$ berechnen zu können. Mithilfe der zweiten Ableitung wird das **Krümmungsverhalten** (= Änderung der Steigung) einer Funktion untersucht und mit der dritten Ableitung können die **notwendigen Bedingungen für Wendestellen** ermittelt werden. Aufgrund der Bedeutungen im Rahmen der Kurvendikussion wurden die ersten drei Ableitungen einer Funktion in der Schulmathematik verwendet. Ab der vierten Ableitung sind die Ableitungsfunktionen für die Kurvendiskussion weniger interessant und haben daher in der Schulmathematik kaum einen Nutzen. Wir werden uns jedoch den vierten und höheren Ableitungsfunktionen im Rahmen der **Taylorreihen** in Kapitel TODO widmen, wo sie zusammen mit den ersten drei Ableitungen zur Approximation von Funktionen verwendet werden. Dafür wird die  Verwendung von Ableitungen zur Kurvendikussion in dieser Tutorialreihe weniger ausführlich als in der Schulmathematik behandelt.[<sup>1</sup>](#fn1)\n",
    "\n",
    "#### Notationen\n",
    "\n",
    "Eine Ableitung von einer Funktion $f(x)$ wird mit einem Strich (= ') nach dem $f$ gekennzeichnet. Die erste Ableitung der Funktion $f(x)$ ist also $f'(x)$, die erste Ableitung von $g(x)$ ist $g'(x)$. Möchten wir die zweite, dritte, vierte, ... Ableitung einer Funktion aufschreiben, zeigen wir das durch den **Grad** der Funktion an, d.h. durch die Anzahl der Striche. Die dritte Ableitung von $f(x)$ wäre demnach $f'''(x)$. Wird der Grad jedoch sehr hoch, kann diese Schreibweise schnell unübersichtlich werden: Die zehnte Ableitung von $f(x)$ wäre $f''''''''''(x)$. Deshalb findet man oft ab etwa dem vierten Grad einer Ableitung die folgende Schreibweise: $f^{(4)}(x)$, wobei die Höhe des Grades durch eine hochgestellte Zahl innerhalb von Klammern nach dem $f$ dargestellt wird.\n",
    "\n",
    "Wie so oft in der Mathematik gibt es für die Notationen von Ableitungen verschiedene <a href=\"https://de.wikipedia.org/wiki/Differentialrechnung#Notationen\">Varianten</a>, was meist historische Gründe hat (siehe Abbildung). Wir werden in dieser Tutorialreihe vorwiegend die Notation von *Lagrange* verwenden. In späteren Kapiteln werden wir zusätzlich noch die Notation von *Leibniz* einführen, da Sie dieser Notation häufig in wissenschaftlichen Papern oder anderen Tutorials begegnen werden und es daher sinnvoll ist, dass Sie diese Notation kennen und verwenden können.\n",
    "\n",
    "<hr style=\"border: 0.1px solid black;\"/>\n",
    "<span id=\"fn1\" style=\"font-size:8pt; line-height:1\"><sup style=\"font-size:5pt\">1</sup>&nbsp; Wenn Sie die das Thema der Kurvendiskussion interessiert, werfen Sie einen Blick auf diese Übersicht: <a href=\"https://www.mathebibel.de/kurvendiskussion\">Kurvendiskussion von mathebibel.de</a>.</span><br>"
   ]
  },
  {
   "cell_type": "markdown",
   "metadata": {},
   "source": [
    "<br>\n",
    "<img src=\"img/notation_derivative.png\" alt=\"Entnommen vom Coursera Kurs 'Mathematics for Machine Learning: Multivariate Calculus', Woche 1, Video: Functions\" align=\"left\" width=\"700\"/>"
   ]
  },
  {
   "cell_type": "markdown",
   "metadata": {},
   "source": [
    "## 3. Werkzeugkästen <a class=\"anchor\" id=\"3\"/>\n",
    "\n",
    "Die Berechnungen von Ableitungen sind für die folgenden Themen dieser Tutorialreihe essenziell. Dies bedeutet, dass Sie in vielen Aufgaben die Ableitungen von Funktionen bilden müssen. Mit der im vorherigen Kapitel eingeführten **h-Methode** ist die Berechnung der Ableitung einer Funktion zwar möglich, aber sehr aufwendig. Es gibt daher **Ableitungsregeln**, welche die Ableitungsberechnungen vereinfachen. Eine Herleitung dieser Regeln wird es in diesem Kapitel nicht geben, es werden lediglich die Regeln aufgestellt. Diese <u>müssen</u> bekannt sein, d.h. Sie müssen diese Regeln **auswendig** lernen bzw. anwenden können. Aber keine Sorge, diese Regeln sind nicht sonderlich schwer und behandeln im Grunde nur Schulstoff. Im weiteren Verlauf wird es immer mehr Rechenregeln geben, die Sie auswendig lernen und vor allem auch anwenden können müssen. Diese Regeln werden in sogenannten **Werkzeugkästen** kurz zusammengefasst, auf welche Sie bei Bedarf immer wieder zurückgreifen können. Diese Werkzeugkästen erfüllen mehrere Zwecke: Zum einen wissen Sie so immer sofort, welche Regeln Sie im Gedächtnis behalten sollen. Damit Sie nicht immer zu den Notebooks mit den entsprechenden Werkzeugkästen springen müssen, liegt dieser Tutorialreihe ein **Cheatsheet** (dt.: Spickzettel) bei, in dem Sie diese Regeln zusammengefasst finden können, um Ihr Gedächtnis auffrischen zu können. Zum anderen ist die Idee eines Werkzeugkasten, dass Sie die in ihm enthaltenen Regeln als eine Reihe von mathematischen **Werkzeugen** ansehen. Diese Werkzeuge sollen Ihnen Rechenschritte erleichtern, so wie ein Hammer dabei hilft, einen Nagel in die Wand zu schlagen; ein Vorgang, welcher ohne den Hammer unpraktisch, ineffizient und oft auch unmöglich ist. \n",
    "\n",
    "In diesem Kapitel werden wir mehrere Werkzeugkästen kennen lernen. Damit diese nicht zu unübersichtlich werden, werden in diesen Werkzeugkästen die Regeln nur in kurzer Form dargestellt, die Erläuterungen dieser Regeln und Rechenbeispiele folgen außerhalb der Kästen. Besonders wichtige Regeln werden zusätzlich mit einem schwarzen Rahmen und einem besonderen Icon dargestellt."
   ]
  },
  {
   "cell_type": "markdown",
   "metadata": {},
   "source": [
    "## 4. Ableitungsregeln I - Konstanten, x, Produktregel, Faktorregel <a class=\"anchor\" id=\"4\"/>\n",
    "\n",
    "TODO: einleitende worte"
   ]
  },
  {
   "cell_type": "markdown",
   "metadata": {},
   "source": [
    "<div class=\"tool\">\n",
    "<span class=\"invisible_border\"><img src=\"img/icons/tools.svg\" class=\"icon\"/><b>Werkzeugkasten: <u>Ableitungsregeln I - Konstanten, x, Produktregel, Faktorregel</u></b></span>\n",
    "    <br>\n",
    "    <br>\n",
    "1. <b>Ableitung einer Konstanten</b>: Die Ableitung einer Konstanten ist $0$.<br><br>\n",
    "<div style=\"text-indent:20px;\"> $f(x) = c$ &nbsp; &rarr; &nbsp; $f'(x) = 0$</div><br>    \n",
    "2. <b>Ableitung von $x$</b>: Die Ableitung von $x$ ist $1$.<br><br>\n",
    "<div style=\"text-indent:20px;\"> $f(x) = x$ &nbsp; &rarr; &nbsp; $f'(x) = 1$</div><br>    \n",
    "<div class=\"border\">3. <img src=\"img/icons/powerrule.svg\" class=\"icon\"/><b>Potenzregel</b>: Die Ableitung von $x^n$ ist $n \\cdot x^{n-1}$.<br><br>\n",
    "<div style=\"text-indent:20px;\"> $f(x) = x^n$ &nbsp; &rarr; &nbsp; $f'(x) = n \\cdot x^{n-1}$</div></div><br>\n",
    "4. <b>Faktorregel</b>: Beim Ableiten bleibt der konstante Faktor unverändert erhalten.<br><br>\n",
    "<div style=\"text-indent:20px;\"> $f(x) = c \\cdot g(x)$ &nbsp; &rarr; &nbsp; $f'(x) = c \\cdot g'(x)$</div><br>\n",
    "<div class=\"border\">5. <img src=\"img/icons/sumrule.svg\" class=\"icon\"/><b>Summenregel / Differenzregel</b>: Eine Summe/Differenz wird abgeleitet, indem man jeden Summanden/Minuend/Subtrahend für sich ableitet und die Ableitungen addiert. <u>Achtung</u>: Beim Subtrahenden bleibt das negative Vorzeichen bestehen.<br><br>\n",
    "<div style=\"text-indent:20px;\"> $f(x) = g(x) + h(x)$ &nbsp; &rarr; &nbsp; $f'(x) = g'(x) + h'(x)$</div>\n",
    "<div style=\"text-indent:20px;\"> $f(x) = g(x) - h(x)$ &nbsp; &rarr; &nbsp; $f'(x) = g'(x) - h'(x)$</div></div><br>\n",
    "</div>"
   ]
  },
  {
   "cell_type": "markdown",
   "metadata": {},
   "source": [
    "### Regel 1: Ableitung einer Konstanten <a class=\"anchor\" id=\"r1\"/>\n",
    "\n",
    "Die Ableitung einer Konstanten ist $0$. \n",
    "\n",
    "<u>Beispiele</u>:<br>\n",
    "\n",
    "$f(x) = 5$ &nbsp; &rarr; &nbsp; $f'(x) = 0$<br>\n",
    "$f(x) = 10$ &nbsp; &rarr; &nbsp; $f'(x) = 0$<br>\n",
    "$f(x) = -3$ &nbsp; &rarr; &nbsp; $f'(x) = 0$<br>\n",
    "$f(x) = 0.66666$ &nbsp; &rarr; &nbsp; $f'(x) = 0$<br>\n",
    "$f(x) = 100023320032323233232321$ &nbsp; &rarr; &nbsp; $f'(x) = 0$<br>\n",
    "$f(x) = 7 + 3$ &nbsp; &rarr; &nbsp; $f'(x) = 0$<br>\n",
    "$f(x) = 0$ &nbsp; &rarr; &nbsp; $f'(x) = 0$<br>\n",
    "\n",
    "In Kapitel 2 haben wir gelernt, dass eine Funktion, die kein $x$ beinhaltet, sondern nur eine Konstante, d.h. eine Zahl, **konstante Funktion** genannt wird. Das Besondere an konstanten Funktionen ist, dass ihre Steigung in jedem Punkt $0$ ist. Da wir durch die Ableitungsfunktion die Steigung der Funktion an einer beliebigen $x$-Koordinate bestimmen, ist es nur logisch, dass die Ableitungsfunktion immer $0$ ergibt, zumal wir auch gar keine Möglichkeit haben, eine $x$-Koordinate anzugeben, da eine konstante Funktion kein $x$ enthält.\n",
    "\n",
    "Diese Regel wenden wir auch an, wenn konstante Terme in einer Funktion vorkommen. Die erste Ableitung der Funktion $f(x) = x^2 + 5x + 3$ ist $f'(x) = 2x + 5 + 0 = 2x + 5$. Die Konstante $3$ wird in der ersten Ableitung zu einer $0$, d.h. sie verschwindet und wir müssen sie nicht mehr aufschreiben.\n",
    "\n",
    "Setzen Sie in der folgenden Code-Zelle die Variable `first_derivative` auf `True`. Damit wird die erste Ableitung der konstanten Funktion in Orange geplottet. Sie können sehen, dass diese immer auf der x-Achse liegt (also $x$ = 0), egal welchen Wert Sie für $c$ angeben."
   ]
  },
  {
   "cell_type": "code",
   "execution_count": 9,
   "metadata": {},
   "outputs": [
    {
     "data": {
      "application/vnd.jupyter.widget-view+json": {
       "model_id": "ec71f0dd562744e08da091858b6fc6eb",
       "version_major": 2,
       "version_minor": 0
      },
      "text/plain": [
       "interactive(children=(FloatSlider(value=3.0, continuous_update=False, description='c', max=10.0, min=-10.0, re…"
      ]
     },
     "metadata": {},
     "output_type": "display_data"
    }
   ],
   "source": [
    "first_derivative = False\n",
    "plt_function(name=\"constant\", space=(-10.0, 10.0), slider_step=1.0, startvalue=3, d1=first_derivative)"
   ]
  },
  {
   "cell_type": "markdown",
   "metadata": {},
   "source": [
    "### Regel 2: Ableitung von $x$ <a class=\"anchor\" id=\"r2\"/>\n",
    "\n",
    "Die Ableitung von $x$ ist $1$.\n",
    "\n",
    "<u>Beispiele</u>:<br>\n",
    "\n",
    "$f(x) = 5x$ &nbsp; &rarr; &nbsp; $f'(x) = 5$<br>\n",
    "$f(x) = -3x$ &nbsp; &rarr; &nbsp; $f'(x) = -3$<br>\n",
    "$f(x) = 0x$ &nbsp; &rarr; &nbsp; $f'(x) = 0$<br>\n",
    "$f(x) = 1123456x$ &nbsp; &rarr; &nbsp; $f'(x) = 1123456$<br>\n",
    "$f(x) = 8x + 3$ &nbsp; &rarr; &nbsp; $f'(x) = 8$<br>\n",
    "\n",
    "\n",
    "In Kapitel 2 hatten wir gelernt, dass eine Funktion, die nur ein einfaches $x$ enthält, **lineare Funktion** genannt wird. Tatsächlich können wir bei linearen Funktion die Steigung jedes Punktes anhand der Funktionsgleichung $f(x) = m \\cdot x + b$ selbst ablesen, wobei $m$ die Steigung ist. Das Besondere an linearen Funktionen ist, dass die Steigung für jeden Punkt gleich ist (siehe folgende Code-Zelle). Dies bedeutet, dass Ableitungsfunktionen für lineare Funktionen eigentlich überflüssig sind, da immer nur ein Steigungswert übrig bleibt: Die erste Ableitung der Funktion $f(x) = 3x + 2$ ist $f'(x) = 3 \\cdot 1 + 0 = 3$. Egal welchen Punkt wir in die erste Ableitung einsetzen, es kommt immer $3$ heraus. Die erste Ableitung einer linearen Funktion ist also eine **konstante Funktion**. In der folgenden Code-Zelle können Sie sehen, dass der y-Achsenabschnitt der ersten Ableitung immer gleich der Steigung der linearen Funktion ist. "
   ]
  },
  {
   "cell_type": "code",
   "execution_count": 10,
   "metadata": {},
   "outputs": [
    {
     "data": {
      "application/vnd.jupyter.widget-view+json": {
       "model_id": "dfaf08db30514e069b6f3877416e7e6d",
       "version_major": 2,
       "version_minor": 0
      },
      "text/plain": [
       "interactive(children=(FloatSlider(value=2.0, continuous_update=False, description='m', max=10.0, min=-10.0, re…"
      ]
     },
     "metadata": {},
     "output_type": "display_data"
    }
   ],
   "source": [
    "plt_function(name=\"linear\", space=(-10.0, 10.0), slider_step=1.0, startvalue=2, d1=True)"
   ]
  },
  {
   "cell_type": "markdown",
   "metadata": {},
   "source": [
    "### Regel 3: <img src=\"img/icons/powerrule.svg\" class=\"iconbig\"/>Potenzregel <a class=\"anchor\" id=\"r3\"/>\n",
    "\n",
    "Die Ableitung von $x^n$ ist $n \\cdot x^{n-1}$. \n",
    "\n",
    "<u>Beispiele</u>:<br>\n",
    "\n",
    "$f(x) = x^3$ &nbsp; &rarr; &nbsp; $f'(x) = 3 \\cdot x^{3-1} = 3x^2$<br>\n",
    "$f(x) = x^5$ &nbsp; &rarr; &nbsp; $f'(x) = 5x^4$<br>\n",
    "$f(x) = x^0$ &nbsp; &rarr; &nbsp; $f'(x) = 0 \\cdot x^{-1} = 0$<br>\n",
    "$f(x) = x^{-3}$ &nbsp; &rarr; &nbsp; $f'(x) = -3x^{-4}$<br>\n",
    "$f(x) = -x^9$ &nbsp; &rarr; &nbsp; $f'(x) = -9x^8$<br>\n",
    "$f(x) = x^7 + 3$ &nbsp; &rarr; &nbsp; $f'(x) = 7x^6$<br>\n",
    "$f(x) = x^{1129977}$ &nbsp; &rarr; &nbsp; $f'(x) = 1129977x^{1129976}$<br>\n",
    "$f(x) = x^z$ &nbsp; &rarr; &nbsp; $f'(x) = z \\cdot x^{z-1}$<br>\n",
    "$f(x) = x^1$ &nbsp; &rarr; &nbsp; $f'(x) = 1 \\cdot x^0 = 1$ <br>\n",
    "$f(x) = x^0 + 4$ &nbsp; &rarr; &nbsp; $f'(x) = 0 \\cdot x^{-1} = 0$<br>\n",
    "\n",
    "Die Potenzregel wird immer dann angewendet, wenn etwas (eine Zahl, eine Variable, etc.) im Exponenten von $x$ steht. Die Ableitung mithilfe der Potenzregel erfolgt in zwei Schritten (vereinfacht):\n",
    "1. Den Exponenten des $x$ der Funktion vor das $x$ in der Ableitung schreiben.\n",
    "2. Den Exponenten des $x$ der Ableitung um $1$ verringern.\n",
    "\n",
    "Durch die Potenzregel werden die beiden vorherigen Regeln eigentlich überflüssig, da diese Spezialfälle der Potenzregel sind (siehe die letzten beiden Beispiele). "
   ]
  },
  {
   "cell_type": "markdown",
   "metadata": {},
   "source": [
    "Die Potenzregel wird für **Potenzfunktionen** und **Polynomfunktionen** angewandt. In Kapitel 2 hatten wir festegestellt, dass wir viele Funktionen als Polynomfunktion ausdrücken können (siehe Tabelle). Leitet man einer der Funktionen ab, erhält man eine Funktion mit einem um $1$ verringerten Grad. Leitet man also eine quadratische Funktion (Grad = 2) ab, erhält man eine lineare Funktion (Grad = 1). Leitet man eine kubische Funktion (Grad = 3) ab, erhält man eine quadratische Funktion (Grad = 2). Die zweite Ableitung einer kubischen Funktion ist eine lineare Funktion. Dieses Verhalten gilt nur für Potenz- und Polynomfunktionen. Führen Sie die folgende Code-Zelle aus und spielen Sie etwas mit den Parametern herum. Setzen Sie zum Beispiel $a=1$, $n=3$ und alle Ableitungen auf `True`, können Sie jede der in der Tabelle aufgeführten Funktionen sehen.\n",
    "\n",
    "\n",
    "<p>\n",
    "<table id=\"centertable\">\n",
    "    <tr>\n",
    "        <td></td>\n",
    "        <th width=\"10%\">Grad ($n$)</th>\n",
    "        <th width=\"50%\">Gleichung</th>\n",
    "        <th width=\"30%\">bekannte Schreibweise</th>\n",
    "    </tr>\n",
    "    <tr>\n",
    "        <th>Konstante Funktion</th>\n",
    "        <td width=\"10%\">0</td>\n",
    "        <td width=\"50%\">$f(x) = a_n \\cdot x^n$</td>\n",
    "        <td width=\"30%\">$f(x) = c$</td>\n",
    "    </tr>\n",
    "    <tr>\n",
    "        <th>Lineare Funktion</th>\n",
    "        <td width=\"10%\">1</td>\n",
    "        <td width=\"50%\">$f(x) = a_n \\cdot x^n + a_{n-1} \\cdot x^{n-1}$</td>\n",
    "        <td width=\"30%\">$f(x) = m \\cdot x + b$</td>\n",
    "    </tr>\n",
    "    <tr>\n",
    "        <th>Quadratische Funktion</th>\n",
    "        <td width=\"10%\">2</td>\n",
    "        <td width=\"50%\">$f(x) = a_n \\cdot x^n + a_{n-1} \\cdot x^{n-1} + a_{n-2} \\cdot x^{n-2}$</td>\n",
    "        <td width=\"30%\">$f(x) = a \\cdot x^2 + b \\cdot x + c$</td>\n",
    "    </tr>\n",
    "    <tr>\n",
    "        <th>Kubische Funktion</th>\n",
    "        <td width=\"10%\">3</td>\n",
    "        <td width=\"50%\">$f(x) = a_n \\cdot x^n + a_{n-1} \\cdot x^{n-1} + a_{n-2} \\cdot x^{n-2} + a_{n-3} \\cdot x^{n-3}$</td>\n",
    "        <td width=\"30%\">$f(x) = a \\cdot x^3 + b \\cdot x^2 + c \\cdot x + d$</td>\n",
    "    </tr>\n",
    "    <tr>\n",
    "        <th>...</th>\n",
    "        <td width=\"10%\">4</td>\n",
    "        <td width=\"50%\">...</td>\n",
    "        <td width=\"30%\">...</td>\n",
    "    </tr>\n",
    "</table> \n",
    "</p>"
   ]
  },
  {
   "cell_type": "code",
   "execution_count": 11,
   "metadata": {},
   "outputs": [
    {
     "data": {
      "application/vnd.jupyter.widget-view+json": {
       "model_id": "6c0876152d3346f5832843f9369cd4ff",
       "version_major": 2,
       "version_minor": 0
      },
      "text/plain": [
       "interactive(children=(FloatSlider(value=3.0, continuous_update=False, description='a', max=10.0, min=-10.0, re…"
      ]
     },
     "metadata": {},
     "output_type": "display_data"
    }
   ],
   "source": [
    "first_derivative = True\n",
    "second_derivative = True\n",
    "third_derivative = True\n",
    "plt_function(name=\"power\", space=(-10.0, 10.0), slider_step=1.0, startvalue=3, \n",
    "             d1=first_derivative, d2=second_derivative, d3=third_derivative)"
   ]
  },
  {
   "cell_type": "markdown",
   "metadata": {},
   "source": [
    "<div class=\"note\">\n",
    "    <b>Hinweis</b>: Plot der zweiten und dritten Ableitung\n",
    "    <br>\n",
    "    <br>Bei den Funktionsgraphen der zweiten und dritten Ableitung kann es zu kleineren Fehler kommen wie eine zu kurze Linie oder merkwürdige Enden einer konstanten Funktion. Dies hat Performance-Gründe, also stören Sie sich nicht weiter daran und \"denken\" Sie sich die korrekten Ende der Linien.\n",
    "</div>"
   ]
  },
  {
   "cell_type": "markdown",
   "metadata": {},
   "source": [
    "### Regel 4: Faktorregel <a class=\"anchor\" id=\"r4\"/>\n",
    "\n",
    "Beim Ableiten bleibt der konstante Faktor unverändert erhalten: $f(x) = c \\cdot g(x)$ &nbsp; &rarr; &nbsp; $f'(x) = c \\cdot g'(x)$. \n",
    "\n",
    "<u>Beispiele</u>:<br>\n",
    "\n",
    "$f(x) = 3 \\cdot x^2$ &nbsp; &rarr; &nbsp; $f'(x) = 3 \\cdot 2 \\cdot x^1 = 6x$<br>\n",
    "$f(x) = 4 \\cdot x^5$ &nbsp; &rarr; &nbsp; $f'(x) = 20x^4$<br>\n",
    "$f(x) = 7 \\cdot x^0$ &nbsp; &rarr; &nbsp; $f'(x) = 7 \\cdot 0 \\cdot x^{-1} = 0$<br>\n",
    "$f(x) = 6 \\cdot x^{-3}$ &nbsp; &rarr; &nbsp; $f'(x) = -3 \\cdot 6 x^{-4} = -18x^{-4}$<br>\n",
    "$f(x) = -2x^9$ &nbsp; &rarr; &nbsp; $f'(x) = -18x^8$<br>\n",
    "$f(x) = 333x^{111}$ &nbsp; &rarr; &nbsp; $f'(x) = 36963x^{110}$<br>\n",
    "$f(x) = \\frac{1}{7}x^7 + 3$ &nbsp; &rarr; &nbsp; $f'(x) = x^6$<br>\n",
    "$f(x) = \\frac{1}{10}x^5 -4$ &nbsp; &rarr; &nbsp; $f'(x) = \\frac{1}{2}x^4$<br>\n",
    "$f(x) = 5x^1$ &nbsp; &rarr; &nbsp; $f'(x) = 5 \\cdot x^0 = 5$ <br>\n",
    "\n",
    "Wundern Sie sich nicht, dass bei dieser Regel eine weitere Funktion $g(x)$ in der Definition enthalten ist. Dies soll nur verdeutlichen, dass der konstante Faktor $c$ <u>nicht</u> zu $g(x)$ gehört, weshalb er anders als in Regel 1 nicht abgeleitet wird, sondern in der Ableitung bestehen bleibt. Ein konstanter Faktor ist dadurch zu erkennen, dass er vor einem $x$ (egal welchen Grades) steht und mit diesem multipliziert wird. Die $3$ in Beispiel 7 ist kein konstanter Faktor, da sie nicht vor einem $x$ steht, sie ist ein Absolutglied. Das gleiche gilt für die $-4$ in Beispiel 8. Einzelne Glieder von Funktionen werden mithilfe der **Summenregel/Differenzregel** (Regel 5) abgeleitet."
   ]
  },
  {
   "cell_type": "markdown",
   "metadata": {},
   "source": [
    "### Regel 5: <img src=\"img/icons/sumrule.svg\" class=\"iconbig\"/>Summenregel / Differenzregel <a class=\"anchor\" id=\"r5\"/>\n",
    "\n",
    "Eine Summe/Differenz wird abgeleitet, indem man jeden Summanden/Minuenden/Subtrahenden für sich ableitet und die Ableitungen addiert. <u>Achtung</u>: Beim Subtrahenden bleibt das negative Vorzeichen bestehen.<br><br>\n",
    "\n",
    "<div style=\"text-indent:20px;\"> $f(x) = g(x) + h(x)$ &nbsp; &rarr; &nbsp; $f'(x) = g'(x) + h'(x)$</div>\n",
    "<div style=\"text-indent:20px;\"> $f(x) = g(x) - h(x)$ &nbsp; &rarr; &nbsp; $f'(x) = g'(x) - h'(x)$</div><br>\n",
    "\n",
    "<u>Beispiele</u>:<br>\n",
    "\n",
    "$f(x) = x + 7$ &nbsp; &rarr; &nbsp; $f'(x) = 1$<br>\n",
    "$f(x) = 3 + x^2$ &nbsp; &rarr; &nbsp; $f'(x) = 2x$<br>\n",
    "$f(x) = x + x^3$ &nbsp; &rarr; &nbsp; $f'(x) = 1 + 3x^2$<br>\n",
    "$f(x) = x - 6x^6$ &nbsp; &rarr; &nbsp; $f'(x) = 1 - 36x^5$<br>\n",
    "$f(x) = 2 - 4$ &nbsp; &rarr; &nbsp; $f'(x) = 0$<br>\n",
    "$f(x) = 4x^5 - 4x^3 - 10x + 5$ &nbsp; &rarr; &nbsp; $f'(x) = 20x^4 - 12x^2 - 10$<br>\n",
    "$f(x) = 10x^{10} + 7x^8 - 30x^6 + 3x^5 - 4x^4 + 7x^3 + 8x^2 + 8$ &nbsp; &rarr; &nbsp; $f'(x) = 100x^9 + 56x^7 -180x^5 +15x^4 - 16x^3 + 21x^2 + 16x$<br>\n",
    "\n",
    "Die Anwendung dieser Regel haben wir schon in Beispielen vorheriger Regeln gesehen. Hier ist es wichtig, dass beim Ableiten jeder Summand/Minuend/Subtrahend als einzelnes Glied betrachtet wird. Jedes Glied wird für sich selbst betrachtet und abgeleitet. Dadurch können auch komplizierte Funktionen wie Beispiel 6 und 7 leicht abgeleitet werden."
   ]
  },
  {
   "cell_type": "markdown",
   "metadata": {},
   "source": [
    "## Ableitungsregeln I Quiz <a class=\"anchor\" id=\"q1\"/><br>\n",
    "\n",
    "<div class=\"task\">\n",
    "    <b>Aufgabe</b>: Ableitungsregeln I Quiz\n",
    "    <br>\n",
    "    <br> Lösen Sie das folgende Quiz \"<b>Ableitungsregeln I Quiz</b>\". Dabei werden die fünf vorgestellten Regeln abgefragt. Hier finden Sie die jeweiligen Antwortmöglichkeiten zu jeder Frage, geben Sie im Quiz dann den entsprechenden Buchstaben an. Es wird empfohlen, die Aufgaben auf einem Blatt/Tablet/o.ä. zu rechnen und dann erst die Lösungen mit den Antwortmöglichkeiten abzugleichen.\n",
    "    \n",
    "<u>Antwortmöglichkeiten zu Frage 1</u>:\n",
    "<ol style=\"list-style-type:lower-alpha\">\n",
    "    <li>$f'(x) = 32x^3 + 2x^{-3}$</li>\n",
    "    <li>$f'(x) = 32x^3 - 2x^{-1}$</li>\n",
    "    <li>$f'(x) = 32x^3 - 2x^{-3}$</li>\n",
    "    <li>$f'(x) = 32x^3 - 2x^{-3}-3$</li>\n",
    "    <li>$f'(x) = 32x^3 + 2x^{-1}$</li>\n",
    "</ol>\n",
    "    \n",
    "<u>Antwortmöglichkeiten zu Frage 2</u>:\n",
    "<ol style=\"list-style-type:lower-alpha\">\n",
    "    <li>$f''(x) = 5x^4 -x^{-4} +2x^{-3}$</li>\n",
    "    <li>$f''(x) = 20x^4 + 4x^{-5} - 6x^{-4}$</li>\n",
    "    <li>$f''(x) = 20x^3 + 4x^{-5} -x^{-2}$</li>\n",
    "    <li>$f''(x) = 20x^3 + 2x^{-1} - 6x^{-4}$</li>\n",
    "    <li>$f''(x) = 20x^3 + 4x^{-5} + 6x^{-4}$</li>\n",
    "</ol>\n",
    "    \n",
    "<u>Antwortmöglichkeiten zu Frage 3</u>:\n",
    "<ol style=\"list-style-type:lower-alpha\">\n",
    "    <li>$f'''(x) = 36x^{-7}$</li>\n",
    "    <li>$f'''(x) = 6x^{-6}$</li>\n",
    "    <li>$f'''(x) = -6x^{6}$</li>\n",
    "    <li>$f'''(x) = -6x^{-6}$</li>\n",
    "</ol>\n",
    "    \n",
    "<u>Antwortmöglichkeiten zu Frage 4</u>:\n",
    "<ol style=\"list-style-type:lower-alpha\">\n",
    "    <li>$f^{10}(x) = 0$</li>\n",
    "    <li>$f^{10}(x) = 1$</li>\n",
    "    <li>$f^{10}(x) = -1$</li>\n",
    "    <li>Es gibt keine Lösung.</li>\n",
    "</ol>\n",
    "\n",
    "<u>Antwortmöglichkeiten zu Frage 5</u>:\n",
    "<ol style=\"list-style-type:lower-alpha\">\n",
    "    <li>$f(x) = 0.4x^5 - \\frac{1}{3}x^3$</li>\n",
    "    <li>$f(x) = 0.4x^5 + \\frac{1}{3}x^3$</li>\n",
    "    <li>$f(x) = 0.4x^5 + \\frac{1}{3}x^{-3}$</li>\n",
    "    <li>$f(x) = 0.4x^4 + \\frac{1}{3}x^2$</li>\n",
    "    <li>$f(x) = 0.4x^4 - \\frac{1}{3}x^2$</li>\n",
    "</ol>\n",
    "    \n",
    "</div>"
   ]
  },
  {
   "cell_type": "code",
   "execution_count": 12,
   "metadata": {},
   "outputs": [
    {
     "data": {
      "application/vnd.jupyter.widget-view+json": {
       "model_id": "1f2da18aefcf4139aed9412115976568",
       "version_major": 2,
       "version_minor": 0
      },
      "text/plain": [
       "VBox(children=(Output(), RadioButtons(layout=Layout(width='max-content'), options=(('a', 0), ('b', 1), ('c', 2…"
      ]
     },
     "metadata": {},
     "output_type": "display_data"
    },
    {
     "data": {
      "application/vnd.jupyter.widget-view+json": {
       "model_id": "8f4d45503a4d44d7b98317148baa4dc3",
       "version_major": 2,
       "version_minor": 0
      },
      "text/plain": [
       "VBox(children=(Output(), RadioButtons(layout=Layout(width='max-content'), options=(('a', 0), ('b', 1), ('c', 2…"
      ]
     },
     "metadata": {},
     "output_type": "display_data"
    },
    {
     "data": {
      "application/vnd.jupyter.widget-view+json": {
       "model_id": "a15f7fbe165f417c90402b7593a805e7",
       "version_major": 2,
       "version_minor": 0
      },
      "text/plain": [
       "VBox(children=(Output(), RadioButtons(layout=Layout(width='max-content'), options=(('a', 0), ('b', 1), ('c', 2…"
      ]
     },
     "metadata": {},
     "output_type": "display_data"
    },
    {
     "data": {
      "application/vnd.jupyter.widget-view+json": {
       "model_id": "149495ea2afb4949b2b7dd136492b4ca",
       "version_major": 2,
       "version_minor": 0
      },
      "text/plain": [
       "VBox(children=(Output(), RadioButtons(layout=Layout(width='max-content'), options=(('a', 0), ('b', 1), ('c', 2…"
      ]
     },
     "metadata": {},
     "output_type": "display_data"
    },
    {
     "data": {
      "application/vnd.jupyter.widget-view+json": {
       "model_id": "282f5f1bfd5e411cb70ecb5cb3eed371",
       "version_major": 2,
       "version_minor": 0
      },
      "text/plain": [
       "VBox(children=(Output(), RadioButtons(layout=Layout(width='max-content'), options=(('a', 0), ('b', 1), ('c', 2…"
      ]
     },
     "metadata": {},
     "output_type": "display_data"
    },
    {
     "data": {
      "text/markdown": [
       "---\n",
       "---\n"
      ],
      "text/plain": [
       "<IPython.core.display.Markdown object>"
      ]
     },
     "metadata": {},
     "output_type": "display_data"
    },
    {
     "data": {
      "application/vnd.jupyter.widget-view+json": {
       "model_id": "8e49fad9ae434ad7b7469f300b95e12b",
       "version_major": 2,
       "version_minor": 0
      },
      "text/plain": [
       "VBox(children=(Button(description='Ausgewählte Antworten überprüfen', layout=Layout(width='40%'), style=Button…"
      ]
     },
     "metadata": {},
     "output_type": "display_data"
    }
   ],
   "source": [
    "start_quiz(51, \"calculus\")"
   ]
  },
  {
   "cell_type": "markdown",
   "metadata": {},
   "source": [
    "## 5. Ableitungsregeln II - Produkte, Quotienten, Ketten<a class=\"anchor\" id=\"5\"/>\n",
    "\n",
    "TODO:\n",
    "- einleitende worte\n",
    "- sagen: coursera: \"Die Essenz der Summen-, Produkt und Kettenregeln ist es, die abzuleitende Funktion in überschaubare Teile zu zerlegen\" (vllt einleitung?)"
   ]
  },
  {
   "cell_type": "markdown",
   "metadata": {},
   "source": [
    "<div class=\"tool\">\n",
    "<span class=\"invisible_border\"><img src=\"img/icons/tools.svg\" class=\"icon\"/><b>Werkzeugkasten: <u>Ableitungsregeln II - Produkte, Quotienten, Ketten</u></b></span>\n",
    "    <br>\n",
    "    <br>\n",
    "<div class=\"border\">6. <img src=\"img/icons/productrule.svg\" class=\"icon\"/><b>Produktregel</b>:<br><br>\n",
    "<div style=\"text-indent:20px;\"> $f(x) = g(x) \\cdot h(x)$ &nbsp; &rarr; &nbsp; $f'(x) = g'(x) \\cdot h(x) + g(x) \\cdot h'(x)$</div></div><br>\n",
    "7. <b>Quotientenregel</b>:<br><br>\n",
    "<div style=\"text-indent:20px;\"> $f(x) = \\dfrac{g(x)}{h(x)}$ &nbsp; &rarr; &nbsp; $f'(x)=\\dfrac{h(x) \\cdot g'(x) - g(x) \\cdot h'(x)}{\\left[h(x)\\right]^2}$</div><br> \n",
    "<div class=\"border\"><div class=\"border\">8. <img src=\"img/icons/chainrule.svg\" class=\"icon\"/><b>Kettenregel</b>:<br><br>\n",
    "<div style=\"text-indent:20px;\"> $f(x) = g(h(x))$ &nbsp; &rarr; &nbsp; $f'(x) = g'(h(x)) \\cdot h'(x)$</div></div></div><br>\n",
    "</div>"
   ]
  },
  {
   "cell_type": "markdown",
   "metadata": {},
   "source": [
    "### Regel 6: <img src=\"img/icons/productrule.svg\" class=\"iconbig\"/>Produktregel <a class=\"anchor\" id=\"r6\"/>\n",
    "\n",
    "Die **Produktregel** lautet wie folgt: <br>\n",
    "\n",
    "$f(x) = g(x) \\cdot h(x)$ &nbsp; &rarr; &nbsp; $f'(x) = g'(x) \\cdot h(x) + g(x) \\cdot h'(x)$<br>\n",
    "\n",
    "<u>Beispiele</u>:<br>\n",
    "$f(x) = x^2 \\cdot x^5$ &nbsp; &rarr; &nbsp; $f'(x) = 7x^6$<br>\n",
    "$f(x) = (x+2) \\cdot (3x-3)$ &nbsp; &rarr; &nbsp; $f'(x) = 6x + 3$<br>\n",
    "$f(x) = 2x^5 \\cdot \\frac{1}{2}x^4 - 6$ &nbsp; &rarr; &nbsp; $f'(x) = 9x^8 - 60x^4$<br>\n",
    "$f(x) = (x^2 - 3x)^2$ &nbsp; &rarr; &nbsp; $f'(x) = 4x^3 - 18x^2 + 18x$<br>\n",
    "$f(x) =  (x^2)^3  $ &nbsp; &rarr; &nbsp; $f'(x) = 6x^5$<br>\n",
    "$f(x) =  7x^3 \\cdot 5x^5 \\cdot 8x^2$ &nbsp; &rarr; &nbsp; $f'(x) = 2800x^9$<br>\n",
    "\n",
    "Die Produktregel wird angewendet, wenn auf <u>beiden</u> Seiten des Mal-Zeichens ein $x$ vorkommt. Dabei ist es wichtig, dass wirklich auf <u>beiden</u> Seiten ein $x$ vorkommen muss, um die Produktregel anwenden zu können. Ist dies nämlich nicht der Fall, wird stattdessen die **Faktorregel** (siehe oben) angewendet. Zur Berechnung der Produktregel geht man am besten in zwei Schritten vor:<br>\n",
    "1. Die Ableitungen der Teilfunktionen $g(x)$ und $h(x)$ berechnen.\n",
    "2. Die Teilfunktionen in die Formel einsetzen.\n",
    "\n",
    "Zwei Rechenbeispiele der Produktregel werden im folgenden Video gezeigt:\n",
    "<br><br>\n",
    "\n",
    "TODO: Platzhalter. Neu aufnehmen mit besserem Sound, genaueren Erklärungen und in YouTube integrieren (löst Format-, Performance- und Browserprobleme).<br>\n",
    "\n",
    "<video width=\"480\" height=\"320\" src=\"img/calculation_examples/productrule.mp4\" type=\"video/mp4\" controls>\n",
    "    Der Browser unterstützt das Video-Format nicht.\n",
    "</video>"
   ]
  },
  {
   "cell_type": "markdown",
   "metadata": {},
   "source": [
    "Manchmal muss man Funktionen etwas umformen, um die Produktregel anwenden zu können. In Beispiel 4 kommt keine Mal-Zeichen vor, dafür aber eine Potenz. Die Funktion $f(x) = (x^2 - 3x)^2$ kann jedoch umgeschrieben werden zu $f(x) = (x^2 - 3x) \\cdot (x^2 - 3x)$, wodurch die Produktregel wieder anwendbar ist.\n",
    "\n",
    "Die Produktregel kann auch auf Multiplikationen mit mehr als zwei Faktoren angewendet werden. Dazu muss die Formel leicht modifiziert werden. Im Folgenden wird die Formel für drei Faktoren gezeigt:<br>\n",
    "\n",
    "$f(x) = g(x) \\cdot h(x) \\cdot k(x)$ &nbsp; &rarr; &nbsp; $f'(x) = g'(x) \\cdot h(x) \\cdot k(x)+ g(x) \\cdot h'(x) \\cdot k(x) + g(x) \\cdot h(x) \\cdot k'(x)$<br>\n",
    "\n",
    "Nach dem gleichen Prinzip können auch mehr als drei Faktoren abgeleitet werden. Für jeden Faktor muss es einen Summanden geben, bei dem jeweils eine der Teilfunktionen abgeleitet wird. Alle anderen Teilfunktionen, die innerhalb eines Summanden nicht abgeleitet werden, werden mit der abgeleiteten Teilfunktion multipliziert. Die Produktregel für acht Faktoren wäre z.B.:<br>\n",
    "\n",
    "$k(x) = a(x) \\cdot b(x) \\cdot c(x) \\cdot d(x) \\cdot e(x) \\cdot f(x) \\cdot g(x) \\cdot h(x)$ &nbsp; &rarr; &nbsp; $k'(x) = a'(x) \\cdot b(x) \\cdot c(x) \\cdot d(x) \\cdot e(x) \\cdot f(x) \\cdot g(x) \\cdot h(x) \n",
    "\\\\ + a(x) \\cdot b'(x) \\cdot c(x) \\cdot d(x) \\cdot e(x) \\cdot f(x) \\cdot g(x) \\cdot h(x) \n",
    "\\\\ + a(x) \\cdot b(x) \\cdot c'(x) \\cdot d(x) \\cdot e(x) \\cdot f(x) \\cdot g(x) \\cdot h(x) \n",
    "\\\\ + a(x) \\cdot b(x) \\cdot c(x) \\cdot d'(x) \\cdot e(x) \\cdot f(x) \\cdot g(x) \\cdot h(x)\n",
    "\\\\ + a(x) \\cdot b(x) \\cdot c(x) \\cdot d(x) \\cdot e'(x) \\cdot f(x) \\cdot g(x) \\cdot h(x)\n",
    "\\\\ + a(x) \\cdot b(x) \\cdot c(x) \\cdot d(x) \\cdot e(x) \\cdot f'(x) \\cdot g(x) \\cdot h(x)\n",
    "\\\\ + a(x) \\cdot b(x) \\cdot c(x) \\cdot d(x) \\cdot e(x) \\cdot f(x) \\cdot g'(x) \\cdot h(x)\n",
    "\\\\ + a(x) \\cdot b(x) \\cdot c(x) \\cdot d(x) \\cdot e(x) \\cdot f(x) \\cdot g(x) \\cdot h'(x)$<br>\n",
    "\n",
    "\n",
    "Meistens ist es einfacher, anstatt die Produktregel anzuwenden, die Funktionen umzuformen oder zusammenzufassen, da die Berechnung dadurch viel einfacher und schneller wird (Beispiel 6, wo durch das Ausrechnen des Produkts die Ableitung viel schneller berechnet werden kann als durch die Anwendung der Produktregel)."
   ]
  },
  {
   "cell_type": "markdown",
   "metadata": {},
   "source": [
    "### Regel 7: Quotientenregel <a class=\"anchor\" id=\"r7\"/>\n",
    "\n",
    "Die **Quotientenregel** lautet wie folgt: <br>\n",
    "\n",
    "$f(x) = \\dfrac{g(x)}{h(x)}$ &nbsp; &rarr; &nbsp; $f'(x)=\\dfrac{h(x) \\cdot g'(x) - g(x) \\cdot h'(x)}{\\left[h(x)\\right]^2}$\n",
    "\n",
    "<u>Beispiele</u>:<br>\n",
    "$f(x) = \\frac{x^2}{x^4}$ &nbsp; &rarr; &nbsp; $f'(x) = -2x^{-3}$<br>\n",
    "$f(x) = \\frac{x^2}{2x+2}$ &nbsp; &rarr; &nbsp; $f'(x) = \\frac{x \\cdot (x+2)}{2 \\cdot (x+1)^2}$<br>\n",
    "$f(x) = \\frac{2x+1}{2x-1}$ &nbsp; &rarr; &nbsp; $f'(x) = -\\frac{4}{(2x-1)^2}$<br>\n",
    "$f(x) = \\frac{2x+3}{x^5}$ &nbsp; &rarr; &nbsp; $f'(x) = -\\frac{8x+15}{x^6}$<br>\n",
    "    \n",
    "Wenn sowohl im Nenner als auch im Zähler eines Bruchs ein $x$ vorkommt, wird die **Quotientenregel** angewendet. Das Grundprinzip der Quotientenregel ist das Gleiche wie bei der **Produktregel**: Zuerst werden von den Teilfunktionen die Ableitungen gebildet und dann diese sowie die Teilfunktionen in die Formel eingesetzt. Wie auch bei der Produktregel ist es oft einfacher, die Funktionen umzuformen oder zusammenzufassen anstatt die Quotientenregeln zu verwenden; dies hängt jedoch immer von der jeweiligen Funktion ab. Für die Umformung/Zusammenfassung müssen die <a href=\"https://www.mathebibel.de/potenzgesetze\">Potenzgesetze</a> bekannt sein.\n",
    "    \n",
    "Da man Brüche in Potenzen umwandeln kann und somit ein Produkt vom Zähler und umgewandelten Nenner erhält, braucht man die Quotientenregel nicht immer, da man durch die Umformung einfach die **Produktregel** anwenden kann. Wie man Brüche in Potenzen umwandelt, wird in diesem <a href=\"https://www.youtube.com/watch?v=hTsYS25GAOc\">Video</a> erklärt. Manchmal wird dadurch die Funktion jedoch viel komplizierter und die Verwendung der Quotientenregel ist dem Fall die einfachere Variante. Die Umwandlung von Brüchen in Potenzen wird oft auch verwendet, um das Ergebnis der Ableitung mithilfe der Quotientenregel in eine \"schönere\" Form zu bringen: Das Ergebnis von Beispiel 1 ist beispielsweise ohne Umformung $f'(x) = \\frac{-2x^5}{x^8}$.\n",
    "\n",
    "Da die Anwendung der Quotientenregel viel Rechnerei bedeutet, wird sie in dieser Tutorialreihe eher weniger verwendet als z.B. die Produktregel. Trotzdem sollte Ihnen die Quotientenregel ein Begriff sein und Sie sollten bei Bedarf wissen, wie sie Brüche ableiten können.\n",
    "\n",
    "Die Quotientenregel wird vor allem bei **gebrochen rationalen Funktionen** angewendet. In der folgenden Code-Zelle können Sie mit den Parametern herumexperimentieren. Setzen Sie zum Beispiel alle Parameter bis auf `b0`auf $1$, $b0$ auf $-1$ und alle Ableitungen auf `True`können Sie sehen, wie die ersten drei Ableitungen von gebrochen rationalen Funktionen aussehen. Sie können auch einmal probieren, ähnlich wie in Kapitel 2, durch eine Änderung der Parameter folgende Funktionen zu plotten:<br>\n",
    "\n",
    "a) Konstante Funktion<br>\n",
    "b) Lineare Funktion<br>\n",
    "c) Quadratische Funktion<br>\n",
    "d) Kubische Funktion<br>\n",
    "e) Potenzfunktion"
   ]
  },
  {
   "cell_type": "code",
   "execution_count": 13,
   "metadata": {},
   "outputs": [
    {
     "data": {
      "application/vnd.jupyter.widget-view+json": {
       "model_id": "edb13b4ccc244bb2971f1fb01e954c4a",
       "version_major": 2,
       "version_minor": 0
      },
      "text/plain": [
       "interactive(children=(FloatSlider(value=1.0, continuous_update=False, description='a', max=10.0, min=-10.0, re…"
      ]
     },
     "metadata": {},
     "output_type": "display_data"
    }
   ],
   "source": [
    "first_derivative = True\n",
    "second_derivative = True\n",
    "third_derivative = True\n",
    "plt_function(name=\"broken_rational\", space=(-10.0, 10.0), slider_step=1.0, startvalue=1, \n",
    "             d1=first_derivative, d2=second_derivative, d3=third_derivative)"
   ]
  },
  {
   "cell_type": "markdown",
   "metadata": {},
   "source": [
    "### Regel 8: <img src=\"img/icons/chainrule.svg\" class=\"iconbig\"/>Kettenregel <a class=\"anchor\" id=\"r8\"/>\n",
    "\n",
    "Die Kettenregel lautet wie folgt: <br>\n",
    "\n",
    "$f(x) = g(h(x))$ &nbsp; &rarr; &nbsp; $f'(x) = g'(h(x)) \\cdot h'(x)$\n",
    "\n",
    "<u>Beispiele</u>:<br>\n",
    "$f(x) = (x^3 + 4)^2$ &nbsp; &rarr; &nbsp; $f'(x) = 6x^2 \\cdot (x^3 + 4)$<br>\n",
    "$f(x) = (2x - 5)^3$ &nbsp; &rarr; &nbsp; $f'(x) = 6(2x - 5)^2$<br>\n",
    "$f(x) = -2(x^8 - 2x)^{-3}$ &nbsp; &rarr; &nbsp; $f'(x) = 6(x^8 - 2x)^{-4} \\cdot (8x^7 -2)$<br>\n",
    "<i>Weitere Beispiele werden bei den Ableitungsregeln für die **trigonometrischen Funktionen** (e-Funktion, Logarithmus, etc.) und den **Spezialfällen** (Wurzelfunktion) gezeigt.</i><br>\n",
    "\n",
    "\n",
    "Die **Kettenregel** wird immer dann angewendet, wenn zwei Funktionen miteinander **verkettet** bzw. ineinander verschachtelt sind. Man kann dies auch so betrachten, dass eine Funktion als **Input** für eine andere Funktion verwendet wird. Das Vorgehen zur Berechnung der Ableitung einer Funktion mithilfe der Kettenregel ist dabei folgendermaßen:\n",
    "\n",
    "1. Identifizierung der **äußeren** Funktion $g(x)$ und der **inneren** Funktion $h(x)$.\n",
    "2. Ableitungen der Funktionen $g(x)$ und $h(x)$.\n",
    "3. Einsetzen der Zwischenergebnisse in die Formel.\n",
    "\n",
    "\n",
    "Die Kettenregel birgt meines Erachtens zwei Schwierigkeiten. Zum einen ist die Regel nicht unbedingt intuitiv, weshalb es hilft, genau darauf zu achten, wie man vorzugehen hat. Zum anderen ist Schritt 1 des Vorgehens, also die einzelnen Kettenglieder auszumachen, nicht immer ganz einfach. Leider kann man für diesen Schritt nur schwer allgemeingültige Regeln bestimmen. Wichtig ist hier, dass eine **Substitution** stattfindet, d.h. ein Teilausdruck wird durch einen anderen Ausdruck **ersetzt**. Es bedarf etwas Übung, diese Teilausdrücke, die ersetzt werden können, zu finden. Im folgenden Video wird der Rechenweg zu Beispiel 1 (TODO: oder allen Beispielen? dann vllt reihenfolge ändern) erläutert, wodurch der Substitutions-Gedanke hoffentlich etwas klarer wird:"
   ]
  },
  {
   "cell_type": "code",
   "execution_count": 25,
   "metadata": {},
   "outputs": [
    {
     "data": {
      "image/jpeg": "[encoded data removed]",
      "text/html": [
       "\n",
       "        <iframe\n",
       "            width=\"900\"\n",
       "            height=\"520\"\n",
       "            src=\"https://www.youtube.com/embed/WfnM4ZB1jfY\"\n",
       "            frameborder=\"0\"\n",
       "            allowfullscreen\n",
       "        ></iframe>\n",
       "        "
      ],
      "text/plain": [
       "<IPython.lib.display.YouTubeVideo at 0x7f89d0defcd0>"
      ]
     },
     "execution_count": 25,
     "metadata": {},
     "output_type": "execute_result"
    }
   ],
   "source": [
    "YouTubeVideo(\"WfnM4ZB1jfY\", width=900, height=520)"
   ]
  },
  {
   "cell_type": "markdown",
   "metadata": {},
   "source": [
    "#### Anwendungsbeispiel Kettenregel\n",
    "\n",
    "Die Kettenregel ist eine sehr wichtige Ableitungsregel und ist für den weiteren Verlauf der Tutorialreihe essenziel. Sie findet oft Anwendung in den Natur- und Ingenieurswissenschaften vor und wird dazu verwendet, Konzepte mithilfe von Ketten in Beziehung zueinander zu setzen. Da die Kettenregel so omnipräsent ist und ihr Konzept etwas schwieriger nachzuvollziehen ist als andere Ableitungsregeln, wird sie im Folgenden an einem (leicht absurden) Anwendungsbeispiel[<sup>2</sup>](#fn2) aus der realen Welten demonstriert:\n",
    "\n",
    "Anton liebt Pizza und könnte jeden Tag Pizza essen. Er glaubt, dass er, wenn er an einem Tag Pizza gegessen hat, zufriedener ist. Er möchte herausfinden, in welcher Beziehung sein persönliches Zufriedenheitsempfinden zu seinem täglichen Pizzakonsum und seinem Einkommen steht.\n",
    "\n",
    "Wir betrachten die folgende Funktion:<br>\n",
    "\n",
    "$z(p(g))$<br>\n",
    "\n",
    "Diese Funktion besteht aus drei Funktionen, die folgendes bedeuten:<br>\n",
    "- $z$: eine Funktion, die beschreibt, wie zufrieden Anton ist.\n",
    "- $p$: eine Funktion, die beschreibt, wieviele Pizzen Anton jeden Tag isst.\n",
    "- $g$: eine Funktion, die beschreibt, wieviel Geld Anton verdient.\n",
    "\n",
    "Anton ermittelt die folgenden Formeln für die Funktionen:\n",
    "\n",
    "- $z(p) = -\\frac{1}{3}p^2 + p + \\frac{1}{5}$ \n",
    "\n",
    "Diese Polynomfunktion beschreibt die Beziehung von Zufriedenheit und Pizzakonsum. Sie ergibt einen Sinn, wenn man der Graphen der Funktion betrachtet (Abbildung 1). Selbst ohne Pizzakonsum kann Anton zufrieden sein, der Pizzakonsum steigert sein Zufriedenheitsempfinden jedoch. Aber nach etwa 1,5 gegessenen Pizzen sinkt seine Zufriedenheit, ab etwa 3 gegessenen Pizzen ist Anton nicht mehr zufrieden, sondern wird sogar unzufrieden (die y-Werte werden negativ). \n",
    "\n",
    "- $p(g) = e^g - 1$\n",
    "\n",
    "Diese Funktion beschreibt die Beziehung von Pizza und verfügbarem Geld/Einkommen. Schaut man sich den dazugehörigen Graphen in Abbildung 2 an, erkennt man, dass umso mehr Geld Anton zur Verfügung steht, desto mehr Pizzen er kaufen kann. Hat er kein Geld, kann er auch keine Pizzen kaufen. Der Graph steigt exponentiell, was verdeutlichen soll, dass Anton ab einem gewissen Betrag, den er für Pizzen ausgibt, Mengenrabatte bekommt (z.B. bei einem Großhandel). Ist Anton wirklich reich, kann er sich einen eigenen Pizzaofen kaufen oder sogar eine eigene Pizza-Herstellungs-Fabrik bauen lassen.\n",
    "\n",
    "\n",
    "\n",
    "<br><br>\n",
    "\n",
    "\n",
    "<div class=\"imgrow\">\n",
    "    <div class=\"imgcolumn3\">\n",
    "       <figure>\n",
    "          <img src=\"img/pizza_example/zp.png\" align=\"center\" style=\"width: 300px;\"/>\n",
    "           <figcaption>Abbildung 1: $z(p) = -\\frac{1}{3}p^2 + p + \\frac{1}{5}$</figcaption>\n",
    "        </figure> \n",
    "    </div>\n",
    "    <div class=\"imgcolumn3\">\n",
    "       <figure>\n",
    "          <img src=\"img/pizza_example/pg.png\" align=\"center\" style=\"width: 300px;\"/>\n",
    "          <figcaption>Abbildung 2: $p(g) = e^g - 1$</figcaption>\n",
    "        </figure> \n",
    "    </div> \n",
    "    <div class=\"imgcolumn3\">\n",
    "       <figure>\n",
    "          <img src=\"img/pizza_example/derivative.png\" align=\"center\" style=\"width: 300px;\"/>\n",
    "          <figcaption>Abbildung 3: $z'(g) = (-\\frac{2}{3}(e^g -1) + 1) \\cdot e^g$ </figcaption>\n",
    "        </figure> \n",
    "    </div> \n",
    "</div>  \n",
    "\n",
    "\n",
    "Anton möchte nun wissen, wieviel Aufwand er betreiben sollte, um mehr zu verdienen (unter Berücksichtigung seines aktuellen Vermögens), wenn es sein Ziel ist, zufrieden zu sein. Dabei berechnet er sein aktuelles Vermögen/Geld mit ein. Um das herauszufinden, muss Anton die <a href=\"https://de.wikipedia.org/wiki/%C3%84nderungsrate\"><b>Änderungsrate</b></a> seiner Zufriedenheit in Bezug auf sein Geld bestimmen. Diese Änderungsrate ist $z'(g)$, also die erste Ableitung von $z(g)$, wobei $z$ für die Zufriedenheit und $g$ für das Geld steht. Würden wir $p(g)$ von oben also in $z(p)$ von oben einsetzen, würden wir folgende Gleichung  erhalten:\n",
    "\n",
    "$z(p(g)) = -\\frac{1}{3}(e^g -1)^2 + (e^g -1) + \\frac{1}{5}$\n",
    "\n",
    "Diese Gleichung hat die Form wie das $g(h(x))$ in der oben genannten Kettenregeldefinition, nur mit anderen Variablen. Wir können diese Funktion also mit der Kettenregel ableiten, um Antons gewünschte Änderungsrate zu erhalten. Rechnen Sie dies ruhig einmal selbst durch und überprüfen Sie ihr Ergebnis mit dem folgenden Ergebnis:\n",
    "\n",
    "\n",
    "$z'(g) = z'(p(g)) \\cdot p'(g) = (-\\frac{2}{3}(e^g -1) + 1) \\cdot e^g$<br>\n",
    "\n",
    "Abbildung 3 stellt die Änderungsrate, also die Ableitung der Geld-Zufriedenheits-Funktion $z(g)$, dar. Wenn Anton pleite ist, lohnt es sich für ihn, Geld zu verdienen, da er dadurch zufriedener wird (der Graph steigt). Der Nutzen, mehr zu verdienen, sinkt jedoch dramatisch ab, vor allem wenn Anton genug Pizzen zur Verfügung hat (der Graph fällt nach seinem Maximum sehr stark).\n",
    "\n",
    "<hr style=\"border: 0.1px solid black;\"/>\n",
    "<span id=\"fn2\" style=\"font-size:8pt; line-height:1\"><sup style=\"font-size:5pt\">2</sup>&nbsp; Das Beispiel wurde Woche 1 dieses <a href=\"https://www.coursera.org/learn/multivariate-calculus-machine-learning\">Coursera-Kurses</a> entnommen.</span><br>"
   ]
  },
  {
   "cell_type": "code",
   "execution_count": null,
   "metadata": {},
   "outputs": [],
   "source": []
  },
  {
   "cell_type": "markdown",
   "metadata": {},
   "source": [
    "TODO: zweites Quiz erstellen"
   ]
  },
  {
   "cell_type": "code",
   "execution_count": null,
   "metadata": {},
   "outputs": [],
   "source": []
  },
  {
   "cell_type": "markdown",
   "metadata": {},
   "source": [
    "## 6. Ableitungsregeln III - Transzendente Funktionen <a class=\"anchor\" id=\"6\"/>\n",
    "\n",
    "todo: einleitende worte"
   ]
  },
  {
   "cell_type": "markdown",
   "metadata": {},
   "source": [
    "<div class=\"tool\">\n",
    "<span class=\"invisible_border\"><img src=\"img/icons/tools.svg\" class=\"icon\"/><b>Werkzeugkasten: <u>Ableitungsregeln III - Transzendente Funktionen</u></b></span>\n",
    "    <br>\n",
    "    <br>\n",
    "9. <b>Ableitung der e-Funktion</b>:<br><br> $f(x) = e^x$ &nbsp; &rarr; &nbsp; $f'(x) = e^x$<br><br> \n",
    "10. <b>Ableitung des natürlichen Logarithmus</b>:<br><br> $f(x) = ln(x)$ &nbsp; &rarr; &nbsp; $f'(x) = \\frac{1}{x}$<br><br> \n",
    "11. <b>Ableitung des Logarithmus zur Basis $a$</b>:<br><br> $f(x) = \\log_a(x)$ &nbsp; &rarr; &nbsp; $f'(x) = \\frac{1}{ln(a) \\cdot x}$<br><br>\n",
    "12. <b>Ableitung vom Sinus</b>:<br><br> $f(x) = \\sin(x)$ &nbsp; &rarr; &nbsp; $f'(x) = \\cos(x)$<br><br> \n",
    "13. <b>Ableitung vom Cosinus</b>:<br><br> $f(x) = \\cos(x)$ &nbsp; &rarr; &nbsp; $f'(x) = -\\sin(x)$<br><br> \n",
    "14. <b>Ableitung vom Tangens</b>:<br><br> $f(x) = \\tan(x)$ &nbsp; &rarr; &nbsp; $f'(x) = \\frac{1}{\\cos^2(x)}$\n",
    "<br>   \n",
    "\n",
    "</div>"
   ]
  },
  {
   "cell_type": "markdown",
   "metadata": {},
   "source": [
    "### Regel 9: Ableitung der e-Funktion <a class=\"anchor\" id=\"r9\"/>\n",
    "\n",
    "- sagen, dass e^x neben f(x) = 0 die einzige funktion ist, deren ableitung gleich der funktion ist"
   ]
  },
  {
   "cell_type": "code",
   "execution_count": null,
   "metadata": {},
   "outputs": [],
   "source": []
  },
  {
   "cell_type": "code",
   "execution_count": null,
   "metadata": {},
   "outputs": [],
   "source": []
  },
  {
   "cell_type": "code",
   "execution_count": null,
   "metadata": {},
   "outputs": [],
   "source": []
  },
  {
   "cell_type": "markdown",
   "metadata": {},
   "source": [
    "TODO: drittes Quiz erstellen"
   ]
  },
  {
   "cell_type": "code",
   "execution_count": null,
   "metadata": {},
   "outputs": [],
   "source": []
  },
  {
   "cell_type": "markdown",
   "metadata": {},
   "source": [
    "## 7. Ableitungsregeln IV - Spezialfälle <a class=\"anchor\" id=\"7\"/>\n",
    "\n",
    "\n",
    "TODO: einleitende worte"
   ]
  },
  {
   "cell_type": "markdown",
   "metadata": {},
   "source": [
    "<div class=\"tool\">\n",
    "<span class=\"invisible_border\"><img src=\"img/icons/tools.svg\" class=\"icon\"/><b>Werkzeugkasten: <u>Ableitungsregeln Spezialfälle</u></b></span>\n",
    "    <br>\n",
    "    <br>\n",
    "    \n",
    "15. <b>Spezialfall der Quotientenregel ($x$ im Nenner eines Bruchs und Zähler = 1)</b>:<br><br> $f(x) = \\dfrac{1}{g(x)}$ &nbsp; &rarr; &nbsp; $f'(x) = - \\dfrac{g'(x)}{g^2(x)}$<br><br>     \n",
    "    \n",
    "16. <b>Ableitung der Wurzelfunktionen</b>:<br><br> $f(x) = \\sqrt{x}$ &nbsp; &rarr; &nbsp; $f'(x) = \\dfrac{1}{2\\sqrt{x}}$<br>\n",
    "$f(x) = \\sqrt[^n]{x}$ &nbsp; &rarr; &nbsp; $f'(x) = \\dfrac{1}{n \\cdot \\sqrt[^n]{x^{n-1}}}$<br>\n",
    "$f(x) = \\dfrac{\\sqrt[^m]{x}}{\\sqrt[^n]{x}}$ &nbsp; &rarr; &nbsp; $f'(x) = \\frac{n-m}{mn} \\cdot \\dfrac{\\sqrt[^m]{x}}{\\sqrt[^n]{x^{n+1}}}$<br>\n",
    "</div>"
   ]
  },
  {
   "cell_type": "markdown",
   "metadata": {},
   "source": [
    "### Regel 15: Spezialfall der Quotientenregel ($x$ im Nenner eines Bruchs und Zähler = 1) <a class=\"anchor\" id=\"r15\"/>\n",
    "\n",
    "\n",
    "Die Quotientenregel hat einen Spezialfall: Wenn Nenner eines Bruchs ein $x$ steht und im Zähler eine $1$. Die Ableitung wird dann wie folgt berechnet:\n",
    "\n",
    "$f(x) = \\dfrac{1}{g(x)}$ &nbsp; &rarr; &nbsp; $f'(x) = - \\dfrac{g'(x)}{\\left[g(x)\\right]^2}$<br>\n",
    "\n",
    "<u>Beispiele</u>:<br>\n",
    "$f(x) = \\frac{1}{x}$ &nbsp; &rarr; &nbsp; $f'(x) = - \\frac{1}{x^2}$<br>\n",
    "$f(x) = \\frac{1}{x^2}$ &nbsp; &rarr; &nbsp; $f'(x) = - \\frac{2x}{x^4} = - \\frac{2}{x^3}$<br>\n",
    "$f(x) = \\frac{1}{x^3}$ &nbsp; &rarr; &nbsp; $f'(x) = - \\frac{3x^2}{x^6} = - \\frac{3}{x^4}$<br>\n",
    "$f(x) = \\frac{1}{x^2 + 3x}$ &nbsp; &rarr; &nbsp; $f'(x) = - \\frac{2x + 3}{(x^2 + 3x)^2}$\n",
    "\n",
    "\n",
    "Das Auswendiglernen dieses Falls kann hilfreich sein, wenn Sie in der Praxis viel ableiten müssen, da Terme wie $\\frac{1}{x}$ oder $\\frac{1}{x^2}$ oft in Funktionen auftauchen. Passen Sie hier auf, dass sie die Potenz von Potenzen richtig berechnen. Schauen Sie sich dafür den Abschnitt Abschnitt **Potenzen potenzieren** des Artikels über <a href=\"https://www.mathebibel.de/potenzgesetze\">Potenzgesetze</a> an.\n",
    "\n",
    "Wenn Sie keine neue Regel lernen möchten, kann dieser Spezialfall kann auch mit der Quotientregel gelöst werden. Dies soll durch die Anwendung der Quotientenregel an Beispiel 2 demonstriert werden:<br><br>\n",
    "\n",
    "<div class=\"border\" style=\"width: 60%;\">\n",
    "<b>Quotientenregel</b>: <br>\n",
    "    \n",
    "$f(x) = \\dfrac{g(x)}{h(x)}$ &nbsp; &rarr; &nbsp; $f'(x) = \\dfrac{h(x) \\cdot g'(x) - g(x) \\cdot h'(x)}{\\left[h(x)\\right]^2}$\n",
    "<br><br>\n",
    "<b>Beispiel 2 mit Quotientenregel</b>: <br>   \n",
    "    \n",
    "$f(x) = \\dfrac{1}{x^2}$ &nbsp; &rarr; &nbsp; $f'(x) = \\dfrac{x^2 \\cdot 0 - 1 \\cdot 2x}{(x^2)^2} = - \\dfrac{2x}{x^4}$\n",
    "</div>"
   ]
  },
  {
   "cell_type": "markdown",
   "metadata": {},
   "source": [
    "### Regel 16: Ableitung der Wurzelfunktionen <a class=\"anchor\" id=\"r16\"/>\n",
    "\n",
    "Um Wurzelfunktionen ableiten zu können, müssen folgende Regeln angewendet werden:\n",
    "\n",
    "$f(x) = \\sqrt{x}$ &nbsp; &rarr; &nbsp; $f'(x) = \\dfrac{1}{2\\sqrt{x}}$<br>\n",
    "$f(x) = \\sqrt[^n]{x}$ &nbsp; &rarr; &nbsp; $f'(x) = \\dfrac{1}{n \\cdot \\sqrt[^n]{x^{n-1}}}$<br>\n",
    "$f(x) = \\dfrac{\\sqrt[^m]{x}}{\\sqrt[^n]{x}}$ &nbsp; &rarr; &nbsp; $f'(x) = \\frac{n-m}{mn} \\cdot \\dfrac{\\sqrt[^m]{x}}{\\sqrt[^n]{x^{n+1}}}$<br><br>\n",
    "\n",
    "\n",
    "<u>Beispiele</u>:<br>\n",
    "$f(x) = \\sqrt{2x}$ &nbsp; &rarr; &nbsp; $f'(x) = \\dfrac{1}{\\sqrt{2x}}$<br><br>\n",
    "$f(x) = \\sqrt{x^2 + x}$ &nbsp; &rarr; &nbsp; $f'(x) = \\dfrac{1}{\\sqrt{x^2 + x}} \\cdot (2x + 1)$<br><br>\n",
    "$f(x) = \\sqrt{x^3 + x + 5}$ &nbsp; &rarr; &nbsp; $f'(x) = \\dfrac{3x^2 + 1}{2 \\cdot \\sqrt{x^3 + x + 5}} $<br><br>\n",
    "$f(x) = \\sqrt[^3]{x+1}$ &nbsp; &rarr; &nbsp; $f'(x) = \\dfrac{1}{3(x+1)^{\\frac{2}{3}}}$<br><br>\n",
    "$f(x) = \\dfrac{\\sqrt[^4]{x^2}}{\\sqrt[^3]{3 + x^7}}$ &nbsp; &rarr; &nbsp; $f'(x) = \\dfrac{x}{2\\sqrt[3]{x^7+3} \\cdot x^\\frac{3}{2}}-\\dfrac{7x^6\\sqrt{x}}{3(x^7+3)^\\frac{4}{3}}$<br><br>\n",
    "\n",
    "Diese Regeln sind anzuwenden, wenn ein Term eine Wurzel beinhaltet. Wenn jedoch nicht nur ein $x$ als Argument in der Wurzelfunktion steht, muss zusätzlich die Kettenregel angewendet werden. Bei jedem der Beispiele wurde zusätzlich die **Kettenregel** angewendet. Wie bereits bei der Einführung der Wurzelfunktionen in Abschnitt 5 von Kapitel 3 erläutert wurde, können Wurzelfunktionen mithilfe der <a href=\"https://www.mathebibel.de/wurzelgesetze\">Wurzel- und Potenzgesetze</a> in **Potenzen** umgewandelt werden: Die Funktion $ f(x) = \\sqrt{3x} $ kann als Potenzfunktion $ f(x) = 3x^{\\frac{1}{2}} $ dargestellt werden. Dann kann zum Ableiten die **Potenzregel** verwendet werden.\n",
    "\n",
    "In der folgenden Code-Zelle können Sie die Wurzelfunktion und ihre ersten drei Ableitungsfunktionen plotten. Spielen Sie etwas mit den Parametern rum, um ein Gefühl dafür zu bekommen, wie sich die Ableitungen verhalten."
   ]
  },
  {
   "cell_type": "code",
   "execution_count": null,
   "metadata": {},
   "outputs": [],
   "source": [
    "first_derivative = True\n",
    "second_derivative = True\n",
    "third_derivative = True\n",
    "plt_function(name=\"irrational\", space=(-10.0, 10.0), slider_step=1.0, startvalue=2, \n",
    "             d1=first_derivative, d2=second_derivative, d3=third_derivative)"
   ]
  },
  {
   "cell_type": "markdown",
   "metadata": {},
   "source": [
    "<div class=\"note\">\n",
    "    <b>Hinweis</b>: Plot der Graphen\n",
    "    <br>\n",
    "    <br>Bei den Plots der Funktionsgraphen kann es passieren, das einige Linien und Kurven zu früh stoppen. Dies hat Performance-Gründe, also stören Sie sich nicht weiter daran und \"denken\" Sie sich die korrekten Ende der Linien und Kurven.\n",
    "</div>"
   ]
  },
  {
   "cell_type": "code",
   "execution_count": null,
   "metadata": {},
   "outputs": [],
   "source": []
  },
  {
   "cell_type": "markdown",
   "metadata": {},
   "source": [
    "TODO: viertes Quiz erstellen"
   ]
  },
  {
   "cell_type": "code",
   "execution_count": null,
   "metadata": {},
   "outputs": [],
   "source": []
  },
  {
   "cell_type": "markdown",
   "metadata": {},
   "source": [
    "TODO: abschließendes quiz erstellen"
   ]
  },
  {
   "cell_type": "code",
   "execution_count": null,
   "metadata": {},
   "outputs": [],
   "source": []
  },
  {
   "cell_type": "code",
   "execution_count": null,
   "metadata": {},
   "outputs": [],
   "source": []
  },
  {
   "cell_type": "code",
   "execution_count": null,
   "metadata": {},
   "outputs": [],
   "source": []
  },
  {
   "cell_type": "markdown",
   "metadata": {},
   "source": [
    "TODO:\n",
    "- sagen: coursera: \"Die Essenz der Summen-, Produkt und Kettenregeln ist es, die abzuleitende Funktion in überschaubare Teile zu zerlegen\" (vllt einleitung?)\n",
    "- graphisches ableiten: https://www.youtube.com/watch?v=cCJrZa3AKBc"
   ]
  },
  {
   "cell_type": "code",
   "execution_count": null,
   "metadata": {},
   "outputs": [],
   "source": []
  }
 ],
 "metadata": {
  "kernelspec": {
   "display_name": "Python 3",
   "language": "python",
   "name": "python3"
  },
  "language_info": {
   "codemirror_mode": {
    "name": "ipython",
    "version": 3
   },
   "file_extension": ".py",
   "mimetype": "text/x-python",
   "name": "python",
   "nbconvert_exporter": "python",
   "pygments_lexer": "ipython3",
   "version": "3.7.7"
  }
 },
 "nbformat": 4,
 "nbformat_minor": 4
}
