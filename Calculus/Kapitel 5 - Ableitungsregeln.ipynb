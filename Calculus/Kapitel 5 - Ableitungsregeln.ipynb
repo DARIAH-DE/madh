{
 "cells": [
  {
   "cell_type": "markdown",
   "metadata": {},
   "source": [
    "# Kapitel 5 - Ableitungsregeln"
   ]
  },
  {
   "cell_type": "code",
   "execution_count": 1,
   "metadata": {
    "collapsed": true
   },
   "outputs": [
    {
     "ename": "SyntaxError",
     "evalue": "invalid syntax (functionplotter.py, line 100)",
     "output_type": "error",
     "traceback": [
      "Traceback \u001b[0;36m(most recent call last)\u001b[0m:\n",
      "  File \u001b[1;32m\"/Users/jan/anaconda3/lib/python3.7/site-packages/IPython/core/interactiveshell.py\"\u001b[0m, line \u001b[1;32m3331\u001b[0m, in \u001b[1;35mrun_code\u001b[0m\n    exec(code_obj, self.user_global_ns, self.user_ns)\n",
      "\u001b[0;36m  File \u001b[0;32m\"<ipython-input-1-84129737a68c>\"\u001b[0;36m, line \u001b[0;32m5\u001b[0;36m, in \u001b[0;35m<module>\u001b[0;36m\u001b[0m\n\u001b[0;31m    from functionplotter import plt_function\u001b[0m\n",
      "\u001b[0;36m  File \u001b[0;32m\"../src/functionplotter.py\"\u001b[0;36m, line \u001b[0;32m100\u001b[0m\n\u001b[0;31m    label = f\"{kwargs[\"v1\"]}\" + r\"$x^2$\" + f\"{kwargs[\"v2\"]}\" + r\"$x$\" + f\"{kwargs[\"v3\"]}\"\u001b[0m\n\u001b[0m                        ^\u001b[0m\n\u001b[0;31mSyntaxError\u001b[0m\u001b[0;31m:\u001b[0m invalid syntax\n"
     ]
    }
   ],
   "source": [
    "import sys\n",
    "sys.path.append(\"../src/\") \n",
    "from quiz import start_quiz\n",
    "from utils import css_styling, hide_code\n",
    "from functionplotter import plt_function\n",
    "css_styling()"
   ]
  },
  {
   "cell_type": "markdown",
   "metadata": {},
   "source": [
    "## 1. Kapitelübersicht <a class=\"anchor\" id=\"1\"/>\n",
    "\n",
    "TODO\n",
    "\n",
    "<b>Abschnittsübersicht</b><br>\n",
    "\n",
    "[1. Kapitelübersicht](#1)<br>\n",
    "[2. Definition & Notation](#2)<br>\n",
    "[3. Werkzeugkästen](#3)<br>\n",
    "[4. Ableitungsregeln I](#4)<br>\n",
    "\n",
    "<b>Quizübersicht</b><br>\n",
    "TODO\n",
    "\n",
    "<b>Behandelte Themen</b><br>\n",
    "- TODO\n",
    "\n",
    "<b>Mögliche Anwendungsfelder</b><br>\n",
    "/"
   ]
  },
  {
   "cell_type": "markdown",
   "metadata": {},
   "source": [
    "TODO_\n",
    "- https://www.mathebibel.de/ableitungsregeln\n",
    "- hier sind die \"Werkzeuge\" aus coursera, nur auf deutsch\n",
    "- neue box a la hinweisbox einführen, die werkzeugbox heißt!\n",
    "    - da so was kettenregel, potenzregel und so weiter einfügen\n",
    "    - dafür auch nochmal coursera angucken"
   ]
  },
  {
   "cell_type": "markdown",
   "metadata": {},
   "source": [
    "TODO: hier vllt nochmal Intuition von Ableitungen? oder reicht das in einführung?"
   ]
  },
  {
   "cell_type": "markdown",
   "metadata": {},
   "source": [
    "## 2. Definition & Notation <a class=\"anchor\" id=\"2\"/>\n",
    "\n",
    "Im letzten Kapitel hatten wir **Ableitungsfunktionen**, die einfachheitshalber auch nur **Ableitungen** genannt werden, kennen gelernt. Eine Ableitung ist eine Funktion, die jedem $x$-Wert einer Funktion $f(x)$ ihren Differentialquotienten zuordnet. Eine Ableitung hilft uns also, die Steigung der Funktion an einer beliebigen $x$-Koordinate zu bestimmen. Dies ist vor allem für kurvenförmige Funktionen wichtig, da diese an verschiedenen Stellen des Graphen verschiedene Steigungen besitzen. \n",
    "\n",
    "Die Ableitungsfunktion ist, wie der Name schon sagt, ebenfalls eine Funktion und so können wir auch von dieser eine Ableitungsfunktion erstellen. Die erste Ableitung der Ableitungsfunktion der ursprünglichen Funktion $f(x)$ nennt man auch **zweite Ableitung**. Dies können wir noch weiter führen, d.h. wir können auch dritte, vierte usw. Ableitungen der ursprünglichen Funktion $f(x)$ bilden, die immer die Ableitungsfunktionen der vorherigen Ableitungsfunktion sind. Die 305. Ableitung ist also die Ableitungsfunktion der 304. Ableitung von $f(x)$. \n",
    "\n",
    "#### Anwendungsfelder\n",
    "\n",
    "Neben der ersten Ableitung werden vor allem die zweite und dritte Ableitung im Rahmen der **Kurvendiskussion**, also der Untersuchung der Graphen einer Funktion auf ihre geometrische Eigenschaften, verwendet. Wie wir bereits wissen, wird die erste Ableitung verwendet, um die Steigung eines beliebigen Punkts $x$ berechnen zu können. Mithilfe der zweiten Ableitung wird das **Krümmungsverhalten** (= Änderung der Steigung) einer Funktion untersucht und mit der dritten Ableitung können die **notwendigen Bedingungen für Wendestellen** ermittelt werden. Aufgrund der Bedeutungen im Rahmen der Kurvendikussion wurden die ersten drei Ableitungen einer Funktion in der Schulmathematik verwendet. Ab der vierten Ableitung sind die Ableitungsfunktionen für die Kurvendiskussion weniger interessant und haben daher in der Schulmathematik kaum einen Nutzen. Wir werden uns jedoch den vierten und höheren Ableitungsfunktionen im Rahmen der **Taylorreihen** in Kapitel TODO widmen, wo sie zusammen mit den ersten drei Ableitungen zur Approximation von Funktionen verwendet werden. Dafür wird die  Verwendung von Ableitungen zur Kurvendikussion in dieser Tutorialreihe weniger ausführlich als in der Schulmathematik behandelt.[<sup>1</sup>](#fn1)\n",
    "\n",
    "#### Notationen\n",
    "\n",
    "Eine Ableitung von einer Funktion $f(x)$ wird mit einem Strich (= ') nach dem $f$ gekennzeichnet. Die erste Ableitung der Funktion $f(x)$ ist also $f'(x)$, die erste Ableitung von $g(x)$ ist $g'(x)$. Möchten wir die zweite, dritte, vierte, ... Ableitung einer Funktion aufschreiben, zeigen wir das durch den **Grad** der Funktion an, d.h. durch die Anzahl der Striche. Die dritte Ableitung von $f(x)$ wäre demnach $f'''(x)$. Wird der Grad jedoch sehr hoch, kann diese Schreibweise schnell unübersichtlich werden: Die zehnte Ableitung von $f(x)$ wäre $f''''''''''(x)$. Deshalb findet man oft ab etwa dem vierten Grad einer Ableitung die folgende Schreibweise: $f^{(4)}(x)$, wobei die Höhe des Grades durch eine hochgestellte Zahl innerhalb von Klammern nach dem $f$ dargestellt wird.\n",
    "\n",
    "Wie so oft in der Mathematik gibt es für die <a href=\"https://de.wikipedia.org/wiki/Differentialrechnung#Notationen\">Notationen</a> von Ableitungen verschiedene Varianten, welches meistens historische Gründe hat (siehe Abbildung). Wir werden in dieser Tutorialreihe vorwiegend die Notation von *Lagrange* verwenden. In späteren Kapiteln werden wir zusätzlich noch die Notation von *Leibniz* einführen, da Sie dieser Notation häufig in wissenschaftlichen Papern oder anderen Tutorials begegnen werden und es daher sinnvoll ist, dass Sie diese Notation kennen und verwenden können.\n",
    "\n",
    "<hr style=\"border: 0.1px solid black;\"/>\n",
    "<span id=\"fn1\" style=\"font-size:8pt; line-height:1\"><sup style=\"font-size:5pt\">1</sup>&nbsp; Wenn Sie die das Thema der Kurvendiskussion interessiert, werfen Sie einen Blick auf diese Übersicht: <a href=\"https://www.mathebibel.de/kurvendiskussion\">Kurvendiskussion von mathebibel.de</a>.</span><br>"
   ]
  },
  {
   "cell_type": "markdown",
   "metadata": {},
   "source": [
    "<br>\n",
    "<img src=\"img/notation_derivative.png\" alt=\"Entnommen vom Coursera Kurs 'Mathematics for Machine Learning: Multivariate Calculus', Woche 1, Video: Functions\" align=\"left\" width=\"700\"/>"
   ]
  },
  {
   "cell_type": "markdown",
   "metadata": {},
   "source": [
    "## 3. Werkzeugkästen <a class=\"anchor\" id=\"3\"/>\n",
    "\n",
    "Die Berechnungen von Ableitungen sind für die folgenden Themen dieser Tutorialreihe essenziell. Dies bedeutet, dass Sie in vielen Aufgaben die Ableitungen von Funktionen bilden müssen. Mit der im vorherigen Kapitel eingeführten **h-Methode** ist die Berechnung der Ableitung einer Funktion zwar möglich, aber sehr aufwendig. Es gibt daher **Ableitungsregeln**, welche die Ableitungsberechnungen vereinfachen. Eine Herleitung dieser Regeln wird es in diesem Kapitel nicht geben, es werden lediglich die Regeln aufgestellt. Diese <u>müssen</u> bekannt sein, d.h. Sie müssen diese Regeln **auswendig** lernen bzw. anwenden können. Aber keine Sorge, diese Regeln sind nicht sonderlich schwer und behandeln im Grunde nur Schulstoff. Im weiteren Verlauf wird es immer mehr Rechenregeln geben, die Sie auswendig kennen und vor allem auch anwenden können müssen. Diese Regeln werden in sogenannten **Werkzeugkästen** kurz zusammengefasst, auf welche Sie bei Bedarf immer wieder zurückgreifen können. Diese Werkzeugkästen erfüllen mehrere Zwecke: Zum einen wissen Sie so immer sofort, welche Regeln Sie im Gedächtnis behalten sollen. Damit Sie nicht immer zu den Notebooks mit den entsprechenden Werkzeugkästen springen müssen, liegt dieser Tutorialreihe ein **Cheatsheet** (dt.: Spickzettel) bei, in dem Sie diese Regeln zusammengefasst finden können, um Ihr Gedächtnis auffrischen zu können. Zum anderen ist die Idee dieses Werkzeugkasten, dass Sie die in ihm enthaltenen Regeln als eine Reihe von mathematischen **Werkzeugen** ansehen. Diese Werkzeuge sollen Ihnen Rechenschritte erleichtern, so wie ein Hammer dabei hilft, einen Nagel in die Wand zu schlagen; ein Vorgang, welcher ohne den Hammer unpraktisch, ineffizient und oft auch unmöglich ist. \n",
    "\n",
    "In diesem Kapitel werden wir mehrere Werkzeugkästen kennen lernen. Damit diese nicht zu unübersichtlich werden, werden in diesen Werkzeugkästen die Regeln nur in kurzer Form dargestellt, die Erläuterungen dieser Regeln und Rechenbeispiele folgen außerhalb der Kästen. "
   ]
  },
  {
   "cell_type": "markdown",
   "metadata": {},
   "source": [
    "## 4. Ableitungsregeln I <a class=\"anchor\" id=\"4\"/>"
   ]
  },
  {
   "cell_type": "markdown",
   "metadata": {},
   "source": [
    "<div class=\"tool\">\n",
    "<span class=\"invisible_border\"><img src=\"img/gear.png\" class=\"icon\"/><b>Werkzeugkasten: <u>Ableitungsregeln I - Konstanten, x, Produktregel, Faktorregel</u></b></span>\n",
    "    <br>\n",
    "    <br>\n",
    "1. <b>Ableitung einer Konstanten</b>: Die Ableitung einer Konstanten ist $0$.<br><br>\n",
    "<div style=\"text-indent:20px;\"> $f(x) = c$ &nbsp; &rarr; &nbsp; $f'(x) = 0$</div><br>    \n",
    "2. <b>Ableitung von $x$</b>: Die Ableitung von $x$ ist $1$.<br><br>\n",
    "<div style=\"text-indent:20px;\"> $f(x) = x$ &nbsp; &rarr; &nbsp; $f'(x) = 1$</div><br>    \n",
    "<div class=\"border\">3. <b>Potenzregel</b>: Die Ableitung von $x^n$ ist $n \\cdot x^{n-1}$.<br><br>\n",
    "<div style=\"text-indent:20px;\"> $f(x) = x^n$ &nbsp; &rarr; &nbsp; $f'(x) = n \\cdot x^{n-1}$</div></div><br>\n",
    "4. <b>Faktorregel</b>: Beim Ableiten bleibt der konstante Faktor unverändert erhalten.<br><br>\n",
    "<div style=\"text-indent:20px;\"> $f(x) = c \\cdot g(x)$ &nbsp; &rarr; &nbsp; $f'(x) = c \\cdot g'(x)$</div><br>\n",
    "<div class=\"border\">5. <b>Summenregel / Differenzregel</b>: Eine Summe/Differenz wird abgeleitet, indem man jeden Summanden/Minuend/Subtrahend für sich ableitet und die Ableitungen addiert. Beim Subtrahenden bleibt das negative Vorzeichen bestehen.<br><br>\n",
    "<div style=\"text-indent:20px;\"> $f(x) = g(x) + h(x)$ &nbsp; &rarr; &nbsp; $f'(x) = g'(x) + h'(x)$</div>\n",
    "<div style=\"text-indent:20px;\"> $f(x) = g(x) - h(x)$ &nbsp; &rarr; &nbsp; $f'(x) = g'(x) - h'(x)$</div></div><br>\n",
    "</div>"
   ]
  },
  {
   "cell_type": "markdown",
   "metadata": {},
   "source": [
    "### Regel 1: Ableitung einer Konstanten\n",
    "\n",
    "Die Ableitung einer Konstanten ist $0$. Die erste Ableitung der Funktion $f(x) = 5$ ist $f'(x) = 0$.\n",
    "\n",
    "<u>Beispiele</u>:<br>\n",
    "\n",
    "$f(x) = 10$ &nbsp; &rarr; &nbsp; $f'(x) = 0$<br>\n",
    "$f(x) = -3$ &nbsp; &rarr; &nbsp; $f'(x) = 0$<br>\n",
    "$f(x) = 0.66666$ &nbsp; &rarr; &nbsp; $f'(x) = 0$<br>\n",
    "$f(x) = 100023320032323233232321$ &nbsp; &rarr; &nbsp; $f'(x) = 0$<br>\n",
    "$f(x) = 7 + 3$ &nbsp; &rarr; &nbsp; $f'(x) = 0$<br>\n",
    "$f(x) = 0$ &nbsp; &rarr; &nbsp; $f'(x) = 0$<br>\n",
    "\n",
    "In Kapitel 2 haben wir gelernt, dass eine Funktion, die kein $x$ beinhaltet, sondern nur eine Konstante, d.h. eine Zahl, **konstante Funktion** genannt wird. Das Besondere an konstanten Funktionen ist, dass ihre Steigung in jedem Punkt $0$ ist. Da wir durch die Ableitungsfunktion die Steigung der Funktion an einer beliebigen $x$-Koordinate bestimmen, ist es nur logisch, dass die Ableitungsfunktion immer $0$ ergibt, zumal wir auch gar keine Möglichkeit haben, eine $x$-Koordinate anzugeben, da eine konstante Funktion kein $x$ enthält.\n",
    "\n",
    "Diese Regel wenden wir auch an, wenn konstante Terme in einer Funktion vorkommen. Die erste Ableitung der Funktion $f(x) = x^2 + 5x + 3$ ist $f'(x) = 2x + 5 + 0 = 2x + 5$. Die Konstante $3$ wird in der ersten Ableitung zu einer $0$, d.h. sie verschwindet und wir müssen sie nicht mehr aufschreiben.\n",
    "\n",
    "Setzen Sie in der folgenden Code-Zelle die Variable `first_derivative` auf `True`. Damit wird die erste Ableitung der konstanten Funktion in Orange geplottet. Sie können sehen, dass diese immer auf der x-Achse liegt (also $x$ = 0), egal welchen Wert Sie für $c$ angeben."
   ]
  },
  {
   "cell_type": "code",
   "execution_count": null,
   "metadata": {},
   "outputs": [],
   "source": [
    "first_derivative = True\n",
    "plt_function(name=\"constant\", space=(-10.0, 10.0), slider_step=1.0, startvalue=3, d1=first_derivative)"
   ]
  },
  {
   "cell_type": "markdown",
   "metadata": {},
   "source": [
    "### Regel 2: Ableitung von $x$\n",
    "\n",
    "Die Ableitung von $x$ ist $1$. Die erste Ableitung der Funktion $f(x) = 5x$ ist $f'(x) = 5 \\cdot 1 = 5$.\n",
    "\n",
    "<u>Beispiele</u>:<br>\n",
    "\n",
    "$f(x) = 5x$ &nbsp; &rarr; &nbsp; $f'(x) = 5$<br>\n",
    "$f(x) = -3x$ &nbsp; &rarr; &nbsp; $f'(x) = -3$<br>\n",
    "$f(x) = 0x$ &nbsp; &rarr; &nbsp; $f'(x) = 0$<br>\n",
    "$f(x) = 1123456x$ &nbsp; &rarr; &nbsp; $f'(x) = 1123456$<br>\n",
    "$f(x) = 8x + 3$ &nbsp; &rarr; &nbsp; $f'(x) = 8$<br>\n",
    "\n",
    "\n",
    "In Kapitel 2 hatten wir gelernt, dass eine Funktion, die nur ein einfaches $x$ enthält, **lineare Funktion** genannt wird. Tatsächlich können wir bei linearen Funktion die Steigung jedes Punktes anhand der Funktionsgleichung $f(x) = m \\cdot x + b$ selbst ablesen, wobei $m$ die Steigung ist. Das Besondere an linearen Funktionen ist, dass die Steigung für jeden Punkt gleich ist (siehe folgende Code-Zelle). Dies bedeutet, dass Ableitungsfunktionen für lineare Funktionen eigentlich überflüssig sind, da immer nur ein Steigungswert übrig bleibt: Die erste Ableitung der Funktion $f(x) = 3x + 2$ ist $f'(x) = 3 \\cdot 1 + 0 = 3$. Egal welchen Punkt wir in die erste Ableitung einsetzen, es kommt immer $3$ heraus. Die erste Ableitung einer linearen Funktion ist also eine **konstante Funktion**. In der folgenden Code-Zelle können Sie sehen, dass der y-Achsenabschnitt der ersten Ableitung (in Orange) immer gleich der Steigung der linearen Funktion ist. "
   ]
  },
  {
   "cell_type": "code",
   "execution_count": null,
   "metadata": {},
   "outputs": [],
   "source": [
    "plt_function(name=\"linear\", space=(-10.0, 10.0), slider_step=1.0, startvalue=2, d1=True)"
   ]
  },
  {
   "cell_type": "markdown",
   "metadata": {},
   "source": [
    "### Regel 3: Potenzregel\n",
    "\n",
    "Die Ableitung von $x^n$ ist $n \\cdot x^{n-1}$. Die erste Ableitung der Funktion $f(x) = x^3$ ist $f'(x) = 3 \\cdot x^{3-1} = 3x^2$.\n",
    "\n",
    "<u>Beispiele</u>:<br>\n",
    "\n",
    "$f(x) = x^5$ &nbsp; &rarr; &nbsp; $f'(x) = 5x^4$<br>\n",
    "$f(x) = x^0$ &nbsp; &rarr; &nbsp; $f'(x) = 0 \\cdot x^{-1} = 0$<br>\n",
    "$f(x) = x^{-3}$ &nbsp; &rarr; &nbsp; $f'(x) = -3x^{-4}$<br>\n",
    "$f(x) = -x^9$ &nbsp; &rarr; &nbsp; $f'(x) = -9x^8$<br>\n",
    "$f(x) = x^7 + 3$ &nbsp; &rarr; &nbsp; $f'(x) = 7x^6$<br>\n",
    "$f(x) = x^{1129977}$ &nbsp; &rarr; &nbsp; $f'(x) = 1129977x^{1129976}$<br>\n",
    "$f(x) = x^z$ &nbsp; &rarr; &nbsp; $f'(x) = z \\cdot x^{z-1}$<br>\n",
    "$f(x) = x^1$ &nbsp; &rarr; &nbsp; $f'(x) = 1 \\cdot x^0 = 1$ <br>\n",
    "$f(x) = x^0 + 4$ &nbsp; &rarr; &nbsp; $f'(x) = 0 \\cdot x^{-1} = 0$<br>\n",
    "\n",
    "Die Potenzregel wird immer dann angewendet, wenn etwas (eine Zahl, eine Variable, etc.) im Exponenten von $x$ steht. Die Ableitung mithilfe der Potenzregel erfolgt in zwei Schritten (vereinfacht):\n",
    "1. Den Exponenten des $x$ der Funktion vor das $x$ in der Ableitung schreiben.\n",
    "2. Den Exponenten des $x$ der Ableitung um $1$ verringern.\n",
    "\n",
    "Durch die Potenzregel werden die beiden vorherigen Regeln eigentlich überflüssig, da diese Spezialfälle der Potenzregel sind (siehe die letzten beiden Beispiele).\n",
    "\n",
    "TODO: mehr? Code-Beispiele?"
   ]
  },
  {
   "cell_type": "markdown",
   "metadata": {},
   "source": [
    "### Regel 4: Faktorregel\n",
    "\n",
    "Beim Ableiten bleibt der konstante Faktor unverändert erhalten: $f(x) = c \\cdot g(x)$ &nbsp; &rarr; &nbsp; $f'(x) = c \\cdot g'(x)$. Die erste Ableitung der Funktion $f(x) = 3 \\cdot x^2$ ist $f'(x) = 3 \\cdot 2 \\cdot x^1 = 6x$.\n",
    "\n",
    "\n",
    "TODO"
   ]
  },
  {
   "cell_type": "code",
   "execution_count": null,
   "metadata": {},
   "outputs": [],
   "source": []
  },
  {
   "cell_type": "code",
   "execution_count": null,
   "metadata": {},
   "outputs": [],
   "source": []
  },
  {
   "cell_type": "markdown",
   "metadata": {},
   "source": [
    "4. <b>Faktorregel</b>: Beim Ableiten bleibt der konstante Faktor unverändert erhalten.<br><br>\n",
    "<div style=\"text-indent:20px;\"> $f(x) = c \\cdot g(x)$ &nbsp; &rarr; &nbsp; $f'(x) = c \\cdot g'(x)$</div><br>\n",
    "\n"
   ]
  },
  {
   "cell_type": "code",
   "execution_count": null,
   "metadata": {},
   "outputs": [],
   "source": []
  },
  {
   "cell_type": "code",
   "execution_count": null,
   "metadata": {},
   "outputs": [],
   "source": []
  },
  {
   "cell_type": "code",
   "execution_count": null,
   "metadata": {},
   "outputs": [],
   "source": [
    "plt_function(name=\"quadratic\", space=(-5.0, 5.0), slider_step=1.0, startvalue=0, d1=True)"
   ]
  },
  {
   "cell_type": "code",
   "execution_count": null,
   "metadata": {},
   "outputs": [],
   "source": []
  },
  {
   "cell_type": "code",
   "execution_count": null,
   "metadata": {},
   "outputs": [],
   "source": []
  },
  {
   "cell_type": "markdown",
   "metadata": {},
   "source": [
    "<div class=\"tool\">\n",
    "<span class=\"invisible_border\"><img src=\"img/gear.png\" class=\"icon\"/><b>Werkzeugkasten: <u>Ableitungsregeln II - ...</u></b></span>\n",
    "    <br>\n",
    "    <br>\n",
    "\n",
    "    \n",
    "    - produktregel\n",
    "    - quotientenregel\n",
    "</div>"
   ]
  },
  {
   "cell_type": "markdown",
   "metadata": {},
   "source": [
    "TODO:\n",
    "- ableitung wurzel: https://www.mathebibel.de/ableitung-wurzel\n",
    "- Symbole für potenzregel, summenregel, \n",
    "- graphisches ableiten: https://www.youtube.com/watch?v=cCJrZa3AKBc"
   ]
  },
  {
   "cell_type": "code",
   "execution_count": null,
   "metadata": {},
   "outputs": [],
   "source": []
  }
 ],
 "metadata": {
  "kernelspec": {
   "display_name": "Python 3",
   "language": "python",
   "name": "python3"
  },
  "language_info": {
   "codemirror_mode": {
    "name": "ipython",
    "version": 3
   },
   "file_extension": ".py",
   "mimetype": "text/x-python",
   "name": "python",
   "nbconvert_exporter": "python",
   "pygments_lexer": "ipython3",
   "version": "3.7.7"
  }
 },
 "nbformat": 4,
 "nbformat_minor": 4
}
