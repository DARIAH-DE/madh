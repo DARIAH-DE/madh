{
 "cells": [
  {
   "cell_type": "markdown",
   "metadata": {},
   "source": [
    "# Kapitel 6 - Multivariate Funktionen und partielle Ableitungen"
   ]
  },
  {
   "cell_type": "code",
   "execution_count": 1,
   "metadata": {},
   "outputs": [
    {
     "data": {
      "text/html": [
       "<style>\n",
       "\n",
       "/* special fields*/\n",
       "\n",
       "\n",
       "/* light blue */ \n",
       "div.digression {    \n",
       "    background-color: #f6f6f6;\n",
       "    border-color: #a1c6de;\n",
       "    border-left: 5px solid #a1c6de;\n",
       "    border-right: 5px solid #a1c6de;\n",
       "    border-top: 5px solid #a1c6de;\n",
       "    border-bottom: 5px solid #a1c6de;\n",
       "    padding: 0.5em;\n",
       "}\n",
       "\n",
       "/* orange */\n",
       "div.note {    \n",
       "    background-color: #f6f6f6;\n",
       "    border-color: #ffb382;\n",
       "    border-left: 5px solid #ffb382;\n",
       "    border-right: 5px solid #ffb382;\n",
       "    border-top: 5px solid #ffb382;\n",
       "    border-bottom: 5px solid #ffb382;\n",
       "    padding: 0.5em;\n",
       "}\n",
       "\n",
       "/* light green */\n",
       "div.task {    \n",
       "    background-color: #f6f6f6;\n",
       "    border-color: #99b898;\n",
       "    border-left: 5px solid #99b898;\n",
       "    border-right: 5px solid #99b898;\n",
       "    border-top: 5px solid #99b898;\n",
       "    border-bottom: 5px solid #99b898;\n",
       "    padding: 0.5em;\n",
       "}\n",
       "\n",
       "div.tool {    \n",
       "    background-color: #f6f6f6;\n",
       "    border-color: #f542e0;\n",
       "    border-left: 7px solid #f542e0;\n",
       "    border-right: 7px solid #f542e0;\n",
       "    border-top: 7px solid #f542e0;\n",
       "    border-bottom: 7px solid #f542e0;\n",
       "    border-style: double;\n",
       "    padding: 0.5em;\n",
       "}\n",
       "\n",
       "/* dark red */\n",
       "div.warn {    \n",
       "    background-color: #f6f6f6;\n",
       "    border-color: #cc1a32;\n",
       "    border-left: 5px solid #cc1a32;\n",
       "    border-right: 5px solid #cc1a32;\n",
       "    border-top: 5px solid #cc1a32;\n",
       "    border-bottom: 5px solid #cc1a32;\n",
       "    padding: 0.5em;\n",
       "}\n",
       "\n",
       "/* icons */\n",
       "\n",
       "img.icon {\n",
       "  display: inline-block; \n",
       "  width: 18px;\n",
       "  height: 18px;\n",
       "  margin-right: 7px;\n",
       "  margin-bottom: 3px;\n",
       "}\n",
       "\n",
       "img.iconbig {\n",
       "  display: inline-block; \n",
       "  width: 21px;\n",
       "  height: 21px;\n",
       "  margin-right: 7px;\n",
       "  margin-bottom: 3px;\n",
       "}\n",
       "\n",
       "span.invisible_border {\n",
       "  padding: 0.1em;\n",
       "  font-size: 20px;\n",
       "}\n",
       "\n",
       "div.border {\n",
       "  border-color: #666666;\n",
       "  border-left: 1.5px solid;\n",
       "  border-right: 1.5px solid;\n",
       "  border-top: 1.5px solid;\n",
       "  border-bottom: 1.5px solid;\n",
       "  padding: 0.1em;\n",
       "}\n",
       "\n",
       "\n",
       "/* for simple answer / solution*/\n",
       "input.show {\n",
       "  visibility: hidden;\n",
       "}\n",
       "\n",
       "input.hide {\n",
       "  visibility: hidden;\n",
       "}\n",
       "\n",
       "\n",
       "label.answers {\n",
       "  border: 1px solid black;\n",
       "  padding: 1px;\n",
       "}\n",
       "\n",
       "label.show_answer {\n",
       "  background-color: #008CBA;  /* Blue */\n",
       "  border: none;\n",
       "  border-radius: 8px;\n",
       "  color: white;\n",
       "  padding: 3px 10px;\n",
       "  text-align: center;\n",
       "  text-decoration: none;\n",
       "  display: inline-block;\n",
       "  font-size: 12px;\n",
       "}\n",
       "\n",
       "label.hide_answer {\n",
       "  background-color: #b2b2b2; /* Grey */\n",
       "  border: none;\n",
       "  border-radius: 8px;\n",
       "  color: white;\n",
       "  padding: 3px 10px;\n",
       "  text-align: center;\n",
       "  text-decoration: none;\n",
       "  display: inline-block;\n",
       "  font-size: 12px;\n",
       "}\n",
       "\n",
       "\n",
       "span.content {\n",
       "  display:none;\n",
       "}\n",
       "input.show:checked ~ span.content {\n",
       "  display:block;\n",
       "}\n",
       "\n",
       "input.hide:checked ~ span.content {\n",
       "  display:none;\n",
       "}\n",
       "\n",
       "\n",
       "\n",
       "\n",
       "/* Tables & side by side images */\n",
       "\n",
       "/* 2 images side by side */\n",
       ".imgcolumn2 {\n",
       "  float: left;\n",
       "  width: 50.0%;\n",
       "  padding: 5px;\n",
       "}\n",
       "\n",
       "/* 3 images side by side */\n",
       ".imgcolumn3 {\n",
       "  float: left;\n",
       "  width: 33.33%;\n",
       "  padding: 5px;\n",
       "}\n",
       "\n",
       "/* 4 images side by side */\n",
       ".imgcolumn4 {\n",
       "  float: left;\n",
       "  width: 25.0%;\n",
       "  padding: 5px;\n",
       "}\n",
       "\n",
       "\n",
       ".imgrow::after {\n",
       "  content: \"\";\n",
       "  clear: both;\n",
       "  display: table;\n",
       "} \n",
       "\n",
       "figure figcaption {\n",
       "  margin: 3px;\n",
       "  text-align: center;\n",
       "  font-weight: bold;\n",
       "}\n",
       "\n",
       "table {\n",
       "    float: left;\n",
       "    border-style: 1.5px solid black;\n",
       "    border: 1.5px  black solid !important;\n",
       "    color: black !important;\n",
       "}\n",
       "\n",
       "th, td {\n",
       "    text-align: center;\n",
       "    vertical-align: middle;\n",
       "    border: 1.5px  black solid !important;\n",
       "    color: black !important;\n",
       "}\n",
       "\n",
       "/* todo?: #centertable table hinzufügen?*/\n",
       "\n",
       "#centertable td\n",
       "{\n",
       "    text-align: center; \n",
       "    vertical-align: middle;\n",
       "}\n",
       "\n",
       "#centertable th\n",
       "{\n",
       "    text-align: center; \n",
       "    vertical-align: middle;\n",
       "}\n",
       "\n",
       "\n",
       " </style>\n"
      ],
      "text/plain": [
       "<IPython.core.display.HTML object>"
      ]
     },
     "execution_count": 1,
     "metadata": {},
     "output_type": "execute_result"
    }
   ],
   "source": [
    "import sys\n",
    "sys.path.append(\"../src/\") \n",
    "from quiz import start_quiz\n",
    "from utils import css_styling, hide_code\n",
    "from functionplotter import plt_function\n",
    "css_styling()"
   ]
  },
  {
   "cell_type": "markdown",
   "metadata": {},
   "source": [
    "## 1. Kapitelübersicht <a class=\"anchor\" id=\"1\"/>\n",
    "\n",
    "In diesem Kapitel werden Funktionen mit mehreren Varibalen, sogenannte **multivariate** Funktionen, eingeführt. Zudem wird gezeigt, wie man diese Funktionen nach einer ausgewählten Variablen ableiten kann. Dieses Prinzip nennt sich **partielle Ableitungen**.\n",
    "\n",
    "<b>Abschnittsübersicht</b><br>\n",
    "\n",
    "[1. Kapitelübersicht](#1)<br>\n",
    "[2. Multivariate Funktionen](#2)<br>\n",
    "[3. Partielle Ableitungen](#3)<br>\n",
    "\n",
    "<b>Quizübersicht</b><br>\n",
    "[Partielle Ableitungen Quiz](#q1)<br>\n",
    "\n",
    "<b>Behandelte Themen</b><br>\n",
    "- Multivariate Funktionen\n",
    "- Partielle Ableitungen"
   ]
  },
  {
   "cell_type": "markdown",
   "metadata": {},
   "source": [
    "<script type=\"text/javascript\" id=\"WolframAlphaScriptd87639c949f19c324bea69e8223f310d\" src=\"//www.wolframalpha.com/widget/widget.jsp?id=d87639c949f19c324bea69e8223f310d\"></script>"
   ]
  },
  {
   "cell_type": "markdown",
   "metadata": {},
   "source": [
    "## Multivariate Funktionen <a class=\"anchor\" id=\"2\"/>\n",
    "\n",
    "Bis zum jetztigen Zeitpunkt haben wir mit Funktionen gearbeitet, in denen nur <u>genau eine</u> Variable verwendet wurde, nämlich $x$. Nun sind Funktionen nicht nur auf einzelne Variablen beschränkt, sondern es ist auch möglich, mehrere Variablen in einer Funktion zu verwenden:\n",
    "\n",
    "$f(x,y,z) = 3x + 7y \\cdot 2z$<br>\n",
    "\n",
    "Diese Funktionen heißen **multivariate Funktionen** (auch: **multivariable Funktionen** oder **partielle Differentialgleichungen**)[<sup>1</sup>](#fn1).  Bei diesen Funktionen hängt der Funktionswert bzw. das Ergebnis von einen oder mehreren unabhängigen Variablen ab (im Beispiel $x$, $y$ und $z$) und ändert sich, sobald sich einer der Variablen ändert ($x$ oder $y$ oder $z$), alle drei zusammen ($x$ und $y$ und $z$) oder in beliebigen Kombinationen (z.B. $x$ und $z$). Anders als Funktionen mit nur einer Variablen sind multivariate Funktionen nicht ganz einfach zu visualisieren, weshalb Visualisierungen dieser Funktionen in der Tutorialreihe keinen großen Raum einnimmt, da dies schnell zu komplex werden würde. Die folgende Abbildung stellt die Visualisierung der Funktion $f(x) = \\frac{1}{y-x^2}$ dar. Diese Visualisierung kann einen Einblick geben, wie komplex dreidimenisonale Visualisierungen werden können.[<sup>2</sup>](#fn2)\n",
    "\n",
    "<hr style=\"border: 0.1px solid black;\"/>\n",
    "<span id=\"fn1\" style=\"font-size:8pt; line-height:1\"><sup style=\"font-size:5pt\">1</sup>&nbsp; Tatsächlich sind die Begriffe \"multivariat\" und \"multivariabel\" dem Englischen entlehnt und vor allem letzterer ist im deutschen Sprachgebrauch nicht so weit verbreitet. Ich finde sie jedoch etwas aussagekräftiger und prägnanter als den Begriff der \"partiellen Differentialgleichung\", weshalb in dieser Tutorialreihe eher diese beiden Begriffe verwendet werden. Zudem ist so der Wechsel zu englischsprachige Literatur einfacher. Noch ein Hinweis: \"Multivariat\" und \"multivariabel\" haben eigentlich nicht die selbe Bedeutung, es gibt dezente Unterschiede, in dieser Tutorialreihe werden sie jedoch deckungsgleich verwendet.</span><br>\n",
    "<span id=\"fn2\" style=\"font-size:8pt; line-height:1\"><sup style=\"font-size:5pt\">2</sup>&nbsp; Der Plot wurde mit folgendem Tool erstellt: <a href=\"https://c3d.libretexts.org/CalcPlot3D/index.html\">CalcPlot3D</a>.</span><br>"
   ]
  },
  {
   "cell_type": "markdown",
   "metadata": {},
   "source": [
    "<img src=\"img/multivariate_3d_plot.png\" align=\"left\" style=\"width: 500px;\"/>"
   ]
  },
  {
   "cell_type": "markdown",
   "metadata": {},
   "source": [
    "## Partielle Ableitungen <a class=\"anchor\" id=\"3\"/>\n",
    "\n",
    "Eine Frage, die aufkommt, wenn man multivariate Funktionen betrachtet, ist, wie man diese ableitet. Wir werden uns als erstes den Fall angucken, bei dem nach <u>einer</u> ausgewählten Variable abgeleitet wird. Diese Ableitungen nennt man <b>partielle Ableitungen</b>."
   ]
  },
  {
   "cell_type": "markdown",
   "metadata": {},
   "source": [
    "<div class=\"tool\">\n",
    "    <span class=\"invisible_border\"><img src=\"img/icons/tools.svg\" class=\"icon\"/><b>Werkzeugkasten: <u>Partielle Ableitungen</u></b></span>\n",
    "    <br>\n",
    "    <br>\n",
    "    Wenn man eine Funktion mit mehreren Variablen nach <u>einer</u> Variablen ableiten möchte, verwendet man die <b>partielle Ableitung</b>.<br> Die Variablen, die <u>nicht</u> abgeleitet werden, verhalten sich wie <b>Konstanten</b>.<br> Die Ableitungen von Konstanten ist <b>gleich Null</b>, außer sie sind ein <b>konstanter Faktor</b>. Dann wird die <b>Faktorregel</b> angewendet.<br>\n",
    "\n",
    "<u>Beispiel</u>:<br>\n",
    "Gegebene Funktion:  $f(x,y) = 2x + 3y$<br>\n",
    "Ableitung nach $x$: &nbsp;&nbsp;&nbsp; $f'_x(x,y) = 2$<br>\n",
    "Ableitung nach $y$: &nbsp;&nbsp;&nbsp; $f'_y(x,y) = 3$\n",
    "</div>"
   ]
  },
  {
   "cell_type": "markdown",
   "metadata": {},
   "source": [
    "Tatsächlich sind partielle Ableitungen in der Praxis ziemlich simpel zu berechnen, sie erfordern nur etwas Konzentration. Wie im Werkzeugkasten beschrieben, werden alle Variablen, die <u>nicht</u> abgeleitet werden, als Konstanten betrachtet. Dies wird im folgenden Beispiel demonstriert:\n",
    "\n",
    "$f(x,y) = 5x + 4y$ <br>\n",
    "\n",
    "Wir wollen die Funktion nach $x$ ableiten. Da Konstanten beim Ableiten zu Null werden, wenn sie kein konstanter Faktor sind (d.h. nicht mit einem Mal-Zeichen vor der abzuleitenden Variablen stehen, siehe unten), fällt das $y$ in der Ableitung weg. Es kann hilfreich sein, sich $y$ als konkrete Konstante (z.B. $1$) vorzustellen, was die Ableitung wieder vereinfacht:\n",
    "\n",
    "$f(x,y) = 5x + 4 \\cdot 1$<br>\n",
    "\n",
    "Die partielle Ableitung nach $x$ ist also:\n",
    "\n",
    "$f'_x(x,y) = 5$<br>\n",
    "\n",
    "Durch ein kleiner gestelltes $x$ nach dem $f$ kennzeichnen wir, dass wir nach $x$ abgeleitet haben. Hätten wir nach $y$ abgeleitet, würde die Ableitung folgendermaßen aussehen:\n",
    "\n",
    "$f'_y(x,y) = 4$"
   ]
  },
  {
   "cell_type": "markdown",
   "metadata": {},
   "source": [
    "#### Partielle Ableitung mit konstanten Faktoren\n",
    "\n",
    "Wie sieht die partielle Ableitung nun aber aus, wenn wir eine Funktion haben, bei der $y$ ein konstanter Faktor ist? Der konstante Faktor bleibt einfach unberührt. Dies wird im folgenden Beispiel deutlich, bei dem wir nach $x$ und $y$ ableiten:\n",
    "\n",
    "$f(x,y) = 2\\cdot y \\cdot x$<br>\n",
    "\n",
    "$f'_x(x,y) = 2y$<br>\n",
    "$f'_y(x,y) = 2x$<br>\n",
    "\n",
    "Da konstante Faktoren stehen bleiben, bleiben $y$ (Ableitung 1) und $x$ (Ableitung 2) wie auch die $2$ in beiden Ableitungen unberührt."
   ]
  },
  {
   "cell_type": "markdown",
   "metadata": {},
   "source": [
    "#### Partielle Ableitungen höherer Ordnung\n",
    "\n",
    "Im Zusammenhang mit partiellen Ableitungen spricht man von Ableitungen **1., 2., 3. ... Ordnung**, je nachdem wie oft abgeleitet wurde. Dies soll an einem Beispiel verdeutlicht werden:\n",
    "\n",
    "$f(x,y) = x^2 + xy + 3y^2$<br>\n",
    "\n",
    "**Ableitungen 1. Ordnung**<br>\n",
    "\n",
    "$f'_x(x,y) = 2x + y$<br>\n",
    "$f'_y(x,y) = x + 6y$<br>\n",
    "\n",
    "**Ableitungen 2. Ordnung**<br>\n",
    "\n",
    "$f'_xx(x,y) = 2$<br>\n",
    "$f'_xy(x,y) = 1$<br>\n",
    "$f'_yy(x,y) = 6$<br>\n",
    "$f'_yx(x,y) = 1$<br>\n",
    "\n",
    "Wieso gibt es denn nun bei den Ableitungen der 2. Ordnung doppelt so viele Ableitungen wie bei den Ableitungen der 1. Ordnung? Dies liegt daran, das wir uns ab den Ableitungen der 2. Ordnung für jede vorherige Ableitung entscheiden können, ob wir nach $x$ oder $y$ ableiten. Für die Ableitungen der 3. Ordnung hätten wir sogar acht mögliche partielle Ableitungen. Je höher die Ordnung wird, desto größer wird die Anzahl an möglichen Ableitungen."
   ]
  },
  {
   "cell_type": "markdown",
   "metadata": {},
   "source": [
    "#### Schreibweisen von partiellen Ableitungen\n",
    "\n",
    "Bereits im letzten Kapitel hatten wir gesehen, dass es für Ableitungen eine Reihe von verschiedenen Notationen gibt. Das Gleiche gilt auch für partielle Ableitungen. Neben der bereits verwendeten Schreibweise ist die wohl häufigste die folgende Schreibweise mit dem speziellen griechischem Buchstaben <a href=\"https://de.wikipedia.org/wiki/%E2%88%82\">Del (∂)</a> (gesprochen als \"d\"):\n",
    "\n",
    "**Partielle Ableitungen 1. Ordnung**<br>\n",
    "$f_x = \\frac{\\partial f}{\\partial x} \\qquad f_y = \\frac{\\partial f}{\\partial y}$<br>\n",
    "\n",
    "**Partielle Ableitungen 2. Ordnung**<br>\n",
    "$f_{xx} = \\frac{\\partial^2 f}{\\partial x^2} \\qquad f_{xy} = \\frac{\\partial^2 f}{\\partial x\\partial y}$<br>\n",
    "$f_{yy} = \\frac{\\partial^2 f}{\\partial y^2} \\qquad f_{yx} = \\frac{\\partial^2 f}{\\partial y\\partial x}$<br>\n",
    "\n",
    "\n",
    "In der folgenden Tutorialreihe werden wir diese Notation für partielle Ableitungen verwenden. Somit beginnt ab jetzt ein fließender Übergang, indem wir die bekannten Ableitungsnotationen von **Lagrange**, die wir bis jetzt kennengelernt haben und vorwiegend in der Schule verwendet wurden, durch die Notationen von **Leibniz** ersetzen. Mehr dazu in den folgenden Kapiteln."
   ]
  },
  {
   "cell_type": "markdown",
   "metadata": {},
   "source": [
    "## Partielle Ableitungen Quiz <a class=\"anchor\" id=\"q1\"/><br>\n",
    "\n",
    "<div class=\"task\">\n",
    "    <b>Aufgabe</b>: Partielle Ableitungen Quiz\n",
    "    <br>\n",
    "    <br> Lösen Sie das folgende Quiz \"<b>Partielle Ableitungen Quiz</b>\". Dabei wenden Sie die partiellen Ableitungen auf die Ableitungsregeln aus dem vorherigen Kapitel an. Diese gelten auch für partielle Ableitungen. Hier finden Sie die jeweiligen Antwortmöglichkeiten zu jeder Frage, geben Sie im Quiz dann den entsprechenden Buchstaben an. Es wird empfohlen, die Aufgaben auf einem Blatt/Tablet/o.ä. zu rechnen und dann erst die Lösungen mit den Antwortmöglichkeiten abzugleichen.\n",
    "    \n",
    "<u>Antwortmöglichkeiten zu Frage 1</u>:\n",
    "<ol style=\"list-style-type:lower-alpha\">\n",
    "    <li>$\\frac{\\partial f}{\\partial y} = \\frac{1122x^{33}}{\\ln(7)y}$</li>\n",
    "    <li>$\\frac{\\partial f}{\\partial y} = \\frac{33x^{34}}{\\ln(7)y}$</li>\n",
    "    <li>$\\frac{\\partial f}{\\partial y} = \\frac{33x^{34}}{\\log_7(y)}$</li>\n",
    "    <li>$\\frac{\\partial f}{\\partial y} = \\frac{1122x^{33}}{\\log_7(y)}$</li>\n",
    "</ol>\n",
    "    \n",
    "<u>Antwortmöglichkeiten zu Frage 2</u>:\n",
    "<ol style=\"list-style-type:lower-alpha\">\n",
    "    <li>$\\frac{\\partial^2 f}{\\partial x} = 2e^{2x} \\cdot \\sin(y) \\cdot z^2 + \\cos(z) \\cdot e^x \\cdot e^y$</li>\n",
    "    <li>$\\frac{\\partial^2 f}{\\partial x} = 4e^{2x} \\cdot \\sin(y) \\cdot z^2 + \\cos(z) \\cdot e^x \\cdot e^y$</li>\n",
    "    <li>$\\frac{\\partial^2 f}{\\partial x} = 2e^{2x} \\cdot \\sin(y) \\cdot z^2 + e^x$</li>\n",
    "    <li>$\\frac{\\partial^2 f}{\\partial x} = 4e^{2x} \\cdot \\sin(y) \\cdot z^2 + e^x$</li>\n",
    "</ol>\n",
    "    \n",
    "<u>Antwortmöglichkeiten zu Frage 3</u>:\n",
    "<ol style=\"list-style-type:lower-alpha\">\n",
    "    <li>\n",
    "        <br>$\\frac{\\partial f}{\\partial x} = 2xy + y^2z + z^2$\n",
    "        <br>$\\frac{\\partial f}{\\partial y} = x^2 + 2yz$\n",
    "        <br>$\\frac{\\partial f}{\\partial x} = y^2 + 2zx$\n",
    "    </li>\n",
    "    <li>\n",
    "        <br>$\\frac{\\partial f}{\\partial x} = 2xy + z^2$\n",
    "        <br>$\\frac{\\partial f}{\\partial y} = x^2 + 2yz$\n",
    "        <br>$\\frac{\\partial f}{\\partial x} = 2y + 2zx$\n",
    "    </li>\n",
    "    <li>\n",
    "        <br>$\\frac{\\partial f}{\\partial x} = xy + z^2$\n",
    "        <br>$\\frac{\\partial f}{\\partial y} = x^2 + yz$\n",
    "        <br>$\\frac{\\partial f}{\\partial x} = y^2 + zx$\n",
    "    </li>\n",
    "    <li>\n",
    "        <br>$\\frac{\\partial f}{\\partial x} = 2xy + z^2$\n",
    "        <br>$\\frac{\\partial f}{\\partial y} = x^2 + 2yz$\n",
    "        <br>$\\frac{\\partial f}{\\partial x} = y^2 + 2zx$\n",
    "    </li>\n",
    "</ol>\n",
    "    \n",
    "<u>Antwortmöglichkeiten zu Frage 4</u>:\n",
    "<ol style=\"list-style-type:lower-alpha\">\n",
    "    <li>\n",
    "        <br>$\\frac{\\partial f}{\\partial x} = \\cos(x) \\cdot e^{yz^2}$\n",
    "        <br>$\\frac{\\partial f}{\\partial y} = \\sin(x) \\cdot e^{yz^2} \\cdot z^2$\n",
    "        <br>$\\frac{\\partial f}{\\partial z} = \\sin(x) \\cdot e^{yz^2} \\cdot 2yz$\n",
    "    </li>\n",
    "    <li>\n",
    "        <br>$\\frac{\\partial f}{\\partial x} = \\cos(x) \\cdot e^{yz^2}$\n",
    "        <br>$\\frac{\\partial f}{\\partial y} = \\cos(x) \\cdot e^{yz^2} \\cdot z^2$\n",
    "        <br>$\\frac{\\partial f}{\\partial z} = \\sin(x) \\cdot e^{yz^2} \\cdot 2yz$\n",
    "    </li>\n",
    "    <li>\n",
    "        <br>$\\frac{\\partial f}{\\partial x} = \\cos(x) \\cdot e^{yz^2}$\n",
    "        <br>$\\frac{\\partial f}{\\partial y} = \\sin(x) \\cdot e^{yz^2} \\cdot z^2$\n",
    "        <br>$\\frac{\\partial f}{\\partial z} = \\sin(x) \\cdot e^{yz^2} \\cdot 2z$\n",
    "    </li>\n",
    "    <li>\n",
    "        <br>$\\frac{\\partial f}{\\partial x} = \\cos(x)$\n",
    "        <br>$\\frac{\\partial f}{\\partial y} = \\sin(x) \\cdot e^{yz^2} \\cdot z^2$\n",
    "        <br>$\\frac{\\partial f}{\\partial z} = \\sin(x) \\cdot e^{yz^2} \\cdot 2yz$\n",
    "    </li>\n",
    "</ol>\n",
    "</div>"
   ]
  },
  {
   "cell_type": "code",
   "execution_count": 12,
   "metadata": {},
   "outputs": [
    {
     "data": {
      "application/vnd.jupyter.widget-view+json": {
       "model_id": "ecc4da5dcfbc48e284f79438a92c332e",
       "version_major": 2,
       "version_minor": 0
      },
      "text/plain": [
       "VBox(children=(Output(), RadioButtons(layout=Layout(width='max-content'), options=(('a', 0), ('b', 1), ('c', 2…"
      ]
     },
     "metadata": {},
     "output_type": "display_data"
    },
    {
     "data": {
      "application/vnd.jupyter.widget-view+json": {
       "model_id": "5a8c2657674f4218b00199d50be397cd",
       "version_major": 2,
       "version_minor": 0
      },
      "text/plain": [
       "VBox(children=(Output(), RadioButtons(layout=Layout(width='max-content'), options=(('a', 0), ('b', 1), ('c', 2…"
      ]
     },
     "metadata": {},
     "output_type": "display_data"
    },
    {
     "data": {
      "application/vnd.jupyter.widget-view+json": {
       "model_id": "f27a0afda4b04777a44fda5ff4b9fece",
       "version_major": 2,
       "version_minor": 0
      },
      "text/plain": [
       "VBox(children=(Output(), RadioButtons(layout=Layout(width='max-content'), options=(('a', 0), ('b', 1), ('c', 2…"
      ]
     },
     "metadata": {},
     "output_type": "display_data"
    },
    {
     "data": {
      "application/vnd.jupyter.widget-view+json": {
       "model_id": "2674b2d3230e4510894d155401b3ad41",
       "version_major": 2,
       "version_minor": 0
      },
      "text/plain": [
       "VBox(children=(Output(), RadioButtons(layout=Layout(width='max-content'), options=(('a', 0), ('b', 1), ('c', 2…"
      ]
     },
     "metadata": {},
     "output_type": "display_data"
    },
    {
     "data": {
      "text/markdown": [
       "---\n",
       "---\n"
      ],
      "text/plain": [
       "<IPython.core.display.Markdown object>"
      ]
     },
     "metadata": {},
     "output_type": "display_data"
    },
    {
     "data": {
      "application/vnd.jupyter.widget-view+json": {
       "model_id": "4ca8284ca4864f999eba5ba7fba05ae0",
       "version_major": 2,
       "version_minor": 0
      },
      "text/plain": [
       "VBox(children=(Button(description='Ausgewählte Antworten überprüfen', layout=Layout(width='40%'), style=Button…"
      ]
     },
     "metadata": {},
     "output_type": "display_data"
    }
   ],
   "source": [
    "start_quiz(61, \"calculus\")"
   ]
  },
  {
   "cell_type": "code",
   "execution_count": null,
   "metadata": {},
   "outputs": [],
   "source": []
  }
 ],
 "metadata": {
  "kernelspec": {
   "display_name": "Python 3",
   "language": "python",
   "name": "python3"
  },
  "language_info": {
   "codemirror_mode": {
    "name": "ipython",
    "version": 3
   },
   "file_extension": ".py",
   "mimetype": "text/x-python",
   "name": "python",
   "nbconvert_exporter": "python",
   "pygments_lexer": "ipython3",
   "version": "3.7.7"
  }
 },
 "nbformat": 4,
 "nbformat_minor": 4
}
