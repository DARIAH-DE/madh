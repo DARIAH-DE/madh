{
 "cells": [
  {
   "cell_type": "markdown",
   "metadata": {},
   "source": [
    "# Kapitel 10 - Gradient Descent"
   ]
  },
  {
   "cell_type": "code",
   "execution_count": 1,
   "metadata": {},
   "outputs": [
    {
     "data": {
      "text/html": [
       "<style>\n",
       "\n",
       "/* special fields*/\n",
       "\n",
       "\n",
       "/* light blue */ \n",
       "div.digression {    \n",
       "    background-color: #f6f6f6;\n",
       "    border-color: #a1c6de;\n",
       "    border-left: 5px solid #a1c6de;\n",
       "    border-right: 5px solid #a1c6de;\n",
       "    border-top: 5px solid #a1c6de;\n",
       "    border-bottom: 5px solid #a1c6de;\n",
       "    padding: 0.5em;\n",
       "}\n",
       "\n",
       "/* orange */\n",
       "div.note {    \n",
       "    background-color: #f6f6f6;\n",
       "    border-color: #ffb382;\n",
       "    border-left: 5px solid #ffb382;\n",
       "    border-right: 5px solid #ffb382;\n",
       "    border-top: 5px solid #ffb382;\n",
       "    border-bottom: 5px solid #ffb382;\n",
       "    padding: 0.5em;\n",
       "}\n",
       "\n",
       "/* light green */\n",
       "div.task {    \n",
       "    background-color: #f6f6f6;\n",
       "    border-color: #99b898;\n",
       "    border-left: 5px solid #99b898;\n",
       "    border-right: 5px solid #99b898;\n",
       "    border-top: 5px solid #99b898;\n",
       "    border-bottom: 5px solid #99b898;\n",
       "    padding: 0.5em;\n",
       "}\n",
       "\n",
       "div.tool {    \n",
       "    background-color: #f6f6f6;\n",
       "    border-color: #f542e0;\n",
       "    border-left: 7px solid #f542e0;\n",
       "    border-right: 7px solid #f542e0;\n",
       "    border-top: 7px solid #f542e0;\n",
       "    border-bottom: 7px solid #f542e0;\n",
       "    border-style: double;\n",
       "    padding: 0.5em;\n",
       "}\n",
       "\n",
       "/* dark red */\n",
       "div.warn {    \n",
       "    background-color: #f6f6f6;\n",
       "    border-color: #cc1a32;\n",
       "    border-left: 5px solid #cc1a32;\n",
       "    border-right: 5px solid #cc1a32;\n",
       "    border-top: 5px solid #cc1a32;\n",
       "    border-bottom: 5px solid #cc1a32;\n",
       "    padding: 0.5em;\n",
       "}\n",
       "\n",
       "/* icons */\n",
       "\n",
       "img.icon {\n",
       "  display: inline-block; \n",
       "  width: 18px;\n",
       "  height: 18px;\n",
       "  margin-right: 7px;\n",
       "  margin-bottom: 3px;\n",
       "}\n",
       "\n",
       "img.iconbig {\n",
       "  display: inline-block; \n",
       "  width: 21px;\n",
       "  height: 21px;\n",
       "  margin-right: 7px;\n",
       "  margin-bottom: 3px;\n",
       "}\n",
       "\n",
       "span.invisible_border {\n",
       "  padding: 0.1em;\n",
       "  font-size: 20px;\n",
       "}\n",
       "\n",
       "div.border {\n",
       "  border-color: #666666;\n",
       "  border-left: 1.5px solid;\n",
       "  border-right: 1.5px solid;\n",
       "  border-top: 1.5px solid;\n",
       "  border-bottom: 1.5px solid;\n",
       "  padding: 0.1em;\n",
       "}\n",
       "\n",
       "\n",
       "/* for simple answer / solution*/\n",
       "input.show {\n",
       "  visibility: hidden;\n",
       "}\n",
       "\n",
       "input.hide {\n",
       "  visibility: hidden;\n",
       "}\n",
       "\n",
       "\n",
       "label.answers {\n",
       "  border: 1px solid black;\n",
       "  padding: 1px;\n",
       "}\n",
       "\n",
       "label.show_answer {\n",
       "  background-color: #008CBA;  /* Blue */\n",
       "  border: none;\n",
       "  border-radius: 8px;\n",
       "  color: white;\n",
       "  padding: 3px 10px;\n",
       "  text-align: center;\n",
       "  text-decoration: none;\n",
       "  display: inline-block;\n",
       "  font-size: 12px;\n",
       "}\n",
       "\n",
       "label.hide_answer {\n",
       "  background-color: #b2b2b2; /* Grey */\n",
       "  border: none;\n",
       "  border-radius: 8px;\n",
       "  color: white;\n",
       "  padding: 3px 10px;\n",
       "  text-align: center;\n",
       "  text-decoration: none;\n",
       "  display: inline-block;\n",
       "  font-size: 12px;\n",
       "}\n",
       "\n",
       "\n",
       "span.content {\n",
       "  display:none;\n",
       "}\n",
       "input.show:checked ~ span.content {\n",
       "  display:block;\n",
       "}\n",
       "\n",
       "input.hide:checked ~ span.content {\n",
       "  display:none;\n",
       "}\n",
       "\n",
       "\n",
       "\n",
       "\n",
       "/* Tables & side by side images */\n",
       "\n",
       "/* 2 images side by side */\n",
       ".imgcolumn2 {\n",
       "  float: left;\n",
       "  width: 50.0%;\n",
       "  padding: 5px;\n",
       "}\n",
       "\n",
       "/* 3 images side by side */\n",
       ".imgcolumn3 {\n",
       "  float: left;\n",
       "  width: 33.33%;\n",
       "  padding: 5px;\n",
       "}\n",
       "\n",
       "/* 4 images side by side */\n",
       ".imgcolumn4 {\n",
       "  float: left;\n",
       "  width: 25.0%;\n",
       "  padding: 5px;\n",
       "}\n",
       "\n",
       "\n",
       ".imgrow::after {\n",
       "  content: \"\";\n",
       "  clear: both;\n",
       "  display: table;\n",
       "} \n",
       "\n",
       "figure figcaption {\n",
       "  margin: 3px;\n",
       "  text-align: center;\n",
       "  font-weight: bold;\n",
       "}\n",
       "\n",
       "table {\n",
       "    float: left;\n",
       "    border-style: 1.5px solid black;\n",
       "    border: 1.5px  black solid !important;\n",
       "    color: black !important;\n",
       "}\n",
       "\n",
       "th, td {\n",
       "    text-align: center;\n",
       "    vertical-align: middle;\n",
       "    border: 1.5px  black solid !important;\n",
       "    color: black !important;\n",
       "}\n",
       "\n",
       "/* todo?: #centertable table hinzufügen?*/\n",
       "\n",
       "#centertable td\n",
       "{\n",
       "    text-align: center; \n",
       "    vertical-align: middle;\n",
       "}\n",
       "\n",
       "#centertable th\n",
       "{\n",
       "    text-align: center; \n",
       "    vertical-align: middle;\n",
       "}\n",
       "\n",
       "\n",
       " </style>\n"
      ],
      "text/plain": [
       "<IPython.core.display.HTML object>"
      ]
     },
     "execution_count": 1,
     "metadata": {},
     "output_type": "execute_result"
    }
   ],
   "source": [
    "import sys\n",
    "sys.path.append(\"../src/\") \n",
    "from quiz import start_quiz\n",
    "from utils import css_styling, hide_code\n",
    "from functionplotter import plt_function\n",
    "css_styling()"
   ]
  },
  {
   "cell_type": "markdown",
   "metadata": {},
   "source": [
    "## 1. Kapitelübersicht <a class=\"anchor\" id=\"1\"/>\n",
    "\n",
    "In diesem Kapitel wird das **Gradient Descent** (deutsch: **Gradientenabstieg**) Verfahren eingeführt. Zuvor wird für ein besseres Verständnis das **Newton-Raphson** Verfahren eingeführt und erläutert. Da dies das letzte Kapitel der Calculus-Tutorialreihe ist, wird am Ende des Kapitels ein Ausblick auf vertiefende und weiterführende Calculus-Themen geworfen sowie Empfehlungen für Themengebiete aus den Digital Humanities gegeben, die man mit dem in dieser Tutorialreihe erworbenem Wissen nun angehen kann.\n",
    "\n",
    "TODO\n",
    "\n",
    "<b>Abschnittsübersicht</b><br>\n",
    "\n",
    "[1. Kapitelübersicht](#1)<br>\n",
    "TODO\n",
    "\n",
    "<b>Quizübersicht</b><br>\n",
    "TODO\n",
    "\n",
    "<b>Behandelte Themen</b><br>\n",
    "- TODO"
   ]
  },
  {
   "cell_type": "markdown",
   "metadata": {},
   "source": [
    "## 2. Newton-Raphson Verfahren  <a class=\"anchor\" id=\"2\"/>"
   ]
  },
  {
   "cell_type": "markdown",
   "metadata": {},
   "source": [
    "Mit dem **Newton-Raphson** Verfahren können wir näherungsweise *Nullstellen*, *Schnittpunkte* von Funktionen oder *Wurzeln* berechnen. Wie auch im vorherigen Kapitel haben wir es hier mit **Approximationen** zu tun. Anstatt aber wie im vorherigen Kapitel eine komplexe Funktionen mithilfe einer Reihe von weniger komplexen Funktionen zu approximieren, approximieren wir hier nun verschiedene **Lösungen** von Funktionen (also das Finden von Wurzeln, Schnittpunkten oder Nullstellen)."
   ]
  },
  {
   "cell_type": "markdown",
   "metadata": {},
   "source": [
    "<div class=digression>\n",
    "    <b>Exkurs</b>: Simple Herleitung des Newton-Raphson Verfahren\n",
    "    <br>\n",
    "    <br>Das <b>Newton-Raphson</b> Verfahren wurde von Isaac Newton und Joseph Raphson entwickelt. Wie sie auf die Formel für das Newton-Raphson Verfahren kamen, wird in der ersten Hälfte dieses <a href=\"https://www.youtube.com/watch?v=JdMVcHUfAs0\">Videos</a> erklärt.\n",
    "</div>"
   ]
  },
  {
   "cell_type": "markdown",
   "metadata": {},
   "source": [
    "### 2.1. Gründe für das Newton-Raphson Verfahren <a class=\"anchor\" id=\"2-1\"/>"
   ]
  },
  {
   "cell_type": "markdown",
   "metadata": {},
   "source": [
    "Um nun zu verstehen, was das Newton-Raphson Verfahren im Detail macht und warum wir dieses benötigen, gucken wir uns nun ein Beispiel an. Gegeben sei die folgende Funktion:<br>\n",
    "\n",
    "$f(x) = x^3 - 2x + 2$<br>\n",
    "\n",
    "Die Ableitung der Funktion ist die folgende Funktion:<br>\n",
    "\n",
    "$\\frac{\\partial f}{\\partial x} = 3x^2 - 2$ &nbsp; [<sup>1</sup>](#fn1)<br>\n",
    "\n",
    "Den Graphen der Funktion können Sie in der folgenden Code-Zelle plotten (in blau). Sie sehen, dass der Graph zwei **Wendepunkte** hat, also zwei Punkte, an denen sich die Art der Steigung (= Fallen oder Steigen) ändert.[<sup>2</sup>](#fn2) Der erste Wendepunkt ist ein **Maximum**, der zweite Wendepunkt ist ein **Minimum**. \n",
    "\n",
    "\n",
    "Nun kann es aber sein, dass wir den Graphen einer Funktion nicht einfach visualisieren können. Dies kann z.B. die folgenden Gründe haben:\n",
    "- **Nicht genügend Rechenkraft unseres Computer**. Je komplexer eine Funktion wird, umso schwieriger wird es für den Computer, diese gut zu visualisieren. Unsere Beispielfunktion ist davon nicht betroffen, doch Sie können sich sicher vorstellen, wie kompliziert Funktionen werden können.\n",
    "- **Zu hohe Dimensionalität**. Ein Problem, welches sehr schnell auftaucht, ist, dass unsere Funktionen zu viele Dimensionen haben und wir sie deshalb nicht visualisieren können. Bis jetzt hatten wir in unseren Beispielen nur Funktionen geplottet, die wir im 2D oder 3D Raum visualisieren können. Doch was wäre mit der Funktion $f(x,y,z,w,v)$? Diese hat fünf Variablen und man bräuchte 6 Dimensionen, um diese darstellen zu können. Dies ist mit dem menschlichen Verstand aber nicht möglich. \n",
    "\n",
    "Doch es ist auch möglich, bestimmte Probleme von Funktionen zu lösen, ohne dafür einen Graphen plotten zu müssen. Nehmen wir nun einmal an, wir wollen den **Schnittpunkt** der Funktion mit der **x-Achse** ermitteln. Wenn wir uns den Graphen in der folgenden Code-Zelle angucken, können wir sehr schnell sehen, dass dieser zwischen $1$ und $2$ liegt, da der Graph dort die x-Achse schneidet. Doch ohne den Graphen wird dies schwieriger. Um diesen Schnittpunkt zu berechnen, müssen wir $y=0$ setzen, also $0 = x^3 - 2x +2$ und nach $x$ auflösen.[<sup>3</sup>](#fn3) Während das für lineare Funktion relativ unkompliziert zu berechnen ist, kommen wir bei dieser Funktion schon an unsere Grenzen. Die Lösunggleichung würde folgendermaßen aussehen:<br>\n",
    "\n",
    "$\\frac{3^{\\frac{2}{3}} \\left(\\frac{2}{3} + \\frac{\\left(3 \\sqrt{57} + 27\\right)^{\\frac{2}{3}}}{9}\\right)}{\\sqrt[3]{\\sqrt{57} + 9}} \\approx -1.76929235423863$<br>\n",
    "\n",
    "\n",
    "Wirklich schön ist das nicht und die Funktion ist in diesem Fall vergleichsweise einfach. Sie können sich sicher vorstellen, wie die Berechnungen aussehen, wenn die Funktionen komplexer werden.\n",
    "\n",
    "<hr style=\"border: 0.1px solid black;\"/>\n",
    "<span id=\"fn1\" style=\"font-size:8pt; line-height:1\"><sup style=\"font-size:5pt\">1</sup>&nbsp; Wir haben hier die Notation für die partiellen Ableitungen verwendet, auch wenn wir es nicht unbedingt gebraucht hätten, da ja nur nach einer Variablen (hier: $x$) abgeleitet werden kann.</span><br>\n",
    "<span id=\"fn2\" style=\"font-size:8pt; line-height:1\"><sup style=\"font-size:5pt\">2</sup>&nbsp; Wie man Wendepunkte ermittelt, kann in diesem <a href=\"https://www.mathebibel.de/wendepunkt-berechnen#:~:text=Graphisch%20betrachtet%20handelt%20es%20sich,in%20eine%20Linkskurve%20oder%20umgekehrt\">Artikel</a> nachgelesen werden.</span><br>"
   ]
  },
  {
   "cell_type": "code",
   "execution_count": 3,
   "metadata": {
    "scrolled": true
   },
   "outputs": [
    {
     "data": {
      "image/png": "[encoded data removed]",
      "text/plain": [
       "<Figure size 600x400 with 1 Axes>"
      ]
     },
     "metadata": {
      "needs_background": "light"
     },
     "output_type": "display_data"
    }
   ],
   "source": [
    "plt_function(name=\"newton_raphson_example\", space=(-10.0, 10.0), tangent=False)"
   ]
  },
  {
   "cell_type": "markdown",
   "metadata": {},
   "source": [
    "Doch es ist auch möglich, bestimmte Probleme von Funktionen zu lösen, ohne dafür einen Graphen plotten zu müssen. Nehmen wir nun einmal an, wir wollen den **Schnittpunkt** der Funktion mit der **x-Achse** ermitteln. Wenn wir uns den Graphen in der vorherigen Code-Zelle angucken, können wir sehr schnell sehen, dass dieser zwischen $-1$ und $-2$ liegt, da der Graph dort die x-Achse schneidet. Wir könnten nun das Koordinatensystem feiner darstellen und dann ablesen, dass der Schnittpunkt etwa bei $-1.77$ liegt. \n",
    "\n",
    "Doch ohne den Graphen wird dies schwieriger. Um diesen Schnittpunkt zu berechnen, müssen wir $y=0$ setzen, also $0 = x^3 - 2x +2$ und nach $x$ auflösen.[<sup>3</sup>](#fn3) Während das für lineare Funktion relativ unkompliziert zu berechnen ist, kommen wir bei dieser Funktion schon an unsere Grenzen. Die Lösunggleichung würde folgendermaßen aussehen:<br>\n",
    "\n",
    "$\\frac{3^{\\frac{2}{3}} \\left(\\frac{2}{3} + \\frac{\\left(3 \\sqrt{57} + 27\\right)^{\\frac{2}{3}}}{9}\\right)}{\\sqrt[3]{\\sqrt{57} + 9}} \\approx -1.76929235423863$<br>\n",
    "\n",
    "\n",
    "Wirklich schön ist das nicht und die Funktion ist in diesem Fall vergleichsweise einfach. Sie können sich sicher vorstellen, wie die umfangreich die Berechnungen werden, wenn die Funktionen noch komplexer sind. Ein weiteres Problem, was wir haben, wenn wir den Graphen nicht sehen, ist, dass wir nicht wissen, *wieviele* Schnittstellen die Funktion mit der x-Achse hat. \n",
    "\n",
    "Was also tun? Wir nutzen die uns bereits bekannten **Approximationen**, indem wir uns der Lösung annähern. Dies tun wir, indem wir einen Punkt nehmen und den in unsere Funktion eingeben. Nur welchen Punkt nehmen wir? TODO. \n",
    "\n",
    "Nehmen wir nun den x-Wert $-2$ uns setzen diesen in unsere Gleichung ein:\n",
    "\n",
    "$f(x) = (-2)^3 - 2 \\cdot -2 + 2 = -2$<br>\n",
    "\n",
    "Wenn wir den den Wert in unsere Ableitung einsetzen, erhalten wir einen positiven Wert, was bedeutet, dass der Graph in diesem Punkt steigt.\n",
    "\n",
    "$\\frac{\\partial f}{\\partial x} = 3(-2)^2 - 2 = 10$\n",
    "\n",
    "\n",
    "TODO WEITER\n",
    "\n",
    "\n",
    "<hr style=\"border: 0.1px solid black;\"/>\n",
    "<span id=\"fn3\" style=\"font-size:8pt; line-height:1\"><sup style=\"font-size:5pt\">3</sup>&nbsp; Wie man den Schnittpunkt einer Funktion mit der x-Achse ermittelt, kann in diesem <a href=\"https://de.serlo.org/mathe/2195/schnittpunkte-mit-den-koordinatenachsen\">Artikel</a> im Detail nachgelesen werden.</span><br>\n",
    "<span id=\"fn4\" style=\"font-size:8pt; line-height:1\"><sup style=\"font-size:5pt\">4</sup>&nbsp; Setzt man eine x-Koordinate $x_0$ eines Punktes in die erste Ableitung ein, kann man je nach Vorzeichen des Ergebnis bestimmen, ob der Graph <b>steigt</b> ($f'(x_0) > 0$), <b>fällt</b> ($f'(x_0) < 0$) oder <b>stagniert</b>, also weder fällt noch steigt ($f'(x_0) = 0$). Weitere Informationen können in diesem <a href=\"https://www.mathebibel.de/erste-ableitung\">Artikel</a> nachgelesen werden.</span><br>"
   ]
  },
  {
   "cell_type": "code",
   "execution_count": 7,
   "metadata": {},
   "outputs": [
    {
     "data": {
      "application/vnd.jupyter.widget-view+json": {
       "model_id": "c298cc477b0548c087857070e89e1372",
       "version_major": 2,
       "version_minor": 0
      },
      "text/plain": [
       "interactive(children=(FloatSlider(value=-2.0, continuous_update=False, description='p_x', max=10.0, min=-10.0,…"
      ]
     },
     "metadata": {},
     "output_type": "display_data"
    }
   ],
   "source": [
    "plt_function(name=\"newton_raphson_example\", space=(-10.0, 10.0), startvalue=-2., tangent=True)"
   ]
  },
  {
   "cell_type": "code",
   "execution_count": null,
   "metadata": {},
   "outputs": [],
   "source": []
  },
  {
   "cell_type": "code",
   "execution_count": null,
   "metadata": {},
   "outputs": [],
   "source": []
  },
  {
   "cell_type": "code",
   "execution_count": null,
   "metadata": {},
   "outputs": [],
   "source": []
  },
  {
   "cell_type": "markdown",
   "metadata": {},
   "source": [
    "<table id=\"centertable\">\n",
    "    <tr>\n",
    "        <th>x</th>\n",
    "        <th>1</th>\n",
    "        <th>2</th>\n",
    "        <th>3</th>\n",
    "        <th>4</th>\n",
    "    </tr>\n",
    "    <tr>\n",
    "        <td>y</td>\n",
    "        <td>6</td>\n",
    "        <td>10</td>\n",
    "        <td>14</td>\n",
    "        <td>18</td>\n",
    "    </tr>\n",
    "</table> "
   ]
  },
  {
   "cell_type": "code",
   "execution_count": null,
   "metadata": {},
   "outputs": [],
   "source": []
  },
  {
   "cell_type": "markdown",
   "metadata": {},
   "source": [
    "TODO: anfangen mit newton-raphson methode (video 1, woche 5)\n",
    "- sagen, dass wir nun alles von vorher brauchen\n",
    "- wieso brauchen wir die methode? zu viele dimensionen\n",
    "- was folgt auf die methode? (gradient descent)\n",
    "    - warum? probleme von newton raphson\n",
    "    - wichtig für mehrere variablen\n",
    "- Konzept: **Iteration**\n",
    "- ICH: Code schreiben, der mir bei Beispielgraph erlaubt, Punkte einzusetzen und wieder Linien zu malen\n",
    "- ICH: das hilft: https://www.youtube.com/watch?v=JdMVcHUfAs0"
   ]
  },
  {
   "cell_type": "code",
   "execution_count": null,
   "metadata": {},
   "outputs": [],
   "source": []
  },
  {
   "cell_type": "code",
   "execution_count": null,
   "metadata": {},
   "outputs": [],
   "source": []
  },
  {
   "cell_type": "code",
   "execution_count": null,
   "metadata": {},
   "outputs": [],
   "source": []
  },
  {
   "cell_type": "code",
   "execution_count": null,
   "metadata": {},
   "outputs": [],
   "source": []
  },
  {
   "cell_type": "code",
   "execution_count": null,
   "metadata": {},
   "outputs": [],
   "source": []
  },
  {
   "cell_type": "markdown",
   "metadata": {},
   "source": [
    "- TODO: zu Sattelpunkten und lokalen Minima: https://datascience.stackexchange.com/questions/22853/local-minima-vs-saddle-points-in-deep-learning\n",
    "- TODO: auch vllt sandpit von coursera woche 2 nehmen? in video \"The sandpit\" wird auch erläutert, dass die bergsteiger metapher ein paar \"misleading features\" hat (Man kann z.B. teleportieren)\n",
    "- TODO: auch sigmoid funktion hier nochmal einführen? hat mehrere coole eigenschaften, wie:\n",
    "    - alle zahlen werden zwischen 0 und 1\n",
    "    - Ableitung ist einfach: $\\frac{d\\sigma}{dx} = \\sigma(x) \\cdot (1 - \\sigma(x))$ &rarr; das zeigen!!"
   ]
  },
  {
   "cell_type": "code",
   "execution_count": null,
   "metadata": {},
   "outputs": [],
   "source": []
  },
  {
   "cell_type": "code",
   "execution_count": 3,
   "metadata": {},
   "outputs": [
    {
     "name": "stdout",
     "output_type": "stream",
     "text": [
      "-2\n"
     ]
    },
    {
     "data": {
      "text/plain": [
       "-1.8"
      ]
     },
     "execution_count": 3,
     "metadata": {},
     "output_type": "execute_result"
    }
   ],
   "source": [
    "def f(x):\n",
    "    return x**3 - 2*x + 2\n",
    "\n",
    "\n",
    "x = -2\n",
    "print(f(-2))\n",
    "\n",
    "x - (-2/10)"
   ]
  },
  {
   "cell_type": "markdown",
   "metadata": {},
   "source": [
    "## 3. Gradient Descent  <a class=\"anchor\" id=\"3\"/>\n",
    "\n",
    "TODO: Optimierungsverfahren<br>\n",
    "TODO: Stochastic gradient desscent?"
   ]
  },
  {
   "cell_type": "code",
   "execution_count": null,
   "metadata": {},
   "outputs": [],
   "source": []
  },
  {
   "cell_type": "code",
   "execution_count": null,
   "metadata": {},
   "outputs": [],
   "source": []
  },
  {
   "cell_type": "code",
   "execution_count": null,
   "metadata": {},
   "outputs": [],
   "source": []
  },
  {
   "cell_type": "code",
   "execution_count": null,
   "metadata": {},
   "outputs": [],
   "source": []
  },
  {
   "cell_type": "markdown",
   "metadata": {},
   "source": [
    "TODO: https://karpathy.medium.com/yes-you-should-understand-backprop-e2f06eab496b &rarr; das erwähnen in einem Abschnitt zu \"wozu brauche ich das alles?\""
   ]
  },
  {
   "cell_type": "markdown",
   "metadata": {},
   "source": [
    "## 4. Weitere Themen und Anwendungsfälle  <a class=\"anchor\" id=\"4\"/>"
   ]
  },
  {
   "cell_type": "code",
   "execution_count": null,
   "metadata": {},
   "outputs": [],
   "source": []
  },
  {
   "cell_type": "markdown",
   "metadata": {},
   "source": [
    "Die Themen, die wir in dieser Calculus-Tutorialreihe besprochen haben, haben in vielen Bereichen der Digital Humanities mal mehr und mal weniger prominenten Anwendungsfälle. Der wohl wichtigste Anwendungsfall ist aber beim Training von **Neuronalen Netzen** aus dem Bereich des **Deep Learning**. Seit einigen Jahren haben diese Neuronalen Netze durchbrechende Erfolge geleistet und haben die **KI-Forschung** unglaublich stark geprägt. Aus diesem Grund werden Sie in Ihrem Studium mit einer sehr hohen Wahrscheinlichkeit diesen Netzen begegnen. Dort werden Sie Bibliotheken kennen lernen, mit denen Sie diese Netze effektiv umzusetzen und für die Lösung verschiedenster Probleme einsetzen werden können. Die Mathematik, die Sie hier gelernt haben, hilft Ihnen dabei zu verstehen, wie Neuronale Netze im Kern funktionieren und wie ein Training dieser Netze funktioniert. Sollten Sie Interesse haben, sich dem Thema \"Deep Learning\" in Eigenarbeit anzunähern, habe ich zwei Empfehlungen für Sie:\n",
    "- **Deep Learning Specialization (Coursera)** [<a href=\"https://www.coursera.org/specializations/deep-learning\">Link</a>]. Dieser Online-Kurs von Deep Learning Legende *Andrew Ng* ist einer der bekanntesten und besten Einsteigerkurse zum Thema \"Deep Learning\". Zu finden ist dieser auf der Lernplattform *Coursera*, bei der Inhalte zu verschiedensten Themen mithilfe von Videos, Übungsquizzen und -aufgaben vermittelt werden. Sie werden dort die wichtigsten Inhalte zum Deep Learning vermittelt bekommen. Sie können diesen Kurs kostenlos besuchen, wenn Sie diesen als Gasthörer bearbeiten. Wenn Sie diesen Kurs bezahlen (<u>Hinweis</u>: nach Studentenrabatte oder -aktionen Ausschau halten), können Sie ein Zertifikat erhalten und viele wichtige Quizze und Aufgaben lösen und Feedback für die Lösungen erhalten. Die Zeit, wie und wann Sie diesen Kurs bearbeiten, bleibt Ihnen überlassen, Sie lernen Inhalte nur über das Selbststudium. Der Kurs setzt etwas Mathematik im Bereich von Calculus und Linearer Algebra voraus, welche Sie aber mit dieser Tutorialreihe vermittelt bekommen haben sollten. \n",
    "- **KINSLEY, Neural Networks from Scratch in Python** [<a href=\"https://nnfs.io/\">Link</a>]. Im oben genannten Deep Learning Kurs wird man zu einem Zeitpunkt simple Neuronale Netze per Hand in Python implementieren. Diese Herangehensweise an Neuronale Netze fand ich persönlich sehr ansprechend und mein Verständnis von Neuronalen Netzen aber auch der Bibliothek `NumPy` konnte dadurch erweitert werden. Das Problem, dass sich m.E. beim Lernen und der Anwendung von Deep Learning ergibt, ist das man durch die sehr guten Python-Bibliotheken zwar Neuronale Netze einfach und schnell implementieren kann, jedoch den Bezug zu dem, was ein Neuronales Netz eigentlich macht, verliert. Doch genau dieses Verständnis kann unglaublich hilfreich sein. Ich empfehle deshalb das Buch des Python-YouTubers *sentdex*, der m.E. das beste Buch zu diesem Thema veröffentlicht hat, da es sehr einsteigerfreundlich, aber zeitgleich auch sehr informativ und gut aufbereitet ist. Dieses Buch ist nicht kostenlos, die Tutorialreihe in Form von Videos jedoch schon: <a href=\"https://www.youtube.com/playlist?list=PLQVvvaa0QuDcjD5BAw2DxE6OF2tius3V3\">Link zur Playlist</a>. Die Playlist ist aktuell noch nicht abgeschlossen (Stand März 2021), wird aber in unregelmäßigen Abständen aktualisiert. Das Buch/die Playlist kann am besten entweder nach oder während dem Besuchen eines Deep Learning Kurses (Coursera-, Uni- oder ein anderer Kurs) durchgearbeitet werden oder aber in Zusammenhang mit anderen Lernmaterialien.  "
   ]
  },
  {
   "cell_type": "code",
   "execution_count": null,
   "metadata": {},
   "outputs": [],
   "source": []
  },
  {
   "cell_type": "markdown",
   "metadata": {},
   "source": [
    "TODO: hier kapitel mit \"was nun?\" oder so\n",
    "- die sachen sagen, die noch von coursera fehlen\n",
    "    - lagrange multipliers: https://jonathan-hui.medium.com/machine-learning-lagrange-multiplier-dual-decomposition-4afe66158c9\n",
    "- machine learning dinge reingucken\n",
    "    - lineare regression\n",
    "    - klassifizierungsverfahren ...\n",
    "- deep learning kurs von coursera empfehlen\n",
    "- integrale?"
   ]
  },
  {
   "cell_type": "code",
   "execution_count": null,
   "metadata": {},
   "outputs": [],
   "source": []
  }
 ],
 "metadata": {
  "kernelspec": {
   "display_name": "Python 3",
   "language": "python",
   "name": "python3"
  },
  "language_info": {
   "codemirror_mode": {
    "name": "ipython",
    "version": 3
   },
   "file_extension": ".py",
   "mimetype": "text/x-python",
   "name": "python",
   "nbconvert_exporter": "python",
   "pygments_lexer": "ipython3",
   "version": "3.7.7"
  }
 },
 "nbformat": 4,
 "nbformat_minor": 4
}
