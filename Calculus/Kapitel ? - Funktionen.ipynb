{
 "cells": [
  {
   "cell_type": "markdown",
   "metadata": {},
   "source": [
    "# Kapitel ? - Funktionen"
   ]
  },
  {
   "cell_type": "markdown",
   "metadata": {},
   "source": [
    "## 1. Kapitelübersicht <a class=\"anchor\" id=\"1\"/>"
   ]
  },
  {
   "cell_type": "markdown",
   "metadata": {},
   "source": [
    "TODO: Kapiteleinführung\n",
    "\n",
    "\n",
    "<b>Abschnittsübersicht</b><br>\n",
    "\n",
    "[1. Kapitelübersicht](#1)<br>\n",
    "...\n",
    "\n",
    "\n",
    "\n",
    "<b>Behandelte Themen</b><br>\n",
    "- ...\n",
    "- ..\n",
    "\n",
    "<b>Mögliche Anwendungsfelder</b><br>\n",
    "- ...\n",
    "- ..."
   ]
  },
  {
   "cell_type": "code",
   "execution_count": 1,
   "metadata": {},
   "outputs": [
    {
     "data": {
      "text/html": [
       "<style>\n",
       "div.warn {    \n",
       "    background-color: #fcf2f2;\n",
       "    border-color: #dFb5b4;\n",
       "    border-left: 5px solid #dfb5b4;\n",
       "    padding: 0.5em;\n",
       "    }\n",
       "\n",
       "div.note {    \n",
       "    background-color: #e5f6ff;\n",
       "    border-color: #a1c6de;\n",
       "    border-left: 5px solid #a1c6de;\n",
       "    padding: 0.5em;\n",
       "    }\n",
       "\n",
       "\n",
       "\n",
       "table {\n",
       "    float: left;\n",
       "    border-style: 1px solid black;\n",
       "    border: 1px  black solid !important;\n",
       "    color: black !important;\n",
       "}\n",
       "\n",
       "th, td {\n",
       "    border: 1px  black solid !important;\n",
       "    color: black !important;\n",
       "}\n",
       " </style>}\n"
      ],
      "text/plain": [
       "<IPython.core.display.HTML object>"
      ]
     },
     "execution_count": 1,
     "metadata": {},
     "output_type": "execute_result"
    }
   ],
   "source": [
    "from helper import css_styling\n",
    "css_styling()"
   ]
  },
  {
   "cell_type": "markdown",
   "metadata": {},
   "source": [
    "## 2. Funktionen (Allgemein) <a class=\"anchor\" id=\"2\"/>"
   ]
  },
  {
   "cell_type": "markdown",
   "metadata": {},
   "source": [
    "### 2.1. Was sind Funktionen? <a class=\"anchor\" id=\"2-1\"/>\n",
    "\n",
    "Im Wesentlichen ist eine Funktion eine Beziehung zwischen einigen Eingabewerten und einem Ausgabewert.\n",
    "\n",
    "TODO\n",
    "\n",
    "**Beispiel**: Wir möchten eine Funktion erstellen, bei der wir für ein Produkt in einem Online-Shop die Menge eingeben können und den zu bezahlenden Gesamtpreis erhalten. Die Menge ist der Eingabewert $x$ und der Gesamtpreis der Ausgabewert $y$. Eine einfache Funktion für ein Produkt, welches 50€ kostet, wäre folgende Funktion:\n",
    "\n",
    "$y = x \\cdot 50$<br>\n",
    "\n",
    "Wir möchten das Produkt vier Mal kaufen, wir geben also für die Menge $x$ 4 ein und erhalten für den Preis $y$ 200. Nun können wir diese Funktion beliebig erweitern, damit sie die Situation in unserem Online-Shop besser repräsentiert. Da wir die Produkte versenden, möchten wir nun Versandkosten von 5€ für jede Bestellung erheben. Die Funktion für unser Beispielprodukt könnte dann so aussehen:\n",
    "\n",
    "$y = x \\cdot 50 + 5$<br>\n",
    "\n",
    "Nun stellt die Funktion jedoch nur ein Produkt dar, welches 50€ kostet. Wir könnten nun den Preis wie die Menge ebenfalls als Eingabewert betrachten:\n",
    "\n",
    "$y = x \\cdot p + 5$<br>\n",
    "\n",
    "Diese Funktion könnten wir nun beliebig erweitern, um sie unseren Bedürfnissen immer besser anpassen zu können."
   ]
  },
  {
   "cell_type": "markdown",
   "metadata": {},
   "source": [
    "### 2.2. Rechnen mit Funktionen <a class=\"anchor\" id=\"2-2\"/>"
   ]
  },
  {
   "cell_type": "markdown",
   "metadata": {},
   "source": [
    "<b>Mögliche Schreibweisen für Funktionen</b><br>\n",
    "\n",
    "Es gibt mehrere mögliche Schreibweisen für Funktionen. In dieser Tutorialreihe werden nur die letzten beiden Schreibweisen verwendet.\n",
    "\n",
    "$f: x \\to 4x+2$<br>\n",
    "$f(x) = 4x+2$<br>\n",
    "$y = 4x+2$<br>\n",
    "\n",
    "Was bedeutet aber $f(x)$? $f(x)$ ist der **Funktionswert** von $x$, wenn etwas für $x$ eingesetzt wird. Dieser Funktionswert kann auch als $y$ bezeichnet werden. Einem $x$-Wert wird in der Beispielfunktion $4x+2$ einem $y$-Wert zugeordnet. Setzen wir bestimmte Werte für $x$ ein, können wir eine Wertetabelle erstellen.\n",
    "\n",
    "\n",
    "<table>\n",
    "    <tr>\n",
    "        <th>x</th>\n",
    "        <th>1</th>\n",
    "        <th>2</th>\n",
    "        <th>4</th>\n",
    "        <th>5</th>\n",
    "    </tr>\n",
    "    <tr>\n",
    "        <td>y</td>\n",
    "        <td>6</td>\n",
    "        <td>10</td>\n",
    "        <td>18</td>\n",
    "        <td>22</td>\n",
    "    </tr>\n",
    "</table> \n"
   ]
  },
  {
   "cell_type": "markdown",
   "metadata": {},
   "source": [
    "<b>Rechnen mit Funktionen</b>\n"
   ]
  },
  {
   "cell_type": "code",
   "execution_count": null,
   "metadata": {},
   "outputs": [],
   "source": []
  },
  {
   "cell_type": "markdown",
   "metadata": {},
   "source": [
    "<div class=warn>\n",
    "    <b>Achtung</b> : Dies ist ein Achtung-Feld.\n",
    "    <br>\n",
    "    <br>\n",
    "</div>"
   ]
  },
  {
   "cell_type": "markdown",
   "metadata": {},
   "source": [
    "<div class=note>\n",
    "    <b>Hinweis</b> : Dies ist ein Hinweis-Feld.\n",
    "    <br>\n",
    "    <br>\n",
    "</div>"
   ]
  },
  {
   "cell_type": "code",
   "execution_count": null,
   "metadata": {},
   "outputs": [],
   "source": []
  },
  {
   "cell_type": "code",
   "execution_count": null,
   "metadata": {},
   "outputs": [],
   "source": []
  }
 ],
 "metadata": {
  "kernelspec": {
   "display_name": "Python 3",
   "language": "python",
   "name": "python3"
  },
  "language_info": {
   "codemirror_mode": {
    "name": "ipython",
    "version": 3
   },
   "file_extension": ".py",
   "mimetype": "text/x-python",
   "name": "python",
   "nbconvert_exporter": "python",
   "pygments_lexer": "ipython3",
   "version": "3.8.1"
  }
 },
 "nbformat": 4,
 "nbformat_minor": 2
}
