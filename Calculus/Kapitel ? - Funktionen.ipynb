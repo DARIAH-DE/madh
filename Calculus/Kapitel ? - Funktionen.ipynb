{
 "cells": [
  {
   "cell_type": "markdown",
   "metadata": {},
   "source": [
    "# Kapitel ? - Funktionen"
   ]
  },
  {
   "cell_type": "code",
   "execution_count": 1,
   "metadata": {},
   "outputs": [
    {
     "data": {
      "text/html": [
       "<style>\n",
       "\n",
       "/* colors (outdated)\n",
       "\n",
       "- very pale blue: #e5f6ff (= note block)\n",
       "\n",
       "- dark lime green: #28a428 (= right answer of quiz)\n",
       "\n",
       "- moderate red: #d23838 (= wrong answer of quiz)\n",
       "- light grayish red: #fcf2f2 (= warning block)\n",
       "\n",
       "*/\n",
       "\n",
       "\n",
       "div.digression {    \n",
       "    background-color: #e5f6ff;\n",
       "    border-color: #a1c6de;\n",
       "    border-left: 5px solid #a1c6de;\n",
       "    border-right: 5px solid #a1c6de;\n",
       "    border-top: 5px solid #a1c6de;\n",
       "    border-bottom: 5px solid #a1c6de;\n",
       "    padding: 0.5em;\n",
       "}\n",
       "\n",
       "div.note {    \n",
       "    background-color: #e5f6ff;\n",
       "    border-color: #ffb382;\n",
       "    border-left: 5px solid #ffb382;\n",
       "    border-right: 5px solid #ffb382;\n",
       "    border-top: 5px solid #ffb382;\n",
       "    border-bottom: 5px solid #ffb382;\n",
       "    padding: 0.5em;\n",
       "}\n",
       "\n",
       "div.task {    \n",
       "    background-color: #e5f6ff;\n",
       "    border-color: #99b898;\n",
       "    border-left: 5px solid #99b898;\n",
       "    border-right: 5px solid #99b898;\n",
       "    border-top: 5px solid #99b898;\n",
       "    border-bottom: 5px solid #99b898;\n",
       "    padding: 0.5em;\n",
       "}\n",
       "\n",
       "/* for simple answer / solution*/\n",
       "input#show, input#hide {\n",
       "    display:none;\n",
       "}\n",
       "\n",
       "label#answers {\n",
       "  border: 1px solid black;\n",
       "  padding: 1px;\n",
       "}\n",
       "\n",
       "label#show_answer {\n",
       "  background-color: #008CBA;  /* Blue */\n",
       "  border: none;\n",
       "  border-radius: 8px;\n",
       "  color: white;\n",
       "  padding: 3px 10px;\n",
       "  text-align: center;\n",
       "  text-decoration: none;\n",
       "  display: inline-block;\n",
       "  font-size: 12px;\n",
       "}\n",
       "\n",
       "label#hide_answer {\n",
       "  background-color: #b2b2b2; /* Grey */\n",
       "  border: none;\n",
       "  border-radius: 8px;\n",
       "  color: white;\n",
       "  padding: 1px 5px;\n",
       "  text-align: center;\n",
       "  text-decoration: none;\n",
       "  display: inline-block;\n",
       "  font-size: 12px;\n",
       "}\n",
       "\n",
       "\n",
       "\n",
       "\n",
       "span#content {\n",
       "    display:none;\n",
       "}\n",
       "input#show:checked ~ span#content {\n",
       "  display:block;\n",
       "}\n",
       "\n",
       "input#hide:checked ~ span#content {\n",
       "    display:none;\n",
       "}\n",
       "\n",
       "/* special fields*/\n",
       "div.warn {    \n",
       "    background-color: #e5f6ff;\n",
       "    border-color: #cc1a32;\n",
       "    border-left: 5px solid #cc1a32;\n",
       "    border-right: 5px solid #cc1a32;\n",
       "    border-top: 5px solid #cc1a32;\n",
       "    border-bottom: 5px solid #cc1a32;\n",
       "    padding: 0.5em;\n",
       "}\n",
       "\n",
       "table {\n",
       "    float: left;\n",
       "    border-style: 1.5px solid black;\n",
       "    border: 1.5px  black solid !important;\n",
       "    color: black !important;\n",
       "}\n",
       "\n",
       "th, td {\n",
       "    text-align: center;\n",
       "    vertical-align: middle;\n",
       "    border: 1.5px  black solid !important;\n",
       "    color: black !important;\n",
       "}\n",
       "\n",
       "#centertable td\n",
       "{\n",
       "    text-align: center; \n",
       "    vertical-align: middle;\n",
       "}\n",
       "\n",
       "#centertable th\n",
       "{\n",
       "    text-align: center; \n",
       "    vertical-align: middle;\n",
       "}\n",
       "\n",
       "\n",
       "\n",
       " </style>\n"
      ],
      "text/plain": [
       "<IPython.core.display.HTML object>"
      ]
     },
     "execution_count": 1,
     "metadata": {},
     "output_type": "execute_result"
    }
   ],
   "source": [
    "import sys\n",
    "sys.path.append(\"../src/\") \n",
    "from quiz import start_quiz\n",
    "from utils import css_styling, hide_code\n",
    "from functionplotter import plt_function\n",
    "css_styling()"
   ]
  },
  {
   "cell_type": "markdown",
   "metadata": {},
   "source": [
    "## 1. Kapitelübersicht <a class=\"anchor\" id=\"1\"/>"
   ]
  },
  {
   "cell_type": "markdown",
   "metadata": {},
   "source": [
    "TODO: Kapiteleinführung\n",
    "\n",
    "\n",
    "<b>Abschnittsübersicht</b><br>\n",
    "\n",
    "[1. Kapitelübersicht](#1)<br>\n",
    "...\n",
    "\n",
    "<b>Quizübersicht</b><br>\n",
    "[Funktionsdefinitionen Quiz](#q1)<br>\n",
    "[Lineare Funktionen Quiz](#q2)<br>\n",
    "...\n",
    "\n",
    "\n",
    "<b>Behandelte Themen</b><br>\n",
    "- ...\n",
    "- ..\n",
    "\n",
    "<b>Mögliche Anwendungsfelder</b><br>\n",
    "- ...\n",
    "- ..."
   ]
  },
  {
   "cell_type": "markdown",
   "metadata": {},
   "source": [
    "## 2. Einführung zu Funktionen <a class=\"anchor\" id=\"2\"/>"
   ]
  },
  {
   "cell_type": "markdown",
   "metadata": {},
   "source": [
    "Im Wesentlichen modelliert eine Funktion eine Beziehung zwischen einigen Eingabewerten und einem Ausgabewert.\n",
    "\n",
    "<img src=\"https://upload.wikimedia.org/wikipedia/commons/thumb/3/3b/Function_machine2.svg/800px-Function_machine2.svg.png\" align=\"center\" style=\"width: 200px;\"/>\n",
    "\n",
    "Wir werden zu Beginn dieser Tutorialreihe erst einmal mit Funktionen arbeiten, die nur einen Eingabewert erlauben. Im weiteren Verlauf der Tutorialreihe werden wir Funktionen kennenlernen, die mehr als einen Eingabewert übergeben bekommen.  "
   ]
  },
  {
   "cell_type": "markdown",
   "metadata": {},
   "source": [
    "<div class=task>\n",
    "    <b>Aufgabe</b>: Mehr zur Funktionen\n",
    "    <br><br>\n",
    "    Lesen das Kapitel \"Funktionen\" von der Mathe-Lernplattform <a href=\"https://www.mathebibel.de/funktionen\">Mathebibel</a>. Dieses bietet ausführlichere Informationen zur Definition und Erläuterung vom Funktionsbegriff. Beantworten Sie nach dem Lesen des Kapitels das <b>Funktionen Quiz</b>.\n",
    "</div>"
   ]
  },
  {
   "cell_type": "markdown",
   "metadata": {},
   "source": [
    "### Funktionsdefinitionen Quiz <a class=\"anchor\" id=\"q1\"/>"
   ]
  },
  {
   "cell_type": "code",
   "execution_count": 2,
   "metadata": {},
   "outputs": [
    {
     "data": {
      "application/vnd.jupyter.widget-view+json": {
       "model_id": "bf0a39cc4278473597fd33d9b6d4c466",
       "version_major": 2,
       "version_minor": 0
      },
      "text/plain": [
       "VBox(children=(Output(), RadioButtons(layout=Layout(width='max-content'), options=(('Nichts, sie beschreiben e…"
      ]
     },
     "metadata": {},
     "output_type": "display_data"
    },
    {
     "data": {
      "application/vnd.jupyter.widget-view+json": {
       "model_id": "591c1923174e490291b8141de9ce2896",
       "version_major": 2,
       "version_minor": 0
      },
      "text/plain": [
       "VBox(children=(Output(), RadioButtons(layout=Layout(width='max-content'), options=(('x-Werte: Definitionsmenge…"
      ]
     },
     "metadata": {},
     "output_type": "display_data"
    },
    {
     "data": {
      "application/vnd.jupyter.widget-view+json": {
       "model_id": "ed574c1973874694a2d5d0e4308ff26d",
       "version_major": 2,
       "version_minor": 0
      },
      "text/plain": [
       "VBox(children=(Output(), RadioButtons(layout=Layout(width='max-content'), options=(('Wenn sie in der Funktions…"
      ]
     },
     "metadata": {},
     "output_type": "display_data"
    },
    {
     "data": {
      "text/markdown": [
       "---\n",
       "---\n"
      ],
      "text/plain": [
       "<IPython.core.display.Markdown object>"
      ]
     },
     "metadata": {},
     "output_type": "display_data"
    },
    {
     "data": {
      "application/vnd.jupyter.widget-view+json": {
       "model_id": "b369c573843f48f284f714458dab9970",
       "version_major": 2,
       "version_minor": 0
      },
      "text/plain": [
       "VBox(children=(Button(description='Ausgewählte Antworten überprüfen', layout=Layout(width='40%'), style=Button…"
      ]
     },
     "metadata": {},
     "output_type": "display_data"
    }
   ],
   "source": [
    "start_quiz(1, \"calculus\")"
   ]
  },
  {
   "cell_type": "markdown",
   "metadata": {},
   "source": [
    "#### Einsteigsbeispiel zu Funktionen\n",
    "\n",
    "Wir möchten eine Funktion erstellen, bei der wir für ein Produkt in einem Online-Shop die Menge eingeben können und den zu bezahlenden Gesamtpreis erhalten. Die Menge ist der Eingabewert $x$ und der Gesamtpreis der Ausgabewert $y$. Eine einfache Funktion für ein Produkt, welches 50€ kostet, wäre folgende Funktion:\n",
    "\n",
    "$y = x \\cdot 50$<br>\n",
    "\n",
    "Wir möchten das Produkt vier Mal kaufen, wir geben also für die Menge $x$ 4 ein und erhalten für den Preis $y$ 200. Nun können wir diese Funktion beliebig erweitern, damit sie die Situation in unserem Online-Shop besser repräsentiert. Da wir die Produkte versenden, möchten wir nun Versandkosten von 5€ für jede Bestellung erheben. Die Funktion für unser Beispielprodukt könnte dann so aussehen:\n",
    "\n",
    "$y = x \\cdot 50 + 5$<br>\n",
    "\n",
    "Nun stellt die Funktion jedoch nur ein Produkt dar, welches 50€ kostet. Wir könnten nun den Preis wie die Menge ebenfalls als Eingabewert betrachten:\n",
    "\n",
    "$y = x \\cdot p + 5$<br>\n",
    "\n",
    "Diese Funktion könnten wir nun beliebig erweitern, um sie unseren Bedürfnissen immer besser anpassen zu können."
   ]
  },
  {
   "cell_type": "markdown",
   "metadata": {},
   "source": [
    "#### Mögliche Schreibweisen für Funktionen\n",
    "\n",
    "Es gibt mehrere mögliche Schreibweisen für Funktionen. In dieser Tutorialreihe werden nur die letzten beiden Schreibweisen verwendet.\n",
    "\n",
    "$f: x \\to 4x+2$<br>\n",
    "$f(x) = 4x+2$<br>\n",
    "$y = 4x+2$<br>\n",
    "\n",
    "Was bedeutet aber $f(x)$? $f(x)$ ist der **Funktionswert** von $x$, wenn etwas für $x$ eingesetzt wird. Dieser Funktionswert kann auch als $y$ bezeichnet werden. Einem $x$-Wert wird in der Beispielfunktion $4x+2$ einem $y$-Wert zugeordnet. Setzen wir bestimmte Werte für $x$ ein, können wir eine Wertetabelle erstellen, um die entsprechenden y-Werte zu erhalten.\n",
    "<p>\n",
    "<table style=\"width: 20%\" id=\"centertable\">\n",
    "    <tr>\n",
    "        <th>x</th>\n",
    "        <th>1</th>\n",
    "        <th>2</th>\n",
    "        <th>4</th>\n",
    "        <th>5</th>\n",
    "    </tr>\n",
    "    <tr>\n",
    "        <td>y</td>\n",
    "        <td>6</td>\n",
    "        <td>10</td>\n",
    "        <td>18</td>\n",
    "        <td>22</td>\n",
    "    </tr>\n",
    "</table> \n",
    "</p>\n",
    "<br><br><br><br>\n",
    "TODO"
   ]
  },
  {
   "cell_type": "markdown",
   "metadata": {},
   "source": [
    "#### Funktionstypen\n",
    "\n",
    "Es gibt verschiedene Arten von Funktionen. Wir werden im Verlauf dieser Tutorialreihe verschiedene Funktionstypen und ihre Besonderheiten kennenlernen. In der folgenden Tabelle werden einige Funktionstypen mit dazugehörigen Formeln und einem Graphenbeispiel aufgelistet (alphabetisch sortiert).\n",
    "\n",
    "\n",
    "<p>\n",
    "<table style=\"width: 100%\" id=\"centertable\">\n",
    "    <tr>\n",
    "        <th>Funktionstypen</th>\n",
    "        <th>Formel</th>\n",
    "        <th>Beispielgraph</th>\n",
    "    </tr>\n",
    "    <tr>\n",
    "        <td>Exponentialfunktion</td>\n",
    "        <td>$f(x) = a^x$<br>\n",
    "            $f(x) = e^x$\n",
    "        </td>\n",
    "        <td>\n",
    "            <img src=\"../src/img/calculus/exponential_function_example.png\" style=\"width: 200px\"/>$f(x) = 3^x$\n",
    "            <img src=\"../src/img/calculus/exponential_e_function_example.png\" style=\"width: 200px\"/>$f(x) = e^x$\n",
    "        </td>\n",
    "    </tr>\n",
    "    <tr>\n",
    "        <td>Konstante Funktion</td>\n",
    "        <td>$f(x) = c$</td>\n",
    "        <td><img src=\"../src/img/calculus/constant_function_example.png\" style=\"width: 200px\"/>$f(x) = 3$\n",
    "        </td>\n",
    "    </tr>\n",
    "    <tr>\n",
    "        <td>Lineare Funktion</td>\n",
    "        <td>$f(x) = m \\cdot x + b$</td>\n",
    "        <td><img src=\"../src/img/calculus/linear_function_example.png\" style=\"width: 200px\"/>$f(x)=2x\\ +2$</td>\n",
    "    </tr>\n",
    "    <tr>\n",
    "        <td>Logarithmusfunktion</td>\n",
    "        <td>$f(x) = \\log_{a}x$</td>\n",
    "        <td><img src=\"../src/img/calculus/logarithm_function_example.png\" style=\"width: 200px\"/>$f(x) = \\log_{2}x$</td>\n",
    "    </tr>\n",
    "    <tr>\n",
    "        <td>Polynomfunktion</td>\n",
    "        <td>$f(x) = a_n\\cdot x^n + a_{n-1}\\cdot x^{n-1}+ … +a_1\\cdot x + a_0$</td>\n",
    "        <td><img src=\"../src/img/calculus/polynomial_function_example.png\" style=\"width: 200px\"/>$f(x)=x^{3}+3 \\cdot x^{2}+1$</td>\n",
    "    </tr>\n",
    "    <tr>\n",
    "        <td>Potenzfunktion</td>\n",
    "        <td>$f(x) = a \\cdot x^n$</td>\n",
    "        <td><img src=\"../src/img/calculus/power_function_example.png\" style=\"width: 200px\"/>$f(x) = 2 \\cdot x^{3}$</td>\n",
    "    </tr>\n",
    "    <tr>\n",
    "        <td>Rationale Funktion<br>\n",
    "            (auch: Gebrochenrationale Funktion)\n",
    "        </td>\n",
    "        <td>$f(x) = \\frac{a_n x^n + a_{n-1} x^{n-1} + \\dots + a_1 x + a_ 0}{b_m x^m + b_{m-1} x^{m-1} + \\dots + b_1 x + b_ 0}$</td>\n",
    "        <td><img src=\"../src/img/calculus/rational_function_example.png\" style=\"width: 200px\"/>$f(x)=\\frac{1}{x}$<br>\n",
    "            <img src=\"../src/img/calculus/broken_rational_function_example.png\" style=\"width: 200px\"/>$f(x)=\\frac{x^{2}-2x+3}{x^{2}+1x-6}$\n",
    "        </td>\n",
    "    </tr>\n",
    "    <tr>\n",
    "        <td>Trigonometrische Funktion<br><br>\n",
    "            Sinusfunktions<br>\n",
    "            Kosinusfunktion<br>\n",
    "            Tangensfunktion<br>\n",
    "        </td>\n",
    "        <td>$f(x) = \\sin(x)$<br>\n",
    "            $f(x) = \\cos(x)$<br>\n",
    "            $f(x) = \\tan(x)$<br>\n",
    "        </td>\n",
    "        <td><img src=\"../src/img/calculus/sinus_function_example.png\" style=\"width: 200px\"/>$f(x) = \\sin(x)$<br>\n",
    "            <img src=\"../src/img/calculus/cosinus_function_example.png\" style=\"width: 200px\"/>$f(x) = \\cos(x)$<br>\n",
    "            <img src=\"../src/img/calculus/tangens_function_example.png\" style=\"width: 200px\"/>$f(x) = \\tan(x)$<br>\n",
    "        </td>\n",
    "    </tr>\n",
    "    <tr>\n",
    "        <td>Quadratische Funktion</td>\n",
    "        <td>$f(x) = a \\cdot x^2 + b \\cdot x + c$</td>\n",
    "        <td><img src=\"../src/img/calculus/quadratic_function_example.png\" style=\"width: 200px\"/>$f(x) = x^2 + x + 1$</td>\n",
    "    </tr>\n",
    "</table> \n",
    "</p>\n",
    "<br><br><br><br><br>"
   ]
  },
  {
   "cell_type": "markdown",
   "metadata": {},
   "source": [
    "## 3. Die konstante Funktion <a class=\"anchor\" id=\"3\"/>"
   ]
  },
  {
   "cell_type": "markdown",
   "metadata": {},
   "source": [
    "Die **konstante Funktion** ist eine der simpleren Funktionstypen. Sie wird durch folgende Gleichung beschrieben:<br>\n",
    "\n",
    "$f(x) = c$\n",
    "\n",
    "$c$ steht dabei für eine Konstante, welche ein beliebige Zahl aus der Menge aller reeler Zahlen sein kann.<br>\n",
    "Das besondere bei konstanten Funktion ist es, dass es keinen Zusammenhang zwischen den Variablen $x$ und $c$ gibt, da $x$ gar nicht auf der rechten Seite der Funktion vorkommt. Anders als die andere Funktionen wie z.B. die lineare Funktion modelliert die konstante Funktion also nicht die **Abhängigkeit zwischen zwei Größen**, sondern die **Unabhängigkeit zwischen zwei Größen**."
   ]
  },
  {
   "cell_type": "markdown",
   "metadata": {},
   "source": [
    "<div class=task>\n",
    "    <b>Aufgabe</b>: Konstane Funktionen plotten\n",
    "    <br>\n",
    "    <br> Führen Sie für eine Visualisierung einer <b>konstanten Funktion</b> die folgende Code-Zelle aus und geben Sie mithilfe des Sliders verschiedene Werte für $c$ und $x$ ein. Welchen Einfluss haben $x$ und $c$ auf den Graphen? \n",
    "<br><br>\n",
    "<label for=\"show\" id=\"show_answer\">\n",
    "    <span>Antwort zeigen</span>\n",
    "</label>\n",
    "<input type=radio id=\"show\" name=\"group\">\n",
    "<input type=radio id=\"hide\" name=\"group\">\n",
    "<span id=\"content\"><br>\n",
    "    <span>$c$ kennzeichnet die Stelle, an der der Graph die <b>y-Achse</b> schneidet. $x$ hat keinen Einfluss auf den Graphen oder auf $c$.</span>\n",
    "    <br><br>\n",
    "<label for=\"hide\" id=\"hide_answer\">\n",
    "    <span>Antwort verbergen</span> \n",
    "</label> \n",
    "</span>\n",
    "</div>\n"
   ]
  },
  {
   "cell_type": "code",
   "execution_count": 3,
   "metadata": {},
   "outputs": [
    {
     "data": {
      "application/vnd.jupyter.widget-view+json": {
       "model_id": "f9cffaa2475b4bb08c3a74c329a33ceb",
       "version_major": 2,
       "version_minor": 0
      },
      "text/plain": [
       "interactive(children=(FloatSlider(value=0.0, continuous_update=False, description='c', max=10.0, min=-10.0, re…"
      ]
     },
     "metadata": {},
     "output_type": "display_data"
    }
   ],
   "source": [
    "plt_function(function=\"constant\", space=(-10.0, 10), slider_step=1.0)"
   ]
  },
  {
   "cell_type": "markdown",
   "metadata": {},
   "source": []
  },
  {
   "cell_type": "markdown",
   "metadata": {},
   "source": [
    "## 4. Die lineare Funktion <a class=\"anchor\" id=\"4\"/>"
   ]
  },
  {
   "cell_type": "markdown",
   "metadata": {},
   "source": [
    "Die **lineare Funktion** ist auch unter dem Begriff *Geradengleichung* bekannt. Aus dieser Bezeichnung wird deutlich, dass die lineare Funktion graphisch eine **Gerade** darstellt."
   ]
  },
  {
   "cell_type": "markdown",
   "metadata": {},
   "source": [
    "<div class=digression>\n",
    "    <b>Exkurs</b>: Geraden\n",
    "    <br>\n",
    "    <br>\n",
    "    <b>Geraden</b> sind ein Element aus der Geometrie. Sie sind <b>gerade, unendlich lange</b> Linien, die in keine Richtung begrenzt und unendlich lang sind. Sind zwei Geraden <i>parallel</i> zueinander, haben sie nie einen gemeinsamen Schnittpunkt. Zwei <i>gleiche</i> Geraden haben unendlich viele Schnittpunkte und <i>schneidende</i> Geraden haben genau einen Schnittpunkt.  \n",
    "</div>"
   ]
  },
  {
   "cell_type": "markdown",
   "metadata": {},
   "source": [
    "Lineare Funktionen werden durch die folgende Gleichung beschrieben:<br>\n",
    "\n",
    "$f(x) = m \\cdot x  + b$<br>\n",
    "\n",
    "$x$ und $f(x)$ kennen wir bereits, $m$ und $b$ sind neu. $m$ beschreibt die **Steigung** (engl. *slope*) einer Geraden. Diese gibt an, um wie viele Einheiten sich die y-Koordinate eines Punktes verändert, wenn sich die x-Koordinate dieses Punktes um eine Einheit verändert. Die Steigung einer Geraden misst also, wie **steil** sie ansteigt oder abfällt (wenn sie negativ ist). Mit $b$ wird der **Schnittpunkt** der Geraden mit der **y-Achse** (engl. *y-intercept*) dargestellt. Wie diese Werte berechnet werden können, wird am besten durch ein Beispiel erläutert."
   ]
  },
  {
   "cell_type": "markdown",
   "metadata": {},
   "source": [
    "### 3.1. Die Berechnung der Steigung $m$ und des Schnittpunkts mit der y-Achse $b$ <a class=\"anchor\" id=\"3-1\"/>\n",
    "\n",
    "<img src=\"../src/img/calculus/linear_function_1_empty_graph.png\" align=\"center\"  style=\"width: 300px; height: 300px;\" /><br>\n",
    "\n",
    "Der Graph stellt die Funktion $f(x) = 2 \\cdot x + 2$ dar, wobei $m = 2$ und $b = 2$. Haben wir aber nur den Graphen vorliegen und wollen die Funktion erhalten, müssen wir die Steigung $m$ berechnen. $b$ erhalten wir, indem wir uns einfach den Graphen anschauen und uns notieren, in welchem Punkt die Gerade die y-Achse schneidet. Dies ist hier der Punkt $(0|2)$. Bei dem Schnittpunkt mit der y-Achse muss die x-Koordinate des Punktes immer $0$ sein. Interessant ist hier aber nur die y-Koordinate, die den Wert des Schnittpunktes beschreibt. $b$ ist somit $2$.<br>\n",
    "\n",
    "Für die Berechnung der Steigung brauchen wir den sogenannten **Differenzquotienten**. Die Formel dafür lautet:<br>\n",
    "\n",
    "$ m=\\frac{\\Delta y}{\\Delta x}=\\frac{y_2-y_1}{x_2- x_1}$<br>\n",
    "\n",
    "Neben der Formel benötigt man noch zwei Punkte $P(x_1,y_1)$ und $Q(x_2,y_2)$, die auf der Geraden liegen. Welche Punkte es sind, ist vollkommen egal, sie müssen sich nur auf der Gerade befinden. Es empfiehlt sich, Ganzzahlen zu verwenden, um die Rechnung nicht unnötig zu komplizieren. \n",
    "\n",
    "<img src=\"../src/img/calculus/linear_function_2_two_labeled_points.png\" align=\"center\"  style=\"width: 300px; height: 300px;\" /><br>\n",
    "\n",
    "Für $P$ wählen wir $(0, 2)$ (= den Schnittpunkt mit der y-Achse) und für $Q$ den Punkt $ (1,4)$. Diese Punkte setzen wir nun in unsere **Differenzquotienten**-Formel ein:<br>\n",
    "\n",
    "$ m=\\frac{4-2}{1-0}=\\frac{2}{1}=2$<br>\n",
    "\n",
    "Wir erhalten die Steigung $m = 2$."
   ]
  },
  {
   "cell_type": "markdown",
   "metadata": {},
   "source": [
    "<div class=digression>\n",
    "    <b>Exkurs</b>: Steigungsdreieck\n",
    "    <br>\n",
    "    <br>\n",
    "    Die Steigung lässt sich mit der Formel $ m=\\frac{\\Delta y}{\\Delta x}=\\frac{y_2-y_1}{x_2 - x_1} $ berechnen. ${\\Delta y}$ und ${\\Delta x}$ beschreiben dabei die <b>Differenz</b> zwischen den jeweiligen Werten. Diese Differenzen können als Linien im Graph eingezeichnet werden:<br>\n",
    "<img src=\"https://upload.wikimedia.org/wikipedia/commons/thumb/c/c1/Wiki_slope_in_2d.svg/800px-Wiki_slope_in_2d.svg.png\" style=\"width: 200px;\"/>\n",
    "    \n",
    "Dadurch ergibt sich ein Dreieck, welches <b>Steigungsdreieck</b> genannt wird. Dieses muss nicht zwangsweise mithilfe der Differenzquotienten-Formel berechnet werden (siehe z.B. diese <a href=\"https://www.mathebibel.de/lineare-funktionen-steigung-berechnen\">Webseite</a> für Details zur Berechnung).\n",
    "</div>"
   ]
  },
  {
   "cell_type": "markdown",
   "metadata": {},
   "source": [
    "### 3.2. Von der Formel zum Graphen"
   ]
  },
  {
   "cell_type": "markdown",
   "metadata": {},
   "source": [
    "Gegeben: $f(x) = 3 \\cdot x + 1$\n",
    "\n",
    "Hat man eine lineare Funktionsgleichung vorliegen und möchte einen Graphen zeichnen, sollten folgende Schritte befolgt werden:\n",
    "1. **$b$ einzeichnen**. $b$ ist in der vorliegenden Gleichung $1$, d.h. die Punktkoordinate ist $(0|1)$. \n",
    "2. **Steigung $m$ als Bruch $\\frac{n}{m}$ darstellen**. $m$ ist in der vorliegenden Gleichung $3$, der Bruch ist dementsprechend $\\frac{3}{1}$.\n",
    "3. **Von Schnittpunkt mit der y-Achse $n$ Schritte nach rechts gehen und $m$ Schritte nach oben ($n$ = Zähler des Steigungsbruch, $m$ = Nenner der Steigungsbruch)**. Ist der Steigungsbruch negativ, muss $m$ Schritte nach unten gegangen werden.\n",
    "4. **Endpunkt einzeichnen**. Hier ist das der Punkt $(1|4)$.\n",
    "5. **Gerade durch die beiden eingezeichneten Punkte zeichnen**.\n",
    "\n",
    "Für die gegebene Funktion wird die Vorgehensweise im folgenden Gif dargestellt:<br>\n",
    "\n",
    "<img src=\"../src/img/calculus/linear_function_3_draw_graph.gif\" align=\"center\" style=\"width: 350px;\"/>"
   ]
  },
  {
   "cell_type": "markdown",
   "metadata": {},
   "source": [
    "## Lineare Funktionen Quiz <a class=\"anchor\" id=\"q2\"/>"
   ]
  },
  {
   "cell_type": "markdown",
   "metadata": {},
   "source": [
    "TODO: Quiz!! Bilder mit mac und desmos erstellen und affinity und dann hier einbinden. quiz referenziert dann darauf"
   ]
  },
  {
   "cell_type": "markdown",
   "metadata": {},
   "source": []
  },
  {
   "cell_type": "code",
   "execution_count": 5,
   "metadata": {},
   "outputs": [
    {
     "data": {
      "application/vnd.jupyter.widget-view+json": {
       "model_id": "ee14e3b745f14ce7a4ff23f776e772a4",
       "version_major": 2,
       "version_minor": 0
      },
      "text/plain": [
       "VBox(children=(Output(), RadioButtons(layout=Layout(width='max-content'), options=(('Nichts, sie beschreiben e…"
      ]
     },
     "metadata": {},
     "output_type": "display_data"
    },
    {
     "data": {
      "application/vnd.jupyter.widget-view+json": {
       "model_id": "728d57b1590f40709bf05bf9c95e5275",
       "version_major": 2,
       "version_minor": 0
      },
      "text/plain": [
       "VBox(children=(Output(), RadioButtons(layout=Layout(width='max-content'), options=(('x-Werte: Definitionsmenge…"
      ]
     },
     "metadata": {},
     "output_type": "display_data"
    },
    {
     "data": {
      "application/vnd.jupyter.widget-view+json": {
       "model_id": "b8d2833196d149afb800b3313be5b431",
       "version_major": 2,
       "version_minor": 0
      },
      "text/plain": [
       "VBox(children=(Output(), RadioButtons(layout=Layout(width='max-content'), options=(('Wenn sie in der Funktions…"
      ]
     },
     "metadata": {},
     "output_type": "display_data"
    },
    {
     "data": {
      "text/markdown": [
       "---\n",
       "---\n"
      ],
      "text/plain": [
       "<IPython.core.display.Markdown object>"
      ]
     },
     "metadata": {},
     "output_type": "display_data"
    },
    {
     "data": {
      "application/vnd.jupyter.widget-view+json": {
       "model_id": "6b1862e1dad642529cf6faaa2bc0ea84",
       "version_major": 2,
       "version_minor": 0
      },
      "text/plain": [
       "VBox(children=(Button(description='Ausgewählte Antworten überprüfen', layout=Layout(width='40%'), style=Button…"
      ]
     },
     "metadata": {},
     "output_type": "display_data"
    }
   ],
   "source": [
    "start_quiz(1, \"calculus\")"
   ]
  },
  {
   "cell_type": "code",
   "execution_count": null,
   "metadata": {},
   "outputs": [],
   "source": []
  },
  {
   "cell_type": "code",
   "execution_count": null,
   "metadata": {},
   "outputs": [],
   "source": []
  },
  {
   "cell_type": "code",
   "execution_count": null,
   "metadata": {},
   "outputs": [],
   "source": []
  },
  {
   "cell_type": "code",
   "execution_count": null,
   "metadata": {},
   "outputs": [],
   "source": []
  },
  {
   "cell_type": "markdown",
   "metadata": {},
   "source": [
    "### 2.2. Darstellung von Funktionen <a class=\"anchor\" id=\"2-2\"/>"
   ]
  },
  {
   "cell_type": "markdown",
   "metadata": {},
   "source": [
    "Funktionen können auch graphisch dargestellt werden."
   ]
  },
  {
   "cell_type": "code",
   "execution_count": 6,
   "metadata": {},
   "outputs": [
    {
     "data": {
      "image/png": "[encoded data removed]",
      "text/plain": [
       "<Figure size 432x288 with 1 Axes>"
      ]
     },
     "metadata": {
      "needs_background": "light"
     },
     "output_type": "display_data"
    }
   ],
   "source": [
    "import matplotlib.pyplot as plt\n",
    "import numpy as np\n",
    "\n",
    "# 100 linearly spaced numbers\n",
    "x = np.linspace(-3, 3, num=100)\n",
    "\n",
    "# the function, which is y = x^2 here\n",
    "y = 4*x + 2\n",
    "\n",
    "# Find the slope and intercept of the best fit line\n",
    "slope, intercept = np.polyfit(x, y, 1)\n",
    "\n",
    "# Create a list of values in the best fit line\n",
    "abline_values = [slope * i + intercept for i in x]\n",
    "\n",
    "# setting the axes at the centre\n",
    "fig = plt.figure()\n",
    "\n",
    "ax = fig.add_subplot(1, 1, 1)\n",
    "ax.spines['left'].set_position('center')\n",
    "ax.spines['bottom'].set_position('zero')\n",
    "ax.spines['right'].set_color('none')\n",
    "ax.spines['top'].set_color('none')\n",
    "ax.xaxis.set_ticks_position('bottom')\n",
    "ax.yaxis.set_ticks_position('left')\n",
    "ax.set_xlim([-5,5])\n",
    "ax.set_ylim([-5,5])\n",
    "\n",
    "# plot the function\n",
    "plt.plot(x, y)\n",
    "#plt.plot(x, abline_values, 'b')\n",
    "\n",
    "# show the plot\n",
    "plt.show()"
   ]
  },
  {
   "cell_type": "code",
   "execution_count": null,
   "metadata": {},
   "outputs": [],
   "source": []
  },
  {
   "cell_type": "code",
   "execution_count": null,
   "metadata": {},
   "outputs": [],
   "source": []
  },
  {
   "cell_type": "code",
   "execution_count": null,
   "metadata": {},
   "outputs": [],
   "source": []
  },
  {
   "cell_type": "markdown",
   "metadata": {},
   "source": [
    "### 2.?. Rechnen mit Funktionen <a class=\"anchor\" id=\"2-?\"/>"
   ]
  },
  {
   "cell_type": "code",
   "execution_count": null,
   "metadata": {},
   "outputs": [],
   "source": []
  },
  {
   "cell_type": "code",
   "execution_count": null,
   "metadata": {},
   "outputs": [],
   "source": []
  },
  {
   "cell_type": "markdown",
   "metadata": {},
   "source": [
    "<div class=task>\n",
    "    <b>Aufgabe</b> : Dies ist eine Aufgabe\n",
    "    <br>\n",
    "    <br>\n",
    "</div>"
   ]
  },
  {
   "cell_type": "markdown",
   "metadata": {},
   "source": [
    "<div class=warn>\n",
    "    <b>Achtung</b> : Dies ist ein Achtung-Feld.\n",
    "    <br>\n",
    "    <br>\n",
    "</div>"
   ]
  },
  {
   "cell_type": "markdown",
   "metadata": {},
   "source": [
    "<div class=note>\n",
    "    <b>Hinweis</b> : Dies ist ein Hinweis-Feld.\n",
    "    <br>\n",
    "    <br>\n",
    "</div>"
   ]
  },
  {
   "cell_type": "code",
   "execution_count": null,
   "metadata": {},
   "outputs": [],
   "source": []
  }
 ],
 "metadata": {
  "kernelspec": {
   "display_name": "Python 3",
   "language": "python",
   "name": "python3"
  },
  "language_info": {
   "codemirror_mode": {
    "name": "ipython",
    "version": 3
   },
   "file_extension": ".py",
   "mimetype": "text/x-python",
   "name": "python",
   "nbconvert_exporter": "python",
   "pygments_lexer": "ipython3",
   "version": "3.8.1"
  }
 },
 "nbformat": 4,
 "nbformat_minor": 2
}
