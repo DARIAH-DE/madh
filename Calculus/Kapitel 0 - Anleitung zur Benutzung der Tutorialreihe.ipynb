{
 "cells": [
  {
   "cell_type": "markdown",
   "metadata": {},
   "source": [
    "# Kapitel 0 - Anleitung zur Benutzung der Tutorialreihe"
   ]
  },
  {
   "cell_type": "markdown",
   "metadata": {},
   "source": [
    "TODO:\n",
    "- wie installiere ich die Module? -> ZEIGEN oder MADH als Package zur Verfügung stellen\n",
    "- am Anfang immer Notebook ausführen -> ZEIGEN\n",
    "- was sind diese bunten Blöcke? -> ERKLÄREN\n",
    "- wie funktionieren die Quizze? -> ZEIGEN\n",
    "- "
   ]
  },
  {
   "cell_type": "code",
   "execution_count": null,
   "metadata": {},
   "outputs": [],
   "source": []
  }
 ],
 "metadata": {
  "kernelspec": {
   "display_name": "Python 3",
   "language": "python",
   "name": "python3"
  },
  "language_info": {
   "codemirror_mode": {
    "name": "ipython",
    "version": 3
   },
   "file_extension": ".py",
   "mimetype": "text/x-python",
   "name": "python",
   "nbconvert_exporter": "python",
   "pygments_lexer": "ipython3",
   "version": "3.7.4"
  }
 },
 "nbformat": 4,
 "nbformat_minor": 2
}
