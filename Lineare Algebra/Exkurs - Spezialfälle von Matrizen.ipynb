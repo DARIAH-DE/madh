{
 "cells": [
  {
   "cell_type": "markdown",
   "metadata": {},
   "source": [
    "# Spezialfälle von Matrizen <a class=\"anchor\" id=\"3-2-2\"/>\n",
    "\n",
    "\n",
    "Die quadratische Matrix und ihre Hauptdiagonale: \n",
    "<img src=\"bilder\\matrix_hauptdiagonale.png\" height=\"400\" width=\"400\" />\n",
    "\n",
    "Zum einen gibt es die *quadratische* Matrix, die, wie der Name schon vermuten lässt, dieselbe Anzahl an Zeilen hat wie an Spalten, also $(nxn)$. <br>\n",
    "<br>\n",
    "\n",
    "$A^{nxn}$ = $\\begin{pmatrix}                             \n",
    "a_{11} & a_{12} & \\cdots & a_{1n} \\\\                                               \n",
    "a_{21} & a_{22}  & \\cdots & a_{2n} \\\\                                                                                   \\vdots  & \\vdots  & \\ddots & \\vdots \\\\\n",
    "a_{n1} & a_{n2} & \\cdots & a_{nn}\\\\\n",
    "\\end{pmatrix}$ <br>\n",
    "<br>\n",
    "\n",
    "Wenn lediglich die Werte der Hauptdiagonalen einer quadratischen Matrix ungleich 0 sind, dann liegt eine *Diagonalmatrix* vor. \n",
    "\n",
    "$A^{nxn}$ = $\\begin{pmatrix}                             \n",
    "3 & 0 & \\cdots & 0 \\\\                                               \n",
    "0 & 6  & \\cdots & 0 \\\\                                                                                   \\vdots  & \\vdots  & \\ddots & \\vdots \\\\\n",
    "0 & 0 & \\cdots & 2\\\\\n",
    "\\end{pmatrix}$ <br>\n",
    "<br>\n",
    "\n",
    "Wenn alle Werte auf der Hauptdiagonalen hingegen eine 1 sind, dann liegt eine *Einheitsmatrix* vor. \n",
    "\n",
    "$A^{nxn}$ = $\\begin{pmatrix}                             \n",
    "1 & 0 & \\cdots & 0 \\\\                                               \n",
    "0 & 1  & \\cdots & 0 \\\\                                                                                   \\vdots  & \\vdots  & \\ddots & \\vdots \\\\\n",
    "0 & 0 & \\cdots & 1\\\\\n",
    "\\end{pmatrix}$ <br>\n",
    "<br>\n",
    "\n",
    "Eine *symmetrische* Matx ist eine Matrix, die bezüglich ihrer Hauptdiagonalen symmetrisch ist. \n",
    "\n",
    "$A^{4x4}$ = $\\begin{pmatrix}                             \n",
    "2 & \\color{blue}4 & \\color{green}3 & \\color{violet}8 \\\\                                               \n",
    "\\color{blue}4 & 5  & \\color{red}1 & \\color{orange}6 \\\\                                                                                   \n",
    "\\color{green}3 & \\color{red}1  & 2 & \\color{red}7\\\\\n",
    "\\color{violet}8 & \\color{orange}6  & \\color{red}7 & 9\\\\\n",
    "\\end{pmatrix}$ <br>\n",
    "<br>\n",
    "\n"
   ]
  },
  {
   "cell_type": "code",
   "execution_count": null,
   "metadata": {},
   "outputs": [],
   "source": []
  }
 ],
 "metadata": {
  "kernelspec": {
   "display_name": "Python 3",
   "language": "python",
   "name": "python3"
  },
  "language_info": {
   "codemirror_mode": {
    "name": "ipython",
    "version": 3
   },
   "file_extension": ".py",
   "mimetype": "text/x-python",
   "name": "python",
   "nbconvert_exporter": "python",
   "pygments_lexer": "ipython3",
   "version": "3.7.6"
  }
 },
 "nbformat": 4,
 "nbformat_minor": 4
}
