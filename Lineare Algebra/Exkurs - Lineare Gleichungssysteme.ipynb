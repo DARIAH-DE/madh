{
 "cells": [
  {
   "cell_type": "markdown",
   "metadata": {},
   "source": [
    "# Lineare Gleichungssysteme\n"
   ]
  },
  {
   "cell_type": "markdown",
   "metadata": {},
   "source": [
    "*Lineare Gleichungen* wie  $y = 2x−3$ kennen wir bereits aus der Schulzeit. Ein *lineares Gleichungssystem* besteht aus mindestens zwei solcher *linearen Gleichungen*, z.B. (1) $y = 2x−3$ und (2) $y = −x+6$. Der Wert der Variablen muss für alle Gleichungen des Gleichungssystems gelten. Um den Wert der Variablen zu erhalten, müssen wir das lineare Gleichungssystem lösen. Das geht zum einen **grafisch** und zum anderen **analytisch**. <br>\n",
    "<br>\n",
    "Um ein besseres Gefühl für das Lösen linearer Gleichungssysteme zu bekommen, beginnen wir mit der **grafischen** Heransgehensweise. Wir können die linearen Gleichungen zunächst als Geraden in ein Koordinatensystem einzeichen. Der **Schnittpunkt** der Geraden $y = 2x−3$ und $y = −x+6$ ist die *gemeinsame* Lösung der Gleichungen.\n",
    "\n",
    "<img src=\"bilder\\lin_gleichungssystem1.png\" height=\"400\" width=\"400\" style=\"float:left;\"/>\n",
    "\n",
    "\n",
    "Der Schnittpunkt liegt hier bei $y=3$ und $x=3$, d.h. P(3,3). Das heißt unser Wert für $x$ ist 3.  Setzen wir 3 für x in den Gleichungen ein, ist in beiden Fällen das Ergebnis $y=3$<br>\n",
    "$\\;\\;\\;\\;\\;\\;$ (1) $2*3-3=3$ <br>\n",
    "$\\;\\;\\;\\;\\;\\;$ (2) $-3+6 =3$ <br>\n",
    "\n"
   ]
  },
  {
   "cell_type": "markdown",
   "metadata": {},
   "source": [
    "\n",
    "Kommen wir nun zu den **analytischen** Lösungsverfahren: *Gleichsetzungsverfahren, Einsetzungsverfahren* und *Additions-*bzw *Subtraktiosnverfahren*.<br>\n",
    "1. Gleichsetzungsverfahren<br>\n",
    "Bei dem Gleichsetzungsverfahren werden die Gleichungen nach derselben Variable aufgelöst und *gleichgesetzt*.\n",
    "    1. Zunächst müssen beide Gleichungen nach derselben Variable aufgelöst werden. In unserem Beispiel brauchen wir hierfür nichts weiter tun, weil beide Gleichungen nach $y$ augelöst sind. Es gilt $y=y$ und $2x-3 = -x+6$.\n",
    "    2. Jetzt muss  $2x-3 = -x+6$ nach der verbleibenden Variablen, hier: $x$, aufgelöst werden. <br>\n",
    "    $\\;\\;\\;\\;\\;\\;$ $2x-3 = -x+6$ <span style=\"color:blue\">| +x </span> <br>\n",
    "    $\\;\\;\\;\\;\\;\\;$ $3x-3 = 6$  <span style=\"color:blue\">| +3</span> <br>\n",
    "    $\\;\\;\\;\\;\\;\\;$ $3x = 9$ <span style=\"color:blue\">| :3 </span> <br>\n",
    "    $\\;\\;\\;\\;\\;\\;$ $x = 3$ <br>\n",
    "    \n",
    "    3. Wir haben nun den Wert $x=3$ erhalten, welcher außerdem der bereits grafisch generierten Lösung entspricht. Nun können wir 3 für x einsetzen und erhalten den Wert der Variable y.<br>\n",
    "     $\\;\\;\\;\\;\\;\\;$ $2*3-3=3$ <br>\n",
    "     $\\;\\;\\;\\;\\;\\;$ $-3+6=3$ <br>\n",
    "<br>\n",
    "2. Einsetzungsverfahren <br>\n",
    "Beim Einsetzungsverfahren lösen wir eine der Gleichungen nach einer Variable auf und setzen den resultierenden Term in die andere Gleichung ein. <br>\n",
    "    1. $2x-3=y$ soll nach $x$ aufgelöst werden. <br>\n",
    "    $\\;\\;\\;\\;\\;\\;$ $2x-3=y$ <span style=\"color:blue\">| +3 </span> <br>\n",
    "    $\\;\\;\\;\\;\\;\\;$ $2x=y+3$ <span style=\"color:blue\">| :2 </span> <br>\n",
    "    $\\;\\;\\;\\;\\;\\;$ $x=\\frac{y}{2}+1.5$\n",
    "    2. $\\frac{y}{2}+1.5$ wird nun für $x$ eingesetzt. <br>\n",
    "    $\\;\\;\\;\\;\\;\\;$ $-(\\frac{y}{2}+1.5)+6 =y$ <br>\n",
    "    $\\;\\;\\;\\;\\;\\;$ $-\\frac{y}{2}-1.5+6 =y$ <span style=\"color:blue\">| $*2$ </span> <br>\n",
    "    $\\;\\;\\;\\;\\;\\;$ $-y-3+12 =2y$ <span style=\"color:blue\">| +y </span> <br>\n",
    "    $\\;\\;\\;\\;\\;\\;$ $ 9 = 3y$ <span style=\"color:blue\">| :3 </span> <br>\n",
    "    $\\;\\;\\;\\;\\;\\;$ $ 3 = y$\n",
    "    \n",
    "    3. Nun können wir für $y$ 3 einsetzen und erhalten den Wert der Variablen $x$ <br>\n",
    "     $\\;\\;\\;\\;\\;\\;$ $-x+6=3$ <span style=\"color:blue\">| +-6 </span> <br>\n",
    "     $\\;\\;\\;\\;\\;\\;$ $-x=-3$ <span style=\"color:blue\">| :(-1) </span> <br>\n",
    "     $\\;\\;\\;\\;\\;\\;$ $x=3$ <br>\n",
    "    \n",
    "\n",
    "3. Additionsverfahren\n",
    "    1. Für das Additionsverfahren wird zunächst eine Variable ausgewählt, die eliminiert werden soll. Wir entscheiden uns für die Variable $x$.\n",
    "    2. Dazu multiplizieren wir die Gleichung $-x+6=y$ mit 2 und erhalten $-2x+12=2y$.\n",
    "    3. <span style=\"color:blue\">-2x+12=2y</span> können wir nun mit der Gleichung $2x-3=y$ addieren, um die Variable $x$ zu eliminieren.<br>\n",
    "    $\\;\\;\\;\\;\\;\\;$   <span style=\"color:blue\">$-2x$</span> $+ 2x +$ <span style=\"color:blue\">$12$</span> $-3 = $<span style=\"color:blue\">2y</span> $+ y$.<br>\n",
    "    $\\;$ $\\Longleftrightarrow 9=3y$<br>\n",
    "    \n",
    "    4. Nun muss $9=3y$ nach y aufgelöst werden. <br>\n",
    "    $\\;\\;\\;\\;\\;\\;$ $9=3y$ <span style=\"color:blue\">| :3 </span> <br>\n",
    "    $\\;\\;\\;\\;\\;\\;$ $3=y$ <br>\n",
    "    \n",
    "    4. Nun können wir wieder $y=3$ einsetzen, um den Wert der Variable $x$ zu erhalten. Vergleiche dazu Punkt *C* in *2. Einsetzungsverfahren.*<br> \n",
    "\n",
    "    \n",
    "\n"
   ]
  }
 ],
 "metadata": {
  "kernelspec": {
   "display_name": "Python 3",
   "language": "python",
   "name": "python3"
  },
  "language_info": {
   "codemirror_mode": {
    "name": "ipython",
    "version": 3
   },
   "file_extension": ".py",
   "mimetype": "text/x-python",
   "name": "python",
   "nbconvert_exporter": "python",
   "pygments_lexer": "ipython3",
   "version": "3.7.6"
  }
 },
 "nbformat": 4,
 "nbformat_minor": 4
}
