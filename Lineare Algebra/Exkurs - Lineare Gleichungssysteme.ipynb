{
 "cells": [
  {
   "cell_type": "markdown",
   "metadata": {},
   "source": [
    "# Lineare Gleichungssysteme\n",
    "\n",
    "In Referenz auf das Kapitel 2 in *Grundlagen der Linearen Algebra*"
   ]
  },
  {
   "cell_type": "markdown",
   "metadata": {},
   "source": [
    "*Lineare Gleichungen* wie  $y = 2x−3$ kennen wir bereits aus der Schulzeit. Ein *lineares Gleichungssystem* besteht aus mindestens zwei solcher *linearen Gleichungen*, z.B. (1) $y = 2x−3$ und (2) $y = −x+6$. Der Wert der Variablen muss für alle Gleichungen des Gleichungssystems gelten. Um den Wert der Variablen zu erhalten, müssen wir das lineare Gleichungssystem lösen. Das geht zum einen **grafisch** und zum anderen **analytisch**. <br>\n",
    "<br>\n",
    "Um ein besseres Gefühl für das Lösen linearer Gleichungssysteme zu bekommen, beginnen wir mit der **grafischen** Heransgehensweise. Wir können die linearen Gleichungen zunächst als Geraden in ein Koordinatensystem einzeichen. Der **Schnittpunkt** der Geraden $y = 2x−3$ und $y = −x+6$ ist die *gemeinsame* Lösung der Gleichungen.\n",
    "\n",
    "<img src=\"bilder\\lin_gleichungssystem1.png\" height=\"400\" width=\"400\" style=\"float:left;\"/>\n",
    "\n",
    "\n",
    "Der Schnittpunkt liegt hier bei $y=3$ und $x=3$, d.h. P(3,3). Das heißt unser Wert für $x$ ist 3.  Setzen wir 3 für x in den Gleichungen ein, ist in beiden Fällen das Ergebnis $y=3$<br>\n",
    "$\\;\\;\\;\\;\\;\\;$ (1) $2*3-3=3$ <br>\n",
    "$\\;\\;\\;\\;\\;\\;$ (2) $-3+6 =3$ <br>\n",
    "\n"
   ]
  },
  {
   "cell_type": "markdown",
   "metadata": {},
   "source": [
    "\n",
    "Kommen wir nun zu den **analytischen** Lösungsverfahren: *Gleichsetzungsverfahren, Einsetzungsverfahren* und *Additions-*bzw *Subtraktiosnverfahren*.<br>\n",
    "1. Gleichsetzungsverfahren<br>\n",
    "Bei dem Gleichsetzungsverfahren werden die Gleichungen nach derselben Variable aufgelöst und *gleichgesetzt*.\n",
    "    1. Zunächst müssen beide Gleichungen nach derselben Variable aufgelöst werden. In unserem Beispiel brauchen wir hierfür nichts weiter tun, weil beide Gleichungen nach $y$ augelöst sind. Es gilt $y=y$ und $2x-3 = -x+6$.\n",
    "    2. Jetzt muss  $2x-3 = -x+6$ nach der verbleibenden Variablen, hier: $x$, aufgelöst werden. <br>\n",
    "    $\\;\\;\\;\\;\\;\\;$ $2x-3 = -x+6$ <span style=\"color:blue\">| +x </span> <br>\n",
    "    $\\;\\;\\;\\;\\;\\;$ $3x-3 = 6$  <span style=\"color:blue\">| +3</span> <br>\n",
    "    $\\;\\;\\;\\;\\;\\;$ $3x = 9$ <span style=\"color:blue\">| :3 </span> <br>\n",
    "    $\\;\\;\\;\\;\\;\\;$ $x = 3$ <br>\n",
    "    \n",
    "    3. Wir haben nun den Wert $x=3$ erhalten, welcher außerdem der bereits grafisch generierten Lösung entspricht. Nun können wir 3 für x einsetzen und erhalten den Wert der Variable y.<br>\n",
    "     $\\;\\;\\;\\;\\;\\;$ $2*3-3=3$ <br>\n",
    "     $\\;\\;\\;\\;\\;\\;$ $-3+6=3$ <br>\n",
    "<br>\n",
    "2. Einsetzungsverfahren <br>\n",
    "Beim Einsetzungsverfahren lösen wir eine der Gleichungen nach einer Variable auf und setzen den resultierenden Term in die andere Gleichung ein. <br>\n",
    "    1. $2x-3=y$ soll nach $x$ aufgelöst werden. <br>\n",
    "    $\\;\\;\\;\\;\\;\\;$ $2x-3=y$ <span style=\"color:blue\">| +3 </span> <br>\n",
    "    $\\;\\;\\;\\;\\;\\;$ $2x=y+3$ <span style=\"color:blue\">| :2 </span> <br>\n",
    "    $\\;\\;\\;\\;\\;\\;$ $x=\\frac{y}{2}+1.5$\n",
    "    2. $\\frac{y}{2}+1.5$ wird nun für $x$ eingesetzt. <br>\n",
    "    $\\;\\;\\;\\;\\;\\;$ $-(\\frac{y}{2}+1.5)+6 =y$ <br>\n",
    "    $\\;\\;\\;\\;\\;\\;$ $-\\frac{y}{2}-1.5+6 =y$ <span style=\"color:blue\">| $*2$ </span> <br>\n",
    "    $\\;\\;\\;\\;\\;\\;$ $-y-3+12 =2y$ <span style=\"color:blue\">| +y </span> <br>\n",
    "    $\\;\\;\\;\\;\\;\\;$ $ 9 = 3y$ <span style=\"color:blue\">| :3 </span> <br>\n",
    "    $\\;\\;\\;\\;\\;\\;$ $ 3 = y$\n",
    "    \n",
    "    3. Nun können wir für $y$ 3 einsetzen und erhalten den Wert der Variablen $x$ <br>\n",
    "     $\\;\\;\\;\\;\\;\\;$ $-x+6=3$ <span style=\"color:blue\">| +-6 </span> <br>\n",
    "     $\\;\\;\\;\\;\\;\\;$ $-x=-3$ <span style=\"color:blue\">| :(-1) </span> <br>\n",
    "     $\\;\\;\\;\\;\\;\\;$ $x=3$ <br>\n",
    "    \n",
    "\n",
    "3. Additionsverfahren\n",
    "    1. Für das Additionsverfahren wird zunächst eine Variable ausgewählt, die eliminiert werden soll. Wir entscheiden uns für die Variable $x$.\n",
    "    2. Dazu multiplizieren wir die Gleichung $-x+6=y$ mit 2 und erhalten $-2x+12=2y$.\n",
    "    3. <span style=\"color:blue\">-2x+12=2y</span> können wir nun mit der Gleichung $2x-3=y$ addieren, um die Variable $x$ zu eliminieren.<br>\n",
    "    $\\;\\;\\;\\;\\;\\;$   <span style=\"color:blue\">$-2x$</span> $+ 2x +$ <span style=\"color:blue\">$12$</span> $-3 = $<span style=\"color:blue\">2y</span> $+ y$.<br>\n",
    "    $\\;$ $\\Longleftrightarrow 9=3y$<br>\n",
    "    \n",
    "    4. Nun muss $9=3y$ nach y aufgelöst werden. <br>\n",
    "    $\\;\\;\\;\\;\\;\\;$ $9=3y$ <span style=\"color:blue\">| :3 </span> <br>\n",
    "    $\\;\\;\\;\\;\\;\\;$ $3=y$ <br>\n",
    "    \n",
    "    4. Nun können wir wieder $y=3$ einsetzen, um den Wert der Variable $x$ zu erhalten. Vergleiche dazu Punkt *C* in *2. Einsetzungsverfahren.*<br> \n",
    "\n",
    "    \n",
    "\n",
    "\n",
    "\n",
    "-> eher als Exkurs einfügen"
   ]
  },
  {
   "cell_type": "markdown",
   "metadata": {},
   "source": [
    "### <span style=\"color:green\">Aufgabe:</span> <br>\n",
    "<img src=\"bilder\\aepfel_banane.jpg\" height=\"200\" width=\"200\" style=\"float:left;\"/>\n",
    "\n",
    "Mal angenommen ihr seit auf einem Gemüse- und Obstmarkt. Der Stand, von dem ihr Bananen und Äpfel kaufen wollt, hat keine Preise vermerkt. Da das Obst trotzdem gut aussieht, kauft ihr 2 Äpfel und 3 Bananen und zahlt 8 Euro. Ein anderes Mal kauft ihr 10 Äpfel und 1 Banane und zahlt 13 Euro. Ihr wundert euch über die Preise und möchtet jetzt doch wissen, wie hoch der Preis eines Apfels und einer Banane ist. <br>\n",
    "<br>\n",
    "<br>\n",
    "(1) Beim ersten Mal habt ihr 2 Äpfel und 3 Bananen gekauft, wofür ihr 8 Euro gezahlt habt $\\rightarrow$ 2a + 3b = 8 <br>\n",
    "(2) Beim zweiten Mal habt ihr 10 Äpfel und 1 Banane gekauft, wofür ihr 13 Euro gezahlt habt $\\rightarrow$ 10a + 1b = 13 <br>\n",
    "<br>\n",
    "\n",
    "1. Löst das Gleichungssystem mit den Gleichungen $2a + 3b = 8$ und $10a + 1b = 13$ zunächst mithilfe des grafischen Lösungsverfahren.\n",
    "2. Löst das Gleichungssystem mit den Gleichungen $2a + 3b = 8$ und $10a + 1b = 13$ mithilfe eines der genannten analytischen Verfahren, ihr könnt euch gerne eines aussuchen. Lösungen werden für alle drei Verfahren angeboten.\n",
    "3. Bisher haben wir lineare Gleichungssysteme mit einer Lösung betrachtet, d.h. einem einzigen Schnittpunkt. Könnt ihr euch Gleichungssysteme mit unendlich vielen Lösungen oder auch gar keiner Lösung vorstellen? Zeichnet für beide Möglichkeiten ein Beispiel. Ihr müsst euch dazu keine Gleichung ausdenken, ein Koordinatensystem mit Geraden reicht. Beschreibe deine Beobachtungen. <br>\n",
    "\n",
    "<br>\n",
    "<span style=\"color:green\">Ihr müsst nichts programmieren. Zeichnet und rechnet gerne alles auf einem Blatt Papier. </span> <br>"
   ]
  },
  {
   "cell_type": "code",
   "execution_count": null,
   "metadata": {},
   "outputs": [],
   "source": []
  }
 ],
 "metadata": {
  "kernelspec": {
   "display_name": "Python 3",
   "language": "python",
   "name": "python3"
  },
  "language_info": {
   "codemirror_mode": {
    "name": "ipython",
    "version": 3
   },
   "file_extension": ".py",
   "mimetype": "text/x-python",
   "name": "python",
   "nbconvert_exporter": "python",
   "pygments_lexer": "ipython3",
   "version": "3.7.6"
  }
 },
 "nbformat": 4,
 "nbformat_minor": 4
}
