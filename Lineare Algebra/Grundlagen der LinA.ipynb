{
 "cells": [
  {
   "cell_type": "markdown",
   "metadata": {},
   "source": [
    "# Grundlagen der Linearen Algebra\n",
    "\n",
    "<img src=\"bilder/linear_alg.png\" height=\"400\" width=\"400\"/> "
   ]
  },
  {
   "cell_type": "markdown",
   "metadata": {},
   "source": [
    "### Inhaltsverzeichnis\n",
    "\n",
    "[1. Einleitung](#1)<br>\n",
    "$\\;\\;\\;\\;\\;\\;$ [1.1. Motivation](#1-1)<br>\n",
    "$\\;\\;\\;\\;\\;\\;$ [1.2. Struktur](#1-2)<br>\n",
    "\n",
    "\n",
    "[2. Lineare Gleichungssysteme](#2)<br>\n",
    "\n",
    "[3. Matrizen und Vektoren](#3)<br>\n",
    "$\\;\\;\\;\\;\\;\\;$ [3.1. Vektoren](#3-1)<br>\n",
    "$\\;\\;\\;\\;\\;\\;$ [3.1.1. Was sind Vektoren](#3-1-1)<br>\n",
    "$\\;\\;\\;\\;\\;\\;$ [3.1.2. Rechenoperationen mit Vektoren](#3-1-2)<br>\n",
    "$\\;\\;\\;\\;\\;\\;$ [3.1.3. Vektorräume / Geometrie in Vektorräumen](#3-1-3)<br>\n",
    "[3.2. Matrizen](#3-2)<br>\n",
    "$\\;\\;\\;\\;\\;\\;$ [3.2.1. Was sind Matrizen?](#3-2-1)<br>\n",
    "$\\;\\;\\;\\;\\;\\;$ [3.2.2. Rechenoperationen mit Matrizen](#3-2-2)<br>\n",
    "[4. Eigenwerte und Eigenvektoren](#4)<br>\n",
    "$\\;\\;\\;\\;\\;\\;$ [4.1. Definition?](#4-1)<br>\n",
    "$\\;\\;\\;\\;\\;\\;$ [4.2. ..](#4-2)<br>\n",
    "\n"
   ]
  },
  {
   "cell_type": "markdown",
   "metadata": {},
   "source": [
    "## 1. Einleitung <a class=\"anchor\" id=\"1\"/>"
   ]
  },
  {
   "cell_type": "markdown",
   "metadata": {},
   "source": [
    "Ziel dieses Grundlagen-Tutorials zur Linearen Algebra ist es möglichst einfach und verständlich ein Grundverständnis für die Linearen Algebra zu legen. Dabei richten sich die vorgestellten Inhalte insbesondere an Digital Humanities-Studierende."
   ]
  },
  {
   "cell_type": "markdown",
   "metadata": {},
   "source": [
    "### 1.1. Motivation<a class=\"anchor\" id=\"1-1\"/>\n",
    "\n",
    "Lineare Algebra begleitet euch durch euer gesamtes Studium. Wenn man so will, war das die schlechte Nachricht. Aber das wars auch schon, wirklich. Die gute Nachricht ist nämlich, das Lineare Algebra in der Form, in der ihr sie benötigt und anwendet, gar nicht so schwer ist. Und die noch bessere Nachricht ist, dass einpaar Grundkenntnisse der Linearen Algebra euch das Leben dauerhaft leichter machen werden. Ihr entwickelt nämlich ein viel intuitiveres Verständnis für Themenbereiche wie Maschinelles Lernen und Information Retrieval. Sie wirken nicht mehr wie eine Black Box auf euch, ihr könnt mit weniger Angst lernen und euch neue Themengebiete erschließen. Das spart euch während des Semesters Nerven und Zeit. <br>\n",
    "\n",
    "<br>\n",
    "Im Folgenden nenne ich euch ein paar ausgewählte Themengebiete der Digital Humanities, die Konzepte der Linearen Algebra verwenden. \n",
    "\n",
    "1. Datenrepräsentation\n",
    "    - Repräsentation von Dokumenten als Vektoren (Information Retrieval)\n",
    "    - Repräsentation von Worten als Vektoren (Word Embeddings im Machine Learning)<br>\n",
    "    <br>\n",
    "    <img src=\"bilder\\vektor.png\" height=\"400\" width=\"400\"/>   <br>\n",
    "    <br>\n",
    "    \n",
    "    \n",
    "    \n",
    "2. Datendimensionsreduktion\n",
    " \n",
    "    - ein Verfahren, dass beispielsweise für Datenvisualisierungen genutzt werden kann, z.B. das Visualisieren von Word Embeddings und die Identifizierung von Wordclustern. So können bspw. Textdaten näher untersucht werden. <br>\n",
    "    <br>\n",
    "<img src=\"bilder\\word_emb1.png\" height=\"400\" width=\"400\"/>   <br>\n",
    "<br>\n",
    "   \n",
    "    \n",
    "3. Klassifikation und Regression<br>\n",
    "<br>\n",
    "<img src=\"bilder\\klassifikation-regression-machine-learning.png\" height=\"900\" width=\"900\"/> <br>\n",
    "<br>\n",
    "   \n",
    "4. Clustering \n",
    "    - beim Clustering werden beispielsweise Abstände von Vektoren genutzt<br>\n",
    "    <br>\n",
    "    <img src=\"bilder\\clustering.png\" height=\"500\" width=\"500\"/>   <br>\n",
    "    <br>\n",
    "    \n",
    "5. Statistik\n",
    "    - beim Arbeiten mit mehrdimensionalen Daten<br>\n",
    "    <br>\n",
    "    <img src=\"bilder\\statistik1.png\" height=\"500\" width=\"500\"/>  <br>\n",
    "    <br>\n",
    "\n",
    "6. Machine Learning\n",
    "    - bspw. das Optimierungsproblem \n",
    "    <br>\n",
    "    <img src=\"bilder\\optimization_prob.png\" height=\"500\" width=\"500\"/>  <br>\n",
    "    <br>\n",
    "    \n",
    "    \n",
    "\n"
   ]
  },
  {
   "cell_type": "markdown",
   "metadata": {},
   "source": [
    "### 1.2. Struktur<a class=\"anchor\" id=\"1-2\"/>"
   ]
  },
  {
   "cell_type": "markdown",
   "metadata": {},
   "source": [
    "Das Tutorial wird so aufgebaut, dass sich Schritt für Schritt ein Verständnis für die Lineare Algebra erarbeitet werden kann und hoffentlich nie ein Gefühl der Überforderung aufkommt. Es wird versucht immer die Grundlagen für den nächsten Schritt zu legen, sodass die Sprünge nie groß und unnachvollziehbar sind. <br>\n",
    "<br>\n",
    "\n",
    "Wir fangen mit den *Linearen Gleichungssystemen* in Kapitel 2 an. Dort gehen wir für den Anfang gar nicht zu ausführlich auf derartige Gleichungssysteme ein, also nicht erschrecken. Wir stellen gemeinsam ein lineares Gleichungssystem anhand eines einfachen Beispiels auf, um ein Gefühl dafür zu bekommen, was hinter Linearen Gleichungssystemen steckt. <br>\n",
    "In Kapitel 3 *Matrizen und Vektoren* versuchen wir ein Verständnis für die beiden Grunddatentypen der Linearen Algebra zu entwickeln: Vektoren und Matrizen. Dabei lernen wir, wie sie definiert sind und wie man mit ihnen rechnet. <br>\n",
    "In Kapitel 4 *Eigenwerte und Eigenvektoren* führen wir Eigenwerte und Eigenvektoren ein, die an das zuvor erarbeitete Verständnis anschließen werden. \n"
   ]
  },
  {
   "cell_type": "markdown",
   "metadata": {},
   "source": [
    "\n",
    "\n",
    "## 2. Lineare Gleichungssysteme <a class=\"anchor\" id=\"2\"/>\n",
    "<span style=\"color:red\">\n",
    "-> Kapitel noch unklar, ob am Ende von Vektoren und Matrizen oder am Anfang<br>\n",
    "-> Abbildung dafür wie man von dem linearen Gleichungssystem zu Matrizen  und Vektoren kommt fehlt<br>\n",
    "-> wie kann ich ein lineares Gleichugnssystem anhand der DH Bereiche motivieren?\n",
    "    \n",
    "</span>"
   ]
  },
  {
   "cell_type": "markdown",
   "metadata": {},
   "source": [
    "Für den Fall, dass ihr eine kleine Auffrischung eures Wissens über Lineare Gleichungssysteme benötigt, werft doch ein Blick in das Tutorial *Exkurs - Lineare Gleichungssysteme*.<br>\n",
    "<br>\n",
    "______________________________________________________________________________________________________________________________\n",
    "<img src=\"bilder\\aepfel_banane.jpg\" height=\"200\" width=\"200\" style=\"float:left;\"/>\n",
    "\n",
    "Mal angenommen ihr seit auf einem Gemüse- und Obstmarkt. Der Stand, von dem ihr Bananen und Äpfel kaufen wollt, hat keine Preise vermerkt. Da das Obst trotzdem gut aussieht, kauft ihr 2 Äpfel und 3 Bananen und zahlt 8 Euro. Eine Woche später möchtet ihr nochmal dort einkaufen, da euch das Obst gut geschmeckt hat. Ihr kauft diesmal 10 Äpfel und 1 Banane und zahlt 13 Euro. Ihr wundert euch über die Preise und möchtet jetzt doch wissen, wie hoch der Preis eines Apfels und einer Banane ist. <br>\n",
    "<br>\n",
    "<br>\n",
    "(1) Beim ersten Mal habt ihr 2 Äpfel und 3 Bananen gekauft, wofür ihr 8 Euro gezahlt habt $\\rightarrow$ 2a + 3b = 8 <br>\n",
    "(2) Beim zweiten Mal habt ihr 10 Äpfel und 1 Banane gekauft, wofür ihr 13 Euro gezahlt habt $\\rightarrow$ 10a + 1b = 13 <br>\n",
    "<br>\n",
    "\n",
    "Das lineare Gleichungssystem aus den Gleichungen (1) und (2) lässt sich als Matrix-/Vektormultiplikation notieren:  $\\begin{bmatrix}2 & 3\\\\10 & 1\\end{bmatrix} \\begin{bmatrix}a \\\\ b \\end{bmatrix} = \\begin{bmatrix}8 \\\\ 10\\end{bmatrix}$. Nun können wir das Lineare Gleichungssystem auflösen und den Stückpreis für Äpfel und Birnen erfahren. **Wie** das funktioniert und **warum** wir die beiden Gleichungen gerade *so* umgeformt haben, zeigt sich im folgenden Kapitel. Am Ende von Kapitel 3 können wir das Gleichungssystem problemlos gemeinsam lösen. "
   ]
  },
  {
   "cell_type": "markdown",
   "metadata": {},
   "source": [
    "## 3. Vektoren und Matrizen <a class=\"anchor\" id=\"3\"/>\n",
    "<br>\n",
    "\n",
    "<img src=\"bilder\\math.jpg\" height=\"300\" width=\"300\" style=\"float:left;\"/>\n",
    "Selbst Bereiche wie das Maschinelle Lernen verwenden z.T. einfache Rechenregeln für Vektoren und Matrizen. Wenn ihr euch als ein bisschen Zeit nehmt, um Vektoren, Matrizen und ihre Rechenoperationen zu verstehen und zu üben, wird euch der Einstieg ins Machinelle Lernen leichter fallen und weniger Angst machen. Auch Bereiche wie Information Retrieval werden um einiges intuitiver und verständlicher, wenn ihr eine Vorstellung davon habt, wie sich Vektoren und Matrizen verhalten.\n",
    "\n",
    "\n"
   ]
  },
  {
   "cell_type": "markdown",
   "metadata": {},
   "source": [
    "## 3.1 Vektoren <a class=\"anchor\" id=\"3-1\"/>"
   ]
  },
  {
   "cell_type": "markdown",
   "metadata": {},
   "source": [
    "### 3.1.1. Was sind Vektoren? <a class=\"anchor\" id=\"3-1-1\"/>\n"
   ]
  },
  {
   "cell_type": "markdown",
   "metadata": {},
   "source": [
    "Ein Vektor ist eine Liste bzw. ein Tupel aus n-Zahlen $(v_1,v_2,v_3,....,v_n)$. Ein Vektor wird überlicherweise durch einen Pfeil über der Variablen gekennzeichnet: $\\overrightarrow{v} = \\begin{bmatrix}v_1 \\\\ v_2 \\\\ ..\\\\ v_n\\end{bmatrix}$. Ein Vektor aus n-Zahlen hat *n-Dimensionen*. So kann der Vektor $\\overrightarrow{v} = \\begin{bmatrix}v_1 \\\\ v_2 \\end{bmatrix} = \\begin{bmatrix}x \\\\ y \\end{bmatrix}= \\begin{bmatrix}1 \\\\ 2 \\end{bmatrix}$ im zweidimensionalen Raum folgendermaßen grafisch dargestellt werden:\n",
    "\n",
    "<img src=\"bilder\\vector_12.png\" height=\"400\" width=\"400\" style=\"float:left;\"/>\n"
   ]
  },
  {
   "cell_type": "markdown",
   "metadata": {},
   "source": [
    "### 3.1.2. Rechenoperationen mit Vektoren <a class=\"anchor\" id=\"3-1-2\"/>"
   ]
  },
  {
   "cell_type": "markdown",
   "metadata": {},
   "source": [
    "#### (1) Addieren mit Vektoren"
   ]
  },
  {
   "cell_type": "markdown",
   "metadata": {},
   "source": [
    "Das Addieren von Vektoren ist einfach. Ihr addiert zwei Vektoren miteinander, indem ihr die jeweiligen Komponenten der Vektoren addiert (komponentenweise Addition). Noch unklar? Versteh ich. Ich zeig euch das mal: <br>\n",
    "Nehmen wir bspw. den Vektor $\\overrightarrow{v}$ aus Kapitel 3.1 und addieren ihn mit dem Vektor  $\\overrightarrow{w} = \\begin{bmatrix}3 \\\\ 4 \\end{bmatrix}$. Das sieht dann so aus:<br>\n",
    "$\\overrightarrow{v} + \\overrightarrow{w}= \\begin{bmatrix}1 \\\\ 2 \\end{bmatrix} + \\begin{bmatrix}3 \\\\ 4 \\end{bmatrix} =       \\begin{bmatrix}1+3 \\\\ 2+4 \\end{bmatrix} = \\begin{bmatrix}4 \\\\ 6 \\end{bmatrix}$ <br>\n",
    "<br>\n",
    "<br>\n",
    "Die allgemeinere Notation sieht so aus: <br>\n",
    "<br>\n",
    "$\\overrightarrow{v + w} =\\begin{bmatrix}v_1 + w_1 \\\\ v_2 + w_2\\\\....\\\\v_n+w_n \\end{bmatrix}$ <br><br>\n",
    "Dieselben Regeln gelten für die Subtraktion von Vektoren.<br>\n",
    "<br>\n",
    "______________________________________________________________________________________________________________________________\n"
   ]
  },
  {
   "cell_type": "markdown",
   "metadata": {},
   "source": [
    "#### (2) Multiplikation mit Skalar  \n",
    "\n"
   ]
  },
  {
   "cell_type": "markdown",
   "metadata": {},
   "source": [
    "Ein *Skalar* ist lediglich ein einzelner Wert. So können wir den Vektor $\\overrightarrow{v}$ mit 3 multiplizieren:<br><br>\n",
    "$\\overrightarrow{v}*3 =  \\begin{bmatrix}1*3 \\\\ 2*3 \\end{bmatrix} = \\begin{bmatrix}3 \\\\ 6 \\end{bmatrix}$ <br>\n",
    "<br>\n",
    "\n",
    "Wie auch bereits die Vektoraddition wird auch die Skalarmultiplikation *komponentenweise* durchgeführt."
   ]
  },
  {
   "cell_type": "markdown",
   "metadata": {},
   "source": [
    "### 3.1.3. Geometrie in Vektorräumen <a class=\"anchor\" id=\"3-1-3\"/>"
   ]
  },
  {
   "cell_type": "markdown",
   "metadata": {},
   "source": [
    "#### (1) Vektorraum"
   ]
  },
  {
   "cell_type": "markdown",
   "metadata": {},
   "source": [
    "#### (2) Länge und Betrag eines Vektors"
   ]
  },
  {
   "cell_type": "markdown",
   "metadata": {},
   "source": [
    "#### (3) Abstandsmaße für Vektoren"
   ]
  },
  {
   "cell_type": "markdown",
   "metadata": {},
   "source": [
    "## 3.2 Matrizen <a class=\"anchor\" id=\"3-2\"/>"
   ]
  },
  {
   "cell_type": "markdown",
   "metadata": {},
   "source": [
    "### 3.2.1. Was sind Matrizen? <a class=\"anchor\" id=\"3-2-1\"/>\n",
    "\n",
    "Im Prinzip ist eine Matrix eine Tabelle von Zahlen. <br>\n",
    "\n",
    "$A$ = $\\begin{pmatrix}                              \n",
    "2 & 3 & 4 \\\\                                               \n",
    "9 & 7 & 10 \\\\                                                                                              \n",
    "\\end{pmatrix}$ <br>\n",
    "\n",
    "Eine Matrix wird üblicherweise mit einer Variable als Großbuchstabe gekennzeichnet. Wie Tabellen auch, haben Matrizen Zeilen und Spalten. Die Matrix $A$ hat in unserem Beispiel 2 Zeilen und 3 Spalten, was wir auch folgendermaßen notieren können: $A^{2x3}$. Die Anzahl an Zeilen und Spalten $(2x3)$ beschreibt die *Ordnung* einer Matrix, wobei der erste Wert für die Zeilen steht und der zweite Wert für die Spalten. Eine allgemeinere Formulierung der Matrix $A$ mit $n$ Zeilen und $m$ Spalten lautet wie folgt: <br>\n",
    "<br>\n",
    "\n",
    "$A^{nxn}$ = $\\begin{pmatrix}                             \n",
    "a_{11} & a_{12} & a_{13} & \\cdots & a_{1n} \\\\                                               \n",
    "a_{21} & a_{22} & a_{23} & \\cdots & a_{2n} \\\\   \n",
    "a_{31} & a_{32} & a_{33} & \\cdots & a_{3n} \\\\ \n",
    "\\vdots  & \\vdots  & \\vdots  & \\ddots & \\vdots \\\\\n",
    "a_{n1} & a_{n2} & a_{n3} & \\cdots & a_{nn}\\\\\n",
    "\\end{pmatrix}$ <br>\n",
    "<br>\n",
    "\n",
    "Ein Eintrag in der Matrix bzw. eine Zelle wird notiert als $a_{nm}$. Die Variable $a_{11}$ beschreibt den Eintrag der Matrix in der *ersten* Zeile und *ersten* Spalte.<br>\n",
    "<br>\n",
    "**Überblick** <br>\n",
    "\n",
    "Hier nochmal im Überblick, aus welchen Teilen eine Matrix besteht und deren Bezeichnung.\n",
    "\n",
    "<img src=\"bilder\\matrix_abbildung2.png\" height=\"500\" width=\"500\"/> <br><br>\n",
    "\n",
    "\n",
    "\n",
    "Es gibt noch einige Spezialfälle von Matrizen, die in *Exkurs - Spezialfälle von Matrizen* genauer betrachtet werden können. Gerade die *Einheitsmatrix* wird häufig genutzt, daher lohnt sich ein kurzer Einblick. \n"
   ]
  },
  {
   "cell_type": "markdown",
   "metadata": {},
   "source": [
    "### 3.2.2. Rechenoperationen mit Matrizen <a class=\"anchor\" id=\"3-2-2\"/>\n",
    "\n",
    "#### (1) Addition von Matrizen \n",
    "\n",
    "Die Addition von Matrizen erfolgt komponentenweise und sie funktioniert **nur** wenn beide Matrizen dieselbe Anzahl an Spalten und Zeilen aufweisen. <br>\n",
    "\n",
    "$\\begin{pmatrix}                              \n",
    "\\color{blue} 2 & \\color{blue}3 & \\color{blue}4 \\\\                                               \n",
    "\\color{blue}9 & \\color{blue}7 & \\color{blue}1\\color{blue}0 \\\\                      \n",
    "\\end{pmatrix}\n",
    "+ \n",
    "\\begin{pmatrix}                              \n",
    "\\color{green}1 & \\color{green}5 & \\color{green}1\\color{green}1 \\\\                                               \n",
    "\\color{green}4 & \\color{green}4 & \\color{green}3 \\\\   \n",
    "\\end{pmatrix} = \n",
    "\\begin{pmatrix}                              \n",
    "\\color{blue}2+\\color{green}3 & \\color{blue}3+\\color{green}5 & \\color{blue}1\\color{blue}1+\\color{green}4 \\\\\n",
    "\\color{blue}9+\\color{green}4 & \\color{blue}7+\\color{green}4 & \\color{blue}1\\color{blue}0+\\color{green}3 \\\\                     \\end{pmatrix} =\n",
    "\\begin{pmatrix}                              \n",
    "5 & 8 & 15 \\\\                                               \n",
    "13 & 11 & 13\\\\                                                                                              \n",
    "\\end{pmatrix}\n",
    "$\n",
    "\n",
    "<br>\n",
    "Allgemeiner formuliert:<br>\n",
    "\n",
    "$A^{nxm} + B^{ nxm} = \\begin{pmatrix}                             \n",
    "a_{11} + b_{11} & a_{12} + b_{12} & a_{13} + b_{13} & \\cdots & a_{1m} + b_{1m} \\\\                                               \n",
    "a_{21} + b_{21} & a_{22} + b_{22} & a_{23} + b_{23} & \\cdots & a_{2m} + b_{2m} \\\\\n",
    "\\vdots  & \\vdots  & \\vdots  & \\ddots & \\vdots \\\\\n",
    "a_{n1} + b_{n1}  & a_{n2} + b_{n2}  & a_{n3} + b_{n3} & \\cdots & a_{nm} + b_{nm}\\\\\n",
    "\\end{pmatrix}$ <br>\n",
    "<br>\n",
    "\n",
    "Nicht vergessen: Matrizen mit einer unterschiedlichen Anzahl an Zeilen und Spalten können **nicht** addiert werden!<br>\n",
    "Beispiel:\n",
    "<img src=\"bilder\\matrix_addition2.png\" height=\"200\" width=\"200\" />\n",
    "<br>\n",
    "<img src=\"bilder\\matrix_addition3.png\" height=\"210\" width=\"210\" />\n",
    "<br>\n",
    "<img src=\"bilder\\matrix_addition4.png\" height=\"180\" width=\"180\" />\n",
    "\n",
    "______________________________________________________________________________________________________________________________\n",
    "\n",
    "#### (2) Multiplikation mit Skalar\n",
    "\n",
    "Die Multiplikation mit einem Skalar erfolgt ebenfalls komponentenweise. <br>\n",
    "\n",
    "$\\color{green}3*\n",
    "\\begin{pmatrix}                              \n",
    "\\color{blue} 2 & \\color{blue}3 & \\color{blue}4 \\\\                                               \n",
    "\\color{blue}9 & \\color{blue}7 & \\color{blue}1\\color{blue}0 \\\\                 \n",
    "\\end{pmatrix} = \n",
    "\\begin{pmatrix}                              \n",
    "\\color{green}3 * \\color{blue} 2 & \\color{green}3 * \\color{blue}3 & \\color{green}3 * \\color{blue}4 \\\\                  \n",
    "\\color{green}3 * \\color{blue}9 & \\color{green}3 * \\color{blue}7 & \\color{green}3 * \\color{blue}1\\color{blue}0 \\\\               \n",
    "\\end{pmatrix} = \n",
    "\\begin{pmatrix}                              \n",
    "6 & 9 & 12 \\\\                  \n",
    "27 & 21 & 30 \\\\               \n",
    "\\end{pmatrix}$ <br>\n",
    "<br>\n",
    "Allgemeiner formuliert: <br>\n",
    "\n",
    "$s * A^{nxm} = \\begin{pmatrix}                             \n",
    "a_{11} * s & a_{12} * s & a_{13} * s & \\cdots & a_{1m} * s \\\\                                               \n",
    "a_{21} * s & a_{22} * s & a_{23} * s & \\cdots & a_{2m} * s\\\\\n",
    "\\vdots  & \\vdots  & \\vdots  & \\ddots & \\vdots \\\\\n",
    "a_{n1} * s  & a_{n2} * s  & a_{n3} * s & \\cdots & a_{nm} * s\\\\\n",
    "\\end{pmatrix}$\n",
    "\n",
    "_______________________________________________________________________________________________________________________________\n",
    "\n",
    "\n",
    "#### (3) Multiplikation mit Matrizen\n",
    "\n",
    "\n",
    "\n",
    "Wir wollen eine Matrix $A$ mit einer Matrix $B$ multiplizieren: $A*B = C$. Das Ergebnis, die Matrix $C$, nennt man auch *Matrixprodukt*. Die Multiplikation von Matrizen **nur** definiert, wenn die *Spaltenanzahl* der **ersten** Matrix $A$ mit der *Zeilenanzahl* der **zweiten** Matrix $B$ übereinstimmt. <br>\n",
    "\n",
    "<img src=\"bilder\\matrix_multiplikation.png\" height=\"300\" width=\"300\" />\n",
    "\n",
    "<img src=\"bilder\\matrix_multiplikation2.png\" height=\"300\" width=\"300\" />\n",
    "\n",
    "<br>\n",
    "\n",
    "\n",
    "<p style=\"width:600px; height:180px;padding:5px;border: 2px solid yellow;\">\n",
    "<img src=\"bilder\\ausrufezeichen_strichmännchen.jpg\" height=\"50\" width=\"100\" style=\"float:left;\"/>\n",
    "Wichtig: Das Kommutativgesetz für Multiplikation gilt bei Matrizen nicht! Also $A*B \\neq B*A$. Nehmen wir mal an ihr sollt\n",
    "$\\begin{pmatrix}                              \n",
    "2 & 3\\\\   \n",
    "3 & 3 \\\\      \n",
    "\\end{pmatrix} *\n",
    "\\begin{pmatrix}                              \n",
    "1 & 1\\\\   \n",
    "3 & 3 \\\\  \n",
    "2 & 4 \\\\  \n",
    "\\end{pmatrix}$\n",
    "berechnen. Die Antwort hierauf ist, dass die Matrixmultiplikation in diesem Fall nicht definiert ist. Die Aufgabe ist also nicht lösbar, indem ihr die erste und zweite Matrix einfach austauscht, damit die Zeilen- und Spaltenanzahl passt.\n",
    "</p>\n",
    "<br>\n",
    "\n",
    "Die Dimensionen der Matrizen $A$ und $B$, das heißt die Zeilen- und Spaltenanzahl, definieren die Dimensionen der Matrix $C$. Das Matrixprodukt $C$ hat soviele Zeilen wie Matrix $A$ und soviele Spalten wie Matrix $B$: $A^{\\color{orange}2x3}*B^{3x\\color{green}2} =  C^{\\color{orange}2x\\color{green}2}$<br>\n",
    "\n",
    "\n",
    "\n",
    "<img src=\"bilder\\matrixprodukt_4.png\" height=\"500\" width=\"500\" />\n",
    "\n",
    "\n",
    "\n",
    "Doch wie funktioniert eine Matrixmultiplikation? \n",
    "\n",
    "<span style=\"color:red\">\n",
    "-> schöner wäre es den html-anzeige code zu verstecken, damit man nur das video sieht. Einfach in HTML einbinden wie bisher funktioniert irgendwie nicht<br>\n",
    "-> statt an einem abstrakten Beispiel besser mit richtigen Zahlen hantieren<br>\n",
    "-> im video noch was dazu sagen bzw moderieren was ich tue\n",
    "    \n",
    "</span>\n"
   ]
  },
  {
   "cell_type": "code",
   "execution_count": 18,
   "metadata": {},
   "outputs": [
    {
     "data": {
      "text/html": [
       "<video src=\"videos\\matrix_multiplikation.mp4\" controls  >\n",
       "      Your browser does not support the <code>video</code> element.\n",
       "    </video>"
      ],
      "text/plain": [
       "<IPython.core.display.Video object>"
      ]
     },
     "execution_count": 18,
     "metadata": {},
     "output_type": "execute_result"
    }
   ],
   "source": [
    "from IPython.display import Video\n",
    "\n",
    "Video(\"videos\\matrix_multiplikation.mp4\")"
   ]
  },
  {
   "cell_type": "markdown",
   "metadata": {},
   "source": [
    "\n",
    "#### (4) Inverse einer Matrix\n",
    "\n",
    "#### (3) Transposition einer Matrix"
   ]
  },
  {
   "cell_type": "markdown",
   "metadata": {},
   "source": [
    "## 4. Eigenwerte und Eigenvektoren <a class=\"anchor\" id=\"4\"/>"
   ]
  },
  {
   "cell_type": "code",
   "execution_count": null,
   "metadata": {},
   "outputs": [],
   "source": []
  },
  {
   "cell_type": "code",
   "execution_count": null,
   "metadata": {},
   "outputs": [],
   "source": []
  },
  {
   "cell_type": "markdown",
   "metadata": {},
   "source": []
  }
 ],
 "metadata": {
  "kernelspec": {
   "display_name": "Python 3",
   "language": "python",
   "name": "python3"
  },
  "language_info": {
   "codemirror_mode": {
    "name": "ipython",
    "version": 3
   },
   "file_extension": ".py",
   "mimetype": "text/x-python",
   "name": "python",
   "nbconvert_exporter": "python",
   "pygments_lexer": "ipython3",
   "version": "3.7.6"
  }
 },
 "nbformat": 4,
 "nbformat_minor": 4
}
